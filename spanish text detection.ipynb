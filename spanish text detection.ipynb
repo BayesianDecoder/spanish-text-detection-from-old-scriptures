{
 "cells": [
  {
   "cell_type": "code",
   "execution_count": null,
   "metadata": {
    "_cell_guid": "b1076dfc-b9ad-4769-8c92-a6c4dae69d19",
    "_uuid": "8f2839f25d086af736a60e9eeb907d3b93b6e0e5",
    "execution": {
     "iopub.execute_input": "2025-04-01T00:02:43.434499Z",
     "iopub.status.busy": "2025-04-01T00:02:43.434208Z",
     "iopub.status.idle": "2025-04-01T00:02:54.567778Z",
     "shell.execute_reply": "2025-04-01T00:02:54.566846Z",
     "shell.execute_reply.started": "2025-04-01T00:02:43.434464Z"
    },
    "trusted": true
   },
   "outputs": [],
   "source": [
    "# This Python 3 environment comes with many helpful analytics libraries installed\n",
    "# It is defined by the kaggle/python Docker image: https://github.com/kaggle/docker-python\n",
    "# For example, here's several helpful packages to load\n",
    "\n",
    "import numpy as np # linear algebra\n",
    "import pandas as pd # data processing, CSV file I/O (e.g. pd.read_csv)\n",
    "\n",
    "# Input data files are available in the read-only \"../input/\" directory\n",
    "# For example, running this (by clicking run or pressing Shift+Enter) will list all files under the input directory\n",
    "\n",
    "import os\n",
    "for dirname, _, filenames in os.walk('/kaggle/input'):\n",
    "    for filename in filenames:\n",
    "        print(os.path.join(dirname, filename))\n",
    "\n",
    "# You can write up to 20GB to the current directory (/kaggle/working/) that gets preserved as output when you create a version using \"Save & Run All\" \n",
    "# You can also write temporary files to /kaggle/temp/, but they won't be saved outside of the current session"
   ]
  },
  {
   "cell_type": "code",
   "execution_count": null,
   "metadata": {
    "execution": {
     "iopub.execute_input": "2025-04-01T00:02:54.569506Z",
     "iopub.status.busy": "2025-04-01T00:02:54.568994Z",
     "iopub.status.idle": "2025-04-01T00:02:59.209824Z",
     "shell.execute_reply": "2025-04-01T00:02:59.209033Z",
     "shell.execute_reply.started": "2025-04-01T00:02:54.569471Z"
    },
    "trusted": true
   },
   "outputs": [],
   "source": [
    "!pip install evaluate"
   ]
  },
  {
   "cell_type": "code",
   "execution_count": null,
   "metadata": {
    "execution": {
     "iopub.execute_input": "2025-04-01T00:56:03.566331Z",
     "iopub.status.busy": "2025-04-01T00:56:03.565880Z",
     "iopub.status.idle": "2025-04-01T00:56:03.578460Z",
     "shell.execute_reply": "2025-04-01T00:56:03.577622Z",
     "shell.execute_reply.started": "2025-04-01T00:56:03.566294Z"
    },
    "trusted": true
   },
   "outputs": [],
   "source": [
    "import os\n",
    "import re\n",
    "import torch\n",
    "from torch.utils.data import Dataset\n",
    "from PIL import Image\n",
    "\n",
    "class IAMDataset(Dataset):\n",
    "    def __init__(self, df, processor, max_target_length=128, root_dir=\"\"):\n",
    "        \"\"\"\n",
    "        Args:\n",
    "            df (pd.DataFrame): DataFrame with columns ['image_path', 'label']\n",
    "            processor: TrOCRProcessor (or similar) for image+text preprocessing\n",
    "            max_target_length (int): Max length for text tokens\n",
    "            root_dir (str): (Optional) Base directory to prepend to image_path\n",
    "        \"\"\"\n",
    "        self.df = df.reset_index(drop=True)\n",
    "        self.processor = processor\n",
    "        self.max_target_length = max_target_length\n",
    "        self.root_dir = root_dir  # if you need to prepend a folder path\n",
    "\n",
    "    def __len__(self):\n",
    "        return len(self.df)\n",
    "\n",
    "    def __getitem__(self, idx):\n",
    "        # 1. Read columns from DataFrame\n",
    "        image_path = self.df.loc[idx, \"image_path\"]  # full or partial path\n",
    "        text = self.df.loc[idx, \"label\"]\n",
    "\n",
    "        # 2. Clean up text\n",
    "        text = self.clean_text(text)\n",
    "\n",
    "        # 3. Load and preprocess image\n",
    "        #    If 'image_path' is already full, we just use it directly.\n",
    "        #    Otherwise, combine with root_dir if needed:\n",
    "        # full_image_path = os.path.join(self.root_dir, image_path)\n",
    "        # image = self.load_and_preprocess_image(full_image_path)\n",
    "        image = self.load_and_preprocess_image(image_path)\n",
    "\n",
    "        # 4. Process image (resizing, normalization, etc.) with processor\n",
    "        pixel_values = self.processor(image, return_tensors=\"pt\").pixel_values\n",
    "\n",
    "        # 5. Tokenize text\n",
    "        labels = self.processor.tokenizer(\n",
    "            text,\n",
    "            padding=\"max_length\",\n",
    "            max_length=self.max_target_length,\n",
    "            truncation=True\n",
    "        ).input_ids\n",
    "\n",
    "        # Replace padding token ID with -100 so they’re ignored in loss\n",
    "        labels = [\n",
    "            label if label != self.processor.tokenizer.pad_token_id else -100\n",
    "            for label in labels\n",
    "        ]\n",
    "\n",
    "        return {\n",
    "            \"pixel_values\": pixel_values.squeeze(),\n",
    "            \"labels\": torch.tensor(labels, dtype=torch.long)\n",
    "        }\n",
    "\n",
    "    def clean_text(self, text):\n",
    "        \"\"\"Applies text preprocessing steps (strip, collapse spaces, remove non-printables).\"\"\"\n",
    "        text = text.strip()\n",
    "        text = re.sub(r\"\\s+\", \" \", text)  # collapse multiple spaces\n",
    "        text = text.encode(\"utf-8\", \"ignore\").decode(\"utf-8\")\n",
    "        text = \"\".join(c for c in text if c.isprintable())\n",
    "        return text\n",
    "\n",
    "    def load_and_preprocess_image(self, image_path):\n",
    "        \"\"\"Loads an image from disk and converts it to RGB.\"\"\"\n",
    "        with Image.open(image_path) as img:\n",
    "            return img.convert(\"RGB\")\n"
   ]
  },
  {
   "cell_type": "code",
   "execution_count": null,
   "metadata": {
    "execution": {
     "iopub.execute_input": "2025-04-01T00:56:06.210077Z",
     "iopub.status.busy": "2025-04-01T00:56:06.209770Z",
     "iopub.status.idle": "2025-04-01T00:56:06.262296Z",
     "shell.execute_reply": "2025-04-01T00:56:06.261579Z",
     "shell.execute_reply.started": "2025-04-01T00:56:06.210052Z"
    },
    "trusted": true
   },
   "outputs": [],
   "source": [
    "from sklearn.model_selection import train_test_split\n",
    "# Load the DataFrame from CSV\n",
    "\n",
    "df = pd.read_csv(\"/kaggle/input/outputs/output_converted.csv\")\n",
    "\n",
    "# First, split into train+val and test (e.g., 90% train+val, 10% test)\n",
    "train_val_df, test_df = train_test_split(df, test_size=0.1, random_state=42)\n",
    "\n",
    "# Now split train_val into train and validation (e.g., 80% train, 20% val of train_val)\n",
    "train_df, val_df = train_test_split(train_val_df, test_size=0.2, random_state=42)"
   ]
  },
  {
   "cell_type": "code",
   "execution_count": null,
   "metadata": {
    "execution": {
     "iopub.execute_input": "2025-04-01T00:56:08.566034Z",
     "iopub.status.busy": "2025-04-01T00:56:08.565682Z",
     "iopub.status.idle": "2025-04-01T00:56:15.419742Z",
     "shell.execute_reply": "2025-04-01T00:56:15.419094Z",
     "shell.execute_reply.started": "2025-04-01T00:56:08.566003Z"
    },
    "trusted": true
   },
   "outputs": [],
   "source": [
    "from transformers import TrOCRProcessor, VisionEncoderDecoderModel, Seq2SeqTrainingArguments, Seq2SeqTrainer\n",
    "import evaluate\n",
    "\n",
    "\n",
    "# Initialize processor and model\n",
    "processor = TrOCRProcessor.from_pretrained(\"microsoft/trocr-base-handwritten\")\n",
    "model = VisionEncoderDecoderModel.from_pretrained(\"microsoft/trocr-base-handwritten\",ignore_mismatched_sizes=True)\n",
    "\n",
    "model.config.decoder_start_token_id = processor.tokenizer.cls_token_id\n",
    "model.config.pad_token_id = processor.tokenizer.pad_token_id\n",
    "\n",
    "# Create datasets\n",
    "train_dataset = IAMDataset(\n",
    "    root_dir=train_df[\"image_path\"],  # Update path\n",
    "    df=train_df,\n",
    "    processor=processor,\n",
    "    max_target_length=256  # Adjust based on your max text length\n",
    ")\n",
    "\n",
    "val_dataset = IAMDataset(\n",
    "    root_dir=val_df[\"image_path\"],\n",
    "    df=val_df,\n",
    "    processor=processor,\n",
    "    max_target_length=256\n",
    ")\n",
    "\n",
    "test_dataset = IAMDataset(\n",
    "    root_dir=test_df[\"image_path\"],\n",
    "    df=test_df,\n",
    "    processor=processor,\n",
    "    max_target_length=256\n",
    ")"
   ]
  },
  {
   "cell_type": "code",
   "execution_count": null,
   "metadata": {
    "execution": {
     "iopub.execute_input": "2025-04-01T00:05:56.847754Z",
     "iopub.status.busy": "2025-04-01T00:05:56.847437Z",
     "iopub.status.idle": "2025-04-01T00:06:02.517904Z",
     "shell.execute_reply": "2025-04-01T00:06:02.516828Z",
     "shell.execute_reply.started": "2025-04-01T00:05:56.847726Z"
    },
    "trusted": true
   },
   "outputs": [],
   "source": [
    "pip install jiwer"
   ]
  },
  {
   "cell_type": "code",
   "execution_count": null,
   "metadata": {
    "execution": {
     "iopub.execute_input": "2025-04-01T00:56:15.421164Z",
     "iopub.status.busy": "2025-04-01T00:56:15.420843Z",
     "iopub.status.idle": "2025-04-01T00:56:16.533961Z",
     "shell.execute_reply": "2025-04-01T00:56:16.533313Z",
     "shell.execute_reply.started": "2025-04-01T00:56:15.421133Z"
    },
    "trusted": true
   },
   "outputs": [],
   "source": [
    "from evaluate import load as load_metric\n",
    "\n",
    "\n",
    "cer_metric = load_metric(\"cer\")\n",
    "wer_metric = load_metric(\"wer\")\n",
    "\n",
    "def compute_metrics(eval_pred):\n",
    "    predictions, labels = eval_pred\n",
    "\n",
    "    pred_str = tokenizer.batch_decode(predictions, skip_special_tokens=True)\n",
    "    label_str = tokenizer.batch_decode(labels, skip_special_tokens=True)\n",
    "\n",
    "    cer = cer_metric.compute(predictions=pred_str, references=label_str)\n",
    "    wer = wer_metric.compute(predictions=pred_str, references=label_str)\n",
    "\n",
    "    return {\"cer\": cer, \"wer\": wer}"
   ]
  },
  {
   "cell_type": "code",
   "execution_count": null,
   "metadata": {
    "execution": {
     "iopub.execute_input": "2025-04-01T00:56:16.535431Z",
     "iopub.status.busy": "2025-04-01T00:56:16.535213Z",
     "iopub.status.idle": "2025-04-01T00:56:16.568495Z",
     "shell.execute_reply": "2025-04-01T00:56:16.567717Z",
     "shell.execute_reply.started": "2025-04-01T00:56:16.535406Z"
    },
    "trusted": true
   },
   "outputs": [],
   "source": [
    "# Training arguments\n",
    "training_args = Seq2SeqTrainingArguments(\n",
    "    output_dir=\"./trocr-finetuned\",\n",
    "    predict_with_generate=True,\n",
    "    evaluation_strategy=\"epoch\",\n",
    "    per_device_train_batch_size=8,\n",
    "    per_device_eval_batch_size=8,\n",
    "    learning_rate=4e-5,\n",
    "    weight_decay=0.01,\n",
    "    num_train_epochs=5,\n",
    "    logging_dir=\"./logs\",\n",
    "    logging_strategy=\"steps\",\n",
    "    logging_steps=50,\n",
    "    save_strategy=\"epoch\",\n",
    "    fp16=torch.cuda.is_available(),\n",
    "    report_to=\"none\"\n",
    ")"
   ]
  },
  {
   "cell_type": "code",
   "execution_count": null,
   "metadata": {
    "execution": {
     "iopub.execute_input": "2025-04-01T00:56:16.569492Z",
     "iopub.status.busy": "2025-04-01T00:56:16.569285Z",
     "iopub.status.idle": "2025-04-01T00:56:16.965048Z",
     "shell.execute_reply": "2025-04-01T00:56:16.963840Z",
     "shell.execute_reply.started": "2025-04-01T00:56:16.569472Z"
    },
    "trusted": true
   },
   "outputs": [],
   "source": [
    "#from transformers import TrOCRProcessor\n",
    "#processor = TrOCRProcessor.from_pretrained(\"microsoft/trocr-base-handwritten\")\n",
    "\n",
    "# Define a global tokenizer from the processor\n",
    "tokenizer = processor.tokenizer\n",
    "\n",
    "def compute_metrics(eval_pred):\n",
    "    predictions, label_ids = eval_pred\n",
    "\n",
    "    # Replace -100 in label_ids with tokenizer.pad_token_id so that batch_decode works correctly.\n",
    "    safe_label_ids = [\n",
    "        [token_id if token_id != -100 else tokenizer.pad_token_id for token_id in seq]\n",
    "        for seq in label_ids\n",
    "    ]\n",
    "    \n",
    "    pred_str = tokenizer.batch_decode(predictions, skip_special_tokens=True)\n",
    "    label_str = tokenizer.batch_decode(safe_label_ids, skip_special_tokens=True)\n",
    "\n",
    "    cer = cer_metric.compute(predictions=pred_str, references=label_str)\n",
    "    wer = wer_metric.compute(predictions=pred_str, references=label_str)\n",
    "    return {\"cer\": cer, \"wer\": wer}\n",
    "\n",
    "\n",
    "# Create trainer\n",
    "trainer = Seq2SeqTrainer(\n",
    "    model=model,\n",
    "    args=training_args,\n",
    "    train_dataset=train_dataset,\n",
    "    eval_dataset=val_dataset,\n",
    "    tokenizer=processor,  # Passing processor as tokenizer for training convenience\n",
    "    compute_metrics=compute_metrics,\n",
    ")"
   ]
  },
  {
   "cell_type": "code",
   "execution_count": null,
   "metadata": {
    "execution": {
     "iopub.execute_input": "2025-04-01T00:58:26.046244Z",
     "iopub.status.busy": "2025-04-01T00:58:26.045917Z",
     "iopub.status.idle": "2025-04-01T05:58:47.690316Z",
     "shell.execute_reply": "2025-04-01T05:58:47.688860Z",
     "shell.execute_reply.started": "2025-04-01T00:58:26.046220Z"
    },
    "trusted": true
   },
   "outputs": [],
   "source": [
    "import albumentations as A\n",
    "import numpy as np\n",
    "\n",
    "# 1. Add Augmentation Transformations\n",
    "train_augmentations = A.Compose([\n",
    "    A.Rotate(limit=5, p=0.4),  # ±5 degrees rotation\n",
    "    A.GaussianBlur(blur_limit=(3, 7), p=0.3),\n",
    "    A.RandomBrightnessContrast(brightness_limit=0.2, contrast_limit=0.2, p=0.3),\n",
    "    A.Affine(scale=(0.9, 1.1), shear=(-5,5), p=0.3),  # Mild perspective transforms\n",
    "    A.OpticalDistortion(distort_limit=0.05, p=0.2),  # Simulate paper curvature\n",
    "])\n",
    "\n",
    "# 2. Modify Dataset Class\n",
    "class AugmentedIAMDataset(IAMDataset):\n",
    "    def __init__(self, df, processor, max_target_length=128, root_dir=\"\", transform=None):\n",
    "        super().__init__(df, processor, max_target_length, root_dir)\n",
    "        self.transform = transform\n",
    "\n",
    "    def load_and_preprocess_image(self, image_path):\n",
    "        \"\"\"Modified to include augmentations\"\"\"\n",
    "        with Image.open(image_path) as img:\n",
    "            img = img.convert(\"RGB\")\n",
    "            img_np = np.array(img)\n",
    "            \n",
    "            if self.transform:\n",
    "                augmented = self.transform(image=img_np)\n",
    "                img_np = augmented[\"image\"]\n",
    "                \n",
    "            return img_np  # Return as numpy array for processor\n",
    "\n",
    "# 3. Create Augmented Datasets\n",
    "train_dataset = AugmentedIAMDataset(\n",
    "    df=train_df,\n",
    "    processor=processor,\n",
    "    max_target_length=256,\n",
    "    transform=train_augmentations  # Apply only to training data\n",
    ")\n",
    "\n",
    "val_dataset = AugmentedIAMDataset(\n",
    "    df=val_df,\n",
    "    processor=processor,\n",
    "    max_target_length=256,\n",
    "    transform=None\n",
    ")\n",
    "\n",
    "test_dataset = AugmentedIAMDataset(\n",
    "    df=test_df,\n",
    "    processor=processor,\n",
    "    max_target_length=256,\n",
    "    transform=None\n",
    ")\n",
    "\n",
    "# 4. Update Training Arguments for Better Convergence\n",
    "training_args = Seq2SeqTrainingArguments(\n",
    "    output_dir=\"./trocr-finetuned-augmented\",\n",
    "    predict_with_generate=True,\n",
    "    evaluation_strategy=\"epoch\",\n",
    "    per_device_train_batch_size=4,\n",
    "    per_device_eval_batch_size=4,\n",
    "    learning_rate=3e-5,  # Slightly lower learning rate\n",
    "    weight_decay=0.02,\n",
    "    num_train_epochs=8,   # More epochs for augmented data\n",
    "    logging_dir=\"./logs\",\n",
    "    logging_steps=100,\n",
    "    save_strategy=\"epoch\",\n",
    "    fp16=torch.cuda.is_available(),\n",
    "    gradient_accumulation_steps=2,  # Better batch normalization\n",
    "    report_to=\"none\"\n",
    ")\n",
    "\n",
    "# 5. Create and Train Enhanced Model\n",
    "trainer = Seq2SeqTrainer(\n",
    "    model=model,\n",
    "    args=training_args,\n",
    "    train_dataset=train_dataset,\n",
    "    eval_dataset=val_dataset,\n",
    "    tokenizer=processor,\n",
    "    compute_metrics=compute_metrics,\n",
    ")\n",
    "\n",
    "# Start training\n",
    "trainer.train()"
   ]
  },
  {
   "cell_type": "code",
   "execution_count": null,
   "metadata": {
    "execution": {
     "iopub.execute_input": "2025-04-01T06:06:01.129732Z",
     "iopub.status.busy": "2025-04-01T06:06:01.129416Z",
     "iopub.status.idle": "2025-04-01T06:06:07.669295Z",
     "shell.execute_reply": "2025-04-01T06:06:07.668151Z",
     "shell.execute_reply.started": "2025-04-01T06:06:01.129701Z"
    },
    "trusted": true
   },
   "outputs": [],
   "source": [
    "# 1. Delete all older checkpoints\n",
    "!rm -rf /kaggle/working/trocr-finetuned-augmented/checkpoint-1352\n",
    "!rm -rf /kaggle/working/trocr-finetuned-augmented/checkpoint-2028\n",
    "!rm -rf /kaggle/working/trocr-finetuned-augmented/checkpoint-2704\n",
    "!rm -rf /kaggle/working/trocr-finetuned-augmented/checkpoint-3380\n",
    "!rm -rf /kaggle/working/trocr-finetuned-augmented/checkpoint-676\n",
    "\n",
    "# 2. (Optional) Save the final model state into the checkpoint-4056 folder\n",
    "#    If your trainer is still in memory with the final trained weights, call:\n",
    "trainer.save_model(\"/kaggle/working/trocr-finetuned-augmented/checkpoint-4056\")\n"
   ]
  },
  {
   "cell_type": "code",
   "execution_count": null,
   "metadata": {
    "execution": {
     "iopub.execute_input": "2025-04-01T06:07:19.718326Z",
     "iopub.status.busy": "2025-04-01T06:07:19.717968Z",
     "iopub.status.idle": "2025-04-01T06:08:28.661598Z",
     "shell.execute_reply": "2025-04-01T06:08:28.660701Z",
     "shell.execute_reply.started": "2025-04-01T06:07:19.718297Z"
    },
    "trusted": true
   },
   "outputs": [],
   "source": [
    "!zip -r model.zip /kaggle/working/trocr-finetuned-augmented/checkpoint-4056\n"
   ]
  },
  {
   "cell_type": "code",
   "execution_count": null,
   "metadata": {
    "execution": {
     "iopub.execute_input": "2025-04-01T06:11:01.100111Z",
     "iopub.status.busy": "2025-04-01T06:11:01.099722Z",
     "iopub.status.idle": "2025-04-01T06:19:38.981628Z",
     "shell.execute_reply": "2025-04-01T06:19:38.980986Z",
     "shell.execute_reply.started": "2025-04-01T06:11:01.100082Z"
    },
    "trusted": true
   },
   "outputs": [],
   "source": [
    "predictions = trainer.predict(test_dataset)"
   ]
  },
  {
   "cell_type": "code",
   "execution_count": null,
   "metadata": {
    "execution": {
     "iopub.execute_input": "2025-04-01T06:20:45.620494Z",
     "iopub.status.busy": "2025-04-01T06:20:45.620189Z",
     "iopub.status.idle": "2025-04-01T06:20:45.626443Z",
     "shell.execute_reply": "2025-04-01T06:20:45.625725Z",
     "shell.execute_reply.started": "2025-04-01T06:20:45.620470Z"
    },
    "trusted": true
   },
   "outputs": [],
   "source": [
    "predictions"
   ]
  },
  {
   "cell_type": "code",
   "execution_count": null,
   "metadata": {
    "execution": {
     "iopub.execute_input": "2025-04-01T06:21:10.663709Z",
     "iopub.status.busy": "2025-04-01T06:21:10.663418Z",
     "iopub.status.idle": "2025-04-01T06:21:10.693686Z",
     "shell.execute_reply": "2025-04-01T06:21:10.692675Z",
     "shell.execute_reply.started": "2025-04-01T06:21:10.663685Z"
    },
    "trusted": true
   },
   "outputs": [],
   "source": [
    "generated_ids = predictions.predictions  # or however your model outputs predictions\n",
    "decoded_preds = tokenizer.batch_decode(generated_ids, skip_special_tokens=True)\n",
    "\n",
    "print(decoded_preds)"
   ]
  },
  {
   "cell_type": "code",
   "execution_count": null,
   "metadata": {
    "execution": {
     "iopub.execute_input": "2025-04-01T06:29:05.664831Z",
     "iopub.status.busy": "2025-04-01T06:29:05.664533Z",
     "iopub.status.idle": "2025-04-01T06:29:09.851915Z",
     "shell.execute_reply": "2025-04-01T06:29:09.851049Z",
     "shell.execute_reply.started": "2025-04-01T06:29:05.664808Z"
    },
    "trusted": true
   },
   "outputs": [],
   "source": [
    "# Compute metrics using your compute_metrics function\n",
    "metrics = compute_metrics((predictions.predictions, predictions.label_ids))\n",
    "\n",
    "print(\"Test CER:\", metrics[\"cer\"])\n",
    "print(\"Test WER:\", metrics[\"wer\"])"
   ]
  },
  {
   "cell_type": "markdown",
   "metadata": {},
   "source": [
    "##  pdf to images"
   ]
  },
  {
   "cell_type": "code",
   "execution_count": null,
   "metadata": {
    "execution": {
     "iopub.execute_input": "2025-04-01T06:38:22.384621Z",
     "iopub.status.busy": "2025-04-01T06:38:22.384336Z",
     "iopub.status.idle": "2025-04-01T06:38:38.648505Z",
     "shell.execute_reply": "2025-04-01T06:38:38.647585Z",
     "shell.execute_reply.started": "2025-04-01T06:38:22.384598Z"
    },
    "trusted": true
   },
   "outputs": [],
   "source": [
    "!apt-get update\n",
    "!apt-get install -y poppler-utils\n"
   ]
  },
  {
   "cell_type": "code",
   "execution_count": null,
   "metadata": {
    "execution": {
     "iopub.execute_input": "2025-04-01T06:38:41.486057Z",
     "iopub.status.busy": "2025-04-01T06:38:41.485679Z",
     "iopub.status.idle": "2025-04-01T06:39:08.161887Z",
     "shell.execute_reply": "2025-04-01T06:39:08.161200Z",
     "shell.execute_reply.started": "2025-04-01T06:38:41.486025Z"
    },
    "trusted": true
   },
   "outputs": [],
   "source": [
    "pdf_path = \"/kaggle/input/pdf-1/Buendia - Instruccion.pdf\"  # update with the actual PDF path\n",
    "pages = convert_from_path(pdf_path, dpi=300)  # Adjust DPI as needed"
   ]
  },
  {
   "cell_type": "markdown",
   "metadata": {},
   "source": [
    "# processing the images to usable form"
   ]
  },
  {
   "cell_type": "code",
   "execution_count": null,
   "metadata": {
    "execution": {
     "iopub.execute_input": "2025-04-01T07:30:18.967063Z",
     "iopub.status.busy": "2025-04-01T07:30:18.966678Z",
     "iopub.status.idle": "2025-04-01T07:30:31.782293Z",
     "shell.execute_reply": "2025-04-01T07:30:31.781432Z",
     "shell.execute_reply.started": "2025-04-01T07:30:18.967031Z"
    },
    "trusted": true
   },
   "outputs": [],
   "source": [
    "\n",
    "\n",
    "# Custom Post-Processing Rules\n",
    "\n",
    "def remove_accents_except_n(text):\n",
    "    normalized = unicodedata.normalize('NFD', text)\n",
    "    filtered = ''.join(\n",
    "        ch for ch in normalized\n",
    "        if (unicodedata.category(ch) != 'Mn' or ch in ['ñ', 'Ñ'])\n",
    "    )\n",
    "    return unicodedata.normalize('NFC', filtered)\n",
    "\n",
    "def apply_macron_rules(text):\n",
    "    text = re.sub(r'(Q)\\u00AF', r'\\1ue', text)       # Q¯ -> Que\n",
    "    text = re.sub(r'([^Qq])\\u00AF', r'\\1n', text)      # other x¯ -> xn\n",
    "    return text.replace('\\u00AF', '')\n",
    "\n",
    "def normalize_text(text):\n",
    "    text = text.replace('ſ', 's')\n",
    "    text = remove_accents_except_n(text)\n",
    "    text = text.replace('ç', 'z')\n",
    "    text = apply_macron_rules(text)\n",
    "    return text\n",
    "\n",
    "\n",
    "# 2. Line Detection (Naive)\n",
    "\n",
    "def detect_lines(image, threshold=200):\n",
    "    \"\"\"\n",
    "    Convert to grayscale, then detect horizontal 'blank' rows to segment lines.\n",
    "    `threshold` controls what counts as blank vs text.\n",
    "    Returns a list of (y_start, y_end) for each line.\n",
    "    \"\"\"\n",
    "    gray_img = image.convert(\"L\")  # grayscale\n",
    "    np_img = np.array(gray_img)\n",
    "    row_sums = np.mean(np_img, axis=1)\n",
    "    \n",
    "    lines = []\n",
    "    in_line = False\n",
    "    start = 0\n",
    "    for i, val in enumerate(row_sums):\n",
    "        if val < threshold and not in_line:\n",
    "            in_line = True\n",
    "            start = i\n",
    "        elif val >= threshold and in_line:\n",
    "            in_line = False\n",
    "            end = i\n",
    "            lines.append((start, end))\n",
    "    if in_line:\n",
    "        lines.append((start, len(row_sums)))\n",
    "    return lines\n",
    "\n",
    "def crop_and_resize(image, y_start, y_end, target_size=(384, 384)):\n",
    "    \"\"\"\n",
    "    Crop the image between y_start and y_end, then resize to target_size.\n",
    "    \"\"\"\n",
    "    cropped = image.crop((0, y_start, image.width, y_end))\n",
    "    resized = cropped.resize(target_size, Image.BILINEAR)\n",
    "    return resized\n",
    "\n",
    "\n",
    "# 3. OCR Pipeline with Filtering by Line Height\n",
    "\n",
    "def ocr_image_with_resizing(\n",
    "    image_path,\n",
    "    model,\n",
    "    tokenizer,\n",
    "    processor,\n",
    "    device,\n",
    "    target_size=(384, 384),\n",
    "    line_threshold=200,\n",
    "    height_lower_factor=0.7,\n",
    "    height_upper_factor=1.3\n",
    "):\n",
    "    # Open image in RGB\n",
    "    original_image = Image.open(image_path).convert(\"RGB\")\n",
    "\n",
    "    # Detect lines\n",
    "    lines = detect_lines(original_image, threshold=line_threshold)\n",
    "    print(f\"Detected {len(lines)} lines in the image.\")\n",
    "\n",
    "    if not lines:\n",
    "        print(\"No lines detected!\")\n",
    "        return \"\"\n",
    "    \n",
    "    # Compute line heights and median height\n",
    "    line_heights = [y_end - y_start for (y_start, y_end) in lines]\n",
    "    median_height = np.median(line_heights)\n",
    "    print(f\"Median line height: {median_height:.2f}\")\n",
    "\n",
    "    # For debugging, display the original image\n",
    "    plt.figure(figsize=(8, 8))\n",
    "    plt.imshow(original_image)\n",
    "    plt.axis(\"off\")\n",
    "    plt.title(\"Original Image\")\n",
    "    plt.show()\n",
    "\n",
    "    recognized_lines = []\n",
    "    for idx, (y_start, y_end) in enumerate(lines):\n",
    "        current_height = y_end - y_start\n",
    "        # Skip lines that are too big or too small compared to median height\n",
    "        if current_height < median_height * height_lower_factor or current_height > median_height * height_upper_factor:\n",
    "            print(f\"Skipping line {idx+1} (height: {current_height}) as it deviates from median.\")\n",
    "            continue\n",
    "\n",
    "        # Crop and resize the line region\n",
    "        line_img = crop_and_resize(original_image, y_start, y_end, target_size=target_size)\n",
    "\n",
    "        # Optional: Display the cropped line\n",
    "        plt.figure(figsize=(6, 2))\n",
    "        plt.imshow(line_img)\n",
    "        plt.axis(\"off\")\n",
    "        plt.title(f\"Line {idx+1}\")\n",
    "        plt.show()\n",
    "\n",
    "        # Preprocess for the model\n",
    "        inputs = processor(line_img, return_tensors=\"pt\")\n",
    "        pixel_values = inputs.pixel_values.to(device)\n",
    "\n",
    "        # Generate prediction\n",
    "        generated_ids = model.generate(\n",
    "            pixel_values,\n",
    "            max_new_tokens=128, \n",
    "            num_beams=5, \n",
    "            early_stopping=True\n",
    "        )\n",
    "        raw_text = tokenizer.decode(generated_ids[0], skip_special_tokens=True)\n",
    "        final_text = normalize_text(raw_text)\n",
    "        recognized_lines.append(final_text)\n",
    "        print(f\"Line {idx+1} OCR: {final_text}\")\n",
    "\n",
    "    full_text = \"\\n\".join(recognized_lines)\n",
    "    return full_text\n",
    "\n",
    "\n",
    "# 4. Main Usage Example\n",
    "\n",
    "if __name__ == \"__main__\":\n",
    "    # Load your model, tokenizer, and processor\n",
    "    \n",
    "    \n",
    "    device = torch.device(\"cuda\" if torch.cuda.is_available() else \"cpu\")\n",
    "    model.to(device)\n",
    "\n",
    "    # Path to the sample image\n",
    "    image_path = \"/kaggle/input/sample-test/Screenshot 2025-04-01 at 12.24.48PM.png\"\n",
    "    full_text = ocr_image_with_resizing(\n",
    "        image_path=image_path,\n",
    "        model=model,\n",
    "        tokenizer=tokenizer,\n",
    "        processor=processor,\n",
    "        device=device,\n",
    "        target_size=(384, 384),\n",
    "        line_threshold=200\n",
    "    )\n",
    "\n",
    "    print(\"\\nFinal OCR Text:\")\n",
    "    print(full_text)\n"
   ]
  },
  {
   "cell_type": "code",
   "execution_count": null,
   "metadata": {
    "execution": {
     "iopub.execute_input": "2025-04-01T07:15:38.341303Z",
     "iopub.status.busy": "2025-04-01T07:15:38.340932Z",
     "iopub.status.idle": "2025-04-01T07:15:55.556966Z",
     "shell.execute_reply": "2025-04-01T07:15:55.556158Z",
     "shell.execute_reply.started": "2025-04-01T07:15:38.341273Z"
    },
    "trusted": true
   },
   "outputs": [],
   "source": [
    "\n",
    "\n",
    "\n",
    "\n",
    "\n",
    "# 2. Line Detection (Naive)\n",
    "\n",
    "def detect_lines(image, threshold=200):\n",
    "    \"\"\"\n",
    "    Convert to grayscale, then detect horizontal 'blank' rows to segment lines.\n",
    "    `threshold` controls what counts as blank vs text.\n",
    "    Returns a list of (y_start, y_end) for each line.\n",
    "    \"\"\"\n",
    "    gray_img = image.convert(\"L\")  # grayscale\n",
    "    np_img = np.array(gray_img)\n",
    "\n",
    "    # Sum pixel values row-wise; rows that are \"blank\" have high sum (white).\n",
    "    # Invert logic if your text is white on black, etc.\n",
    "    row_sums = np.mean(np_img, axis=1)\n",
    "    \n",
    "    # We'll consider a row 'blank' if its average pixel value is above `threshold`.\n",
    "    # Then we find contiguous runs of 'non-blank' rows to define lines.\n",
    "    lines = []\n",
    "    in_line = False\n",
    "    start = 0\n",
    "\n",
    "    for i, val in enumerate(row_sums):\n",
    "        if val < threshold and not in_line:\n",
    "            # We enter text region\n",
    "            in_line = True\n",
    "            start = i\n",
    "        elif val >= threshold and in_line:\n",
    "            # We exit text region\n",
    "            in_line = False\n",
    "            end = i\n",
    "            lines.append((start, end))\n",
    "\n",
    "    # If the image ends while still in a line\n",
    "    if in_line:\n",
    "        lines.append((start, len(row_sums)))\n",
    "\n",
    "    return lines\n",
    "\n",
    "def crop_and_resize(image, y_start, y_end, target_size=(384, 384)):\n",
    "    \"\"\"\n",
    "    Crop the image between y_start and y_end, then resize to target_size.\n",
    "    \"\"\"\n",
    "    # Crop: left, upper, right, lower\n",
    "    cropped = image.crop((0, y_start, image.width, y_end))\n",
    "\n",
    "    # Resize to target_size for consistent input\n",
    "    resized = cropped.resize(target_size, Image.BILINEAR)\n",
    "    return resized\n",
    "\n",
    "# -----------------------------\n",
    "# 3. OCR Pipeline\n",
    "# -----------------------------\n",
    "def ocr_image_with_resizing(\n",
    "    image_path,\n",
    "    model,\n",
    "    tokenizer,\n",
    "    processor,\n",
    "    device,\n",
    "    target_size=(384, 384),\n",
    "    line_threshold=200\n",
    "):\n",
    "    # Open image in RGB\n",
    "    original_image = Image.open(image_path).convert(\"RGB\")\n",
    "\n",
    "    # Detect lines\n",
    "    lines = detect_lines(original_image, threshold=line_threshold)\n",
    "    print(f\"Detected {len(lines)} lines in the image.\")\n",
    "\n",
    "    # For debugging, display the original image\n",
    "    plt.figure(figsize=(8, 8))\n",
    "    plt.imshow(original_image)\n",
    "    plt.axis(\"off\")\n",
    "    plt.title(\"Original Image\")\n",
    "    plt.show()\n",
    "\n",
    "    # Store all recognized lines here\n",
    "    recognized_lines = []\n",
    "\n",
    "    for idx, (y_start, y_end) in enumerate(lines):\n",
    "        # Crop and resize the line region\n",
    "        line_img = crop_and_resize(original_image, y_start, y_end, target_size=target_size)\n",
    "\n",
    "        # Display the line chunk (optional)\n",
    "        plt.figure(figsize=(6, 2))\n",
    "        plt.imshow(line_img)\n",
    "        plt.axis(\"off\")\n",
    "        plt.title(f\"Line {idx+1}\")\n",
    "        plt.show()\n",
    "\n",
    "        # Preprocess for the model\n",
    "        inputs = processor(line_img, return_tensors=\"pt\")\n",
    "        pixel_values = inputs.pixel_values.to(device)\n",
    "\n",
    "        # Generate prediction\n",
    "        generated_ids = model.generate(\n",
    "            pixel_values,\n",
    "            max_new_tokens=128, \n",
    "            num_beams=5, \n",
    "            early_stopping=True\n",
    "        )\n",
    "        raw_text = tokenizer.decode(generated_ids[0], skip_special_tokens=True)\n",
    "\n",
    "        # Post-process\n",
    "        final_text = normalize_text(raw_text)\n",
    "        recognized_lines.append(final_text)\n",
    "        print(f\"Line {idx+1} OCR: {final_text}\")\n",
    "\n",
    "    # Combine lines with newlines (or spaces, depending on preference)\n",
    "    full_text = \"\\n\".join(recognized_lines)\n",
    "    return full_text\n",
    "\n",
    "\n",
    "# -----------------------------\n",
    "# 4. Main Usage Example\n",
    "# -----------------------------\n",
    "if __name__ == \"__main__\":\n",
    "    # Example model loading\n",
    "    # model_path = \"/kaggle/working/trocr-finetuned-augmented/checkpoint-4056\"\n",
    "    # model = AutoModelForSeq2SeqLM.from_pretrained(model_path)\n",
    "    # tokenizer = AutoTokenizer.from_pretrained(model_path)\n",
    "    # processor = TrOCRProcessor.from_pretrained(model_path)\n",
    "    \n",
    "    # device = torch.device(\"cuda\" if torch.cuda.is_available() else \"cpu\")\n",
    "    # model.to(device)\n",
    "\n",
    "    # Suppose we already have model, tokenizer, processor loaded as above\n",
    "    # Example usage:\n",
    "    image_path = \"/kaggle/input/sample-test/Screenshot 2025-04-01 at 12.24.48PM.png\"\n",
    "    full_text = ocr_image_with_resizing(\n",
    "        image_path=image_path,\n",
    "        model=model,\n",
    "        tokenizer=tokenizer,\n",
    "        processor=processor,\n",
    "        device=device,\n",
    "        target_size=(384, 384),       # Adjust to the size your model handles best\n",
    "        line_threshold=200           # Adjust to detect lines better\n",
    "    )\n",
    "\n",
    "    print(\"\\nFinal OCR Text:\")\n",
    "    print(full_text)\n"
   ]
  },
  {
   "cell_type": "code",
   "execution_count": null,
   "metadata": {
    "execution": {
     "iopub.execute_input": "2025-04-01T07:27:25.051218Z",
     "iopub.status.busy": "2025-04-01T07:27:25.050848Z",
     "iopub.status.idle": "2025-04-01T07:27:25.704554Z",
     "shell.execute_reply": "2025-04-01T07:27:25.703309Z",
     "shell.execute_reply.started": "2025-04-01T07:27:25.051187Z"
    },
    "trusted": true
   },
   "outputs": [],
   "source": [
    "\n",
    "\n",
    "\n",
    "# Custom Post-Processing (if needed)\n",
    "\n",
    "def remove_accents_except_n(text):\n",
    "    normalized = unicodedata.normalize('NFD', text)\n",
    "    filtered = ''.join(ch for ch in normalized if (unicodedata.category(ch) != 'Mn' or ch in ['ñ', 'Ñ']))\n",
    "    return unicodedata.normalize('NFC', filtered)\n",
    "\n",
    "def apply_macron_rules(text):\n",
    "    text = re.sub(r'(Q)\\u00AF', r'\\1ue', text)       # e.g., Q¯ -> Que\n",
    "    text = re.sub(r'([^Qq])\\u00AF', r'\\1n', text)       # e.g., x¯ -> xn\n",
    "    return text.replace('\\u00AF', '')\n",
    "\n",
    "def normalize_text(text):\n",
    "    text = text.replace('ſ', 's')\n",
    "    text = remove_accents_except_n(text)\n",
    "    text = text.replace('ç', 'z')\n",
    "    text = apply_macron_rules(text)\n",
    "    return text\n",
    "\n",
    "\n",
    "def process_large_image(image_path, output_size=512):\n",
    "    \"\"\"\n",
    "    Load an image, perform thresholding to detect text contours, \n",
    "    and extract & resize regions of interest (ROIs) that likely contain text.\n",
    "    Each ROI is then converted to grayscale to match the model's expected channel config.\n",
    "    \"\"\"\n",
    "    # Load image using OpenCV (BGR)\n",
    "    img = cv2.imread(image_path)\n",
    "    if img is None:\n",
    "        raise FileNotFoundError(f\"Image not found at path: {image_path}\")\n",
    "    \n",
    "    # Convert to grayscale for thresholding\n",
    "    gray = cv2.cvtColor(img, cv2.COLOR_BGR2GRAY)\n",
    "    \n",
    "    # Apply threshold (binary inverse with OTSU)\n",
    "    thresh = cv2.threshold(gray, 0, 255, cv2.THRESH_BINARY_INV + cv2.THRESH_OTSU)[1]\n",
    "    \n",
    "    # Find contours of text regions\n",
    "    contours, _ = cv2.findContours(thresh, cv2.RETR_EXTERNAL, cv2.CHAIN_APPROX_SIMPLE)\n",
    "    \n",
    "    chunks = []\n",
    "    for cnt in contours:\n",
    "        x, y, w, h = cv2.boundingRect(cnt)\n",
    "        # Filter out very large or very small regions\n",
    "        if w > img.shape[1] // 2 or h > img.shape[0] // 2:\n",
    "            continue\n",
    "        if w < 20 or h < 20:\n",
    "            continue\n",
    "        \n",
    "        # Extract the ROI from the original image (in BGR)\n",
    "        roi = img[y:y+h, x:x+w]\n",
    "        # Convert ROI to PIL Image in RGB, then resize\n",
    "        roi_pil = Image.fromarray(cv2.cvtColor(roi, cv2.COLOR_BGR2RGB))\n",
    "        roi_pil = roi_pil.resize((output_size, output_size), Image.BILINEAR)\n",
    "        # Convert to grayscale (L mode) to match model's expected 1-channel input\n",
    "        roi_pil = roi_pil.convert(\"L\")\n",
    "        chunks.append((x, roi_pil))\n",
    "    \n",
    "    # Sort chunks left-to-right, top-to-bottom (using x-coordinate)\n",
    "    chunks.sort(key=lambda x: x[0])\n",
    "    return [chunk[1] for chunk in chunks]\n",
    "\n",
    "# -----------------------------\n",
    "# 2. OCR Inference on Chunks\n",
    "# -----------------------------\n",
    "def ocr_inference(chunks, processor, model, tokenizer, device):\n",
    "    texts = []\n",
    "    for idx, chunk in enumerate(chunks):\n",
    "        # Optional: display each chunk\n",
    "        plt.figure(figsize=(3, 3))\n",
    "        plt.imshow(chunk, cmap=\"gray\")\n",
    "        plt.axis(\"off\")\n",
    "        plt.title(f\"Chunk {idx+1}\")\n",
    "        plt.show()\n",
    "\n",
    "        # Preprocess the chunk using the processor.\n",
    "        # The chunk is already in grayscale, so the processor should interpret it as 1-channel.\n",
    "        inputs = processor(chunk, return_tensors=\"pt\").pixel_values.to(device)\n",
    "        \n",
    "        # Generate OCR prediction\n",
    "        generated_ids = model.generate(inputs, max_new_tokens=128, num_beams=5, early_stopping=True)\n",
    "        raw_text = tokenizer.decode(generated_ids[0], skip_special_tokens=True)\n",
    "        final_text = normalize_text(raw_text)\n",
    "        texts.append(final_text)\n",
    "        print(f\"Chunk {idx+1} OCR: {final_text}\")\n",
    "    \n",
    "    return \"\\n\".join(texts)\n",
    "\n",
    "# -----------------------------\n",
    "# 3. Main Execution\n",
    "# -----------------------------\n",
    "if __name__ == \"__main__\":\n",
    "    # Load your model, tokenizer, and processor\n",
    "    \n",
    "    \n",
    "    device = torch.device(\"cuda\" if torch.cuda.is_available() else \"cpu\")\n",
    "    model.to(device)\n",
    "    \n",
    "    # Path to the large image\n",
    "    large_image_path = \"/kaggle/input/sample-test/Screenshot 2025-04-01 at 12.24.48PM.png\"  # Update path if needed\n",
    "    text_chunks = process_large_image(large_image_path, output_size=512)\n",
    "    \n",
    "    # Perform OCR on the processed chunks\n",
    "    final_text = ocr_inference(text_chunks, processor, model, tokenizer, device)\n",
    "    \n",
    "    print(\"\\nExtracted Text:\")\n",
    "    print(final_text)\n"
   ]
  },
  {
   "cell_type": "code",
   "execution_count": null,
   "metadata": {
    "execution": {
     "iopub.execute_input": "2025-04-01T07:23:37.606984Z",
     "iopub.status.busy": "2025-04-01T07:23:37.606563Z",
     "iopub.status.idle": "2025-04-01T07:23:39.774801Z",
     "shell.execute_reply": "2025-04-01T07:23:39.773485Z",
     "shell.execute_reply.started": "2025-04-01T07:23:37.606943Z"
    },
    "trusted": true
   },
   "outputs": [],
   "source": [
    "\n",
    "\n",
    "# 2. Image processing and chunking function\n",
    "def process_large_image(image_path, output_size=512):\n",
    "    # Load image\n",
    "    img = cv2.imread(image_path)\n",
    "    gray = cv2.cvtColor(img, cv2.COLOR_BGR2GRAY)\n",
    "    \n",
    "    # Preprocessing - adjust based on your document characteristics\n",
    "    thresh = cv2.threshold(gray, 0, 255, cv2.THRESH_BINARY_INV + cv2.THRESH_OTSU)[1]\n",
    "    \n",
    "    # Detect text contours (excluding large elements like the 'A')\n",
    "    contours, _ = cv2.findContours(thresh, cv2.RETR_EXTERNAL, cv2.CHAIN_APPROX_SIMPLE)\n",
    "    \n",
    "    chunks = []\n",
    "    for cnt in contours:\n",
    "        x, y, w, h = cv2.boundingRect(cnt)\n",
    "        \n",
    "        # Filter out very large elements (like the initial 'A')\n",
    "        if w > img.shape[1]//2 or h > img.shape[0]//2:\n",
    "            continue\n",
    "            \n",
    "        # Extract ROI and resize\n",
    "        roi = img[y:y+h, x:x+w]\n",
    "        roi_pil = Image.fromarray(cv2.cvtColor(roi, cv2.COLOR_BGR2RGB))\n",
    "        chunks.append((x, roi_pil))\n",
    "    \n",
    "    # Sort chunks left-to-right, top-to-bottom\n",
    "    chunks.sort(key=lambda x: (x[0]//output_size, x[0]))\n",
    "    \n",
    "    return [chunk[1] for chunk in chunks]\n",
    "\n",
    "# 3. OCR inference function\n",
    "def ocr_inference(chunks):\n",
    "    texts = []\n",
    "    for chunk in chunks:\n",
    "        # Preprocess using your model's processor\n",
    "        pixel_values = processor(chunk, return_tensors=\"pt\").pixel_values.to(device)\n",
    "        \n",
    "        # Generate prediction\n",
    "        generated_ids = model.generate(pixel_values)\n",
    "        text = processor.batch_decode(generated_ids, skip_special_tokens=True)[0]\n",
    "        texts.append(text)\n",
    "    \n",
    "    return \"\\n\".join(texts)\n",
    "\n",
    "# 4. Main execution\n",
    "large_image_path = \"/kaggle/input/sample-test/Screenshot 2025-04-01 at 12.24.48PM.png\"  h\n",
    "\n",
    "# Process image into chunks\n",
    "text_chunks = process_large_image(large_image_path)\n",
    "\n",
    "# Perform OCR using your model\n",
    "final_text = ocr_inference(text_chunks)\n",
    "\n",
    "print(\"Extracted Text:\")\n",
    "print(final_text)"
   ]
  },
  {
   "cell_type": "markdown",
   "metadata": {},
   "source": [
    "# loading the model "
   ]
  },
  {
   "cell_type": "code",
   "execution_count": null,
   "metadata": {
    "execution": {
     "iopub.execute_input": "2025-04-01T18:12:20.352632Z",
     "iopub.status.busy": "2025-04-01T18:12:20.352130Z",
     "iopub.status.idle": "2025-04-01T18:12:27.760506Z",
     "shell.execute_reply": "2025-04-01T18:12:27.759723Z",
     "shell.execute_reply.started": "2025-04-01T18:12:20.352573Z"
    },
    "trusted": true
   },
   "outputs": [
    {
     "name": "stderr",
     "output_type": "stream",
     "text": [
      "Config of the encoder: <class 'transformers.models.vit.modeling_vit.ViTModel'> is overwritten by shared encoder config: ViTConfig {\n",
      "  \"attention_probs_dropout_prob\": 0.0,\n",
      "  \"encoder_stride\": 16,\n",
      "  \"hidden_act\": \"gelu\",\n",
      "  \"hidden_dropout_prob\": 0.0,\n",
      "  \"hidden_size\": 768,\n",
      "  \"image_size\": 384,\n",
      "  \"initializer_range\": 0.02,\n",
      "  \"intermediate_size\": 3072,\n",
      "  \"layer_norm_eps\": 1e-12,\n",
      "  \"model_type\": \"vit\",\n",
      "  \"num_attention_heads\": 12,\n",
      "  \"num_channels\": 3,\n",
      "  \"num_hidden_layers\": 12,\n",
      "  \"patch_size\": 16,\n",
      "  \"qkv_bias\": false,\n",
      "  \"transformers_version\": \"4.47.0\"\n",
      "}\n",
      "\n",
      "Config of the decoder: <class 'transformers.models.trocr.modeling_trocr.TrOCRForCausalLM'> is overwritten by shared decoder config: TrOCRConfig {\n",
      "  \"activation_dropout\": 0.0,\n",
      "  \"activation_function\": \"gelu\",\n",
      "  \"add_cross_attention\": true,\n",
      "  \"attention_dropout\": 0.0,\n",
      "  \"bos_token_id\": 0,\n",
      "  \"classifier_dropout\": 0.0,\n",
      "  \"cross_attention_hidden_size\": 768,\n",
      "  \"d_model\": 1024,\n",
      "  \"decoder_attention_heads\": 16,\n",
      "  \"decoder_ffn_dim\": 4096,\n",
      "  \"decoder_layerdrop\": 0.0,\n",
      "  \"decoder_layers\": 12,\n",
      "  \"decoder_start_token_id\": 2,\n",
      "  \"dropout\": 0.1,\n",
      "  \"eos_token_id\": 2,\n",
      "  \"init_std\": 0.02,\n",
      "  \"is_decoder\": true,\n",
      "  \"layernorm_embedding\": true,\n",
      "  \"max_position_embeddings\": 512,\n",
      "  \"model_type\": \"trocr\",\n",
      "  \"pad_token_id\": 1,\n",
      "  \"scale_embedding\": false,\n",
      "  \"transformers_version\": \"4.47.0\",\n",
      "  \"use_cache\": false,\n",
      "  \"use_learned_position_embeddings\": true,\n",
      "  \"vocab_size\": 50265\n",
      "}\n",
      "\n"
     ]
    },
    {
     "data": {
      "text/plain": [
       "VisionEncoderDecoderModel(\n",
       "  (encoder): ViTModel(\n",
       "    (embeddings): ViTEmbeddings(\n",
       "      (patch_embeddings): ViTPatchEmbeddings(\n",
       "        (projection): Conv2d(3, 768, kernel_size=(16, 16), stride=(16, 16))\n",
       "      )\n",
       "      (dropout): Dropout(p=0.0, inplace=False)\n",
       "    )\n",
       "    (encoder): ViTEncoder(\n",
       "      (layer): ModuleList(\n",
       "        (0-11): 12 x ViTLayer(\n",
       "          (attention): ViTSdpaAttention(\n",
       "            (attention): ViTSdpaSelfAttention(\n",
       "              (query): Linear(in_features=768, out_features=768, bias=False)\n",
       "              (key): Linear(in_features=768, out_features=768, bias=False)\n",
       "              (value): Linear(in_features=768, out_features=768, bias=False)\n",
       "              (dropout): Dropout(p=0.0, inplace=False)\n",
       "            )\n",
       "            (output): ViTSelfOutput(\n",
       "              (dense): Linear(in_features=768, out_features=768, bias=True)\n",
       "              (dropout): Dropout(p=0.0, inplace=False)\n",
       "            )\n",
       "          )\n",
       "          (intermediate): ViTIntermediate(\n",
       "            (dense): Linear(in_features=768, out_features=3072, bias=True)\n",
       "            (intermediate_act_fn): GELUActivation()\n",
       "          )\n",
       "          (output): ViTOutput(\n",
       "            (dense): Linear(in_features=3072, out_features=768, bias=True)\n",
       "            (dropout): Dropout(p=0.0, inplace=False)\n",
       "          )\n",
       "          (layernorm_before): LayerNorm((768,), eps=1e-12, elementwise_affine=True)\n",
       "          (layernorm_after): LayerNorm((768,), eps=1e-12, elementwise_affine=True)\n",
       "        )\n",
       "      )\n",
       "    )\n",
       "    (layernorm): LayerNorm((768,), eps=1e-12, elementwise_affine=True)\n",
       "    (pooler): ViTPooler(\n",
       "      (dense): Linear(in_features=768, out_features=768, bias=True)\n",
       "      (activation): Tanh()\n",
       "    )\n",
       "  )\n",
       "  (decoder): TrOCRForCausalLM(\n",
       "    (model): TrOCRDecoderWrapper(\n",
       "      (decoder): TrOCRDecoder(\n",
       "        (embed_tokens): TrOCRScaledWordEmbedding(50265, 1024, padding_idx=1)\n",
       "        (embed_positions): TrOCRLearnedPositionalEmbedding(514, 1024)\n",
       "        (layernorm_embedding): LayerNorm((1024,), eps=1e-05, elementwise_affine=True)\n",
       "        (layers): ModuleList(\n",
       "          (0-11): 12 x TrOCRDecoderLayer(\n",
       "            (self_attn): TrOCRAttention(\n",
       "              (k_proj): Linear(in_features=1024, out_features=1024, bias=True)\n",
       "              (v_proj): Linear(in_features=1024, out_features=1024, bias=True)\n",
       "              (q_proj): Linear(in_features=1024, out_features=1024, bias=True)\n",
       "              (out_proj): Linear(in_features=1024, out_features=1024, bias=True)\n",
       "            )\n",
       "            (activation_fn): GELUActivation()\n",
       "            (self_attn_layer_norm): LayerNorm((1024,), eps=1e-05, elementwise_affine=True)\n",
       "            (encoder_attn): TrOCRAttention(\n",
       "              (k_proj): Linear(in_features=768, out_features=1024, bias=True)\n",
       "              (v_proj): Linear(in_features=768, out_features=1024, bias=True)\n",
       "              (q_proj): Linear(in_features=1024, out_features=1024, bias=True)\n",
       "              (out_proj): Linear(in_features=1024, out_features=1024, bias=True)\n",
       "            )\n",
       "            (encoder_attn_layer_norm): LayerNorm((1024,), eps=1e-05, elementwise_affine=True)\n",
       "            (fc1): Linear(in_features=1024, out_features=4096, bias=True)\n",
       "            (fc2): Linear(in_features=4096, out_features=1024, bias=True)\n",
       "            (final_layer_norm): LayerNorm((1024,), eps=1e-05, elementwise_affine=True)\n",
       "          )\n",
       "        )\n",
       "      )\n",
       "    )\n",
       "    (output_projection): Linear(in_features=1024, out_features=50265, bias=False)\n",
       "  )\n",
       ")"
      ]
     },
     "execution_count": 12,
     "metadata": {},
     "output_type": "execute_result"
    }
   ],
   "source": [
    "\n",
    "\n",
    "# 1. Load your trained model and processor\n",
    "model_path = \"/kaggle/input/model-final/kaggle/working/trocr-finetuned-augmented/checkpoint-4056\"  # Update with your actual path\n",
    "processor = TrOCRProcessor.from_pretrained(model_path)\n",
    "model = VisionEncoderDecoderModel.from_pretrained(model_path)\n",
    "device = torch.device(\"cuda\" if torch.cuda.is_available() else \"cpu\")\n",
    "model.to(device)"
   ]
  },
  {
   "cell_type": "code",
   "execution_count": 20,
   "metadata": {
    "execution": {
     "iopub.execute_input": "2025-04-01T18:18:39.654040Z",
     "iopub.status.busy": "2025-04-01T18:18:39.653718Z",
     "iopub.status.idle": "2025-04-01T18:18:39.657902Z",
     "shell.execute_reply": "2025-04-01T18:18:39.656926Z",
     "shell.execute_reply.started": "2025-04-01T18:18:39.654016Z"
    },
    "trusted": true
   },
   "outputs": [],
   "source": [
    "tokenizer = processor.tokenizer"
   ]
  },
  {
   "cell_type": "markdown",
   "metadata": {},
   "source": [
    "## applying the model on the images"
   ]
  },
  {
   "cell_type": "code",
   "execution_count": 19,
   "metadata": {
    "execution": {
     "iopub.execute_input": "2025-04-01T18:17:28.058411Z",
     "iopub.status.busy": "2025-04-01T18:17:28.058120Z",
     "iopub.status.idle": "2025-04-01T18:17:28.154374Z",
     "shell.execute_reply": "2025-04-01T18:17:28.153460Z",
     "shell.execute_reply.started": "2025-04-01T18:17:28.058388Z"
    },
    "trusted": true
   },
   "outputs": [
    {
     "data": {
      "image/png": "[encoded data removed]",
      "text/plain": [
       "<Figure size 600x200 with 1 Axes>"
      ]
     },
     "metadata": {},
     "output_type": "display_data"
    }
   ],
   "source": [
    "import os\n",
    "import matplotlib.pyplot as plt\n",
    "from PIL import Image\n",
    "\n",
    "def display_line_images(folder_path=\"/kaggle/working/line_output\"):\n",
    "    # List all PNG files starting with \"line_\"\n",
    "    image_files = sorted([\n",
    "        f for f in os.listdir(folder_path) \n",
    "        if f.startswith(\"line_\") and f.endswith(\".png\")\n",
    "    ])\n",
    "    \n",
    "    # Display each image\n",
    "    for img_file in image_files:\n",
    "        img_path = os.path.join(folder_path, img_file)\n",
    "        img = Image.open(img_path)\n",
    "        \n",
    "        plt.figure(figsize=(6, 2))\n",
    "        plt.imshow(img)\n",
    "        plt.axis(\"off\")\n",
    "        plt.title(img_file)\n",
    "        plt.show()\n",
    "\n",
    "# Example usage\n",
    "display_line_images(\"/kaggle/working/line_output\")\n"
   ]
  },
  {
   "cell_type": "code",
   "execution_count": null,
   "metadata": {
    "execution": {
     "iopub.execute_input": "2025-04-01T18:46:59.612533Z",
     "iopub.status.busy": "2025-04-01T18:46:59.612243Z",
     "iopub.status.idle": "2025-04-01T18:47:03.490081Z",
     "shell.execute_reply": "2025-04-01T18:47:03.489195Z",
     "shell.execute_reply.started": "2025-04-01T18:46:59.612511Z"
    },
    "trusted": true
   },
   "outputs": [
    {
     "name": "stdout",
     "output_type": "stream",
     "text": [
      "Detected line image files:\n",
      "['line_0.png', 'line_1.png', 'line_2.png', 'line_3.png']\n"
     ]
    },
    {
     "data": {
      "image/png": "[encoded data removed]",
      "text/plain": [
       "<Figure size 600x200 with 1 Axes>"
      ]
     },
     "metadata": {},
     "output_type": "display_data"
    },
    {
     "name": "stdout",
     "output_type": "stream",
     "text": [
      "OCR for line_0.png: guro disleño de su edad. la Rei\n"
     ]
    },
    {
     "data": {
      "image/png": "[encoded data removed]",
      "text/plain": [
       "<Figure size 600x200 with 1 Axes>"
      ]
     },
     "metadata": {},
     "output_type": "display_data"
    },
    {
     "name": "stdout",
     "output_type": "stream",
     "text": [
      "OCR for line_1.png: gion para con Dios en la de vaca\n"
     ]
    },
    {
     "data": {
      "image/png": "[encoded data removed]",
      "text/plain": [
       "<Figure size 600x200 with 1 Axes>"
      ]
     },
     "metadata": {},
     "output_type": "display_data"
    },
    {
     "name": "stdout",
     "output_type": "stream",
     "text": [
      "OCR for line_2.png: a la Isilecia a los Templos, la piedad\n"
     ]
    },
    {
     "data": {
      "image/png": "[encoded data removed]",
      "text/plain": [
       "<Figure size 600x200 with 1 Axes>"
      ]
     },
     "metadata": {},
     "output_type": "display_data"
    },
    {
     "name": "stdout",
     "output_type": "stream",
     "text": [
      "OCR for line_3.png: con los Padres en la obedientia\n",
      "\n",
      "Final OCR Paragraph:\n",
      "guro disleño de su edad. la Rei\n",
      "gion para con Dios en la de vaca\n",
      "a la Isilecia a los Templos, la piedad\n",
      "con los Padres en la obedientia\n"
     ]
    }
   ],
   "source": [
    "\n",
    "folder_path = \"/kaggle/working/line_output\"\n",
    "\n",
    "# List and sort the image filenames based on the number in \"line_#.png\"\n",
    "image_files = sorted(\n",
    "    [f for f in os.listdir(folder_path) if re.match(r\"line_\\d+\\.png\", f)],\n",
    "    key=lambda x: int(re.search(r\"\\d+\", x).group())\n",
    ")\n",
    "\n",
    "print(\"Detected line image files:\")\n",
    "print(image_files)\n",
    "\n",
    "\n",
    "\n",
    "\n",
    "\n",
    "# OCR each line image and collect the text\n",
    "lines_text = []\n",
    "for img_file in image_files:\n",
    "    img_path = os.path.join(folder_path, img_file)\n",
    "    img = Image.open(img_path).convert(\"RGB\")  # Convert to RGB if necessary\n",
    "\n",
    "    # Optionally display the image\n",
    "    plt.figure(figsize=(6, 2))\n",
    "    plt.imshow(img)\n",
    "    plt.axis(\"off\")\n",
    "    plt.title(img_file)\n",
    "    plt.show()\n",
    "\n",
    "    # Preprocess the image\n",
    "    inputs = processor(img, return_tensors=\"pt\")\n",
    "    pixel_values = inputs.pixel_values.to(device)\n",
    "\n",
    "    # Generate prediction (adjust parameters if needed)\n",
    "    generated_ids = model.generate(pixel_values, max_new_tokens=128, num_beams=5, early_stopping=True)\n",
    "    line_text = tokenizer.decode(generated_ids[0], skip_special_tokens=True).strip()\n",
    "\n",
    "    print(f\"OCR for {img_file}: {line_text}\")\n",
    "    lines_text.append(line_text)\n",
    "\n",
    "# Join all the line texts into a single paragraph (with newlines or spaces)\n",
    "paragraph = \"\\n\".join(lines_text)\n",
    "\n",
    "print(\"\\nFinal OCR Paragraph:\")\n",
    "print(paragraph)\n"
   ]
  },
  {
   "cell_type": "code",
   "execution_count": null,
   "metadata": {
    "execution": {
     "iopub.execute_input": "2025-04-01T19:58:58.959233Z",
     "iopub.status.busy": "2025-04-01T19:58:58.958891Z",
     "iopub.status.idle": "2025-04-01T20:03:16.521421Z",
     "shell.execute_reply": "2025-04-01T20:03:16.520412Z",
     "shell.execute_reply.started": "2025-04-01T19:58:58.959205Z"
    },
    "trusted": true
   },
   "outputs": [
    {
     "name": "stdout",
     "output_type": "stream",
     "text": [
      "\n",
      "📄 Processing page 1\n"
     ]
    },
    {
     "data": {
      "image/png": "[encoded data removed]",
      "text/plain": [
       "<Figure size 1200x600 with 2 Axes>"
      ]
     },
     "metadata": {},
     "output_type": "display_data"
    },
    {
     "name": "stdout",
     "output_type": "stream",
     "text": [
      "  Line 1: 73 ¶ Agora\n"
     ]
    },
    {
     "data": {
      "text/plain": [
       "<Figure size 640x480 with 0 Axes>"
      ]
     },
     "metadata": {},
     "output_type": "display_data"
    },
    {
     "name": "stdout",
     "output_type": "stream",
     "text": [
      "  Line 2: A L\n"
     ]
    },
    {
     "data": {
      "text/plain": [
       "<Figure size 640x480 with 0 Axes>"
      ]
     },
     "metadata": {},
     "output_type": "display_data"
    },
    {
     "name": "stdout",
     "output_type": "stream",
     "text": [
      "  Line 3: En finiramente A mal bō\n"
     ]
    },
    {
     "data": {
      "text/plain": [
       "<Figure size 640x480 with 0 Axes>"
      ]
     },
     "metadata": {},
     "output_type": "display_data"
    },
    {
     "name": "stdout",
     "output_type": "stream",
     "text": [
      "  Line 4: 73 ¶ Agora de la\n"
     ]
    },
    {
     "data": {
      "text/plain": [
       "<Figure size 640x480 with 0 Axes>"
      ]
     },
     "metadata": {},
     "output_type": "display_data"
    },
    {
     "name": "stdout",
     "output_type": "stream",
     "text": [
      "  Line 5: Nino pesus.\n",
      "\n",
      "📄 Processing page 2\n"
     ]
    },
    {
     "data": {
      "text/plain": [
       "<Figure size 640x480 with 0 Axes>"
      ]
     },
     "metadata": {},
     "output_type": "display_data"
    },
    {
     "name": "stdout",
     "output_type": "stream",
     "text": [
      "  Line 1: Vos, Dulcisimo Niño\n"
     ]
    },
    {
     "data": {
      "text/plain": [
       "<Figure size 640x480 with 0 Axes>"
      ]
     },
     "metadata": {},
     "output_type": "display_data"
    },
    {
     "name": "stdout",
     "output_type": "stream",
     "text": [
      "  Line 2: JEsos, que no solo oso\n"
     ]
    },
    {
     "data": {
      "text/plain": [
       "<Figure size 640x480 with 0 Axes>"
      ]
     },
     "metadata": {},
     "output_type": "display_data"
    },
    {
     "name": "stdout",
     "output_type": "stream",
     "text": [
      "  Line 3: dignasteis de llamarōs\n"
     ]
    },
    {
     "data": {
      "text/plain": [
       "<Figure size 640x480 with 0 Axes>"
      ]
     },
     "metadata": {},
     "output_type": "display_data"
    },
    {
     "name": "stdout",
     "output_type": "stream",
     "text": [
      "  Line 4: Doctor de los Niños,\n",
      "\n",
      "📄 Processing page 3\n"
     ]
    },
    {
     "data": {
      "text/plain": [
       "<Figure size 640x480 with 0 Axes>"
      ]
     },
     "metadata": {},
     "output_type": "display_data"
    },
    {
     "name": "stdout",
     "output_type": "stream",
     "text": [
      "  Line 1: flfino tambien de alsid-\n"
     ]
    },
    {
     "data": {
      "text/plain": [
       "<Figure size 640x480 with 0 Axes>"
      ]
     },
     "metadata": {},
     "output_type": "display_data"
    },
    {
     "name": "stdout",
     "output_type": "stream",
     "text": [
      "  Line 2: rir como Nuño entre los Doctors,\n"
     ]
    },
    {
     "data": {
      "text/plain": [
       "<Figure size 640x480 with 0 Axes>"
      ]
     },
     "metadata": {},
     "output_type": "display_data"
    },
    {
     "name": "stdout",
     "output_type": "stream",
     "text": [
      "  Line 3: de consagra humilde esta pequeña\n"
     ]
    },
    {
     "data": {
      "text/plain": [
       "<Figure size 640x480 with 0 Axes>"
      ]
     },
     "metadata": {},
     "output_type": "display_data"
    },
    {
     "name": "stdout",
     "output_type": "stream",
     "text": [
      "  Line 4: Inferuccion de los Nifos. Es assi,\n",
      "\n",
      "📄 Processing page 4\n"
     ]
    },
    {
     "data": {
      "text/plain": [
       "<Figure size 640x480 with 0 Axes>"
      ]
     },
     "metadata": {},
     "output_type": "display_data"
    },
    {
     "name": "stdout",
     "output_type": "stream",
     "text": [
      "  Line 1: que ella cambien le dirige á la ju\n"
     ]
    },
    {
     "data": {
      "text/plain": [
       "<Figure size 640x480 with 0 Axes>"
      ]
     },
     "metadata": {},
     "output_type": "display_data"
    },
    {
     "name": "stdout",
     "output_type": "stream",
     "text": [
      "  Line 2: vencud, pero a esta, como recuer -\n"
     ]
    },
    {
     "data": {
      "text/plain": [
       "<Figure size 640x480 with 0 Axes>"
      ]
     },
     "metadata": {},
     "output_type": "display_data"
    },
    {
     "name": "stdout",
     "output_type": "stream",
     "text": [
      "  Line 3: do de lo que aprendio, a los Ni-\n"
     ]
    },
    {
     "data": {
      "text/plain": [
       "<Figure size 640x480 with 0 Axes>"
      ]
     },
     "metadata": {},
     "output_type": "display_data"
    },
    {
     "name": "stdout",
     "output_type": "stream",
     "text": [
      "  Line 4: chos, como precila explicacion de\n",
      "\n",
      "📄 Processing page 5\n"
     ]
    },
    {
     "data": {
      "text/plain": [
       "<Figure size 640x480 with 0 Axes>"
      ]
     },
     "metadata": {},
     "output_type": "display_data"
    },
    {
     "name": "stdout",
     "output_type": "stream",
     "text": [
      "  Line 1: lo que de ben estudiar. Por este lo\n"
     ]
    },
    {
     "data": {
      "text/plain": [
       "<Figure size 640x480 with 0 Axes>"
      ]
     },
     "metadata": {},
     "output_type": "display_data"
    },
    {
     "name": "stdout",
     "output_type": "stream",
     "text": [
      "  Line 2: despero Ninos, que con fijas por\n"
     ]
    },
    {
     "data": {
      "text/plain": [
       "<Figure size 640x480 with 0 Axes>"
      ]
     },
     "metadata": {},
     "output_type": "display_data"
    },
    {
     "name": "stdout",
     "output_type": "stream",
     "text": [
      "  Line 3: educacion de vuestra Compañia,\n",
      "\n",
      "📄 Processing page 6\n"
     ]
    },
    {
     "data": {
      "text/plain": [
       "<Figure size 640x480 with 0 Axes>"
      ]
     },
     "metadata": {},
     "output_type": "display_data"
    },
    {
     "name": "stdout",
     "output_type": "stream",
     "text": [
      "  Line 1: lo es mucho mas. En Vos, Dini\n"
     ]
    },
    {
     "data": {
      "text/plain": [
       "<Figure size 640x480 with 0 Axes>"
      ]
     },
     "metadata": {},
     "output_type": "display_data"
    },
    {
     "name": "stdout",
     "output_type": "stream",
     "text": [
      "  Line 2: no Exemplar de todas las virea -\n"
     ]
    },
    {
     "data": {
      "text/plain": [
       "<Figure size 640x480 with 0 Axes>"
      ]
     },
     "metadata": {},
     "output_type": "display_data"
    },
    {
     "name": "stdout",
     "output_type": "stream",
     "text": [
      "  Line 3: des, tienen abreviado el mas le\n"
     ]
    },
    {
     "data": {
      "text/plain": [
       "<Figure size 640x480 with 0 Axes>"
      ]
     },
     "metadata": {},
     "output_type": "display_data"
    },
    {
     "name": "stdout",
     "output_type": "stream",
     "text": [
      "  Line 4: 73 ¶ De ouo\n",
      "\n",
      "📄 Processing page 7\n"
     ]
    },
    {
     "data": {
      "text/plain": [
       "<Figure size 640x480 with 0 Axes>"
      ]
     },
     "metadata": {},
     "output_type": "display_data"
    },
    {
     "name": "stdout",
     "output_type": "stream",
     "text": [
      "  Line 1: guro disleño de su edad. la Rei\n"
     ]
    },
    {
     "data": {
      "text/plain": [
       "<Figure size 640x480 with 0 Axes>"
      ]
     },
     "metadata": {},
     "output_type": "display_data"
    },
    {
     "name": "stdout",
     "output_type": "stream",
     "text": [
      "  Line 2: gion para con Dios en la de vaca\n"
     ]
    },
    {
     "data": {
      "text/plain": [
       "<Figure size 640x480 with 0 Axes>"
      ]
     },
     "metadata": {},
     "output_type": "display_data"
    },
    {
     "name": "stdout",
     "output_type": "stream",
     "text": [
      "  Line 3: a la Isilecia a los Templos, la piedad\n"
     ]
    },
    {
     "data": {
      "text/plain": [
       "<Figure size 640x480 with 0 Axes>"
      ]
     },
     "metadata": {},
     "output_type": "display_data"
    },
    {
     "name": "stdout",
     "output_type": "stream",
     "text": [
      "  Line 4: con los Padres en la obedientia\n",
      "\n",
      "📄 Processing page 8\n"
     ]
    },
    {
     "data": {
      "text/plain": [
       "<Figure size 640x480 with 0 Axes>"
      ]
     },
     "metadata": {},
     "output_type": "display_data"
    },
    {
     "name": "stdout",
     "output_type": "stream",
     "text": [
      "  Line 1: mas rendida, & la modestia, y de\n"
     ]
    },
    {
     "data": {
      "text/plain": [
       "<Figure size 640x480 with 0 Axes>"
      ]
     },
     "metadata": {},
     "output_type": "display_data"
    },
    {
     "name": "stdout",
     "output_type": "stream",
     "text": [
      "  Line 2: deo de saber, con los mayores,\n"
     ]
    },
    {
     "data": {
      "text/plain": [
       "<Figure size 640x480 with 0 Axes>"
      ]
     },
     "metadata": {},
     "output_type": "display_data"
    },
    {
     "name": "stdout",
     "output_type": "stream",
     "text": [
      "  Line 3: gustando mas de Or, y pregun.\n"
     ]
    },
    {
     "data": {
      "text/plain": [
       "<Figure size 640x480 with 0 Axes>"
      ]
     },
     "metadata": {},
     "output_type": "display_data"
    },
    {
     "name": "stdout",
     "output_type": "stream",
     "text": [
      "  Line 4: rar, que de de finir, y relolver. Bien\n",
      "\n",
      "📄 Processing page 9\n"
     ]
    },
    {
     "data": {
      "text/plain": [
       "<Figure size 640x480 with 0 Axes>"
      ]
     },
     "metadata": {},
     "output_type": "display_data"
    },
    {
     "name": "stdout",
     "output_type": "stream",
     "text": [
      "  Line 1: que esto en vuestra infinita sabi-\n"
     ]
    },
    {
     "data": {
      "text/plain": [
       "<Figure size 640x480 with 0 Axes>"
      ]
     },
     "metadata": {},
     "output_type": "display_data"
    },
    {
     "name": "stdout",
     "output_type": "stream",
     "text": [
      "  Line 2: duria fue Soberana dignacion, y\n"
     ]
    },
    {
     "data": {
      "text/plain": [
       "<Figure size 640x480 with 0 Axes>"
      ]
     },
     "metadata": {},
     "output_type": "display_data"
    },
    {
     "name": "stdout",
     "output_type": "stream",
     "text": [
      "  Line 3: en la natural Ignorancia de los\n"
     ]
    },
    {
     "data": {
      "text/plain": [
       "<Figure size 640x480 with 0 Axes>"
      ]
     },
     "metadata": {},
     "output_type": "display_data"
    },
    {
     "name": "stdout",
     "output_type": "stream",
     "text": [
      "  Line 4: Nilios es indispendable recelsi-\n",
      "\n",
      "📄 Processing page 10\n"
     ]
    },
    {
     "data": {
      "text/plain": [
       "<Figure size 640x480 with 0 Axes>"
      ]
     },
     "metadata": {},
     "output_type": "display_data"
    },
    {
     "name": "stdout",
     "output_type": "stream",
     "text": [
      "  Line 1: dad. E el reina rei don siempe\n"
     ]
    },
    {
     "data": {
      "text/plain": [
       "<Figure size 640x480 with 0 Axes>"
      ]
     },
     "metadata": {},
     "output_type": "display_data"
    },
    {
     "name": "stdout",
     "output_type": "stream",
     "text": [
      "  Line 2: eNi tienen solamente en Vos\n"
     ]
    },
    {
     "data": {
      "text/plain": [
       "<Figure size 640x480 with 0 Axes>"
      ]
     },
     "metadata": {},
     "output_type": "display_data"
    },
    {
     "name": "stdout",
     "output_type": "stream",
     "text": [
      "  Line 3: el diseno, la lar, y el exemplo,\n"
     ]
    },
    {
     "data": {
      "text/plain": [
       "<Figure size 640x480 with 0 Axes>"
      ]
     },
     "metadata": {},
     "output_type": "display_data"
    },
    {
     "name": "stdout",
     "output_type": "stream",
     "text": [
      "  Line 4: dino tambien el amor, y protec -\n",
      "\n",
      "📄 Processing page 11\n"
     ]
    },
    {
     "data": {
      "text/plain": [
       "<Figure size 640x480 with 0 Axes>"
      ]
     },
     "metadata": {},
     "output_type": "display_data"
    },
    {
     "name": "stdout",
     "output_type": "stream",
     "text": [
      "  Line 1: cion. Vos, como fingular Maes\n"
     ]
    },
    {
     "data": {
      "text/plain": [
       "<Figure size 640x480 with 0 Axes>"
      ]
     },
     "metadata": {},
     "output_type": "display_data"
    },
    {
     "name": "stdout",
     "output_type": "stream",
     "text": [
      "  Line 2: tro de los Niños, les dais enten-\n"
     ]
    },
    {
     "data": {
      "text/plain": [
       "<Figure size 640x480 with 0 Axes>"
      ]
     },
     "metadata": {},
     "output_type": "display_data"
    },
    {
     "name": "stdout",
     "output_type": "stream",
     "text": [
      "  Line 3: dimiento, y comunicais la sabi-\n"
     ]
    },
    {
     "data": {
      "text/plain": [
       "<Figure size 640x480 with 0 Axes>"
      ]
     },
     "metadata": {},
     "output_type": "display_data"
    },
    {
     "name": "stdout",
     "output_type": "stream",
     "text": [
      "  Line 4: doria Vos les prometeis el Reyno\n",
      "\n",
      "📄 Processing page 12\n"
     ]
    },
    {
     "data": {
      "text/plain": [
       "<Figure size 640x480 with 0 Axes>"
      ]
     },
     "metadata": {},
     "output_type": "display_data"
    },
    {
     "name": "stdout",
     "output_type": "stream",
     "text": [
      "  Line 1: de los Cielos, yos indignais con\n"
     ]
    },
    {
     "data": {
      "text/plain": [
       "<Figure size 640x480 with 0 Axes>"
      ]
     },
     "metadata": {},
     "output_type": "display_data"
    },
    {
     "name": "stdout",
     "output_type": "stream",
     "text": [
      "  Line 2: quien les aparta de Vos, y les\n"
     ]
    },
    {
     "data": {
      "text/plain": [
       "<Figure size 640x480 with 0 Axes>"
      ]
     },
     "metadata": {},
     "output_type": "display_data"
    },
    {
     "name": "stdout",
     "output_type": "stream",
     "text": [
      "  Line 3: proponais por normal del con-\n"
     ]
    },
    {
     "data": {
      "text/plain": [
       "<Figure size 640x480 with 0 Axes>"
      ]
     },
     "metadata": {},
     "output_type": "display_data"
    },
    {
     "name": "stdout",
     "output_type": "stream",
     "text": [
      "  Line 4: dor, ingoencia, y christiana mu\n",
      "\n",
      "📄 Processing page 13\n"
     ]
    },
    {
     "data": {
      "text/plain": [
       "<Figure size 640x480 with 0 Axes>"
      ]
     },
     "metadata": {},
     "output_type": "display_data"
    },
    {
     "name": "stdout",
     "output_type": "stream",
     "text": [
      "  Line 1: no pudo explicarle mas tierno, y\n"
     ]
    },
    {
     "data": {
      "text/plain": [
       "<Figure size 640x480 with 0 Axes>"
      ]
     },
     "metadata": {},
     "output_type": "display_data"
    },
    {
     "name": "stdout",
     "output_type": "stream",
     "text": [
      "  Line 2: liberal con los Niños, pues no\n"
     ]
    },
    {
     "data": {
      "text/plain": [
       "<Figure size 640x480 with 0 Axes>"
      ]
     },
     "metadata": {},
     "output_type": "display_data"
    },
    {
     "name": "stdout",
     "output_type": "stream",
     "text": [
      "  Line 3: contenço de echarles vuefras dixo\n"
     ]
    },
    {
     "data": {
      "text/plain": [
       "<Figure size 640x480 with 0 Axes>"
      ]
     },
     "metadata": {},
     "output_type": "display_data"
    },
    {
     "name": "stdout",
     "output_type": "stream",
     "text": [
      "  Line 4: Alfonso -\n",
      "\n",
      "📄 Processing page 14\n"
     ]
    },
    {
     "data": {
      "text/plain": [
       "<Figure size 640x480 with 0 Axes>"
      ]
     },
     "metadata": {},
     "output_type": "display_data"
    },
    {
     "name": "stdout",
     "output_type": "stream",
     "text": [
      "  Line 1: divinas bendiciones, les misleis\n"
     ]
    },
    {
     "data": {
      "text/plain": [
       "<Figure size 640x480 with 0 Axes>"
      ]
     },
     "metadata": {},
     "output_type": "display_data"
    },
    {
     "name": "stdout",
     "output_type": "stream",
     "text": [
      "  Line 2: ña vnestro la grado pecho con lna\n"
     ]
    },
    {
     "data": {
      "text/plain": [
       "<Figure size 640x480 with 0 Axes>"
      ]
     },
     "metadata": {},
     "output_type": "display_data"
    },
    {
     "name": "stdout",
     "output_type": "stream",
     "text": [
      "  Line 3: missimos abraros, Dichola edad, A\n"
     ]
    },
    {
     "data": {
      "text/plain": [
       "<Figure size 640x480 with 0 Axes>"
      ]
     },
     "metadata": {},
     "output_type": "display_data"
    },
    {
     "name": "stdout",
     "output_type": "stream",
     "text": [
      "  Line 4: que es merecio can regalados ca\n",
      "\n",
      "📄 Processing page 15\n"
     ]
    },
    {
     "data": {
      "text/plain": [
       "<Figure size 640x480 with 0 Axes>"
      ]
     },
     "metadata": {},
     "output_type": "display_data"
    },
    {
     "name": "stdout",
     "output_type": "stream",
     "text": [
      "  Line 1: y de Aquel\n"
     ]
    },
    {
     "data": {
      "text/plain": [
       "<Figure size 640x480 with 0 Axes>"
      ]
     },
     "metadata": {},
     "output_type": "display_data"
    },
    {
     "name": "stdout",
     "output_type": "stream",
     "text": [
      "  Line 2: Alfonso -\n"
     ]
    },
    {
     "data": {
      "text/plain": [
       "<Figure size 640x480 with 0 Axes>"
      ]
     },
     "metadata": {},
     "output_type": "display_data"
    },
    {
     "name": "stdout",
     "output_type": "stream",
     "text": [
      "  Line 3: y pues en la celestial Jerusalem\n"
     ]
    },
    {
     "data": {
      "text/plain": [
       "<Figure size 640x480 with 0 Axes>"
      ]
     },
     "metadata": {},
     "output_type": "display_data"
    },
    {
     "name": "stdout",
     "output_type": "stream",
     "text": [
      "  Line 4: salen no ha mudado de condicion\n"
     ]
    },
    {
     "data": {
      "text/plain": [
       "<Figure size 640x480 with 0 Axes>"
      ]
     },
     "metadata": {},
     "output_type": "display_data"
    },
    {
     "name": "stdout",
     "output_type": "stream",
     "text": [
      "  Line 5: vuestra Beniguidad, proleguid,\n",
      "\n",
      "📄 Processing page 16\n"
     ]
    },
    {
     "data": {
      "text/plain": [
       "<Figure size 640x480 with 0 Axes>"
      ]
     },
     "metadata": {},
     "output_type": "display_data"
    },
    {
     "name": "stdout",
     "output_type": "stream",
     "text": [
      "  Line 1: do Niño tierno, y Dios Eterno,\n"
     ]
    },
    {
     "data": {
      "text/plain": [
       "<Figure size 640x480 with 0 Axes>"
      ]
     },
     "metadata": {},
     "output_type": "display_data"
    },
    {
     "name": "stdout",
     "output_type": "stream",
     "text": [
      "  Line 2: proleguid en bendecirles, y favo -\n"
     ]
    },
    {
     "data": {
      "text/plain": [
       "<Figure size 640x480 with 0 Axes>"
      ]
     },
     "metadata": {},
     "output_type": "display_data"
    },
    {
     "name": "stdout",
     "output_type": "stream",
     "text": [
      "  Line 3: recerles. Sean tan fervorio la men\n"
     ]
    },
    {
     "data": {
      "text/plain": [
       "<Figure size 640x480 with 0 Axes>"
      ]
     },
     "metadata": {},
     "output_type": "display_data"
    },
    {
     "name": "stdout",
     "output_type": "stream",
     "text": [
      "  Line 4: te de vocos de vuestra Admirable\n",
      "\n",
      "📄 Processing page 17\n"
     ]
    },
    {
     "data": {
      "text/plain": [
       "<Figure size 640x480 with 0 Axes>"
      ]
     },
     "metadata": {},
     "output_type": "display_data"
    },
    {
     "name": "stdout",
     "output_type": "stream",
     "text": [
      "  Line 1: tos, que no entra vuestra sabi-\n"
     ]
    },
    {
     "data": {
      "text/plain": [
       "<Figure size 640x480 with 0 Axes>"
      ]
     },
     "metadata": {},
     "output_type": "display_data"
    },
    {
     "name": "stdout",
     "output_type": "stream",
     "text": [
      "  Line 2: daria, donde no ay mucha pure.\n"
     ]
    },
    {
     "data": {
      "text/plain": [
       "<Figure size 640x480 with 0 Axes>"
      ]
     },
     "metadata": {},
     "output_type": "display_data"
    },
    {
     "name": "stdout",
     "output_type": "stream",
     "text": [
      "  Line 3: era de conciencia. Ciercan en\n"
     ]
    },
    {
     "data": {
      "text/plain": [
       "<Figure size 640x480 with 0 Axes>"
      ]
     },
     "metadata": {},
     "output_type": "display_data"
    },
    {
     "name": "stdout",
     "output_type": "stream",
     "text": [
      "  Line 4: venestro santo temor, y amor, co-\n",
      "\n",
      "📄 Processing page 18\n"
     ]
    },
    {
     "data": {
      "text/plain": [
       "<Figure size 640x480 with 0 Axes>"
      ]
     },
     "metadata": {},
     "output_type": "display_data"
    },
    {
     "name": "stdout",
     "output_type": "stream",
     "text": [
      "  Line 1: como en los años, y mucho mas\n"
     ]
    },
    {
     "data": {
      "text/plain": [
       "<Figure size 640x480 with 0 Axes>"
      ]
     },
     "metadata": {},
     "output_type": "display_data"
    },
    {
     "name": "stdout",
     "output_type": "stream",
     "text": [
      "  Line 2: Adelanteñle en la virtud, como\n"
     ]
    },
    {
     "data": {
      "text/plain": [
       "<Figure size 640x480 with 0 Axes>"
      ]
     },
     "metadata": {},
     "output_type": "display_data"
    },
    {
     "name": "stdout",
     "output_type": "stream",
     "text": [
      "  Line 3: en las letras, y mucho mas, haf-\n"
     ]
    },
    {
     "data": {
      "text/plain": [
       "<Figure size 640x480 with 0 Axes>"
      ]
     },
     "metadata": {},
     "output_type": "display_data"
    },
    {
     "name": "stdout",
     "output_type": "stream",
     "text": [
      "  Line 4: tra que lleguen, por vuestra imi-\n",
      "\n",
      "📄 Processing page 19\n"
     ]
    },
    {
     "data": {
      "text/plain": [
       "<Figure size 640x480 with 0 Axes>"
      ]
     },
     "metadata": {},
     "output_type": "display_data"
    },
    {
     "name": "stdout",
     "output_type": "stream",
     "text": [
      "  Line 1: Alfonso -\n"
     ]
    },
    {
     "data": {
      "text/plain": [
       "<Figure size 640x480 with 0 Axes>"
      ]
     },
     "metadata": {},
     "output_type": "display_data"
    },
    {
     "name": "stdout",
     "output_type": "stream",
     "text": [
      "  Line 2: tacion, a ser varones perfectos,\n"
     ]
    },
    {
     "data": {
      "text/plain": [
       "<Figure size 640x480 with 0 Axes>"
      ]
     },
     "metadata": {},
     "output_type": "display_data"
    },
    {
     "name": "stdout",
     "output_type": "stream",
     "text": [
      "  Line 3: y con su mados, agradables a\n"
     ]
    },
    {
     "data": {
      "text/plain": [
       "<Figure size 640x480 with 0 Axes>"
      ]
     },
     "metadata": {},
     "output_type": "display_data"
    },
    {
     "name": "stdout",
     "output_type": "stream",
     "text": [
      "  Line 4: muestros ojos, y provechosos a\n"
     ]
    },
    {
     "data": {
      "text/plain": [
       "<Figure size 640x480 with 0 Axes>"
      ]
     },
     "metadata": {},
     "output_type": "display_data"
    },
    {
     "name": "stdout",
     "output_type": "stream",
     "text": [
      "  Line 5: la Republica, que libra casi co\n",
      "\n",
      "📄 Processing page 20\n"
     ]
    },
    {
     "data": {
      "text/plain": [
       "<Figure size 640x480 with 0 Axes>"
      ]
     },
     "metadata": {},
     "output_type": "display_data"
    },
    {
     "name": "stdout",
     "output_type": "stream",
     "text": [
      "  Line 1: da su feliridad en la acercada\n"
     ]
    },
    {
     "data": {
      "text/plain": [
       "<Figure size 640x480 with 0 Axes>"
      ]
     },
     "metadata": {},
     "output_type": "display_data"
    },
    {
     "name": "stdout",
     "output_type": "stream",
     "text": [
      "  Line 2: 63 ¶ 148 ¶\n",
      "\n",
      "📄 Processing page 21\n"
     ]
    },
    {
     "data": {
      "text/plain": [
       "<Figure size 640x480 with 0 Axes>"
      ]
     },
     "metadata": {},
     "output_type": "display_data"
    },
    {
     "name": "stdout",
     "output_type": "stream",
     "text": [
      "  Line 1: criarra de la Niñor. Assi leal\n"
     ]
    },
    {
     "data": {
      "text/plain": [
       "<Figure size 640x480 with 0 Axes>"
      ]
     },
     "metadata": {},
     "output_type": "display_data"
    },
    {
     "name": "stdout",
     "output_type": "stream",
     "text": [
      "  Line 2: Divinifsimo Niño, por vuestra\n"
     ]
    },
    {
     "data": {
      "text/plain": [
       "<Figure size 640x480 with 0 Axes>"
      ]
     },
     "metadata": {},
     "output_type": "display_data"
    },
    {
     "name": "stdout",
     "output_type": "stream",
     "text": [
      "  Line 3: gracia, assi lea, á vuestra mas\n"
     ]
    },
    {
     "data": {
      "text/plain": [
       "<Figure size 640x480 with 0 Axes>"
      ]
     },
     "metadata": {},
     "output_type": "display_data"
    },
    {
     "name": "stdout",
     "output_type": "stream",
     "text": [
      "  Line 4: y or gloria, Amen,\n",
      "\n",
      "📄 Processing page 22\n"
     ]
    },
    {
     "data": {
      "text/plain": [
       "<Figure size 640x480 with 0 Axes>"
      ]
     },
     "metadata": {},
     "output_type": "display_data"
    },
    {
     "name": "stdout",
     "output_type": "stream",
     "text": [
      "  Line 1: E el Osorio de De Compañia de fizorio, el casa\n"
     ]
    },
    {
     "data": {
      "text/plain": [
       "<Figure size 640x480 with 0 Axes>"
      ]
     },
     "metadata": {},
     "output_type": "display_data"
    },
    {
     "name": "stdout",
     "output_type": "stream",
     "text": [
      "  Line 2: E por ouo fue los Theodos de Coronningados\n",
      "\n",
      "📄 Processing page 23\n"
     ]
    },
    {
     "data": {
      "text/plain": [
       "<Figure size 640x480 with 0 Axes>"
      ]
     },
     "metadata": {},
     "output_type": "display_data"
    },
    {
     "name": "stdout",
     "output_type": "stream",
     "text": [
      "  Line 1: gel, y Barcelona, etc.\n"
     ]
    },
    {
     "data": {
      "text/plain": [
       "<Figure size 640x480 with 0 Axes>"
      ]
     },
     "metadata": {},
     "output_type": "display_data"
    },
    {
     "name": "stdout",
     "output_type": "stream",
     "text": [
      "  Line 2: Don sieta el rei don dixo\n",
      "\n",
      "📄 Processing page 24\n"
     ]
    },
    {
     "data": {
      "text/plain": [
       "<Figure size 640x480 with 0 Axes>"
      ]
     },
     "metadata": {},
     "output_type": "display_data"
    },
    {
     "name": "stdout",
     "output_type": "stream",
     "text": [
      "  Line 1: Alfonso alfonso a la tierra\n"
     ]
    },
    {
     "data": {
      "text/plain": [
       "<Figure size 640x480 with 0 Axes>"
      ]
     },
     "metadata": {},
     "output_type": "display_data"
    },
    {
     "name": "stdout",
     "output_type": "stream",
     "text": [
      "  Line 2: Vicaidad En el su sañor de la su dio qe señor\n"
     ]
    },
    {
     "data": {
      "text/plain": [
       "<Figure size 640x480 with 0 Axes>"
      ]
     },
     "metadata": {},
     "output_type": "display_data"
    },
    {
     "name": "stdout",
     "output_type": "stream",
     "text": [
      "  Line 3: D. Balthafar de Baltero y Lledo, Obispo\n"
     ]
    },
    {
     "data": {
      "text/plain": [
       "<Figure size 640x480 with 0 Axes>"
      ]
     },
     "metadata": {},
     "output_type": "display_data"
    },
    {
     "name": "stdout",
     "output_type": "stream",
     "text": [
      "  Line 4: de Gerona, del Consejo de su Magestad, de ca\n"
     ]
    },
    {
     "data": {
      "text/plain": [
       "<Figure size 640x480 with 0 Axes>"
      ]
     },
     "metadata": {},
     "output_type": "display_data"
    },
    {
     "name": "stderr",
     "output_type": "stream",
     "text": [
      "The channel dimension is ambiguous. Got image shape (1, 543, 3). Assuming channels are the first dimension.\n"
     ]
    },
    {
     "name": "stdout",
     "output_type": "stream",
     "text": [
      "  Line 5: He visto en librio, cuyo circulo es. Ensi\n",
      "\n",
      "📄 Processing page 25\n",
      "  Error processing line 1\n"
     ]
    },
    {
     "data": {
      "text/plain": [
       "<Figure size 640x480 with 0 Axes>"
      ]
     },
     "metadata": {},
     "output_type": "display_data"
    },
    {
     "name": "stdout",
     "output_type": "stream",
     "text": [
      "  Line 2: truccion de Christiana, y Politics Cortesay\n"
     ]
    },
    {
     "data": {
      "text/plain": [
       "<Figure size 640x480 with 0 Axes>"
      ]
     },
     "metadata": {},
     "output_type": "display_data"
    },
    {
     "name": "stdout",
     "output_type": "stream",
     "text": [
      "  Line 3: nia, etc. Su Author D. Eanto Agustin de\n"
     ]
    },
    {
     "data": {
      "text/plain": [
       "<Figure size 640x480 with 0 Axes>"
      ]
     },
     "metadata": {},
     "output_type": "display_data"
    },
    {
     "name": "stdout",
     "output_type": "stream",
     "text": [
      "  Line 4: Buendia, Colegial que fue en el Imperial\n"
     ]
    },
    {
     "data": {
      "text/plain": [
       "<Figure size 640x480 with 0 Axes>"
      ]
     },
     "metadata": {},
     "output_type": "display_data"
    },
    {
     "name": "stdout",
     "output_type": "stream",
     "text": [
      "  Line 5: de Cordellas, sec. Y brevemente digos\n"
     ]
    },
    {
     "data": {
      "text/plain": [
       "<Figure size 640x480 with 0 Axes>"
      ]
     },
     "metadata": {},
     "output_type": "display_data"
    },
    {
     "name": "stdout",
     "output_type": "stream",
     "text": [
      "  Line 6: no solo que nada contiene contra la Fe, Vi\n",
      "\n",
      "📄 Processing page 26\n"
     ]
    },
    {
     "data": {
      "text/plain": [
       "<Figure size 640x480 with 0 Axes>"
      ]
     },
     "metadata": {},
     "output_type": "display_data"
    },
    {
     "name": "stdout",
     "output_type": "stream",
     "text": [
      "  Line 1: buenas columbres, sino que muy aceno\n"
     ]
    },
    {
     "data": {
      "text/plain": [
       "<Figure size 640x480 with 0 Axes>"
      ]
     },
     "metadata": {},
     "output_type": "display_data"
    },
    {
     "name": "stdout",
     "output_type": "stream",
     "text": [
      "  Line 2: el Author con entrambas, describe, y en\n"
     ]
    },
    {
     "data": {
      "text/plain": [
       "<Figure size 640x480 with 0 Axes>"
      ]
     },
     "metadata": {},
     "output_type": "display_data"
    },
    {
     "name": "stdout",
     "output_type": "stream",
     "text": [
      "  Line 3: leha tan cuita, y discreteta la Virtud, co -\n"
     ]
    },
    {
     "data": {
      "text/plain": [
       "<Figure size 640x480 with 0 Axes>"
      ]
     },
     "metadata": {},
     "output_type": "display_data"
    },
    {
     "name": "stdout",
     "output_type": "stream",
     "text": [
      "  Line 4: mo lanca la Policia, y Urbandad. Los\n"
     ]
    },
    {
     "data": {
      "text/plain": [
       "<Figure size 640x480 with 0 Axes>"
      ]
     },
     "metadata": {},
     "output_type": "display_data"
    },
    {
     "name": "stdout",
     "output_type": "stream",
     "text": [
      "  Line 5: señoricos, que le criaron con estos do-\n",
      "\n",
      "📄 Processing page 27\n"
     ]
    },
    {
     "data": {
      "text/plain": [
       "<Figure size 640x480 with 0 Axes>"
      ]
     },
     "metadata": {},
     "output_type": "display_data"
    },
    {
     "name": "stdout",
     "output_type": "stream",
     "text": [
      "  Line 1: cumenços, mereceran, quando hombres,\n"
     ]
    },
    {
     "data": {
      "text/plain": [
       "<Figure size 640x480 with 0 Axes>"
      ]
     },
     "metadata": {},
     "output_type": "display_data"
    },
    {
     "name": "stdout",
     "output_type": "stream",
     "text": [
      "  Line 2: a ver nacido señores. Porque no solo la\n"
     ]
    },
    {
     "data": {
      "text/plain": [
       "<Figure size 640x480 with 0 Axes>"
      ]
     },
     "metadata": {},
     "output_type": "display_data"
    },
    {
     "name": "stdout",
     "output_type": "stream",
     "text": [
      "  Line 3: bran ser Caballeros, fino tambien á los\n"
     ]
    },
    {
     "data": {
      "text/plain": [
       "<Figure size 640x480 with 0 Axes>"
      ]
     },
     "metadata": {},
     "output_type": "display_data"
    },
    {
     "name": "stdout",
     "output_type": "stream",
     "text": [
      "  Line 4: Alfonso -\n",
      "\n",
      "📄 Processing page 28\n"
     ]
    },
    {
     "data": {
      "text/plain": [
       "<Figure size 640x480 with 0 Axes>"
      ]
     },
     "metadata": {},
     "output_type": "display_data"
    },
    {
     "name": "stdout",
     "output_type": "stream",
     "text": [
      "  Line 1: Caballero muy señorio, que codo lo, en el\n"
     ]
    },
    {
     "data": {
      "text/plain": [
       "<Figure size 640x480 with 0 Axes>"
      ]
     },
     "metadata": {},
     "output_type": "display_data"
    },
    {
     "name": "stdout",
     "output_type": "stream",
     "text": [
      "  Line 2: rece el Correlano Zelo del Author muchas\n"
     ]
    },
    {
     "data": {
      "text/plain": [
       "<Figure size 640x480 with 0 Axes>"
      ]
     },
     "metadata": {},
     "output_type": "display_data"
    },
    {
     "name": "stderr",
     "output_type": "stream",
     "text": [
      "The channel dimension is ambiguous. Got image shape (3, 538, 3). Assuming channels are the first dimension.\n"
     ]
    },
    {
     "name": "stdout",
     "output_type": "stream",
     "text": [
      "  Line 3: gracias de quantos le interellan en tan\n",
      "\n",
      "📄 Processing page 29\n"
     ]
    },
    {
     "data": {
      "text/plain": [
       "<Figure size 640x480 with 0 Axes>"
      ]
     },
     "metadata": {},
     "output_type": "display_data"
    },
    {
     "name": "stdout",
     "output_type": "stream",
     "text": [
      "  Line 1: Alfonso\n"
     ]
    },
    {
     "data": {
      "text/plain": [
       "<Figure size 640x480 with 0 Axes>"
      ]
     },
     "metadata": {},
     "output_type": "display_data"
    },
    {
     "name": "stdout",
     "output_type": "stream",
     "text": [
      "  Line 2: primorola, como recellaria educacion\n"
     ]
    },
    {
     "data": {
      "text/plain": [
       "<Figure size 640x480 with 0 Axes>"
      ]
     },
     "metadata": {},
     "output_type": "display_data"
    },
    {
     "name": "stdout",
     "output_type": "stream",
     "text": [
      "  Line 3: de la primera edad de los Nobles; de cuē\n"
     ]
    },
    {
     "data": {
      "text/plain": [
       "<Figure size 640x480 with 0 Axes>"
      ]
     },
     "metadata": {},
     "output_type": "display_data"
    },
    {
     "name": "stdout",
     "output_type": "stream",
     "text": [
      "  Line 4: yo acierto se derivala primera orlidad,\n"
     ]
    },
    {
     "data": {
      "text/plain": [
       "<Figure size 640x480 with 0 Axes>"
      ]
     },
     "metadata": {},
     "output_type": "display_data"
    },
    {
     "name": "stdout",
     "output_type": "stream",
     "text": [
      "  Line 5: y de coro a la Republica. Assi lo fien\n"
     ]
    },
    {
     "data": {
      "text/plain": [
       "<Figure size 640x480 with 0 Axes>"
      ]
     },
     "metadata": {},
     "output_type": "display_data"
    },
    {
     "name": "stdout",
     "output_type": "stream",
     "text": [
      "  Line 6: to, salvo, sec. En este Colegio de San\n",
      "\n",
      "📄 Processing page 30\n"
     ]
    },
    {
     "data": {
      "text/plain": [
       "<Figure size 640x480 with 0 Axes>"
      ]
     },
     "metadata": {},
     "output_type": "display_data"
    },
    {
     "name": "stdout",
     "output_type": "stream",
     "text": [
      "  Line 1: Martin de la Compañia de Jesus de Gero -\n"
     ]
    },
    {
     "data": {
      "text/plain": [
       "<Figure size 640x480 with 0 Axes>"
      ]
     },
     "metadata": {},
     "output_type": "display_data"
    },
    {
     "name": "stdout",
     "output_type": "stream",
     "text": [
      "  Line 2: na, a vs. de Julio de 1740.\n"
     ]
    },
    {
     "data": {
      "text/plain": [
       "<Figure size 640x480 with 0 Axes>"
      ]
     },
     "metadata": {},
     "output_type": "display_data"
    },
    {
     "name": "stdout",
     "output_type": "stream",
     "text": [
      "  Line 3: Antonio Godornis, de la\n"
     ]
    },
    {
     "data": {
      "text/plain": [
       "<Figure size 640x480 with 0 Axes>"
      ]
     },
     "metadata": {},
     "output_type": "display_data"
    },
    {
     "name": "stdout",
     "output_type": "stream",
     "text": [
      "  Line 4: 232 Compañia de Fesus.\n",
      "\n",
      "📄 Processing page 31\n"
     ]
    },
    {
     "data": {
      "text/plain": [
       "<Figure size 640x480 with 0 Axes>"
      ]
     },
     "metadata": {},
     "output_type": "display_data"
    },
    {
     "name": "stdout",
     "output_type": "stream",
     "text": [
      "  Line 1: Dle vs. Fulli,. 148. ¶.\n"
     ]
    },
    {
     "data": {
      "text/plain": [
       "<Figure size 640x480 with 0 Axes>"
      ]
     },
     "metadata": {},
     "output_type": "display_data"
    },
    {
     "name": "stdout",
     "output_type": "stream",
     "text": [
      "  Line 2: Amprimatur\n"
     ]
    },
    {
     "data": {
      "text/plain": [
       "<Figure size 640x480 with 0 Axes>"
      ]
     },
     "metadata": {},
     "output_type": "display_data"
    },
    {
     "name": "stdout",
     "output_type": "stream",
     "text": [
      "  Line 3: De Bostero Vie. Gen. E Offis.\n",
      "\n",
      "📄 Processing page 32\n"
     ]
    },
    {
     "data": {
      "text/plain": [
       "<Figure size 640x480 with 0 Axes>"
      ]
     },
     "metadata": {},
     "output_type": "display_data"
    },
    {
     "name": "stdout",
     "output_type": "stream",
     "text": [
      "  Line 1: Censora del R. P. mariano al bra\n"
     ]
    },
    {
     "data": {
      "text/plain": [
       "<Figure size 640x480 with 0 Axes>"
      ]
     },
     "metadata": {},
     "output_type": "display_data"
    },
    {
     "name": "stdout",
     "output_type": "stream",
     "text": [
      "  Line 2: rich de la Compañia de Fesus, Cathedral\n"
     ]
    },
    {
     "data": {
      "text/plain": [
       "<Figure size 640x480 with 0 Axes>"
      ]
     },
     "metadata": {},
     "output_type": "display_data"
    },
    {
     "name": "stdout",
     "output_type": "stream",
     "text": [
      "  Line 3: tico antes de Theologicia en el Colegio de\n"
     ]
    },
    {
     "data": {
      "text/plain": [
       "<Figure size 640x480 with 0 Axes>"
      ]
     },
     "metadata": {},
     "output_type": "display_data"
    },
    {
     "name": "stdout",
     "output_type": "stream",
     "text": [
      "  Line 4: Borcelona, ( oy Prefecto de sus E fu dios\n",
      "\n",
      "📄 Processing page 33\n"
     ]
    },
    {
     "data": {
      "text/plain": [
       "<Figure size 640x480 with 0 Axes>"
      ]
     },
     "metadata": {},
     "output_type": "display_data"
    },
    {
     "name": "stdout",
     "output_type": "stream",
     "text": [
      "  Line 1: Rotor que fue del Colegio de Cordellas, y\n"
     ]
    },
    {
     "data": {
      "text/plain": [
       "<Figure size 640x480 with 0 Axes>"
      ]
     },
     "metadata": {},
     "output_type": "display_data"
    },
    {
     "name": "stdout",
     "output_type": "stream",
     "text": [
      "  Line 2: de Gerona, Calificador del Santo Osicio,\n"
     ]
    },
    {
     "data": {
      "text/plain": [
       "<Figure size 640x480 with 0 Axes>"
      ]
     },
     "metadata": {},
     "output_type": "display_data"
    },
    {
     "name": "stdout",
     "output_type": "stream",
     "text": [
      "  Line 3: Examinador Syndal de muchos Obispo.\n"
     ]
    },
    {
     "data": {
      "text/plain": [
       "<Figure size 640x480 with 0 Axes>"
      ]
     },
     "metadata": {},
     "output_type": "display_data"
    },
    {
     "name": "stdout",
     "output_type": "stream",
     "text": [
      "  Line 4: los dos oyo. e los moros cauieron\n",
      "\n",
      "📄 Processing page 34\n"
     ]
    },
    {
     "data": {
      "text/plain": [
       "<Figure size 640x480 with 0 Axes>"
      ]
     },
     "metadata": {},
     "output_type": "display_data"
    },
    {
     "name": "stdout",
     "output_type": "stream",
     "text": [
      "  Line 1: M. P. S.\n"
     ]
    },
    {
     "data": {
      "text/plain": [
       "<Figure size 640x480 with 0 Axes>"
      ]
     },
     "metadata": {},
     "output_type": "display_data"
    },
    {
     "name": "stdout",
     "output_type": "stream",
     "text": [
      "  Line 2: dE orden de V. A he visto el librio //\n"
     ]
    },
    {
     "data": {
      "text/plain": [
       "<Figure size 640x480 with 0 Axes>"
      ]
     },
     "metadata": {},
     "output_type": "display_data"
    },
    {
     "name": "stdout",
     "output_type": "stream",
     "text": [
      "  Line 3: L que con el titulo de Politics, y Chris.\n"
     ]
    },
    {
     "data": {
      "text/plain": [
       "<Figure size 640x480 with 0 Axes>"
      ]
     },
     "metadata": {},
     "output_type": "display_data"
    },
    {
     "name": "stdout",
     "output_type": "stream",
     "text": [
      "  Line 4: tiana Cortesania, etc. de lea lacar a lue el\n",
      "\n",
      "📄 Processing page 35\n"
     ]
    },
    {
     "data": {
      "text/plain": [
       "<Figure size 640x480 with 0 Axes>"
      ]
     },
     "metadata": {},
     "output_type": "display_data"
    },
    {
     "name": "stdout",
     "output_type": "stream",
     "text": [
      "  Line 1: Alfonso a qe moros e toledo de los de los de\n"
     ]
    },
    {
     "data": {
      "text/plain": [
       "<Figure size 640x480 with 0 Axes>"
      ]
     },
     "metadata": {},
     "output_type": "display_data"
    },
    {
     "name": "stdout",
     "output_type": "stream",
     "text": [
      "  Line 2: señor D. Fanto Agullin de Buendia, pa\n"
     ]
    },
    {
     "data": {
      "text/plain": [
       "<Figure size 640x480 with 0 Axes>"
      ]
     },
     "metadata": {},
     "output_type": "display_data"
    },
    {
     "name": "stdout",
     "output_type": "stream",
     "text": [
      "  Line 3: ra darle a todos con el concierto, que prele\n"
     ]
    },
    {
     "data": {
      "text/plain": [
       "<Figure size 640x480 with 0 Axes>"
      ]
     },
     "metadata": {},
     "output_type": "display_data"
    },
    {
     "name": "stdout",
     "output_type": "stream",
     "text": [
      "  Line 4: cribe para las operaciones, que cada umo\n"
     ]
    },
    {
     "data": {
      "text/plain": [
       "<Figure size 640x480 with 0 Axes>"
      ]
     },
     "metadata": {},
     "output_type": "display_data"
    },
    {
     "name": "stdout",
     "output_type": "stream",
     "text": [
      "  Line 5: de he practicar, desde el officimiento de\n",
      "\n",
      "📄 Processing page 36\n"
     ]
    },
    {
     "data": {
      "text/plain": [
       "<Figure size 640x480 with 0 Axes>"
      ]
     },
     "metadata": {},
     "output_type": "display_data"
    },
    {
     "name": "stdout",
     "output_type": "stream",
     "text": [
      "  Line 1: pus. Perduciera qe de los el rei dixoles de\n"
     ]
    },
    {
     "data": {
      "text/plain": [
       "<Figure size 640x480 with 0 Axes>"
      ]
     },
     "metadata": {},
     "output_type": "display_data"
    },
    {
     "name": "stdout",
     "output_type": "stream",
     "text": [
      "  Line 2: las obras por la mañana, hasta el examen\n"
     ]
    },
    {
     "data": {
      "text/plain": [
       "<Figure size 640x480 with 0 Axes>"
      ]
     },
     "metadata": {},
     "output_type": "display_data"
    },
    {
     "name": "stdout",
     "output_type": "stream",
     "text": [
      "  Line 3: de la conciencia, Ultima diligentia, que\n"
     ]
    },
    {
     "data": {
      "text/plain": [
       "<Figure size 640x480 with 0 Axes>"
      ]
     },
     "metadata": {},
     "output_type": "display_data"
    },
    {
     "name": "stdout",
     "output_type": "stream",
     "text": [
      "  Line 4: de be cerrar nuestras carcas, antes de con -\n"
     ]
    },
    {
     "data": {
      "text/plain": [
       "<Figure size 640x480 with 0 Axes>"
      ]
     },
     "metadata": {},
     "output_type": "display_data"
    },
    {
     "name": "stdout",
     "output_type": "stream",
     "text": [
      "  Line 5: ceder al cuerpo el debido descaño, para\n",
      "\n",
      "📄 Processing page 37\n"
     ]
    },
    {
     "data": {
      "text/plain": [
       "<Figure size 640x480 with 0 Axes>"
      ]
     },
     "metadata": {},
     "output_type": "display_data"
    },
    {
     "name": "stdout",
     "output_type": "stream",
     "text": [
      "  Line 1: tomarnos diariameme cuenta de todas las\n"
     ]
    },
    {
     "data": {
      "text/plain": [
       "<Figure size 640x480 with 0 Axes>"
      ]
     },
     "metadata": {},
     "output_type": "display_data"
    },
    {
     "name": "stdout",
     "output_type": "stream",
     "text": [
      "  Line 2: partidas del cargo, y del cargo, como la\n",
      "\n",
      "📄 Processing page 38\n"
     ]
    },
    {
     "data": {
      "text/plain": [
       "<Figure size 640x480 with 0 Axes>"
      ]
     },
     "metadata": {},
     "output_type": "display_data"
    },
    {
     "name": "stdout",
     "output_type": "stream",
     "text": [
      "  Line 1: hemos de dar en otro mas severo cribuā\n"
     ]
    },
    {
     "data": {
      "text/plain": [
       "<Figure size 640x480 with 0 Axes>"
      ]
     },
     "metadata": {},
     "output_type": "display_data"
    },
    {
     "name": "stdout",
     "output_type": "stream",
     "text": [
      "  Line 2: nal. Quien a este pequeño volumen mī\n"
     ]
    },
    {
     "data": {
      "text/plain": [
       "<Figure size 640x480 with 0 Axes>"
      ]
     },
     "metadata": {},
     "output_type": "display_data"
    },
    {
     "name": "stdout",
     "output_type": "stream",
     "text": [
      "  Line 3: diere por el cuerpo, no le dara la esima\n"
     ]
    },
    {
     "data": {
      "text/plain": [
       "<Figure size 640x480 with 0 Axes>"
      ]
     },
     "metadata": {},
     "output_type": "display_data"
    },
    {
     "name": "stdout",
     "output_type": "stream",
     "text": [
      "  Line 4: cion, que le merece: pero quien a tendie\n",
      "\n",
      "📄 Processing page 39\n"
     ]
    },
    {
     "data": {
      "text/plain": [
       "<Figure size 640x480 with 0 Axes>"
      ]
     },
     "metadata": {},
     "output_type": "display_data"
    },
    {
     "name": "stdout",
     "output_type": "stream",
     "text": [
      "  Line 1: rre a la mucha alma, que encierra, forma\n"
     ]
    },
    {
     "data": {
      "text/plain": [
       "<Figure size 640x480 with 0 Axes>"
      ]
     },
     "metadata": {},
     "output_type": "display_data"
    },
    {
     "name": "stdout",
     "output_type": "stream",
     "text": [
      "  Line 2: ria el debido concepto de su preciobdad.\n"
     ]
    },
    {
     "data": {
      "text/plain": [
       "<Figure size 640x480 with 0 Axes>"
      ]
     },
     "metadata": {},
     "output_type": "display_data"
    },
    {
     "name": "stdout",
     "output_type": "stream",
     "text": [
      "  Line 3: Colas ay, que se celebran por lo a gigan -\n"
     ]
    },
    {
     "data": {
      "text/plain": [
       "<Figure size 640x480 with 0 Axes>"
      ]
     },
     "metadata": {},
     "output_type": "display_data"
    },
    {
     "name": "stderr",
     "output_type": "stream",
     "text": [
      "The channel dimension is ambiguous. Got image shape (3, 538, 3). Assuming channels are the first dimension.\n"
     ]
    },
    {
     "name": "stdout",
     "output_type": "stream",
     "text": [
      "  Line 4: tado, como el Cololo. y las ay tambien,\n",
      "\n",
      "📄 Processing page 40\n"
     ]
    },
    {
     "data": {
      "text/plain": [
       "<Figure size 640x480 with 0 Axes>"
      ]
     },
     "metadata": {},
     "output_type": "display_data"
    },
    {
     "name": "stdout",
     "output_type": "stream",
     "text": [
      "  Line 1: Alfonso -\n"
     ]
    },
    {
     "data": {
      "text/plain": [
       "<Figure size 640x480 with 0 Axes>"
      ]
     },
     "metadata": {},
     "output_type": "display_data"
    },
    {
     "name": "stdout",
     "output_type": "stream",
     "text": [
      "  Line 2: como el Nuño de Bruco, que tuyieron\n"
     ]
    },
    {
     "data": {
      "text/plain": [
       "<Figure size 640x480 with 0 Axes>"
      ]
     },
     "metadata": {},
     "output_type": "display_data"
    },
    {
     "name": "stdout",
     "output_type": "stream",
     "text": [
      "  Line 3: Eugal aplado, por auer redicido casi a\n"
     ]
    },
    {
     "data": {
      "text/plain": [
       "<Figure size 640x480 with 0 Axes>"
      ]
     },
     "metadata": {},
     "output_type": "display_data"
    },
    {
     "name": "stdout",
     "output_type": "stream",
     "text": [
      "  Line 4: puntos indivisibles todo el arcilicio de\n"
     ]
    },
    {
     "data": {
      "text/plain": [
       "<Figure size 640x480 with 0 Axes>"
      ]
     },
     "metadata": {},
     "output_type": "display_data"
    },
    {
     "name": "stdout",
     "output_type": "stream",
     "text": [
      "  Line 5: cosas grandes. Assi ay Authors, que\n",
      "\n",
      "📄 Processing page 41\n"
     ]
    },
    {
     "data": {
      "text/plain": [
       "<Figure size 640x480 with 0 Axes>"
      ]
     },
     "metadata": {},
     "output_type": "display_data"
    },
    {
     "name": "stdout",
     "output_type": "stream",
     "text": [
      "  Line 1: y de los Aquel pueblos y los moros\n"
     ]
    },
    {
     "data": {
      "text/plain": [
       "<Figure size 640x480 with 0 Axes>"
      ]
     },
     "metadata": {},
     "output_type": "display_data"
    },
    {
     "name": "stdout",
     "output_type": "stream",
     "text": [
      "  Line 2: chan llenado de libros grandes los estan-\n"
     ]
    },
    {
     "data": {
      "text/plain": [
       "<Figure size 640x480 with 0 Axes>"
      ]
     },
     "metadata": {},
     "output_type": "display_data"
    },
    {
     "name": "stdout",
     "output_type": "stream",
     "text": [
      "  Line 3: res, acredicandole hasta con el oro, que\n"
     ]
    },
    {
     "data": {
      "text/plain": [
       "<Figure size 640x480 with 0 Axes>"
      ]
     },
     "metadata": {},
     "output_type": "display_data"
    },
    {
     "name": "stdout",
     "output_type": "stream",
     "text": [
      "  Line 4: lace en sus cubiertas. otros, con no\n"
     ]
    },
    {
     "data": {
      "text/plain": [
       "<Figure size 640x480 with 0 Axes>"
      ]
     },
     "metadata": {},
     "output_type": "display_data"
    },
    {
     "name": "stdout",
     "output_type": "stream",
     "text": [
      "  Line 5: menor a cierto, han dado a lur libritos mas\n",
      "\n",
      "📄 Processing page 42\n"
     ]
    },
    {
     "data": {
      "text/plain": [
       "<Figure size 640x480 with 0 Axes>"
      ]
     },
     "metadata": {},
     "output_type": "display_data"
    },
    {
     "name": "stdout",
     "output_type": "stream",
     "text": [
      "  Line 1: familiares, que le dexan trarar a todas\n"
     ]
    },
    {
     "data": {
      "text/plain": [
       "<Figure size 640x480 with 0 Axes>"
      ]
     },
     "metadata": {},
     "output_type": "display_data"
    },
    {
     "name": "stdout",
     "output_type": "stream",
     "text": [
      "  Line 2: moras, compañeros imperables de sus\n"
     ]
    },
    {
     "data": {
      "text/plain": [
       "<Figure size 640x480 with 0 Axes>"
      ]
     },
     "metadata": {},
     "output_type": "display_data"
    },
    {
     "name": "stdout",
     "output_type": "stream",
     "text": [
      "  Line 3: dueños, los quales ya en las cubiertas\n"
     ]
    },
    {
     "data": {
      "text/plain": [
       "<Figure size 640x480 with 0 Axes>"
      ]
     },
     "metadata": {},
     "output_type": "display_data"
    },
    {
     "name": "stdout",
     "output_type": "stream",
     "text": [
      "  Line 4: llevan aquella inscription, o el ogio, que\n",
      "\n",
      "📄 Processing page 43\n"
     ]
    },
    {
     "data": {
      "text/plain": [
       "<Figure size 640x480 with 0 Axes>"
      ]
     },
     "metadata": {},
     "output_type": "display_data"
    },
    {
     "name": "stdout",
     "output_type": "stream",
     "text": [
      "  Line 1: dio el acumino lo Marcial a sus escritos.\n"
     ]
    },
    {
     "data": {
      "text/plain": [
       "<Figure size 640x480 with 0 Axes>"
      ]
     },
     "metadata": {},
     "output_type": "display_data"
    },
    {
     "name": "stdout",
     "output_type": "stream",
     "text": [
      "  Line 2: Me manus una capit. Y como feria ne\n"
     ]
    },
    {
     "data": {
      "text/plain": [
       "<Figure size 640x480 with 0 Axes>"
      ]
     },
     "metadata": {},
     "output_type": "display_data"
    },
    {
     "name": "stdout",
     "output_type": "stream",
     "text": [
      "  Line 3: cedad, querer eltimar el valor de el dia\n"
     ]
    },
    {
     "data": {
      "text/plain": [
       "<Figure size 640x480 with 0 Axes>"
      ]
     },
     "metadata": {},
     "output_type": "display_data"
    },
    {
     "name": "stdout",
     "output_type": "stream",
     "text": [
      "  Line 4: mente, antes por la grandera, que no\n",
      "\n",
      "📄 Processing page 44\n"
     ]
    },
    {
     "data": {
      "text/plain": [
       "<Figure size 640x480 with 0 Axes>"
      ]
     },
     "metadata": {},
     "output_type": "display_data"
    },
    {
     "name": "stdout",
     "output_type": "stream",
     "text": [
      "  Line 1: y el rei don siempe por el pueblo y\n"
     ]
    },
    {
     "data": {
      "text/plain": [
       "<Figure size 640x480 with 0 Axes>"
      ]
     },
     "metadata": {},
     "output_type": "display_data"
    },
    {
     "name": "stdout",
     "output_type": "stream",
     "text": [
      "  Line 2: tiene, que por los fondos, con que le\n"
     ]
    },
    {
     "data": {
      "text/plain": [
       "<Figure size 640x480 with 0 Axes>"
      ]
     },
     "metadata": {},
     "output_type": "display_data"
    },
    {
     "name": "stdout",
     "output_type": "stream",
     "text": [
      "  Line 3: huerta al sol los rayos en la precida bri-\n"
     ]
    },
    {
     "data": {
      "text/plain": [
       "<Figure size 640x480 with 0 Axes>"
      ]
     },
     "metadata": {},
     "output_type": "display_data"
    },
    {
     "name": "stdout",
     "output_type": "stream",
     "text": [
      "  Line 4: llanter de sus reflexos. Assi lo seria no\n"
     ]
    },
    {
     "data": {
      "text/plain": [
       "<Figure size 640x480 with 0 Axes>"
      ]
     },
     "metadata": {},
     "output_type": "display_data"
    },
    {
     "name": "stderr",
     "output_type": "stream",
     "text": [
      "The channel dimension is ambiguous. Got image shape (3, 536, 3). Assuming channels are the first dimension.\n"
     ]
    },
    {
     "name": "stdout",
     "output_type": "stream",
     "text": [
      "  Line 5: colocar entre las joyas de mayor precio\n"
     ]
    },
    {
     "data": {
      "text/plain": [
       "<Figure size 640x480 with 0 Axes>"
      ]
     },
     "metadata": {},
     "output_type": "display_data"
    },
    {
     "name": "stdout",
     "output_type": "stream",
     "text": [
      "  Line 6: Alfonso -\n",
      "\n",
      "📄 Processing page 45\n",
      "\n",
      "📄 Processing page 46\n",
      "\n",
      "📄 Processing page 47\n",
      "\n",
      "📄 Processing page 48\n"
     ]
    },
    {
     "data": {
      "text/plain": [
       "<Figure size 640x480 with 0 Axes>"
      ]
     },
     "metadata": {},
     "output_type": "display_data"
    },
    {
     "name": "stdout",
     "output_type": "stream",
     "text": [
      "  Line 1: pre, de ccc. Barcelona, y Junio 14. de.178\n"
     ]
    },
    {
     "data": {
      "text/plain": [
       "<Figure size 640x480 with 0 Axes>"
      ]
     },
     "metadata": {},
     "output_type": "display_data"
    },
    {
     "name": "stdout",
     "output_type": "stream",
     "text": [
      "  Line 2: l M Mariano Alberich de la\n"
     ]
    },
    {
     "data": {
      "text/plain": [
       "<Figure size 640x480 with 0 Axes>"
      ]
     },
     "metadata": {},
     "output_type": "display_data"
    },
    {
     "name": "stdout",
     "output_type": "stream",
     "text": [
      "  Line 3: 232 Compañia de fesus.\n",
      "\n",
      "📄 Processing page 49\n"
     ]
    },
    {
     "data": {
      "text/plain": [
       "<Figure size 640x480 with 0 Axes>"
      ]
     },
     "metadata": {},
     "output_type": "display_data"
    },
    {
     "name": "stdout",
     "output_type": "stream",
     "text": [
      "  Line 1: auna del Privilegio.\n"
     ]
    },
    {
     "data": {
      "text/plain": [
       "<Figure size 640x480 with 0 Axes>"
      ]
     },
     "metadata": {},
     "output_type": "display_data"
    },
    {
     "name": "stdout",
     "output_type": "stream",
     "text": [
      "  Line 2: Elfonso dio Aglesia de la Maglesia Don\n",
      "\n",
      "📄 Processing page 50\n"
     ]
    },
    {
     "data": {
      "text/plain": [
       "<Figure size 640x480 with 0 Axes>"
      ]
     },
     "metadata": {},
     "output_type": "display_data"
    },
    {
     "name": "stdout",
     "output_type": "stream",
     "text": [
      "  Line 1: petiridad Con el suffruccion de Christiania y\n"
     ]
    },
    {
     "data": {
      "text/plain": [
       "<Figure size 640x480 with 0 Axes>"
      ]
     },
     "metadata": {},
     "output_type": "display_data"
    },
    {
     "name": "stdout",
     "output_type": "stream",
     "text": [
      "  Line 2: te concta de su original. Madrid, y Julio\n"
     ]
    },
    {
     "data": {
      "text/plain": [
       "<Figure size 640x480 with 0 Axes>"
      ]
     },
     "metadata": {},
     "output_type": "display_data"
    },
    {
     "name": "stdout",
     "output_type": "stream",
     "text": [
      "  Line 3: ña 8 de r740. e dixo a\n",
      "\n",
      "📄 Processing page 51\n"
     ]
    },
    {
     "data": {
      "text/plain": [
       "<Figure size 640x480 with 0 Axes>"
      ]
     },
     "metadata": {},
     "output_type": "display_data"
    },
    {
     "name": "stdout",
     "output_type": "stream",
     "text": [
      "  Line 1: d DePro Manuel de Contreras.\n"
     ]
    },
    {
     "data": {
      "text/plain": [
       "<Figure size 640x480 with 0 Axes>"
      ]
     },
     "metadata": {},
     "output_type": "display_data"
    },
    {
     "name": "stdout",
     "output_type": "stream",
     "text": [
      "  Line 2: y el rei don siempre el rei don siempre el rei don siempe\n"
     ]
    },
    {
     "data": {
      "text/plain": [
       "<Figure size 640x480 with 0 Axes>"
      ]
     },
     "metadata": {},
     "output_type": "display_data"
    },
    {
     "name": "stdout",
     "output_type": "stream",
     "text": [
      "  Line 3: 63 ¶ T A S A Agora\n"
     ]
    },
    {
     "data": {
      "text/plain": [
       "<Figure size 640x480 with 0 Axes>"
      ]
     },
     "metadata": {},
     "output_type": "display_data"
    },
    {
     "name": "stdout",
     "output_type": "stream",
     "text": [
      "  Line 4: T Alaron los Señores del Consejo este\n"
     ]
    },
    {
     "data": {
      "text/plain": [
       "<Figure size 640x480 with 0 Axes>"
      ]
     },
     "metadata": {},
     "output_type": "display_data"
    },
    {
     "name": "stdout",
     "output_type": "stream",
     "text": [
      "  Line 5: s Libro,inticolado. Inferuccion de\n",
      "\n",
      "📄 Processing page 52\n"
     ]
    },
    {
     "data": {
      "text/plain": [
       "<Figure size 640x480 with 0 Axes>"
      ]
     },
     "metadata": {},
     "output_type": "display_data"
    },
    {
     "name": "stdout",
     "output_type": "stream",
     "text": [
      "  Line 1: Christiana, y Politics Cortesania, a leis\n"
     ]
    },
    {
     "data": {
      "text/plain": [
       "<Figure size 640x480 with 0 Axes>"
      ]
     },
     "metadata": {},
     "output_type": "display_data"
    },
    {
     "name": "stdout",
     "output_type": "stream",
     "text": [
      "  Line 2: mugaredis de dios llego doño reina de dios\n"
     ]
    },
    {
     "data": {
      "text/plain": [
       "<Figure size 640x480 with 0 Axes>"
      ]
     },
     "metadata": {},
     "output_type": "display_data"
    },
    {
     "name": "stdout",
     "output_type": "stream",
     "text": [
      "  Line 3: d De Pedro Manuel de Contreras.\n",
      "\n",
      "📄 Processing page 53\n"
     ]
    },
    {
     "data": {
      "text/plain": [
       "<Figure size 640x480 with 0 Axes>"
      ]
     },
     "metadata": {},
     "output_type": "display_data"
    },
    {
     "name": "stdout",
     "output_type": "stream",
     "text": [
      "  Line 1: el rei don sancho e el rei don sancho el rei don grā\n"
     ]
    },
    {
     "data": {
      "text/plain": [
       "<Figure size 640x480 with 0 Axes>"
      ]
     },
     "metadata": {},
     "output_type": "display_data"
    },
    {
     "name": "stdout",
     "output_type": "stream",
     "text": [
      "  Line 2: Pee de Erraras.\n"
     ]
    },
    {
     "data": {
      "text/plain": [
       "<Figure size 640x480 with 0 Axes>"
      ]
     },
     "metadata": {},
     "output_type": "display_data"
    },
    {
     "name": "stdout",
     "output_type": "stream",
     "text": [
      "  Line 3: sse libro, inclado. Instruction de\n"
     ]
    },
    {
     "data": {
      "text/plain": [
       "<Figure size 640x480 with 0 Axes>"
      ]
     },
     "metadata": {},
     "output_type": "display_data"
    },
    {
     "name": "stdout",
     "output_type": "stream",
     "text": [
      "  Line 4: Christiana, y Politics Cortesania, cor-\n",
      "\n",
      "📄 Processing page 54\n"
     ]
    },
    {
     "data": {
      "text/plain": [
       "<Figure size 640x480 with 0 Axes>"
      ]
     },
     "metadata": {},
     "output_type": "display_data"
    },
    {
     "name": "stdout",
     "output_type": "stream",
     "text": [
      "  Line 1: responde en rodo con su original. Madrid\n"
     ]
    },
    {
     "data": {
      "text/plain": [
       "<Figure size 640x480 with 0 Axes>"
      ]
     },
     "metadata": {},
     "output_type": "display_data"
    },
    {
     "name": "stdout",
     "output_type": "stream",
     "text": [
      "  Line 2: ña ro, de Agollo de 1740. E\n",
      "\n",
      "📄 Processing page 55\n"
     ]
    },
    {
     "data": {
      "text/plain": [
       "<Figure size 640x480 with 0 Axes>"
      ]
     },
     "metadata": {},
     "output_type": "display_data"
    },
    {
     "name": "stdout",
     "output_type": "stream",
     "text": [
      "  Line 1: Lis. Du Manuel Licardo de Ribera y\n"
     ]
    },
    {
     "data": {
      "text/plain": [
       "<Figure size 640x480 with 0 Axes>"
      ]
     },
     "metadata": {},
     "output_type": "display_data"
    },
    {
     "name": "stdout",
     "output_type": "stream",
     "text": [
      "  Line 2: Correct. Gen. por su Magestad.\n"
     ]
    },
    {
     "data": {
      "text/plain": [
       "<Figure size 640x480 with 0 Axes>"
      ]
     },
     "metadata": {},
     "output_type": "display_data"
    },
    {
     "name": "stdout",
     "output_type": "stream",
     "text": [
      "  Line 3: 50 ¶. Moña\n",
      "\n",
      "📄 Processing page 56\n"
     ]
    },
    {
     "data": {
      "text/plain": [
       "<Figure size 640x480 with 0 Axes>"
      ]
     },
     "metadata": {},
     "output_type": "display_data"
    },
    {
     "name": "stdout",
     "output_type": "stream",
     "text": [
      "  Line 1: mo rivo del author, e razon\n"
     ]
    },
    {
     "data": {
      "text/plain": [
       "<Figure size 640x480 with 0 Axes>"
      ]
     },
     "metadata": {},
     "output_type": "display_data"
    },
    {
     "name": "stdout",
     "output_type": "stream",
     "text": [
      "  Line 2: 73 de la Obra. E el reino\n",
      "\n",
      "📄 Processing page 57\n"
     ]
    },
    {
     "data": {
      "text/plain": [
       "<Figure size 640x480 with 0 Axes>"
      ]
     },
     "metadata": {},
     "output_type": "display_data"
    },
    {
     "name": "stdout",
     "output_type": "stream",
     "text": [
      "  Line 1: A de vocion, y afecto, que desde mis\n"
     ]
    },
    {
     "data": {
      "text/plain": [
       "<Figure size 640x480 with 0 Axes>"
      ]
     },
     "metadata": {},
     "output_type": "display_data"
    },
    {
     "name": "stdout",
     "output_type": "stream",
     "text": [
      "  Line 2: tiernos años professe a la Sagrada\n",
      "\n",
      "📄 Processing page 58\n"
     ]
    },
    {
     "data": {
      "text/plain": [
       "<Figure size 640x480 with 0 Axes>"
      ]
     },
     "metadata": {},
     "output_type": "display_data"
    },
    {
     "name": "stdout",
     "output_type": "stream",
     "text": [
      "  Line 1: Religión de la Compañia de Jesus, y la\n"
     ]
    },
    {
     "data": {
      "text/plain": [
       "<Figure size 640x480 with 0 Axes>"
      ]
     },
     "metadata": {},
     "output_type": "display_data"
    },
    {
     "name": "stdout",
     "output_type": "stream",
     "text": [
      "  Line 2: professare eternamente, como hijo el mas\n"
     ]
    },
    {
     "data": {
      "text/plain": [
       "<Figure size 640x480 with 0 Axes>"
      ]
     },
     "metadata": {},
     "output_type": "display_data"
    },
    {
     "name": "stdout",
     "output_type": "stream",
     "text": [
      "  Line 3: re conocido a tan escogida Madre. e me\n"
     ]
    },
    {
     "data": {
      "text/plain": [
       "<Figure size 640x480 with 0 Axes>"
      ]
     },
     "metadata": {},
     "output_type": "display_data"
    },
    {
     "name": "stdout",
     "output_type": "stream",
     "text": [
      "  Line 4: obligo a el cririr, y dar a la Estampa esta\n",
      "\n",
      "📄 Processing page 59\n"
     ]
    },
    {
     "data": {
      "text/plain": [
       "<Figure size 640x480 with 0 Axes>"
      ]
     },
     "metadata": {},
     "output_type": "display_data"
    },
    {
     "name": "stdout",
     "output_type": "stream",
     "text": [
      "  Line 1: Infinacion para lus señores Colegiales,\n"
     ]
    },
    {
     "data": {
      "text/plain": [
       "<Figure size 640x480 with 0 Axes>"
      ]
     },
     "metadata": {},
     "output_type": "display_data"
    },
    {
     "name": "stdout",
     "output_type": "stream",
     "text": [
      "  Line 2: sin que por esso le niegue a lervir a los de\n"
     ]
    },
    {
     "data": {
      "text/plain": [
       "<Figure size 640x480 with 0 Axes>"
      ]
     },
     "metadata": {},
     "output_type": "display_data"
    },
    {
     "name": "stdout",
     "output_type": "stream",
     "text": [
      "  Line 3: mas señoricos, que no lo fueren. Y aun\n"
     ]
    },
    {
     "data": {
      "text/plain": [
       "<Figure size 640x480 with 0 Axes>"
      ]
     },
     "metadata": {},
     "output_type": "display_data"
    },
    {
     "name": "stdout",
     "output_type": "stream",
     "text": [
      "  Line 4: que la Compañia, mas por su conocida\n",
      "\n",
      "📄 Processing page 60\n"
     ]
    },
    {
     "data": {
      "text/plain": [
       "<Figure size 640x480 with 0 Axes>"
      ]
     },
     "metadata": {},
     "output_type": "display_data"
    },
    {
     "name": "stdout",
     "output_type": "stream",
     "text": [
      "  Line 1: erencion, que por el meriro, que yo no\n"
     ]
    },
    {
     "data": {
      "text/plain": [
       "<Figure size 640x480 with 0 Axes>"
      ]
     },
     "metadata": {},
     "output_type": "display_data"
    },
    {
     "name": "stdout",
     "output_type": "stream",
     "text": [
      "  Line 2: tiengo, recibira con gusto este mi oble.\n"
     ]
    },
    {
     "data": {
      "text/plain": [
       "<Figure size 640x480 with 0 Axes>"
      ]
     },
     "metadata": {},
     "output_type": "display_data"
    },
    {
     "name": "stdout",
     "output_type": "stream",
     "text": [
      "  Line 3: quio, todavia, por dirigirle al culciro\n"
     ]
    },
    {
     "data": {
      "text/plain": [
       "<Figure size 640x480 with 0 Axes>"
      ]
     },
     "metadata": {},
     "output_type": "display_data"
    },
    {
     "name": "stdout",
     "output_type": "stream",
     "text": [
      "  Line 4: de aquellas Plantas, que la Diving Pro-\n",
      "\n",
      "📄 Processing page 61\n"
     ]
    },
    {
     "data": {
      "text/plain": [
       "<Figure size 640x480 with 0 Axes>"
      ]
     },
     "metadata": {},
     "output_type": "display_data"
    },
    {
     "name": "stdout",
     "output_type": "stream",
     "text": [
      "  Line 1: videncia, por medio del Gran Parianca\n"
     ]
    },
    {
     "data": {
      "text/plain": [
       "<Figure size 640x480 with 0 Axes>"
      ]
     },
     "metadata": {},
     "output_type": "display_data"
    },
    {
     "name": "stdout",
     "output_type": "stream",
     "text": [
      "  Line 2: Ignacio, fio al cuydado reloso de su de\n"
     ]
    },
    {
     "data": {
      "text/plain": [
       "<Figure size 640x480 with 0 Axes>"
      ]
     },
     "metadata": {},
     "output_type": "display_data"
    },
    {
     "name": "stdout",
     "output_type": "stream",
     "text": [
      "  Line 3: licada mano . se yo, y lo se muy bien, que\n"
     ]
    },
    {
     "data": {
      "text/plain": [
       "<Figure size 640x480 with 0 Axes>"
      ]
     },
     "metadata": {},
     "output_type": "display_data"
    },
    {
     "name": "stdout",
     "output_type": "stream",
     "text": [
      "  Line 4: le merecera esta Obrica la primera año\n",
      "\n",
      "📄 Processing page 62\n"
     ]
    },
    {
     "data": {
      "text/plain": [
       "<Figure size 640x480 with 0 Axes>"
      ]
     },
     "metadata": {},
     "output_type": "display_data"
    },
    {
     "name": "stdout",
     "output_type": "stream",
     "text": [
      "  Line 1: bacion. e los moros\n"
     ]
    },
    {
     "data": {
      "text/plain": [
       "<Figure size 640x480 with 0 Axes>"
      ]
     },
     "metadata": {},
     "output_type": "display_data"
    },
    {
     "name": "stdout",
     "output_type": "stream",
     "text": [
      "  Line 2: m Juego, que nadie ignora, quanto\n"
     ]
    },
    {
     "data": {
      "text/plain": [
       "<Figure size 640x480 with 0 Axes>"
      ]
     },
     "metadata": {},
     "output_type": "display_data"
    },
    {
     "name": "stdout",
     "output_type": "stream",
     "text": [
      "  Line 3: rrabajo la Compañia en la criana de los\n"
     ]
    },
    {
     "data": {
      "text/plain": [
       "<Figure size 640x480 with 0 Axes>"
      ]
     },
     "metadata": {},
     "output_type": "display_data"
    },
    {
     "name": "stdout",
     "output_type": "stream",
     "text": [
      "  Line 4: minos en sus Colegios, tarca igualmente\n",
      "\n",
      "📄 Processing page 63\n"
     ]
    },
    {
     "data": {
      "text/plain": [
       "<Figure size 640x480 with 0 Axes>"
      ]
     },
     "metadata": {},
     "output_type": "display_data"
    },
    {
     "name": "stdout",
     "output_type": "stream",
     "text": [
      "  Line 1: penola, que provechola, para guardarō\n"
     ]
    },
    {
     "data": {
      "text/plain": [
       "<Figure size 640x480 with 0 Axes>"
      ]
     },
     "metadata": {},
     "output_type": "display_data"
    },
    {
     "name": "stdout",
     "output_type": "stream",
     "text": [
      "  Line 2: des del mal, e infruirles en el bien, y que\n"
     ]
    },
    {
     "data": {
      "text/plain": [
       "<Figure size 640x480 with 0 Axes>"
      ]
     },
     "metadata": {},
     "output_type": "display_data"
    },
    {
     "name": "stdout",
     "output_type": "stream",
     "text": [
      "  Line 3: por esso les enseñalas buenas letras, para\n"
     ]
    },
    {
     "data": {
      "text/plain": [
       "<Figure size 640x480 with 0 Axes>"
      ]
     },
     "metadata": {},
     "output_type": "display_data"
    },
    {
     "name": "stdout",
     "output_type": "stream",
     "text": [
      "  Line 4: Alfonso -\n",
      "\n",
      "Final OCR Results:\n",
      "73 ¶ Agora\n",
      "A L\n",
      "En finiramente A mal bō\n",
      "73 ¶ Agora de la\n",
      "Nino pesus.\n",
      "\n",
      "════════════════════════════════════════════════════════════ PAGE BREAK ════════════════════════════════════════════════════════════\n",
      "\n",
      "Vos, Dulcisimo Niño\n",
      "JEsos, que no solo oso\n",
      "dignasteis de llamarōs\n",
      "Doctor de los Niños,\n",
      "\n",
      "════════════════════════════════════════════════════════════ PAGE BREAK ════════════════════════════════════════════════════════════\n",
      "\n",
      "flfino tambien de alsid-\n",
      "rir como Nuño entre los Doctors,\n",
      "de consagra humilde esta pequeña\n",
      "Inferuccion de los Nifos. Es assi,\n",
      "\n",
      "════════════════════════════════════════════════════════════ PAGE BREAK ════════════════════════════════════════════════════════════\n",
      "\n",
      "que ella cambien le dirige á la ju\n",
      "vencud, pero a esta, como recuer -\n",
      "do de lo que aprendio, a los Ni-\n",
      "chos, como precila explicacion de\n",
      "\n",
      "════════════════════════════════════════════════════════════ PAGE BREAK ════════════════════════════════════════════════════════════\n",
      "\n",
      "lo que de ben estudiar. Por este lo\n",
      "despero Ninos, que con fijas por\n",
      "educacion de vuestra Compañia,\n",
      "\n",
      "════════════════════════════════════════════════════════════ PAGE BREAK ════════════════════════════════════════════════════════════\n",
      "\n",
      "lo es mucho mas. En Vos, Dini\n",
      "no Exemplar de todas las virea -\n",
      "des, tienen abreviado el mas le\n",
      "73 ¶ De ouo\n",
      "\n",
      "════════════════════════════════════════════════════════════ PAGE BREAK ════════════════════════════════════════════════════════════\n",
      "\n",
      "guro disleño de su edad. la Rei\n",
      "gion para con Dios en la de vaca\n",
      "a la Isilecia a los Templos, la piedad\n",
      "con los Padres en la obedientia\n",
      "\n",
      "════════════════════════════════════════════════════════════ PAGE BREAK ════════════════════════════════════════════════════════════\n",
      "\n",
      "mas rendida, & la modestia, y de\n",
      "deo de saber, con los mayores,\n",
      "gustando mas de Or, y pregun.\n",
      "rar, que de de finir, y relolver. Bien\n",
      "\n",
      "════════════════════════════════════════════════════════════ PAGE BREAK ════════════════════════════════════════════════════════════\n",
      "\n",
      "que esto en vuestra infinita sabi-\n",
      "duria fue Soberana dignacion, y\n",
      "en la natural Ignorancia de los\n",
      "Nilios es indispendable recelsi-\n",
      "\n",
      "════════════════════════════════════════════════════════════ PAGE BREAK ════════════════════════════════════════════════════════════\n",
      "\n",
      "dad. E el reina rei don siempe\n",
      "eNi tienen solamente en Vos\n",
      "el diseno, la lar, y el exemplo,\n",
      "dino tambien el amor, y protec -\n",
      "\n",
      "════════════════════════════════════════════════════════════ PAGE BREAK ════════════════════════════════════════════════════════════\n",
      "\n",
      "cion. Vos, como fingular Maes\n",
      "tro de los Niños, les dais enten-\n",
      "dimiento, y comunicais la sabi-\n",
      "doria Vos les prometeis el Reyno\n",
      "\n",
      "════════════════════════════════════════════════════════════ PAGE BREAK ════════════════════════════════════════════════════════════\n",
      "\n",
      "de los Cielos, yos indignais con\n",
      "quien les aparta de Vos, y les\n",
      "proponais por normal del con-\n",
      "dor, ingoencia, y christiana mu\n",
      "\n",
      "════════════════════════════════════════════════════════════ PAGE BREAK ════════════════════════════════════════════════════════════\n",
      "\n",
      "no pudo explicarle mas tierno, y\n",
      "liberal con los Niños, pues no\n",
      "contenço de echarles vuefras dixo\n",
      "Alfonso -\n",
      "\n",
      "════════════════════════════════════════════════════════════ PAGE BREAK ════════════════════════════════════════════════════════════\n",
      "\n",
      "divinas bendiciones, les misleis\n",
      "ña vnestro la grado pecho con lna\n",
      "missimos abraros, Dichola edad, A\n",
      "que es merecio can regalados ca\n",
      "\n",
      "════════════════════════════════════════════════════════════ PAGE BREAK ════════════════════════════════════════════════════════════\n",
      "\n",
      "y de Aquel\n",
      "Alfonso -\n",
      "y pues en la celestial Jerusalem\n",
      "salen no ha mudado de condicion\n",
      "vuestra Beniguidad, proleguid,\n",
      "\n",
      "════════════════════════════════════════════════════════════ PAGE BREAK ════════════════════════════════════════════════════════════\n",
      "\n",
      "do Niño tierno, y Dios Eterno,\n",
      "proleguid en bendecirles, y favo -\n",
      "recerles. Sean tan fervorio la men\n",
      "te de vocos de vuestra Admirable\n",
      "\n",
      "════════════════════════════════════════════════════════════ PAGE BREAK ════════════════════════════════════════════════════════════\n",
      "\n",
      "tos, que no entra vuestra sabi-\n",
      "daria, donde no ay mucha pure.\n",
      "era de conciencia. Ciercan en\n",
      "venestro santo temor, y amor, co-\n",
      "\n",
      "════════════════════════════════════════════════════════════ PAGE BREAK ════════════════════════════════════════════════════════════\n",
      "\n",
      "como en los años, y mucho mas\n",
      "Adelanteñle en la virtud, como\n",
      "en las letras, y mucho mas, haf-\n",
      "tra que lleguen, por vuestra imi-\n",
      "\n",
      "════════════════════════════════════════════════════════════ PAGE BREAK ════════════════════════════════════════════════════════════\n",
      "\n",
      "Alfonso -\n",
      "tacion, a ser varones perfectos,\n",
      "y con su mados, agradables a\n",
      "muestros ojos, y provechosos a\n",
      "la Republica, que libra casi co\n",
      "\n",
      "════════════════════════════════════════════════════════════ PAGE BREAK ════════════════════════════════════════════════════════════\n",
      "\n",
      "da su feliridad en la acercada\n",
      "63 ¶ 148 ¶\n",
      "\n",
      "════════════════════════════════════════════════════════════ PAGE BREAK ════════════════════════════════════════════════════════════\n",
      "\n",
      "criarra de la Niñor. Assi leal\n",
      "Divinifsimo Niño, por vuestra\n",
      "gracia, assi lea, á vuestra mas\n",
      "y or gloria, Amen,\n",
      "\n",
      "════════════════════════════════════════════════════════════ PAGE BREAK ════════════════════════════════════════════════════════════\n",
      "\n",
      "E el Osorio de De Compañia de fizorio, el casa\n",
      "E por ouo fue los Theodos de Coronningados\n",
      "\n",
      "════════════════════════════════════════════════════════════ PAGE BREAK ════════════════════════════════════════════════════════════\n",
      "\n",
      "gel, y Barcelona, etc.\n",
      "Don sieta el rei don dixo\n",
      "\n",
      "════════════════════════════════════════════════════════════ PAGE BREAK ════════════════════════════════════════════════════════════\n",
      "\n",
      "Alfonso alfonso a la tierra\n",
      "Vicaidad En el su sañor de la su dio qe señor\n",
      "D. Balthafar de Baltero y Lledo, Obispo\n",
      "de Gerona, del Consejo de su Magestad, de ca\n",
      "He visto en librio, cuyo circulo es. Ensi\n",
      "\n",
      "════════════════════════════════════════════════════════════ PAGE BREAK ════════════════════════════════════════════════════════════\n",
      "\n",
      "[OCR ERROR]\n",
      "truccion de Christiana, y Politics Cortesay\n",
      "nia, etc. Su Author D. Eanto Agustin de\n",
      "Buendia, Colegial que fue en el Imperial\n",
      "de Cordellas, sec. Y brevemente digos\n",
      "no solo que nada contiene contra la Fe, Vi\n",
      "\n",
      "════════════════════════════════════════════════════════════ PAGE BREAK ════════════════════════════════════════════════════════════\n",
      "\n",
      "buenas columbres, sino que muy aceno\n",
      "el Author con entrambas, describe, y en\n",
      "leha tan cuita, y discreteta la Virtud, co -\n",
      "mo lanca la Policia, y Urbandad. Los\n",
      "señoricos, que le criaron con estos do-\n",
      "\n",
      "════════════════════════════════════════════════════════════ PAGE BREAK ════════════════════════════════════════════════════════════\n",
      "\n",
      "cumenços, mereceran, quando hombres,\n",
      "a ver nacido señores. Porque no solo la\n",
      "bran ser Caballeros, fino tambien á los\n",
      "Alfonso -\n",
      "\n",
      "════════════════════════════════════════════════════════════ PAGE BREAK ════════════════════════════════════════════════════════════\n",
      "\n",
      "Caballero muy señorio, que codo lo, en el\n",
      "rece el Correlano Zelo del Author muchas\n",
      "gracias de quantos le interellan en tan\n",
      "\n",
      "════════════════════════════════════════════════════════════ PAGE BREAK ════════════════════════════════════════════════════════════\n",
      "\n",
      "Alfonso\n",
      "primorola, como recellaria educacion\n",
      "de la primera edad de los Nobles; de cuē\n",
      "yo acierto se derivala primera orlidad,\n",
      "y de coro a la Republica. Assi lo fien\n",
      "to, salvo, sec. En este Colegio de San\n",
      "\n",
      "════════════════════════════════════════════════════════════ PAGE BREAK ════════════════════════════════════════════════════════════\n",
      "\n",
      "Martin de la Compañia de Jesus de Gero -\n",
      "na, a vs. de Julio de 1740.\n",
      "Antonio Godornis, de la\n",
      "232 Compañia de Fesus.\n",
      "\n",
      "════════════════════════════════════════════════════════════ PAGE BREAK ════════════════════════════════════════════════════════════\n",
      "\n",
      "Dle vs. Fulli,. 148. ¶.\n",
      "Amprimatur\n",
      "De Bostero Vie. Gen. E Offis.\n",
      "\n",
      "════════════════════════════════════════════════════════════ PAGE BREAK ════════════════════════════════════════════════════════════\n",
      "\n",
      "Censora del R. P. mariano al bra\n",
      "rich de la Compañia de Fesus, Cathedral\n",
      "tico antes de Theologicia en el Colegio de\n",
      "Borcelona, ( oy Prefecto de sus E fu dios\n",
      "\n",
      "════════════════════════════════════════════════════════════ PAGE BREAK ════════════════════════════════════════════════════════════\n",
      "\n",
      "Rotor que fue del Colegio de Cordellas, y\n",
      "de Gerona, Calificador del Santo Osicio,\n",
      "Examinador Syndal de muchos Obispo.\n",
      "los dos oyo. e los moros cauieron\n",
      "\n",
      "════════════════════════════════════════════════════════════ PAGE BREAK ════════════════════════════════════════════════════════════\n",
      "\n",
      "M. P. S.\n",
      "dE orden de V. A he visto el librio //\n",
      "L que con el titulo de Politics, y Chris.\n",
      "tiana Cortesania, etc. de lea lacar a lue el\n",
      "\n",
      "════════════════════════════════════════════════════════════ PAGE BREAK ════════════════════════════════════════════════════════════\n",
      "\n",
      "Alfonso a qe moros e toledo de los de los de\n",
      "señor D. Fanto Agullin de Buendia, pa\n",
      "ra darle a todos con el concierto, que prele\n",
      "cribe para las operaciones, que cada umo\n",
      "de he practicar, desde el officimiento de\n",
      "\n",
      "════════════════════════════════════════════════════════════ PAGE BREAK ════════════════════════════════════════════════════════════\n",
      "\n",
      "pus. Perduciera qe de los el rei dixoles de\n",
      "las obras por la mañana, hasta el examen\n",
      "de la conciencia, Ultima diligentia, que\n",
      "de be cerrar nuestras carcas, antes de con -\n",
      "ceder al cuerpo el debido descaño, para\n",
      "\n",
      "════════════════════════════════════════════════════════════ PAGE BREAK ════════════════════════════════════════════════════════════\n",
      "\n",
      "tomarnos diariameme cuenta de todas las\n",
      "partidas del cargo, y del cargo, como la\n",
      "\n",
      "════════════════════════════════════════════════════════════ PAGE BREAK ════════════════════════════════════════════════════════════\n",
      "\n",
      "hemos de dar en otro mas severo cribuā\n",
      "nal. Quien a este pequeño volumen mī\n",
      "diere por el cuerpo, no le dara la esima\n",
      "cion, que le merece: pero quien a tendie\n",
      "\n",
      "════════════════════════════════════════════════════════════ PAGE BREAK ════════════════════════════════════════════════════════════\n",
      "\n",
      "rre a la mucha alma, que encierra, forma\n",
      "ria el debido concepto de su preciobdad.\n",
      "Colas ay, que se celebran por lo a gigan -\n",
      "tado, como el Cololo. y las ay tambien,\n",
      "\n",
      "════════════════════════════════════════════════════════════ PAGE BREAK ════════════════════════════════════════════════════════════\n",
      "\n",
      "Alfonso -\n",
      "como el Nuño de Bruco, que tuyieron\n",
      "Eugal aplado, por auer redicido casi a\n",
      "puntos indivisibles todo el arcilicio de\n",
      "cosas grandes. Assi ay Authors, que\n",
      "\n",
      "════════════════════════════════════════════════════════════ PAGE BREAK ════════════════════════════════════════════════════════════\n",
      "\n",
      "y de los Aquel pueblos y los moros\n",
      "chan llenado de libros grandes los estan-\n",
      "res, acredicandole hasta con el oro, que\n",
      "lace en sus cubiertas. otros, con no\n",
      "menor a cierto, han dado a lur libritos mas\n",
      "\n",
      "════════════════════════════════════════════════════════════ PAGE BREAK ════════════════════════════════════════════════════════════\n",
      "\n",
      "familiares, que le dexan trarar a todas\n",
      "moras, compañeros imperables de sus\n",
      "dueños, los quales ya en las cubiertas\n",
      "llevan aquella inscription, o el ogio, que\n",
      "\n",
      "════════════════════════════════════════════════════════════ PAGE BREAK ════════════════════════════════════════════════════════════\n",
      "\n",
      "dio el acumino lo Marcial a sus escritos.\n",
      "Me manus una capit. Y como feria ne\n",
      "cedad, querer eltimar el valor de el dia\n",
      "mente, antes por la grandera, que no\n",
      "\n",
      "════════════════════════════════════════════════════════════ PAGE BREAK ════════════════════════════════════════════════════════════\n",
      "\n",
      "y el rei don siempe por el pueblo y\n",
      "tiene, que por los fondos, con que le\n",
      "huerta al sol los rayos en la precida bri-\n",
      "llanter de sus reflexos. Assi lo seria no\n",
      "colocar entre las joyas de mayor precio\n",
      "Alfonso -\n",
      "\n",
      "════════════════════════════════════════════════════════════ PAGE BREAK ════════════════════════════════════════════════════════════\n",
      "\n",
      "\n",
      "\n",
      "════════════════════════════════════════════════════════════ PAGE BREAK ════════════════════════════════════════════════════════════\n",
      "\n",
      "\n",
      "\n",
      "════════════════════════════════════════════════════════════ PAGE BREAK ════════════════════════════════════════════════════════════\n",
      "\n",
      "\n",
      "\n",
      "════════════════════════════════════════════════════════════ PAGE BREAK ════════════════════════════════════════════════════════════\n",
      "\n",
      "pre, de ccc. Barcelona, y Junio 14. de.178\n",
      "l M Mariano Alberich de la\n",
      "232 Compañia de fesus.\n",
      "\n",
      "════════════════════════════════════════════════════════════ PAGE BREAK ════════════════════════════════════════════════════════════\n",
      "\n",
      "auna del Privilegio.\n",
      "Elfonso dio Aglesia de la Maglesia Don\n",
      "\n",
      "════════════════════════════════════════════════════════════ PAGE BREAK ════════════════════════════════════════════════════════════\n",
      "\n",
      "petiridad Con el suffruccion de Christiania y\n",
      "te concta de su original. Madrid, y Julio\n",
      "ña 8 de r740. e dixo a\n",
      "\n",
      "════════════════════════════════════════════════════════════ PAGE BREAK ════════════════════════════════════════════════════════════\n",
      "\n",
      "d DePro Manuel de Contreras.\n",
      "y el rei don siempre el rei don siempre el rei don siempe\n",
      "63 ¶ T A S A Agora\n",
      "T Alaron los Señores del Consejo este\n",
      "s Libro,inticolado. Inferuccion de\n",
      "\n",
      "════════════════════════════════════════════════════════════ PAGE BREAK ════════════════════════════════════════════════════════════\n",
      "\n",
      "Christiana, y Politics Cortesania, a leis\n",
      "mugaredis de dios llego doño reina de dios\n",
      "d De Pedro Manuel de Contreras.\n",
      "\n",
      "════════════════════════════════════════════════════════════ PAGE BREAK ════════════════════════════════════════════════════════════\n",
      "\n",
      "el rei don sancho e el rei don sancho el rei don grā\n",
      "Pee de Erraras.\n",
      "sse libro, inclado. Instruction de\n",
      "Christiana, y Politics Cortesania, cor-\n",
      "\n",
      "════════════════════════════════════════════════════════════ PAGE BREAK ════════════════════════════════════════════════════════════\n",
      "\n",
      "responde en rodo con su original. Madrid\n",
      "ña ro, de Agollo de 1740. E\n",
      "\n",
      "════════════════════════════════════════════════════════════ PAGE BREAK ════════════════════════════════════════════════════════════\n",
      "\n",
      "Lis. Du Manuel Licardo de Ribera y\n",
      "Correct. Gen. por su Magestad.\n",
      "50 ¶. Moña\n",
      "\n",
      "════════════════════════════════════════════════════════════ PAGE BREAK ════════════════════════════════════════════════════════════\n",
      "\n",
      "mo rivo del author, e razon\n",
      "73 de la Obra. E el reino\n",
      "\n",
      "════════════════════════════════════════════════════════════ PAGE BREAK ════════════════════════════════════════════════════════════\n",
      "\n",
      "A de vocion, y afecto, que desde mis\n",
      "tiernos años professe a la Sagrada\n",
      "\n",
      "════════════════════════════════════════════════════════════ PAGE BREAK ════════════════════════════════════════════════════════════\n",
      "\n",
      "Religión de la Compañia de Jesus, y la\n",
      "professare eternamente, como hijo el mas\n",
      "re conocido a tan escogida Madre. e me\n",
      "obligo a el cririr, y dar a la Estampa esta\n",
      "\n",
      "════════════════════════════════════════════════════════════ PAGE BREAK ════════════════════════════════════════════════════════════\n",
      "\n",
      "Infinacion para lus señores Colegiales,\n",
      "sin que por esso le niegue a lervir a los de\n",
      "mas señoricos, que no lo fueren. Y aun\n",
      "que la Compañia, mas por su conocida\n",
      "\n",
      "════════════════════════════════════════════════════════════ PAGE BREAK ════════════════════════════════════════════════════════════\n",
      "\n",
      "erencion, que por el meriro, que yo no\n",
      "tiengo, recibira con gusto este mi oble.\n",
      "quio, todavia, por dirigirle al culciro\n",
      "de aquellas Plantas, que la Diving Pro-\n",
      "\n",
      "════════════════════════════════════════════════════════════ PAGE BREAK ════════════════════════════════════════════════════════════\n",
      "\n",
      "videncia, por medio del Gran Parianca\n",
      "Ignacio, fio al cuydado reloso de su de\n",
      "licada mano . se yo, y lo se muy bien, que\n",
      "le merecera esta Obrica la primera año\n",
      "\n",
      "════════════════════════════════════════════════════════════ PAGE BREAK ════════════════════════════════════════════════════════════\n",
      "\n",
      "bacion. e los moros\n",
      "m Juego, que nadie ignora, quanto\n",
      "rrabajo la Compañia en la criana de los\n",
      "minos en sus Colegios, tarca igualmente\n",
      "\n",
      "════════════════════════════════════════════════════════════ PAGE BREAK ════════════════════════════════════════════════════════════\n",
      "\n",
      "penola, que provechola, para guardarō\n",
      "des del mal, e infruirles en el bien, y que\n",
      "por esso les enseñalas buenas letras, para\n",
      "Alfonso -\n",
      "\n",
      "════════════════════════════════════════════════════════════ PAGE BREAK ════════════════════════════════════════════════════════════\n",
      "\n",
      "\n",
      "OCR results saved successfully\n"
     ]
    }
   ],
   "source": [
    "\n",
    "\n",
    "def parse_folder_timestamp(folder_name):\n",
    "    \"\"\"Extract datetime from folder name\"\"\"\n",
    "    match = re.match(r'Screenshot (\\d{4}-\\d{2}-\\d{2}) at (\\d{1,2})\\.(\\d{2})\\.(\\d{2}) ([AP]M)', folder_name)\n",
    "    if not match:\n",
    "        return datetime.max\n",
    "    \n",
    "    date_str, hour, minute, second, period = match.groups()\n",
    "    time_str = f\"{hour}:{minute}:{second} {period}\"\n",
    "    \n",
    "    return datetime.strptime(f\"{date_str} {time_str}\", \"%Y-%m-%d %I:%M:%S %p\")\n",
    "\n",
    "def process_directory(root_dir):\n",
    "    all_text = []\n",
    "    \n",
    "    # Sort pages by timestamp\n",
    "    page_folders = sorted(\n",
    "        [f for f in os.listdir(root_dir) if os.path.isdir(os.path.join(root_dir, f))],\n",
    "        key=parse_folder_timestamp)\n",
    "    \n",
    "    # Setup display\n",
    "    plt.ion()\n",
    "    fig = plt.figure(figsize=(12, 6))\n",
    "    \n",
    "    for page_number, _ in enumerate(page_folders, 1):\n",
    "        page_text = []\n",
    "        line_files = sorted(\n",
    "            [f for f in os.listdir(os.path.join(root_dir, page_folders[page_number-1])) \n",
    "             if re.match(r'line_\\d+\\.png', f)],\n",
    "            key=lambda x: int(re.search(r'\\d+', x).group()))\n",
    "        \n",
    "        print(f\"\\n📄 Processing page {page_number}\")\n",
    "        \n",
    "        for line_idx, _ in enumerate(line_files, 1):\n",
    "            try:\n",
    "                # Image display\n",
    "                img_path = os.path.join(root_dir, page_folders[page_number-1], f'line_{line_idx-1}.png')\n",
    "                img = Image.open(img_path).convert(\"RGB\")\n",
    "                ax1 = fig.add_subplot(1, 2, 1)\n",
    "                ax1.imshow(img)\n",
    "                ax1.set_title(f\"Page {page_number} - Line {line_idx}\", fontsize=10)\n",
    "                ax1.axis('off')\n",
    "                \n",
    "                # OCR processing\n",
    "                inputs = processor(img, return_tensors=\"pt\")\n",
    "                pixel_values = inputs.pixel_values.to(device)\n",
    "                \n",
    "                generated_ids = model.generate(\n",
    "                    pixel_values, \n",
    "                    max_new_tokens=128,\n",
    "                    num_beams=5,\n",
    "                    early_stopping=True)\n",
    "                \n",
    "                line_text = tokenizer.decode(generated_ids[0], skip_special_tokens=True).strip()\n",
    "                \n",
    "                # Display result\n",
    "                ax2 = fig.add_subplot(1, 2, 2)\n",
    "                ax2.text(0.1, 0.5, line_text, fontsize=12, va='center')\n",
    "                ax2.axis('off')\n",
    "                \n",
    "                plt.suptitle(f\"Processing Page {page_number} - Line {line_idx}\", fontsize=14)\n",
    "                plt.draw()\n",
    "                plt.pause(0.1)\n",
    "                \n",
    "                page_text.append(line_text)\n",
    "                print(f\"  Line {line_idx}: {line_text}\")\n",
    "                fig.clf()\n",
    "                \n",
    "            except Exception as e:\n",
    "                print(f\"  Error processing line {line_idx}\")\n",
    "                page_text.append(\"[OCR ERROR]\")\n",
    "                fig.clf()\n",
    "        \n",
    "        all_text.append(\"\\n\".join(page_text))\n",
    "        all_text.append(\"\\n\" + \"═\"*60 + \" PAGE BREAK \" + \"═\"*60 + \"\\n\")\n",
    "    \n",
    "    plt.ioff()\n",
    "    plt.close()\n",
    "    return \"\\n\".join(all_text)\n",
    "\n",
    "# Process and save\n",
    "final_text = process_directory(\"/kaggle/working/line_output2\")\n",
    "print(\"\\nFinal OCR Results:\")\n",
    "print(final_text)\n",
    "\n",
    "with open(\"/kaggle/working/final_ocr_output.txt\", \"w\") as f:\n",
    "    f.write(final_text)\n",
    "\n",
    "print(\"\\nOCR results saved successfully\")"
   ]
  },
  {
   "cell_type": "code",
   "execution_count": 52,
   "metadata": {
    "execution": {
     "iopub.execute_input": "2025-04-01T19:36:34.876696Z",
     "iopub.status.busy": "2025-04-01T19:36:34.876234Z",
     "iopub.status.idle": "2025-04-01T19:40:53.359587Z",
     "shell.execute_reply": "2025-04-01T19:40:53.358696Z",
     "shell.execute_reply.started": "2025-04-01T19:36:34.876649Z"
    },
    "trusted": true
   },
   "outputs": [
    {
     "name": "stdout",
     "output_type": "stream",
     "text": [
      "\n",
      "📄 Processing page 1 (4 lines)\n"
     ]
    },
    {
     "data": {
      "image/png": "[encoded data removed]",
      "text/plain": [
       "<Figure size 1200x600 with 2 Axes>"
      ]
     },
     "metadata": {},
     "output_type": "display_data"
    },
    {
     "name": "stdout",
     "output_type": "stream",
     "text": [
      "  Line 1: Rotor que fue del Colegio de Cordellas, y\n"
     ]
    },
    {
     "data": {
      "text/plain": [
       "<Figure size 640x480 with 0 Axes>"
      ]
     },
     "metadata": {},
     "output_type": "display_data"
    },
    {
     "name": "stdout",
     "output_type": "stream",
     "text": [
      "  Line 2: de Gerona, Calificador del Santo Osicio,\n"
     ]
    },
    {
     "data": {
      "text/plain": [
       "<Figure size 640x480 with 0 Axes>"
      ]
     },
     "metadata": {},
     "output_type": "display_data"
    },
    {
     "name": "stdout",
     "output_type": "stream",
     "text": [
      "  Line 3: Examinador Syndal de muchos Obispo.\n"
     ]
    },
    {
     "data": {
      "text/plain": [
       "<Figure size 640x480 with 0 Axes>"
      ]
     },
     "metadata": {},
     "output_type": "display_data"
    },
    {
     "name": "stdout",
     "output_type": "stream",
     "text": [
      "  Line 4: los dos oyo. e los moros cauieron\n",
      "\n",
      "📄 Processing page 2 (4 lines)\n"
     ]
    },
    {
     "data": {
      "text/plain": [
       "<Figure size 640x480 with 0 Axes>"
      ]
     },
     "metadata": {},
     "output_type": "display_data"
    },
    {
     "name": "stdout",
     "output_type": "stream",
     "text": [
      "  Line 1: bacion. e los moros\n"
     ]
    },
    {
     "data": {
      "text/plain": [
       "<Figure size 640x480 with 0 Axes>"
      ]
     },
     "metadata": {},
     "output_type": "display_data"
    },
    {
     "name": "stdout",
     "output_type": "stream",
     "text": [
      "  Line 2: m Juego, que nadie ignora, quanto\n"
     ]
    },
    {
     "data": {
      "text/plain": [
       "<Figure size 640x480 with 0 Axes>"
      ]
     },
     "metadata": {},
     "output_type": "display_data"
    },
    {
     "name": "stdout",
     "output_type": "stream",
     "text": [
      "  Line 3: rrabajo la Compañia en la criana de los\n"
     ]
    },
    {
     "data": {
      "text/plain": [
       "<Figure size 640x480 with 0 Axes>"
      ]
     },
     "metadata": {},
     "output_type": "display_data"
    },
    {
     "name": "stdout",
     "output_type": "stream",
     "text": [
      "  Line 4: minos en sus Colegios, tarca igualmente\n",
      "\n",
      "📄 Processing page 3 (5 lines)\n"
     ]
    },
    {
     "data": {
      "text/plain": [
       "<Figure size 640x480 with 0 Axes>"
      ]
     },
     "metadata": {},
     "output_type": "display_data"
    },
    {
     "name": "stdout",
     "output_type": "stream",
     "text": [
      "  Line 1: 73 ¶ Agora\n"
     ]
    },
    {
     "data": {
      "text/plain": [
       "<Figure size 640x480 with 0 Axes>"
      ]
     },
     "metadata": {},
     "output_type": "display_data"
    },
    {
     "name": "stdout",
     "output_type": "stream",
     "text": [
      "  Line 2: A L\n"
     ]
    },
    {
     "data": {
      "text/plain": [
       "<Figure size 640x480 with 0 Axes>"
      ]
     },
     "metadata": {},
     "output_type": "display_data"
    },
    {
     "name": "stdout",
     "output_type": "stream",
     "text": [
      "  Line 3: En finiramente A mal bō\n"
     ]
    },
    {
     "data": {
      "text/plain": [
       "<Figure size 640x480 with 0 Axes>"
      ]
     },
     "metadata": {},
     "output_type": "display_data"
    },
    {
     "name": "stdout",
     "output_type": "stream",
     "text": [
      "  Line 4: 73 ¶ Agora de la\n"
     ]
    },
    {
     "data": {
      "text/plain": [
       "<Figure size 640x480 with 0 Axes>"
      ]
     },
     "metadata": {},
     "output_type": "display_data"
    },
    {
     "name": "stderr",
     "output_type": "stream",
     "text": [
      "The channel dimension is ambiguous. Got image shape (3, 538, 3). Assuming channels are the first dimension.\n"
     ]
    },
    {
     "name": "stdout",
     "output_type": "stream",
     "text": [
      "  Line 5: Nino pesus.\n",
      "\n",
      "📄 Processing page 4 (5 lines)\n"
     ]
    },
    {
     "data": {
      "text/plain": [
       "<Figure size 640x480 with 0 Axes>"
      ]
     },
     "metadata": {},
     "output_type": "display_data"
    },
    {
     "name": "stdout",
     "output_type": "stream",
     "text": [
      "  Line 1: Alfonso -\n"
     ]
    },
    {
     "data": {
      "text/plain": [
       "<Figure size 640x480 with 0 Axes>"
      ]
     },
     "metadata": {},
     "output_type": "display_data"
    },
    {
     "name": "stdout",
     "output_type": "stream",
     "text": [
      "  Line 2: como el Nuño de Bruco, que tuyieron\n"
     ]
    },
    {
     "data": {
      "text/plain": [
       "<Figure size 640x480 with 0 Axes>"
      ]
     },
     "metadata": {},
     "output_type": "display_data"
    },
    {
     "name": "stdout",
     "output_type": "stream",
     "text": [
      "  Line 3: Eugal aplado, por auer redicido casi a\n"
     ]
    },
    {
     "data": {
      "text/plain": [
       "<Figure size 640x480 with 0 Axes>"
      ]
     },
     "metadata": {},
     "output_type": "display_data"
    },
    {
     "name": "stdout",
     "output_type": "stream",
     "text": [
      "  Line 4: puntos indivisibles todo el arcilicio de\n"
     ]
    },
    {
     "data": {
      "text/plain": [
       "<Figure size 640x480 with 0 Axes>"
      ]
     },
     "metadata": {},
     "output_type": "display_data"
    },
    {
     "name": "stdout",
     "output_type": "stream",
     "text": [
      "  Line 5: cosas grandes. Assi ay Authors, que\n",
      "\n",
      "📄 Processing page 5 (6 lines)\n"
     ]
    },
    {
     "data": {
      "text/plain": [
       "<Figure size 640x480 with 0 Axes>"
      ]
     },
     "metadata": {},
     "output_type": "display_data"
    },
    {
     "name": "stdout",
     "output_type": "stream",
     "text": [
      "  Line 1: y el rei don siempe por el pueblo y\n"
     ]
    },
    {
     "data": {
      "text/plain": [
       "<Figure size 640x480 with 0 Axes>"
      ]
     },
     "metadata": {},
     "output_type": "display_data"
    },
    {
     "name": "stdout",
     "output_type": "stream",
     "text": [
      "  Line 2: tiene, que por los fondos, con que le\n"
     ]
    },
    {
     "data": {
      "text/plain": [
       "<Figure size 640x480 with 0 Axes>"
      ]
     },
     "metadata": {},
     "output_type": "display_data"
    },
    {
     "name": "stdout",
     "output_type": "stream",
     "text": [
      "  Line 3: huerta al sol los rayos en la precida bri-\n"
     ]
    },
    {
     "data": {
      "text/plain": [
       "<Figure size 640x480 with 0 Axes>"
      ]
     },
     "metadata": {},
     "output_type": "display_data"
    },
    {
     "name": "stdout",
     "output_type": "stream",
     "text": [
      "  Line 4: llanter de sus reflexos. Assi lo seria no\n"
     ]
    },
    {
     "data": {
      "text/plain": [
       "<Figure size 640x480 with 0 Axes>"
      ]
     },
     "metadata": {},
     "output_type": "display_data"
    },
    {
     "name": "stderr",
     "output_type": "stream",
     "text": [
      "The channel dimension is ambiguous. Got image shape (3, 536, 3). Assuming channels are the first dimension.\n"
     ]
    },
    {
     "name": "stdout",
     "output_type": "stream",
     "text": [
      "  Line 5: colocar entre las joyas de mayor precio\n"
     ]
    },
    {
     "data": {
      "text/plain": [
       "<Figure size 640x480 with 0 Axes>"
      ]
     },
     "metadata": {},
     "output_type": "display_data"
    },
    {
     "name": "stdout",
     "output_type": "stream",
     "text": [
      "  Line 6: Alfonso -\n",
      "\n",
      "📄 Processing page 6 (5 lines)\n"
     ]
    },
    {
     "data": {
      "text/plain": [
       "<Figure size 640x480 with 0 Axes>"
      ]
     },
     "metadata": {},
     "output_type": "display_data"
    },
    {
     "name": "stdout",
     "output_type": "stream",
     "text": [
      "  Line 1: pus. Perduciera qe de los el rei dixoles de\n"
     ]
    },
    {
     "data": {
      "text/plain": [
       "<Figure size 640x480 with 0 Axes>"
      ]
     },
     "metadata": {},
     "output_type": "display_data"
    },
    {
     "name": "stdout",
     "output_type": "stream",
     "text": [
      "  Line 2: las obras por la mañana, hasta el examen\n"
     ]
    },
    {
     "data": {
      "text/plain": [
       "<Figure size 640x480 with 0 Axes>"
      ]
     },
     "metadata": {},
     "output_type": "display_data"
    },
    {
     "name": "stdout",
     "output_type": "stream",
     "text": [
      "  Line 3: de la conciencia, Ultima diligentia, que\n"
     ]
    },
    {
     "data": {
      "text/plain": [
       "<Figure size 640x480 with 0 Axes>"
      ]
     },
     "metadata": {},
     "output_type": "display_data"
    },
    {
     "name": "stdout",
     "output_type": "stream",
     "text": [
      "  Line 4: de be cerrar nuestras carcas, antes de con -\n"
     ]
    },
    {
     "data": {
      "text/plain": [
       "<Figure size 640x480 with 0 Axes>"
      ]
     },
     "metadata": {},
     "output_type": "display_data"
    },
    {
     "name": "stdout",
     "output_type": "stream",
     "text": [
      "  Line 5: ceder al cuerpo el debido descaño, para\n",
      "\n",
      "📄 Processing page 7 (0 lines)\n",
      "\n",
      "📄 Processing page 8 (2 lines)\n"
     ]
    },
    {
     "data": {
      "text/plain": [
       "<Figure size 640x480 with 0 Axes>"
      ]
     },
     "metadata": {},
     "output_type": "display_data"
    },
    {
     "name": "stdout",
     "output_type": "stream",
     "text": [
      "  Line 1: gel, y Barcelona, etc.\n"
     ]
    },
    {
     "data": {
      "text/plain": [
       "<Figure size 640x480 with 0 Axes>"
      ]
     },
     "metadata": {},
     "output_type": "display_data"
    },
    {
     "name": "stdout",
     "output_type": "stream",
     "text": [
      "  Line 2: Don sieta el rei don dixo\n",
      "\n",
      "📄 Processing page 9 (4 lines)\n"
     ]
    },
    {
     "data": {
      "text/plain": [
       "<Figure size 640x480 with 0 Axes>"
      ]
     },
     "metadata": {},
     "output_type": "display_data"
    },
    {
     "name": "stdout",
     "output_type": "stream",
     "text": [
      "  Line 1: rre a la mucha alma, que encierra, forma\n"
     ]
    },
    {
     "data": {
      "text/plain": [
       "<Figure size 640x480 with 0 Axes>"
      ]
     },
     "metadata": {},
     "output_type": "display_data"
    },
    {
     "name": "stdout",
     "output_type": "stream",
     "text": [
      "  Line 2: ria el debido concepto de su preciobdad.\n"
     ]
    },
    {
     "data": {
      "text/plain": [
       "<Figure size 640x480 with 0 Axes>"
      ]
     },
     "metadata": {},
     "output_type": "display_data"
    },
    {
     "name": "stdout",
     "output_type": "stream",
     "text": [
      "  Line 3: Colas ay, que se celebran por lo a gigan -\n"
     ]
    },
    {
     "data": {
      "text/plain": [
       "<Figure size 640x480 with 0 Axes>"
      ]
     },
     "metadata": {},
     "output_type": "display_data"
    },
    {
     "name": "stdout",
     "output_type": "stream",
     "text": [
      "  Line 4: tado, como el Cololo. y las ay tambien,\n",
      "\n",
      "📄 Processing page 10 (5 lines)\n"
     ]
    },
    {
     "data": {
      "text/plain": [
       "<Figure size 640x480 with 0 Axes>"
      ]
     },
     "metadata": {},
     "output_type": "display_data"
    },
    {
     "name": "stdout",
     "output_type": "stream",
     "text": [
      "  Line 1: Alfonso -\n"
     ]
    },
    {
     "data": {
      "text/plain": [
       "<Figure size 640x480 with 0 Axes>"
      ]
     },
     "metadata": {},
     "output_type": "display_data"
    },
    {
     "name": "stdout",
     "output_type": "stream",
     "text": [
      "  Line 2: tacion, a ser varones perfectos,\n"
     ]
    },
    {
     "data": {
      "text/plain": [
       "<Figure size 640x480 with 0 Axes>"
      ]
     },
     "metadata": {},
     "output_type": "display_data"
    },
    {
     "name": "stdout",
     "output_type": "stream",
     "text": [
      "  Line 3: y con su mados, agradables a\n"
     ]
    },
    {
     "data": {
      "text/plain": [
       "<Figure size 640x480 with 0 Axes>"
      ]
     },
     "metadata": {},
     "output_type": "display_data"
    },
    {
     "name": "stdout",
     "output_type": "stream",
     "text": [
      "  Line 4: muestros ojos, y provechosos a\n"
     ]
    },
    {
     "data": {
      "text/plain": [
       "<Figure size 640x480 with 0 Axes>"
      ]
     },
     "metadata": {},
     "output_type": "display_data"
    },
    {
     "name": "stdout",
     "output_type": "stream",
     "text": [
      "  Line 5: la Republica, que libra casi co\n",
      "\n",
      "📄 Processing page 11 (4 lines)\n"
     ]
    },
    {
     "data": {
      "text/plain": [
       "<Figure size 640x480 with 0 Axes>"
      ]
     },
     "metadata": {},
     "output_type": "display_data"
    },
    {
     "name": "stdout",
     "output_type": "stream",
     "text": [
      "  Line 1: que esto en vuestra infinita sabi-\n"
     ]
    },
    {
     "data": {
      "text/plain": [
       "<Figure size 640x480 with 0 Axes>"
      ]
     },
     "metadata": {},
     "output_type": "display_data"
    },
    {
     "name": "stdout",
     "output_type": "stream",
     "text": [
      "  Line 2: duria fue Soberana dignacion, y\n"
     ]
    },
    {
     "data": {
      "text/plain": [
       "<Figure size 640x480 with 0 Axes>"
      ]
     },
     "metadata": {},
     "output_type": "display_data"
    },
    {
     "name": "stdout",
     "output_type": "stream",
     "text": [
      "  Line 3: en la natural Ignorancia de los\n"
     ]
    },
    {
     "data": {
      "text/plain": [
       "<Figure size 640x480 with 0 Axes>"
      ]
     },
     "metadata": {},
     "output_type": "display_data"
    },
    {
     "name": "stdout",
     "output_type": "stream",
     "text": [
      "  Line 4: Nilios es indispendable recelsi-\n",
      "\n",
      "📄 Processing page 12 (2 lines)\n"
     ]
    },
    {
     "data": {
      "text/plain": [
       "<Figure size 640x480 with 0 Axes>"
      ]
     },
     "metadata": {},
     "output_type": "display_data"
    },
    {
     "name": "stdout",
     "output_type": "stream",
     "text": [
      "  Line 1: A de vocion, y afecto, que desde mis\n"
     ]
    },
    {
     "data": {
      "text/plain": [
       "<Figure size 640x480 with 0 Axes>"
      ]
     },
     "metadata": {},
     "output_type": "display_data"
    },
    {
     "name": "stdout",
     "output_type": "stream",
     "text": [
      "  Line 2: tiernos años professe a la Sagrada\n",
      "\n",
      "📄 Processing page 13 (4 lines)\n"
     ]
    },
    {
     "data": {
      "text/plain": [
       "<Figure size 640x480 with 0 Axes>"
      ]
     },
     "metadata": {},
     "output_type": "display_data"
    },
    {
     "name": "stdout",
     "output_type": "stream",
     "text": [
      "  Line 1: videncia, por medio del Gran Parianca\n"
     ]
    },
    {
     "data": {
      "text/plain": [
       "<Figure size 640x480 with 0 Axes>"
      ]
     },
     "metadata": {},
     "output_type": "display_data"
    },
    {
     "name": "stdout",
     "output_type": "stream",
     "text": [
      "  Line 2: Ignacio, fio al cuydado reloso de su de\n"
     ]
    },
    {
     "data": {
      "text/plain": [
       "<Figure size 640x480 with 0 Axes>"
      ]
     },
     "metadata": {},
     "output_type": "display_data"
    },
    {
     "name": "stdout",
     "output_type": "stream",
     "text": [
      "  Line 3: licada mano . se yo, y lo se muy bien, que\n"
     ]
    },
    {
     "data": {
      "text/plain": [
       "<Figure size 640x480 with 0 Axes>"
      ]
     },
     "metadata": {},
     "output_type": "display_data"
    },
    {
     "name": "stdout",
     "output_type": "stream",
     "text": [
      "  Line 4: le merecera esta Obrica la primera año\n",
      "\n",
      "📄 Processing page 14 (0 lines)\n",
      "\n",
      "📄 Processing page 15 (4 lines)\n"
     ]
    },
    {
     "data": {
      "text/plain": [
       "<Figure size 640x480 with 0 Axes>"
      ]
     },
     "metadata": {},
     "output_type": "display_data"
    },
    {
     "name": "stdout",
     "output_type": "stream",
     "text": [
      "  Line 1: erencion, que por el meriro, que yo no\n"
     ]
    },
    {
     "data": {
      "text/plain": [
       "<Figure size 640x480 with 0 Axes>"
      ]
     },
     "metadata": {},
     "output_type": "display_data"
    },
    {
     "name": "stdout",
     "output_type": "stream",
     "text": [
      "  Line 2: tiengo, recibira con gusto este mi oble.\n"
     ]
    },
    {
     "data": {
      "text/plain": [
       "<Figure size 640x480 with 0 Axes>"
      ]
     },
     "metadata": {},
     "output_type": "display_data"
    },
    {
     "name": "stdout",
     "output_type": "stream",
     "text": [
      "  Line 3: quio, todavia, por dirigirle al culciro\n"
     ]
    },
    {
     "data": {
      "text/plain": [
       "<Figure size 640x480 with 0 Axes>"
      ]
     },
     "metadata": {},
     "output_type": "display_data"
    },
    {
     "name": "stdout",
     "output_type": "stream",
     "text": [
      "  Line 4: de aquellas Plantas, que la Diving Pro-\n",
      "\n",
      "📄 Processing page 16 (4 lines)\n"
     ]
    },
    {
     "data": {
      "text/plain": [
       "<Figure size 640x480 with 0 Axes>"
      ]
     },
     "metadata": {},
     "output_type": "display_data"
    },
    {
     "name": "stdout",
     "output_type": "stream",
     "text": [
      "  Line 1: Vos, Dulcisimo Niño\n"
     ]
    },
    {
     "data": {
      "text/plain": [
       "<Figure size 640x480 with 0 Axes>"
      ]
     },
     "metadata": {},
     "output_type": "display_data"
    },
    {
     "name": "stdout",
     "output_type": "stream",
     "text": [
      "  Line 2: JEsos, que no solo oso\n"
     ]
    },
    {
     "data": {
      "text/plain": [
       "<Figure size 640x480 with 0 Axes>"
      ]
     },
     "metadata": {},
     "output_type": "display_data"
    },
    {
     "name": "stdout",
     "output_type": "stream",
     "text": [
      "  Line 3: dignasteis de llamarōs\n"
     ]
    },
    {
     "data": {
      "text/plain": [
       "<Figure size 640x480 with 0 Axes>"
      ]
     },
     "metadata": {},
     "output_type": "display_data"
    },
    {
     "name": "stdout",
     "output_type": "stream",
     "text": [
      "  Line 4: Doctor de los Niños,\n",
      "\n",
      "📄 Processing page 17 (4 lines)\n"
     ]
    },
    {
     "data": {
      "text/plain": [
       "<Figure size 640x480 with 0 Axes>"
      ]
     },
     "metadata": {},
     "output_type": "display_data"
    },
    {
     "name": "stdout",
     "output_type": "stream",
     "text": [
      "  Line 1: criarra de la Niñor. Assi leal\n"
     ]
    },
    {
     "data": {
      "text/plain": [
       "<Figure size 640x480 with 0 Axes>"
      ]
     },
     "metadata": {},
     "output_type": "display_data"
    },
    {
     "name": "stdout",
     "output_type": "stream",
     "text": [
      "  Line 2: Divinifsimo Niño, por vuestra\n"
     ]
    },
    {
     "data": {
      "text/plain": [
       "<Figure size 640x480 with 0 Axes>"
      ]
     },
     "metadata": {},
     "output_type": "display_data"
    },
    {
     "name": "stdout",
     "output_type": "stream",
     "text": [
      "  Line 3: gracia, assi lea, á vuestra mas\n"
     ]
    },
    {
     "data": {
      "text/plain": [
       "<Figure size 640x480 with 0 Axes>"
      ]
     },
     "metadata": {},
     "output_type": "display_data"
    },
    {
     "name": "stdout",
     "output_type": "stream",
     "text": [
      "  Line 4: y or gloria, Amen,\n",
      "\n",
      "📄 Processing page 18 (4 lines)\n"
     ]
    },
    {
     "data": {
      "text/plain": [
       "<Figure size 640x480 with 0 Axes>"
      ]
     },
     "metadata": {},
     "output_type": "display_data"
    },
    {
     "name": "stdout",
     "output_type": "stream",
     "text": [
      "  Line 1: dio el acumino lo Marcial a sus escritos.\n"
     ]
    },
    {
     "data": {
      "text/plain": [
       "<Figure size 640x480 with 0 Axes>"
      ]
     },
     "metadata": {},
     "output_type": "display_data"
    },
    {
     "name": "stdout",
     "output_type": "stream",
     "text": [
      "  Line 2: Me manus una capit. Y como feria ne\n"
     ]
    },
    {
     "data": {
      "text/plain": [
       "<Figure size 640x480 with 0 Axes>"
      ]
     },
     "metadata": {},
     "output_type": "display_data"
    },
    {
     "name": "stdout",
     "output_type": "stream",
     "text": [
      "  Line 3: cedad, querer eltimar el valor de el dia\n"
     ]
    },
    {
     "data": {
      "text/plain": [
       "<Figure size 640x480 with 0 Axes>"
      ]
     },
     "metadata": {},
     "output_type": "display_data"
    },
    {
     "name": "stdout",
     "output_type": "stream",
     "text": [
      "  Line 4: mente, antes por la grandera, que no\n",
      "\n",
      "📄 Processing page 19 (4 lines)\n"
     ]
    },
    {
     "data": {
      "text/plain": [
       "<Figure size 640x480 with 0 Axes>"
      ]
     },
     "metadata": {},
     "output_type": "display_data"
    },
    {
     "name": "stdout",
     "output_type": "stream",
     "text": [
      "  Line 1: hemos de dar en otro mas severo cribuā\n"
     ]
    },
    {
     "data": {
      "text/plain": [
       "<Figure size 640x480 with 0 Axes>"
      ]
     },
     "metadata": {},
     "output_type": "display_data"
    },
    {
     "name": "stdout",
     "output_type": "stream",
     "text": [
      "  Line 2: nal. Quien a este pequeño volumen mī\n"
     ]
    },
    {
     "data": {
      "text/plain": [
       "<Figure size 640x480 with 0 Axes>"
      ]
     },
     "metadata": {},
     "output_type": "display_data"
    },
    {
     "name": "stdout",
     "output_type": "stream",
     "text": [
      "  Line 3: diere por el cuerpo, no le dara la esima\n"
     ]
    },
    {
     "data": {
      "text/plain": [
       "<Figure size 640x480 with 0 Axes>"
      ]
     },
     "metadata": {},
     "output_type": "display_data"
    },
    {
     "name": "stdout",
     "output_type": "stream",
     "text": [
      "  Line 4: cion, que le merece: pero quien a tendie\n",
      "\n",
      "📄 Processing page 20 (4 lines)\n"
     ]
    },
    {
     "data": {
      "text/plain": [
       "<Figure size 640x480 with 0 Axes>"
      ]
     },
     "metadata": {},
     "output_type": "display_data"
    },
    {
     "name": "stdout",
     "output_type": "stream",
     "text": [
      "  Line 1: Religión de la Compañia de Jesus, y la\n"
     ]
    },
    {
     "data": {
      "text/plain": [
       "<Figure size 640x480 with 0 Axes>"
      ]
     },
     "metadata": {},
     "output_type": "display_data"
    },
    {
     "name": "stdout",
     "output_type": "stream",
     "text": [
      "  Line 2: professare eternamente, como hijo el mas\n"
     ]
    },
    {
     "data": {
      "text/plain": [
       "<Figure size 640x480 with 0 Axes>"
      ]
     },
     "metadata": {},
     "output_type": "display_data"
    },
    {
     "name": "stdout",
     "output_type": "stream",
     "text": [
      "  Line 3: re conocido a tan escogida Madre. e me\n"
     ]
    },
    {
     "data": {
      "text/plain": [
       "<Figure size 640x480 with 0 Axes>"
      ]
     },
     "metadata": {},
     "output_type": "display_data"
    },
    {
     "name": "stdout",
     "output_type": "stream",
     "text": [
      "  Line 4: obligo a el cririr, y dar a la Estampa esta\n",
      "\n",
      "📄 Processing page 21 (5 lines)\n"
     ]
    },
    {
     "data": {
      "text/plain": [
       "<Figure size 640x480 with 0 Axes>"
      ]
     },
     "metadata": {},
     "output_type": "display_data"
    },
    {
     "name": "stdout",
     "output_type": "stream",
     "text": [
      "  Line 1: y de Aquel\n"
     ]
    },
    {
     "data": {
      "text/plain": [
       "<Figure size 640x480 with 0 Axes>"
      ]
     },
     "metadata": {},
     "output_type": "display_data"
    },
    {
     "name": "stdout",
     "output_type": "stream",
     "text": [
      "  Line 2: Alfonso -\n"
     ]
    },
    {
     "data": {
      "text/plain": [
       "<Figure size 640x480 with 0 Axes>"
      ]
     },
     "metadata": {},
     "output_type": "display_data"
    },
    {
     "name": "stdout",
     "output_type": "stream",
     "text": [
      "  Line 3: y pues en la celestial Jerusalem\n"
     ]
    },
    {
     "data": {
      "text/plain": [
       "<Figure size 640x480 with 0 Axes>"
      ]
     },
     "metadata": {},
     "output_type": "display_data"
    },
    {
     "name": "stdout",
     "output_type": "stream",
     "text": [
      "  Line 4: salen no ha mudado de condicion\n"
     ]
    },
    {
     "data": {
      "text/plain": [
       "<Figure size 640x480 with 0 Axes>"
      ]
     },
     "metadata": {},
     "output_type": "display_data"
    },
    {
     "name": "stdout",
     "output_type": "stream",
     "text": [
      "  Line 5: vuestra Beniguidad, proleguid,\n",
      "\n",
      "📄 Processing page 22 (4 lines)\n"
     ]
    },
    {
     "data": {
      "text/plain": [
       "<Figure size 640x480 with 0 Axes>"
      ]
     },
     "metadata": {},
     "output_type": "display_data"
    },
    {
     "name": "stdout",
     "output_type": "stream",
     "text": [
      "  Line 1: mas rendida, & la modestia, y de\n"
     ]
    },
    {
     "data": {
      "text/plain": [
       "<Figure size 640x480 with 0 Axes>"
      ]
     },
     "metadata": {},
     "output_type": "display_data"
    },
    {
     "name": "stdout",
     "output_type": "stream",
     "text": [
      "  Line 2: deo de saber, con los mayores,\n"
     ]
    },
    {
     "data": {
      "text/plain": [
       "<Figure size 640x480 with 0 Axes>"
      ]
     },
     "metadata": {},
     "output_type": "display_data"
    },
    {
     "name": "stdout",
     "output_type": "stream",
     "text": [
      "  Line 3: gustando mas de Or, y pregun.\n"
     ]
    },
    {
     "data": {
      "text/plain": [
       "<Figure size 640x480 with 0 Axes>"
      ]
     },
     "metadata": {},
     "output_type": "display_data"
    },
    {
     "name": "stdout",
     "output_type": "stream",
     "text": [
      "  Line 4: rar, que de de finir, y relolver. Bien\n",
      "\n",
      "📄 Processing page 23 (2 lines)\n"
     ]
    },
    {
     "data": {
      "text/plain": [
       "<Figure size 640x480 with 0 Axes>"
      ]
     },
     "metadata": {},
     "output_type": "display_data"
    },
    {
     "name": "stdout",
     "output_type": "stream",
     "text": [
      "  Line 1: E el Osorio de De Compañia de fizorio, el casa\n"
     ]
    },
    {
     "data": {
      "text/plain": [
       "<Figure size 640x480 with 0 Axes>"
      ]
     },
     "metadata": {},
     "output_type": "display_data"
    },
    {
     "name": "stdout",
     "output_type": "stream",
     "text": [
      "  Line 2: E por ouo fue los Theodos de Coronningados\n",
      "\n",
      "📄 Processing page 24 (5 lines)\n"
     ]
    },
    {
     "data": {
      "text/plain": [
       "<Figure size 640x480 with 0 Axes>"
      ]
     },
     "metadata": {},
     "output_type": "display_data"
    },
    {
     "name": "stdout",
     "output_type": "stream",
     "text": [
      "  Line 1: buenas columbres, sino que muy aceno\n"
     ]
    },
    {
     "data": {
      "text/plain": [
       "<Figure size 640x480 with 0 Axes>"
      ]
     },
     "metadata": {},
     "output_type": "display_data"
    },
    {
     "name": "stdout",
     "output_type": "stream",
     "text": [
      "  Line 2: el Author con entrambas, describe, y en\n"
     ]
    },
    {
     "data": {
      "text/plain": [
       "<Figure size 640x480 with 0 Axes>"
      ]
     },
     "metadata": {},
     "output_type": "display_data"
    },
    {
     "name": "stdout",
     "output_type": "stream",
     "text": [
      "  Line 3: leha tan cuita, y discreteta la Virtud, co -\n"
     ]
    },
    {
     "data": {
      "text/plain": [
       "<Figure size 640x480 with 0 Axes>"
      ]
     },
     "metadata": {},
     "output_type": "display_data"
    },
    {
     "name": "stdout",
     "output_type": "stream",
     "text": [
      "  Line 4: mo lanca la Policia, y Urbandad. Los\n"
     ]
    },
    {
     "data": {
      "text/plain": [
       "<Figure size 640x480 with 0 Axes>"
      ]
     },
     "metadata": {},
     "output_type": "display_data"
    },
    {
     "name": "stdout",
     "output_type": "stream",
     "text": [
      "  Line 5: señoricos, que le criaron con estos do-\n",
      "\n",
      "📄 Processing page 25 (2 lines)\n"
     ]
    },
    {
     "data": {
      "text/plain": [
       "<Figure size 640x480 with 0 Axes>"
      ]
     },
     "metadata": {},
     "output_type": "display_data"
    },
    {
     "name": "stdout",
     "output_type": "stream",
     "text": [
      "  Line 1: responde en rodo con su original. Madrid\n"
     ]
    },
    {
     "data": {
      "text/plain": [
       "<Figure size 640x480 with 0 Axes>"
      ]
     },
     "metadata": {},
     "output_type": "display_data"
    },
    {
     "name": "stdout",
     "output_type": "stream",
     "text": [
      "  Line 2: ña ro, de Agollo de 1740. E\n",
      "\n",
      "📄 Processing page 26 (4 lines)\n"
     ]
    },
    {
     "data": {
      "text/plain": [
       "<Figure size 640x480 with 0 Axes>"
      ]
     },
     "metadata": {},
     "output_type": "display_data"
    },
    {
     "name": "stdout",
     "output_type": "stream",
     "text": [
      "  Line 1: Infinacion para lus señores Colegiales,\n"
     ]
    },
    {
     "data": {
      "text/plain": [
       "<Figure size 640x480 with 0 Axes>"
      ]
     },
     "metadata": {},
     "output_type": "display_data"
    },
    {
     "name": "stdout",
     "output_type": "stream",
     "text": [
      "  Line 2: sin que por esso le niegue a lervir a los de\n"
     ]
    },
    {
     "data": {
      "text/plain": [
       "<Figure size 640x480 with 0 Axes>"
      ]
     },
     "metadata": {},
     "output_type": "display_data"
    },
    {
     "name": "stdout",
     "output_type": "stream",
     "text": [
      "  Line 3: mas señoricos, que no lo fueren. Y aun\n"
     ]
    },
    {
     "data": {
      "text/plain": [
       "<Figure size 640x480 with 0 Axes>"
      ]
     },
     "metadata": {},
     "output_type": "display_data"
    },
    {
     "name": "stdout",
     "output_type": "stream",
     "text": [
      "  Line 4: que la Compañia, mas por su conocida\n",
      "\n",
      "📄 Processing page 27 (3 lines)\n"
     ]
    },
    {
     "data": {
      "text/plain": [
       "<Figure size 640x480 with 0 Axes>"
      ]
     },
     "metadata": {},
     "output_type": "display_data"
    },
    {
     "name": "stdout",
     "output_type": "stream",
     "text": [
      "  Line 1: Dle vs. Fulli,. 148. ¶.\n"
     ]
    },
    {
     "data": {
      "text/plain": [
       "<Figure size 640x480 with 0 Axes>"
      ]
     },
     "metadata": {},
     "output_type": "display_data"
    },
    {
     "name": "stdout",
     "output_type": "stream",
     "text": [
      "  Line 2: Amprimatur\n"
     ]
    },
    {
     "data": {
      "text/plain": [
       "<Figure size 640x480 with 0 Axes>"
      ]
     },
     "metadata": {},
     "output_type": "display_data"
    },
    {
     "name": "stdout",
     "output_type": "stream",
     "text": [
      "  Line 3: De Bostero Vie. Gen. E Offis.\n",
      "\n",
      "📄 Processing page 28 (3 lines)\n"
     ]
    },
    {
     "data": {
      "text/plain": [
       "<Figure size 640x480 with 0 Axes>"
      ]
     },
     "metadata": {},
     "output_type": "display_data"
    },
    {
     "name": "stdout",
     "output_type": "stream",
     "text": [
      "  Line 1: Caballero muy señorio, que codo lo, en el\n"
     ]
    },
    {
     "data": {
      "text/plain": [
       "<Figure size 640x480 with 0 Axes>"
      ]
     },
     "metadata": {},
     "output_type": "display_data"
    },
    {
     "name": "stdout",
     "output_type": "stream",
     "text": [
      "  Line 2: rece el Correlano Zelo del Author muchas\n"
     ]
    },
    {
     "data": {
      "text/plain": [
       "<Figure size 640x480 with 0 Axes>"
      ]
     },
     "metadata": {},
     "output_type": "display_data"
    },
    {
     "name": "stdout",
     "output_type": "stream",
     "text": [
      "  Line 3: gracias de quantos le interellan en tan\n",
      "\n",
      "📄 Processing page 29 (4 lines)\n"
     ]
    },
    {
     "data": {
      "text/plain": [
       "<Figure size 640x480 with 0 Axes>"
      ]
     },
     "metadata": {},
     "output_type": "display_data"
    },
    {
     "name": "stdout",
     "output_type": "stream",
     "text": [
      "  Line 1: cion. Vos, como fingular Maes\n"
     ]
    },
    {
     "data": {
      "text/plain": [
       "<Figure size 640x480 with 0 Axes>"
      ]
     },
     "metadata": {},
     "output_type": "display_data"
    },
    {
     "name": "stdout",
     "output_type": "stream",
     "text": [
      "  Line 2: tro de los Niños, les dais enten-\n"
     ]
    },
    {
     "data": {
      "text/plain": [
       "<Figure size 640x480 with 0 Axes>"
      ]
     },
     "metadata": {},
     "output_type": "display_data"
    },
    {
     "name": "stdout",
     "output_type": "stream",
     "text": [
      "  Line 3: dimiento, y comunicais la sabi-\n"
     ]
    },
    {
     "data": {
      "text/plain": [
       "<Figure size 640x480 with 0 Axes>"
      ]
     },
     "metadata": {},
     "output_type": "display_data"
    },
    {
     "name": "stdout",
     "output_type": "stream",
     "text": [
      "  Line 4: doria Vos les prometeis el Reyno\n",
      "\n",
      "📄 Processing page 30 (4 lines)\n"
     ]
    },
    {
     "data": {
      "text/plain": [
       "<Figure size 640x480 with 0 Axes>"
      ]
     },
     "metadata": {},
     "output_type": "display_data"
    },
    {
     "name": "stdout",
     "output_type": "stream",
     "text": [
      "  Line 1: tos, que no entra vuestra sabi-\n"
     ]
    },
    {
     "data": {
      "text/plain": [
       "<Figure size 640x480 with 0 Axes>"
      ]
     },
     "metadata": {},
     "output_type": "display_data"
    },
    {
     "name": "stdout",
     "output_type": "stream",
     "text": [
      "  Line 2: daria, donde no ay mucha pure.\n"
     ]
    },
    {
     "data": {
      "text/plain": [
       "<Figure size 640x480 with 0 Axes>"
      ]
     },
     "metadata": {},
     "output_type": "display_data"
    },
    {
     "name": "stdout",
     "output_type": "stream",
     "text": [
      "  Line 3: era de conciencia. Ciercan en\n"
     ]
    },
    {
     "data": {
      "text/plain": [
       "<Figure size 640x480 with 0 Axes>"
      ]
     },
     "metadata": {},
     "output_type": "display_data"
    },
    {
     "name": "stdout",
     "output_type": "stream",
     "text": [
      "  Line 4: venestro santo temor, y amor, co-\n",
      "\n",
      "📄 Processing page 31 (3 lines)\n"
     ]
    },
    {
     "data": {
      "text/plain": [
       "<Figure size 640x480 with 0 Axes>"
      ]
     },
     "metadata": {},
     "output_type": "display_data"
    },
    {
     "name": "stdout",
     "output_type": "stream",
     "text": [
      "  Line 1: petiridad Con el suffruccion de Christiania y\n"
     ]
    },
    {
     "data": {
      "text/plain": [
       "<Figure size 640x480 with 0 Axes>"
      ]
     },
     "metadata": {},
     "output_type": "display_data"
    },
    {
     "name": "stdout",
     "output_type": "stream",
     "text": [
      "  Line 2: te concta de su original. Madrid, y Julio\n"
     ]
    },
    {
     "data": {
      "text/plain": [
       "<Figure size 640x480 with 0 Axes>"
      ]
     },
     "metadata": {},
     "output_type": "display_data"
    },
    {
     "name": "stdout",
     "output_type": "stream",
     "text": [
      "  Line 3: ña 8 de r740. e dixo a\n",
      "\n",
      "📄 Processing page 32 (4 lines)\n"
     ]
    },
    {
     "data": {
      "text/plain": [
       "<Figure size 640x480 with 0 Axes>"
      ]
     },
     "metadata": {},
     "output_type": "display_data"
    },
    {
     "name": "stdout",
     "output_type": "stream",
     "text": [
      "  Line 1: penola, que provechola, para guardarō\n"
     ]
    },
    {
     "data": {
      "text/plain": [
       "<Figure size 640x480 with 0 Axes>"
      ]
     },
     "metadata": {},
     "output_type": "display_data"
    },
    {
     "name": "stdout",
     "output_type": "stream",
     "text": [
      "  Line 2: des del mal, e infruirles en el bien, y que\n"
     ]
    },
    {
     "data": {
      "text/plain": [
       "<Figure size 640x480 with 0 Axes>"
      ]
     },
     "metadata": {},
     "output_type": "display_data"
    },
    {
     "name": "stdout",
     "output_type": "stream",
     "text": [
      "  Line 3: por esso les enseñalas buenas letras, para\n"
     ]
    },
    {
     "data": {
      "text/plain": [
       "<Figure size 640x480 with 0 Axes>"
      ]
     },
     "metadata": {},
     "output_type": "display_data"
    },
    {
     "name": "stdout",
     "output_type": "stream",
     "text": [
      "  Line 4: Alfonso -\n",
      "\n",
      "📄 Processing page 33 (4 lines)\n"
     ]
    },
    {
     "data": {
      "text/plain": [
       "<Figure size 640x480 with 0 Axes>"
      ]
     },
     "metadata": {},
     "output_type": "display_data"
    },
    {
     "name": "stdout",
     "output_type": "stream",
     "text": [
      "  Line 1: dad. E el reina rei don siempe\n"
     ]
    },
    {
     "data": {
      "text/plain": [
       "<Figure size 640x480 with 0 Axes>"
      ]
     },
     "metadata": {},
     "output_type": "display_data"
    },
    {
     "name": "stdout",
     "output_type": "stream",
     "text": [
      "  Line 2: eNi tienen solamente en Vos\n"
     ]
    },
    {
     "data": {
      "text/plain": [
       "<Figure size 640x480 with 0 Axes>"
      ]
     },
     "metadata": {},
     "output_type": "display_data"
    },
    {
     "name": "stdout",
     "output_type": "stream",
     "text": [
      "  Line 3: el diseno, la lar, y el exemplo,\n"
     ]
    },
    {
     "data": {
      "text/plain": [
       "<Figure size 640x480 with 0 Axes>"
      ]
     },
     "metadata": {},
     "output_type": "display_data"
    },
    {
     "name": "stdout",
     "output_type": "stream",
     "text": [
      "  Line 4: dino tambien el amor, y protec -\n",
      "\n",
      "📄 Processing page 34 (2 lines)\n"
     ]
    },
    {
     "data": {
      "text/plain": [
       "<Figure size 640x480 with 0 Axes>"
      ]
     },
     "metadata": {},
     "output_type": "display_data"
    },
    {
     "name": "stdout",
     "output_type": "stream",
     "text": [
      "  Line 1: tomarnos diariameme cuenta de todas las\n"
     ]
    },
    {
     "data": {
      "text/plain": [
       "<Figure size 640x480 with 0 Axes>"
      ]
     },
     "metadata": {},
     "output_type": "display_data"
    },
    {
     "name": "stdout",
     "output_type": "stream",
     "text": [
      "  Line 2: partidas del cargo, y del cargo, como la\n",
      "\n",
      "📄 Processing page 35 (4 lines)\n"
     ]
    },
    {
     "data": {
      "text/plain": [
       "<Figure size 640x480 with 0 Axes>"
      ]
     },
     "metadata": {},
     "output_type": "display_data"
    },
    {
     "name": "stdout",
     "output_type": "stream",
     "text": [
      "  Line 1: no pudo explicarle mas tierno, y\n"
     ]
    },
    {
     "data": {
      "text/plain": [
       "<Figure size 640x480 with 0 Axes>"
      ]
     },
     "metadata": {},
     "output_type": "display_data"
    },
    {
     "name": "stdout",
     "output_type": "stream",
     "text": [
      "  Line 2: liberal con los Niños, pues no\n"
     ]
    },
    {
     "data": {
      "text/plain": [
       "<Figure size 640x480 with 0 Axes>"
      ]
     },
     "metadata": {},
     "output_type": "display_data"
    },
    {
     "name": "stdout",
     "output_type": "stream",
     "text": [
      "  Line 3: contenço de echarles vuefras dixo\n"
     ]
    },
    {
     "data": {
      "text/plain": [
       "<Figure size 640x480 with 0 Axes>"
      ]
     },
     "metadata": {},
     "output_type": "display_data"
    },
    {
     "name": "stdout",
     "output_type": "stream",
     "text": [
      "  Line 4: Alfonso -\n",
      "\n",
      "📄 Processing page 36 (4 lines)\n"
     ]
    },
    {
     "data": {
      "text/plain": [
       "<Figure size 640x480 with 0 Axes>"
      ]
     },
     "metadata": {},
     "output_type": "display_data"
    },
    {
     "name": "stdout",
     "output_type": "stream",
     "text": [
      "  Line 1: M. P. S.\n"
     ]
    },
    {
     "data": {
      "text/plain": [
       "<Figure size 640x480 with 0 Axes>"
      ]
     },
     "metadata": {},
     "output_type": "display_data"
    },
    {
     "name": "stdout",
     "output_type": "stream",
     "text": [
      "  Line 2: dE orden de V. A he visto el librio //\n"
     ]
    },
    {
     "data": {
      "text/plain": [
       "<Figure size 640x480 with 0 Axes>"
      ]
     },
     "metadata": {},
     "output_type": "display_data"
    },
    {
     "name": "stdout",
     "output_type": "stream",
     "text": [
      "  Line 3: L que con el titulo de Politics, y Chris.\n"
     ]
    },
    {
     "data": {
      "text/plain": [
       "<Figure size 640x480 with 0 Axes>"
      ]
     },
     "metadata": {},
     "output_type": "display_data"
    },
    {
     "name": "stdout",
     "output_type": "stream",
     "text": [
      "  Line 4: tiana Cortesania, etc. de lea lacar a lue el\n",
      "\n",
      "📄 Processing page 37 (3 lines)\n"
     ]
    },
    {
     "data": {
      "text/plain": [
       "<Figure size 640x480 with 0 Axes>"
      ]
     },
     "metadata": {},
     "output_type": "display_data"
    },
    {
     "name": "stdout",
     "output_type": "stream",
     "text": [
      "  Line 1: pre, de ccc. Barcelona, y Junio 14. de.178\n"
     ]
    },
    {
     "data": {
      "text/plain": [
       "<Figure size 640x480 with 0 Axes>"
      ]
     },
     "metadata": {},
     "output_type": "display_data"
    },
    {
     "name": "stdout",
     "output_type": "stream",
     "text": [
      "  Line 2: l M Mariano Alberich de la\n"
     ]
    },
    {
     "data": {
      "text/plain": [
       "<Figure size 640x480 with 0 Axes>"
      ]
     },
     "metadata": {},
     "output_type": "display_data"
    },
    {
     "name": "stdout",
     "output_type": "stream",
     "text": [
      "  Line 3: 232 Compañia de fesus.\n",
      "\n",
      "📄 Processing page 38 (4 lines)\n"
     ]
    },
    {
     "data": {
      "text/plain": [
       "<Figure size 640x480 with 0 Axes>"
      ]
     },
     "metadata": {},
     "output_type": "display_data"
    },
    {
     "name": "stdout",
     "output_type": "stream",
     "text": [
      "  Line 1: flfino tambien de alsid-\n"
     ]
    },
    {
     "data": {
      "text/plain": [
       "<Figure size 640x480 with 0 Axes>"
      ]
     },
     "metadata": {},
     "output_type": "display_data"
    },
    {
     "name": "stdout",
     "output_type": "stream",
     "text": [
      "  Line 2: rir como Nuño entre los Doctors,\n"
     ]
    },
    {
     "data": {
      "text/plain": [
       "<Figure size 640x480 with 0 Axes>"
      ]
     },
     "metadata": {},
     "output_type": "display_data"
    },
    {
     "name": "stdout",
     "output_type": "stream",
     "text": [
      "  Line 3: de consagra humilde esta pequeña\n"
     ]
    },
    {
     "data": {
      "text/plain": [
       "<Figure size 640x480 with 0 Axes>"
      ]
     },
     "metadata": {},
     "output_type": "display_data"
    },
    {
     "name": "stdout",
     "output_type": "stream",
     "text": [
      "  Line 4: Inferuccion de los Nifos. Es assi,\n",
      "\n",
      "📄 Processing page 39 (4 lines)\n"
     ]
    },
    {
     "data": {
      "text/plain": [
       "<Figure size 640x480 with 0 Axes>"
      ]
     },
     "metadata": {},
     "output_type": "display_data"
    },
    {
     "name": "stdout",
     "output_type": "stream",
     "text": [
      "  Line 1: de los Cielos, yos indignais con\n"
     ]
    },
    {
     "data": {
      "text/plain": [
       "<Figure size 640x480 with 0 Axes>"
      ]
     },
     "metadata": {},
     "output_type": "display_data"
    },
    {
     "name": "stdout",
     "output_type": "stream",
     "text": [
      "  Line 2: quien les aparta de Vos, y les\n"
     ]
    },
    {
     "data": {
      "text/plain": [
       "<Figure size 640x480 with 0 Axes>"
      ]
     },
     "metadata": {},
     "output_type": "display_data"
    },
    {
     "name": "stdout",
     "output_type": "stream",
     "text": [
      "  Line 3: proponais por normal del con-\n"
     ]
    },
    {
     "data": {
      "text/plain": [
       "<Figure size 640x480 with 0 Axes>"
      ]
     },
     "metadata": {},
     "output_type": "display_data"
    },
    {
     "name": "stdout",
     "output_type": "stream",
     "text": [
      "  Line 4: dor, ingoencia, y christiana mu\n",
      "\n",
      "📄 Processing page 40 (2 lines)\n"
     ]
    },
    {
     "data": {
      "text/plain": [
       "<Figure size 640x480 with 0 Axes>"
      ]
     },
     "metadata": {},
     "output_type": "display_data"
    },
    {
     "name": "stdout",
     "output_type": "stream",
     "text": [
      "  Line 1: auna del Privilegio.\n"
     ]
    },
    {
     "data": {
      "text/plain": [
       "<Figure size 640x480 with 0 Axes>"
      ]
     },
     "metadata": {},
     "output_type": "display_data"
    },
    {
     "name": "stdout",
     "output_type": "stream",
     "text": [
      "  Line 2: Elfonso dio Aglesia de la Maglesia Don\n",
      "\n",
      "📄 Processing page 41 (4 lines)\n"
     ]
    },
    {
     "data": {
      "text/plain": [
       "<Figure size 640x480 with 0 Axes>"
      ]
     },
     "metadata": {},
     "output_type": "display_data"
    },
    {
     "name": "stdout",
     "output_type": "stream",
     "text": [
      "  Line 1: Censora del R. P. mariano al bra\n"
     ]
    },
    {
     "data": {
      "text/plain": [
       "<Figure size 640x480 with 0 Axes>"
      ]
     },
     "metadata": {},
     "output_type": "display_data"
    },
    {
     "name": "stdout",
     "output_type": "stream",
     "text": [
      "  Line 2: rich de la Compañia de Fesus, Cathedral\n"
     ]
    },
    {
     "data": {
      "text/plain": [
       "<Figure size 640x480 with 0 Axes>"
      ]
     },
     "metadata": {},
     "output_type": "display_data"
    },
    {
     "name": "stdout",
     "output_type": "stream",
     "text": [
      "  Line 3: tico antes de Theologicia en el Colegio de\n"
     ]
    },
    {
     "data": {
      "text/plain": [
       "<Figure size 640x480 with 0 Axes>"
      ]
     },
     "metadata": {},
     "output_type": "display_data"
    },
    {
     "name": "stdout",
     "output_type": "stream",
     "text": [
      "  Line 4: Borcelona, ( oy Prefecto de sus E fu dios\n",
      "\n",
      "📄 Processing page 42 (5 lines)\n"
     ]
    },
    {
     "data": {
      "text/plain": [
       "<Figure size 640x480 with 0 Axes>"
      ]
     },
     "metadata": {},
     "output_type": "display_data"
    },
    {
     "name": "stdout",
     "output_type": "stream",
     "text": [
      "  Line 1: Alfonso alfonso a la tierra\n"
     ]
    },
    {
     "data": {
      "text/plain": [
       "<Figure size 640x480 with 0 Axes>"
      ]
     },
     "metadata": {},
     "output_type": "display_data"
    },
    {
     "name": "stdout",
     "output_type": "stream",
     "text": [
      "  Line 2: Vicaidad En el su sañor de la su dio qe señor\n"
     ]
    },
    {
     "data": {
      "text/plain": [
       "<Figure size 640x480 with 0 Axes>"
      ]
     },
     "metadata": {},
     "output_type": "display_data"
    },
    {
     "name": "stdout",
     "output_type": "stream",
     "text": [
      "  Line 3: D. Balthafar de Baltero y Lledo, Obispo\n"
     ]
    },
    {
     "data": {
      "text/plain": [
       "<Figure size 640x480 with 0 Axes>"
      ]
     },
     "metadata": {},
     "output_type": "display_data"
    },
    {
     "name": "stdout",
     "output_type": "stream",
     "text": [
      "  Line 4: de Gerona, del Consejo de su Magestad, de ca\n"
     ]
    },
    {
     "data": {
      "text/plain": [
       "<Figure size 640x480 with 0 Axes>"
      ]
     },
     "metadata": {},
     "output_type": "display_data"
    },
    {
     "name": "stdout",
     "output_type": "stream",
     "text": [
      "  Line 5: He visto en librio, cuyo circulo es. Ensi\n",
      "\n",
      "📄 Processing page 43 (3 lines)\n"
     ]
    },
    {
     "data": {
      "text/plain": [
       "<Figure size 640x480 with 0 Axes>"
      ]
     },
     "metadata": {},
     "output_type": "display_data"
    },
    {
     "name": "stdout",
     "output_type": "stream",
     "text": [
      "  Line 1: Christiana, y Politics Cortesania, a leis\n"
     ]
    },
    {
     "data": {
      "text/plain": [
       "<Figure size 640x480 with 0 Axes>"
      ]
     },
     "metadata": {},
     "output_type": "display_data"
    },
    {
     "name": "stdout",
     "output_type": "stream",
     "text": [
      "  Line 2: mugaredis de dios llego doño reina de dios\n"
     ]
    },
    {
     "data": {
      "text/plain": [
       "<Figure size 640x480 with 0 Axes>"
      ]
     },
     "metadata": {},
     "output_type": "display_data"
    },
    {
     "name": "stdout",
     "output_type": "stream",
     "text": [
      "  Line 3: d De Pedro Manuel de Contreras.\n",
      "\n",
      "📄 Processing page 44 (4 lines)\n"
     ]
    },
    {
     "data": {
      "text/plain": [
       "<Figure size 640x480 with 0 Axes>"
      ]
     },
     "metadata": {},
     "output_type": "display_data"
    },
    {
     "name": "stdout",
     "output_type": "stream",
     "text": [
      "  Line 1: el rei don sancho e el rei don sancho el rei don grā\n"
     ]
    },
    {
     "data": {
      "text/plain": [
       "<Figure size 640x480 with 0 Axes>"
      ]
     },
     "metadata": {},
     "output_type": "display_data"
    },
    {
     "name": "stdout",
     "output_type": "stream",
     "text": [
      "  Line 2: Pee de Erraras.\n"
     ]
    },
    {
     "data": {
      "text/plain": [
       "<Figure size 640x480 with 0 Axes>"
      ]
     },
     "metadata": {},
     "output_type": "display_data"
    },
    {
     "name": "stdout",
     "output_type": "stream",
     "text": [
      "  Line 3: sse libro, inclado. Instruction de\n"
     ]
    },
    {
     "data": {
      "text/plain": [
       "<Figure size 640x480 with 0 Axes>"
      ]
     },
     "metadata": {},
     "output_type": "display_data"
    },
    {
     "name": "stdout",
     "output_type": "stream",
     "text": [
      "  Line 4: Christiana, y Politics Cortesania, cor-\n",
      "\n",
      "📄 Processing page 45 (4 lines)\n"
     ]
    },
    {
     "data": {
      "text/plain": [
       "<Figure size 640x480 with 0 Axes>"
      ]
     },
     "metadata": {},
     "output_type": "display_data"
    },
    {
     "name": "stdout",
     "output_type": "stream",
     "text": [
      "  Line 1: familiares, que le dexan trarar a todas\n"
     ]
    },
    {
     "data": {
      "text/plain": [
       "<Figure size 640x480 with 0 Axes>"
      ]
     },
     "metadata": {},
     "output_type": "display_data"
    },
    {
     "name": "stdout",
     "output_type": "stream",
     "text": [
      "  Line 2: moras, compañeros imperables de sus\n"
     ]
    },
    {
     "data": {
      "text/plain": [
       "<Figure size 640x480 with 0 Axes>"
      ]
     },
     "metadata": {},
     "output_type": "display_data"
    },
    {
     "name": "stdout",
     "output_type": "stream",
     "text": [
      "  Line 3: dueños, los quales ya en las cubiertas\n"
     ]
    },
    {
     "data": {
      "text/plain": [
       "<Figure size 640x480 with 0 Axes>"
      ]
     },
     "metadata": {},
     "output_type": "display_data"
    },
    {
     "name": "stdout",
     "output_type": "stream",
     "text": [
      "  Line 4: llevan aquella inscription, o el ogio, que\n",
      "\n",
      "📄 Processing page 46 (4 lines)\n"
     ]
    },
    {
     "data": {
      "text/plain": [
       "<Figure size 640x480 with 0 Axes>"
      ]
     },
     "metadata": {},
     "output_type": "display_data"
    },
    {
     "name": "stdout",
     "output_type": "stream",
     "text": [
      "  Line 1: cumenços, mereceran, quando hombres,\n"
     ]
    },
    {
     "data": {
      "text/plain": [
       "<Figure size 640x480 with 0 Axes>"
      ]
     },
     "metadata": {},
     "output_type": "display_data"
    },
    {
     "name": "stdout",
     "output_type": "stream",
     "text": [
      "  Line 2: a ver nacido señores. Porque no solo la\n"
     ]
    },
    {
     "data": {
      "text/plain": [
       "<Figure size 640x480 with 0 Axes>"
      ]
     },
     "metadata": {},
     "output_type": "display_data"
    },
    {
     "name": "stdout",
     "output_type": "stream",
     "text": [
      "  Line 3: bran ser Caballeros, fino tambien á los\n"
     ]
    },
    {
     "data": {
      "text/plain": [
       "<Figure size 640x480 with 0 Axes>"
      ]
     },
     "metadata": {},
     "output_type": "display_data"
    },
    {
     "name": "stdout",
     "output_type": "stream",
     "text": [
      "  Line 4: Alfonso -\n",
      "\n",
      "📄 Processing page 47 (3 lines)\n"
     ]
    },
    {
     "data": {
      "text/plain": [
       "<Figure size 640x480 with 0 Axes>"
      ]
     },
     "metadata": {},
     "output_type": "display_data"
    },
    {
     "name": "stdout",
     "output_type": "stream",
     "text": [
      "  Line 1: lo que de ben estudiar. Por este lo\n"
     ]
    },
    {
     "data": {
      "text/plain": [
       "<Figure size 640x480 with 0 Axes>"
      ]
     },
     "metadata": {},
     "output_type": "display_data"
    },
    {
     "name": "stdout",
     "output_type": "stream",
     "text": [
      "  Line 2: despero Ninos, que con fijas por\n"
     ]
    },
    {
     "data": {
      "text/plain": [
       "<Figure size 640x480 with 0 Axes>"
      ]
     },
     "metadata": {},
     "output_type": "display_data"
    },
    {
     "name": "stdout",
     "output_type": "stream",
     "text": [
      "  Line 3: educacion de vuestra Compañia,\n",
      "\n",
      "📄 Processing page 48 (4 lines)\n"
     ]
    },
    {
     "data": {
      "text/plain": [
       "<Figure size 640x480 with 0 Axes>"
      ]
     },
     "metadata": {},
     "output_type": "display_data"
    },
    {
     "name": "stdout",
     "output_type": "stream",
     "text": [
      "  Line 1: que ella cambien le dirige á la ju\n"
     ]
    },
    {
     "data": {
      "text/plain": [
       "<Figure size 640x480 with 0 Axes>"
      ]
     },
     "metadata": {},
     "output_type": "display_data"
    },
    {
     "name": "stdout",
     "output_type": "stream",
     "text": [
      "  Line 2: vencud, pero a esta, como recuer -\n"
     ]
    },
    {
     "data": {
      "text/plain": [
       "<Figure size 640x480 with 0 Axes>"
      ]
     },
     "metadata": {},
     "output_type": "display_data"
    },
    {
     "name": "stdout",
     "output_type": "stream",
     "text": [
      "  Line 3: do de lo que aprendio, a los Ni-\n"
     ]
    },
    {
     "data": {
      "text/plain": [
       "<Figure size 640x480 with 0 Axes>"
      ]
     },
     "metadata": {},
     "output_type": "display_data"
    },
    {
     "name": "stdout",
     "output_type": "stream",
     "text": [
      "  Line 4: chos, como precila explicacion de\n",
      "\n",
      "📄 Processing page 49 (2 lines)\n"
     ]
    },
    {
     "data": {
      "text/plain": [
       "<Figure size 640x480 with 0 Axes>"
      ]
     },
     "metadata": {},
     "output_type": "display_data"
    },
    {
     "name": "stdout",
     "output_type": "stream",
     "text": [
      "  Line 1: da su feliridad en la acercada\n"
     ]
    },
    {
     "data": {
      "text/plain": [
       "<Figure size 640x480 with 0 Axes>"
      ]
     },
     "metadata": {},
     "output_type": "display_data"
    },
    {
     "name": "stdout",
     "output_type": "stream",
     "text": [
      "  Line 2: 63 ¶ 148 ¶\n",
      "\n",
      "📄 Processing page 50 (2 lines)\n"
     ]
    },
    {
     "data": {
      "text/plain": [
       "<Figure size 640x480 with 0 Axes>"
      ]
     },
     "metadata": {},
     "output_type": "display_data"
    },
    {
     "name": "stdout",
     "output_type": "stream",
     "text": [
      "  Line 1: mo rivo del author, e razon\n"
     ]
    },
    {
     "data": {
      "text/plain": [
       "<Figure size 640x480 with 0 Axes>"
      ]
     },
     "metadata": {},
     "output_type": "display_data"
    },
    {
     "name": "stdout",
     "output_type": "stream",
     "text": [
      "  Line 2: 73 de la Obra. E el reino\n",
      "\n",
      "📄 Processing page 51 (4 lines)\n"
     ]
    },
    {
     "data": {
      "text/plain": [
       "<Figure size 640x480 with 0 Axes>"
      ]
     },
     "metadata": {},
     "output_type": "display_data"
    },
    {
     "name": "stdout",
     "output_type": "stream",
     "text": [
      "  Line 1: do Niño tierno, y Dios Eterno,\n"
     ]
    },
    {
     "data": {
      "text/plain": [
       "<Figure size 640x480 with 0 Axes>"
      ]
     },
     "metadata": {},
     "output_type": "display_data"
    },
    {
     "name": "stdout",
     "output_type": "stream",
     "text": [
      "  Line 2: proleguid en bendecirles, y favo -\n"
     ]
    },
    {
     "data": {
      "text/plain": [
       "<Figure size 640x480 with 0 Axes>"
      ]
     },
     "metadata": {},
     "output_type": "display_data"
    },
    {
     "name": "stdout",
     "output_type": "stream",
     "text": [
      "  Line 3: recerles. Sean tan fervorio la men\n"
     ]
    },
    {
     "data": {
      "text/plain": [
       "<Figure size 640x480 with 0 Axes>"
      ]
     },
     "metadata": {},
     "output_type": "display_data"
    },
    {
     "name": "stdout",
     "output_type": "stream",
     "text": [
      "  Line 4: te de vocos de vuestra Admirable\n",
      "\n",
      "📄 Processing page 52 (4 lines)\n"
     ]
    },
    {
     "data": {
      "text/plain": [
       "<Figure size 640x480 with 0 Axes>"
      ]
     },
     "metadata": {},
     "output_type": "display_data"
    },
    {
     "name": "stdout",
     "output_type": "stream",
     "text": [
      "  Line 1: lo es mucho mas. En Vos, Dini\n"
     ]
    },
    {
     "data": {
      "text/plain": [
       "<Figure size 640x480 with 0 Axes>"
      ]
     },
     "metadata": {},
     "output_type": "display_data"
    },
    {
     "name": "stdout",
     "output_type": "stream",
     "text": [
      "  Line 2: no Exemplar de todas las virea -\n"
     ]
    },
    {
     "data": {
      "text/plain": [
       "<Figure size 640x480 with 0 Axes>"
      ]
     },
     "metadata": {},
     "output_type": "display_data"
    },
    {
     "name": "stdout",
     "output_type": "stream",
     "text": [
      "  Line 3: des, tienen abreviado el mas le\n"
     ]
    },
    {
     "data": {
      "text/plain": [
       "<Figure size 640x480 with 0 Axes>"
      ]
     },
     "metadata": {},
     "output_type": "display_data"
    },
    {
     "name": "stdout",
     "output_type": "stream",
     "text": [
      "  Line 4: 73 ¶ De ouo\n",
      "\n",
      "📄 Processing page 53 (4 lines)\n"
     ]
    },
    {
     "data": {
      "text/plain": [
       "<Figure size 640x480 with 0 Axes>"
      ]
     },
     "metadata": {},
     "output_type": "display_data"
    },
    {
     "name": "stdout",
     "output_type": "stream",
     "text": [
      "  Line 1: Martin de la Compañia de Jesus de Gero -\n"
     ]
    },
    {
     "data": {
      "text/plain": [
       "<Figure size 640x480 with 0 Axes>"
      ]
     },
     "metadata": {},
     "output_type": "display_data"
    },
    {
     "name": "stdout",
     "output_type": "stream",
     "text": [
      "  Line 2: na, a vs. de Julio de 1740.\n"
     ]
    },
    {
     "data": {
      "text/plain": [
       "<Figure size 640x480 with 0 Axes>"
      ]
     },
     "metadata": {},
     "output_type": "display_data"
    },
    {
     "name": "stdout",
     "output_type": "stream",
     "text": [
      "  Line 3: Antonio Godornis, de la\n"
     ]
    },
    {
     "data": {
      "text/plain": [
       "<Figure size 640x480 with 0 Axes>"
      ]
     },
     "metadata": {},
     "output_type": "display_data"
    },
    {
     "name": "stdout",
     "output_type": "stream",
     "text": [
      "  Line 4: 232 Compañia de Fesus.\n",
      "\n",
      "📄 Processing page 54 (4 lines)\n"
     ]
    },
    {
     "data": {
      "text/plain": [
       "<Figure size 640x480 with 0 Axes>"
      ]
     },
     "metadata": {},
     "output_type": "display_data"
    },
    {
     "name": "stdout",
     "output_type": "stream",
     "text": [
      "  Line 1: guro disleño de su edad. la Rei\n"
     ]
    },
    {
     "data": {
      "text/plain": [
       "<Figure size 640x480 with 0 Axes>"
      ]
     },
     "metadata": {},
     "output_type": "display_data"
    },
    {
     "name": "stdout",
     "output_type": "stream",
     "text": [
      "  Line 2: gion para con Dios en la de vaca\n"
     ]
    },
    {
     "data": {
      "text/plain": [
       "<Figure size 640x480 with 0 Axes>"
      ]
     },
     "metadata": {},
     "output_type": "display_data"
    },
    {
     "name": "stdout",
     "output_type": "stream",
     "text": [
      "  Line 3: a la Isilecia a los Templos, la piedad\n"
     ]
    },
    {
     "data": {
      "text/plain": [
       "<Figure size 640x480 with 0 Axes>"
      ]
     },
     "metadata": {},
     "output_type": "display_data"
    },
    {
     "name": "stdout",
     "output_type": "stream",
     "text": [
      "  Line 4: con los Padres en la obedientia\n",
      "\n",
      "📄 Processing page 55 (5 lines)\n"
     ]
    },
    {
     "data": {
      "text/plain": [
       "<Figure size 640x480 with 0 Axes>"
      ]
     },
     "metadata": {},
     "output_type": "display_data"
    },
    {
     "name": "stdout",
     "output_type": "stream",
     "text": [
      "  Line 1: d DePro Manuel de Contreras.\n"
     ]
    },
    {
     "data": {
      "text/plain": [
       "<Figure size 640x480 with 0 Axes>"
      ]
     },
     "metadata": {},
     "output_type": "display_data"
    },
    {
     "name": "stdout",
     "output_type": "stream",
     "text": [
      "  Line 2: y el rei don siempre el rei don siempre el rei don siempe\n"
     ]
    },
    {
     "data": {
      "text/plain": [
       "<Figure size 640x480 with 0 Axes>"
      ]
     },
     "metadata": {},
     "output_type": "display_data"
    },
    {
     "name": "stdout",
     "output_type": "stream",
     "text": [
      "  Line 3: 63 ¶ T A S A Agora\n"
     ]
    },
    {
     "data": {
      "text/plain": [
       "<Figure size 640x480 with 0 Axes>"
      ]
     },
     "metadata": {},
     "output_type": "display_data"
    },
    {
     "name": "stdout",
     "output_type": "stream",
     "text": [
      "  Line 4: T Alaron los Señores del Consejo este\n"
     ]
    },
    {
     "data": {
      "text/plain": [
       "<Figure size 640x480 with 0 Axes>"
      ]
     },
     "metadata": {},
     "output_type": "display_data"
    },
    {
     "name": "stdout",
     "output_type": "stream",
     "text": [
      "  Line 5: s Libro,inticolado. Inferuccion de\n",
      "\n",
      "📄 Processing page 56 (3 lines)\n"
     ]
    },
    {
     "data": {
      "text/plain": [
       "<Figure size 640x480 with 0 Axes>"
      ]
     },
     "metadata": {},
     "output_type": "display_data"
    },
    {
     "name": "stdout",
     "output_type": "stream",
     "text": [
      "  Line 1: Lis. Du Manuel Licardo de Ribera y\n"
     ]
    },
    {
     "data": {
      "text/plain": [
       "<Figure size 640x480 with 0 Axes>"
      ]
     },
     "metadata": {},
     "output_type": "display_data"
    },
    {
     "name": "stdout",
     "output_type": "stream",
     "text": [
      "  Line 2: Correct. Gen. por su Magestad.\n"
     ]
    },
    {
     "data": {
      "text/plain": [
       "<Figure size 640x480 with 0 Axes>"
      ]
     },
     "metadata": {},
     "output_type": "display_data"
    },
    {
     "name": "stderr",
     "output_type": "stream",
     "text": [
      "The channel dimension is ambiguous. Got image shape (3, 538, 3). Assuming channels are the first dimension.\n"
     ]
    },
    {
     "name": "stdout",
     "output_type": "stream",
     "text": [
      "  Line 3: 50 ¶. Moña\n",
      "\n",
      "📄 Processing page 57 (6 lines)\n"
     ]
    },
    {
     "data": {
      "text/plain": [
       "<Figure size 640x480 with 0 Axes>"
      ]
     },
     "metadata": {},
     "output_type": "display_data"
    },
    {
     "name": "stdout",
     "output_type": "stream",
     "text": [
      "  Line 1: Alfonso\n"
     ]
    },
    {
     "data": {
      "text/plain": [
       "<Figure size 640x480 with 0 Axes>"
      ]
     },
     "metadata": {},
     "output_type": "display_data"
    },
    {
     "name": "stdout",
     "output_type": "stream",
     "text": [
      "  Line 2: primorola, como recellaria educacion\n"
     ]
    },
    {
     "data": {
      "text/plain": [
       "<Figure size 640x480 with 0 Axes>"
      ]
     },
     "metadata": {},
     "output_type": "display_data"
    },
    {
     "name": "stdout",
     "output_type": "stream",
     "text": [
      "  Line 3: de la primera edad de los Nobles; de cuē\n"
     ]
    },
    {
     "data": {
      "text/plain": [
       "<Figure size 640x480 with 0 Axes>"
      ]
     },
     "metadata": {},
     "output_type": "display_data"
    },
    {
     "name": "stdout",
     "output_type": "stream",
     "text": [
      "  Line 4: yo acierto se derivala primera orlidad,\n"
     ]
    },
    {
     "data": {
      "text/plain": [
       "<Figure size 640x480 with 0 Axes>"
      ]
     },
     "metadata": {},
     "output_type": "display_data"
    },
    {
     "name": "stdout",
     "output_type": "stream",
     "text": [
      "  Line 5: y de coro a la Republica. Assi lo fien\n"
     ]
    },
    {
     "data": {
      "text/plain": [
       "<Figure size 640x480 with 0 Axes>"
      ]
     },
     "metadata": {},
     "output_type": "display_data"
    },
    {
     "name": "stdout",
     "output_type": "stream",
     "text": [
      "  Line 6: to, salvo, sec. En este Colegio de San\n",
      "\n",
      "📄 Processing page 58 (4 lines)\n"
     ]
    },
    {
     "data": {
      "text/plain": [
       "<Figure size 640x480 with 0 Axes>"
      ]
     },
     "metadata": {},
     "output_type": "display_data"
    },
    {
     "name": "stdout",
     "output_type": "stream",
     "text": [
      "  Line 1: como en los años, y mucho mas\n"
     ]
    },
    {
     "data": {
      "text/plain": [
       "<Figure size 640x480 with 0 Axes>"
      ]
     },
     "metadata": {},
     "output_type": "display_data"
    },
    {
     "name": "stdout",
     "output_type": "stream",
     "text": [
      "  Line 2: Adelanteñle en la virtud, como\n"
     ]
    },
    {
     "data": {
      "text/plain": [
       "<Figure size 640x480 with 0 Axes>"
      ]
     },
     "metadata": {},
     "output_type": "display_data"
    },
    {
     "name": "stdout",
     "output_type": "stream",
     "text": [
      "  Line 3: en las letras, y mucho mas, haf-\n"
     ]
    },
    {
     "data": {
      "text/plain": [
       "<Figure size 640x480 with 0 Axes>"
      ]
     },
     "metadata": {},
     "output_type": "display_data"
    },
    {
     "name": "stderr",
     "output_type": "stream",
     "text": [
      "The channel dimension is ambiguous. Got image shape (1, 543, 3). Assuming channels are the first dimension.\n"
     ]
    },
    {
     "name": "stdout",
     "output_type": "stream",
     "text": [
      "  Line 4: tra que lleguen, por vuestra imi-\n",
      "\n",
      "📄 Processing page 59 (6 lines)\n",
      "  Error processing line 1\n"
     ]
    },
    {
     "data": {
      "text/plain": [
       "<Figure size 640x480 with 0 Axes>"
      ]
     },
     "metadata": {},
     "output_type": "display_data"
    },
    {
     "name": "stdout",
     "output_type": "stream",
     "text": [
      "  Line 2: truccion de Christiana, y Politics Cortesay\n"
     ]
    },
    {
     "data": {
      "text/plain": [
       "<Figure size 640x480 with 0 Axes>"
      ]
     },
     "metadata": {},
     "output_type": "display_data"
    },
    {
     "name": "stdout",
     "output_type": "stream",
     "text": [
      "  Line 3: nia, etc. Su Author D. Eanto Agustin de\n"
     ]
    },
    {
     "data": {
      "text/plain": [
       "<Figure size 640x480 with 0 Axes>"
      ]
     },
     "metadata": {},
     "output_type": "display_data"
    },
    {
     "name": "stdout",
     "output_type": "stream",
     "text": [
      "  Line 4: Buendia, Colegial que fue en el Imperial\n"
     ]
    },
    {
     "data": {
      "text/plain": [
       "<Figure size 640x480 with 0 Axes>"
      ]
     },
     "metadata": {},
     "output_type": "display_data"
    },
    {
     "name": "stdout",
     "output_type": "stream",
     "text": [
      "  Line 5: de Cordellas, sec. Y brevemente digos\n"
     ]
    },
    {
     "data": {
      "text/plain": [
       "<Figure size 640x480 with 0 Axes>"
      ]
     },
     "metadata": {},
     "output_type": "display_data"
    },
    {
     "name": "stdout",
     "output_type": "stream",
     "text": [
      "  Line 6: no solo que nada contiene contra la Fe, Vi\n",
      "\n",
      "📄 Processing page 60 (4 lines)\n"
     ]
    },
    {
     "data": {
      "text/plain": [
       "<Figure size 640x480 with 0 Axes>"
      ]
     },
     "metadata": {},
     "output_type": "display_data"
    },
    {
     "name": "stdout",
     "output_type": "stream",
     "text": [
      "  Line 1: divinas bendiciones, les misleis\n"
     ]
    },
    {
     "data": {
      "text/plain": [
       "<Figure size 640x480 with 0 Axes>"
      ]
     },
     "metadata": {},
     "output_type": "display_data"
    },
    {
     "name": "stdout",
     "output_type": "stream",
     "text": [
      "  Line 2: ña vnestro la grado pecho con lna\n"
     ]
    },
    {
     "data": {
      "text/plain": [
       "<Figure size 640x480 with 0 Axes>"
      ]
     },
     "metadata": {},
     "output_type": "display_data"
    },
    {
     "name": "stdout",
     "output_type": "stream",
     "text": [
      "  Line 3: missimos abraros, Dichola edad, A\n"
     ]
    },
    {
     "data": {
      "text/plain": [
       "<Figure size 640x480 with 0 Axes>"
      ]
     },
     "metadata": {},
     "output_type": "display_data"
    },
    {
     "name": "stdout",
     "output_type": "stream",
     "text": [
      "  Line 4: que es merecio can regalados ca\n",
      "\n",
      "📄 Processing page 61 (5 lines)\n"
     ]
    },
    {
     "data": {
      "text/plain": [
       "<Figure size 640x480 with 0 Axes>"
      ]
     },
     "metadata": {},
     "output_type": "display_data"
    },
    {
     "name": "stdout",
     "output_type": "stream",
     "text": [
      "  Line 1: Alfonso a qe moros e toledo de los de los de\n"
     ]
    },
    {
     "data": {
      "text/plain": [
       "<Figure size 640x480 with 0 Axes>"
      ]
     },
     "metadata": {},
     "output_type": "display_data"
    },
    {
     "name": "stdout",
     "output_type": "stream",
     "text": [
      "  Line 2: señor D. Fanto Agullin de Buendia, pa\n"
     ]
    },
    {
     "data": {
      "text/plain": [
       "<Figure size 640x480 with 0 Axes>"
      ]
     },
     "metadata": {},
     "output_type": "display_data"
    },
    {
     "name": "stdout",
     "output_type": "stream",
     "text": [
      "  Line 3: ra darle a todos con el concierto, que prele\n"
     ]
    },
    {
     "data": {
      "text/plain": [
       "<Figure size 640x480 with 0 Axes>"
      ]
     },
     "metadata": {},
     "output_type": "display_data"
    },
    {
     "name": "stdout",
     "output_type": "stream",
     "text": [
      "  Line 4: cribe para las operaciones, que cada umo\n"
     ]
    },
    {
     "data": {
      "text/plain": [
       "<Figure size 640x480 with 0 Axes>"
      ]
     },
     "metadata": {},
     "output_type": "display_data"
    },
    {
     "name": "stdout",
     "output_type": "stream",
     "text": [
      "  Line 5: de he practicar, desde el officimiento de\n",
      "\n",
      "📄 Processing page 62 (5 lines)\n"
     ]
    },
    {
     "data": {
      "text/plain": [
       "<Figure size 640x480 with 0 Axes>"
      ]
     },
     "metadata": {},
     "output_type": "display_data"
    },
    {
     "name": "stdout",
     "output_type": "stream",
     "text": [
      "  Line 1: y de los Aquel pueblos y los moros\n"
     ]
    },
    {
     "data": {
      "text/plain": [
       "<Figure size 640x480 with 0 Axes>"
      ]
     },
     "metadata": {},
     "output_type": "display_data"
    },
    {
     "name": "stdout",
     "output_type": "stream",
     "text": [
      "  Line 2: chan llenado de libros grandes los estan-\n"
     ]
    },
    {
     "data": {
      "text/plain": [
       "<Figure size 640x480 with 0 Axes>"
      ]
     },
     "metadata": {},
     "output_type": "display_data"
    },
    {
     "name": "stdout",
     "output_type": "stream",
     "text": [
      "  Line 3: res, acredicandole hasta con el oro, que\n"
     ]
    },
    {
     "data": {
      "text/plain": [
       "<Figure size 640x480 with 0 Axes>"
      ]
     },
     "metadata": {},
     "output_type": "display_data"
    },
    {
     "name": "stdout",
     "output_type": "stream",
     "text": [
      "  Line 4: lace en sus cubiertas. otros, con no\n"
     ]
    },
    {
     "data": {
      "text/plain": [
       "<Figure size 640x480 with 0 Axes>"
      ]
     },
     "metadata": {},
     "output_type": "display_data"
    },
    {
     "name": "stdout",
     "output_type": "stream",
     "text": [
      "  Line 5: menor a cierto, han dado a lur libritos mas\n",
      "\n",
      "📄 Processing page 63 (0 lines)\n",
      "\n",
      " Final OCR Results:\n",
      "Rotor que fue del Colegio de Cordellas, y\n",
      "de Gerona, Calificador del Santo Osicio,\n",
      "Examinador Syndal de muchos Obispo.\n",
      "los dos oyo. e los moros cauieron\n",
      "\n",
      "════════════════════════════════════════════════════════════ PAGE BREAK ════════════════════════════════════════════════════════════\n",
      "\n",
      "bacion. e los moros\n",
      "m Juego, que nadie ignora, quanto\n",
      "rrabajo la Compañia en la criana de los\n",
      "minos en sus Colegios, tarca igualmente\n",
      "\n",
      "════════════════════════════════════════════════════════════ PAGE BREAK ════════════════════════════════════════════════════════════\n",
      "\n",
      "73 ¶ Agora\n",
      "A L\n",
      "En finiramente A mal bō\n",
      "73 ¶ Agora de la\n",
      "Nino pesus.\n",
      "\n",
      "════════════════════════════════════════════════════════════ PAGE BREAK ════════════════════════════════════════════════════════════\n",
      "\n",
      "Alfonso -\n",
      "como el Nuño de Bruco, que tuyieron\n",
      "Eugal aplado, por auer redicido casi a\n",
      "puntos indivisibles todo el arcilicio de\n",
      "cosas grandes. Assi ay Authors, que\n",
      "\n",
      "════════════════════════════════════════════════════════════ PAGE BREAK ════════════════════════════════════════════════════════════\n",
      "\n",
      "y el rei don siempe por el pueblo y\n",
      "tiene, que por los fondos, con que le\n",
      "huerta al sol los rayos en la precida bri-\n",
      "llanter de sus reflexos. Assi lo seria no\n",
      "colocar entre las joyas de mayor precio\n",
      "Alfonso -\n",
      "\n",
      "════════════════════════════════════════════════════════════ PAGE BREAK ════════════════════════════════════════════════════════════\n",
      "\n",
      "pus. Perduciera qe de los el rei dixoles de\n",
      "las obras por la mañana, hasta el examen\n",
      "de la conciencia, Ultima diligentia, que\n",
      "de be cerrar nuestras carcas, antes de con -\n",
      "ceder al cuerpo el debido descaño, para\n",
      "\n",
      "════════════════════════════════════════════════════════════ PAGE BREAK ════════════════════════════════════════════════════════════\n",
      "\n",
      "\n",
      "\n",
      "════════════════════════════════════════════════════════════ PAGE BREAK ════════════════════════════════════════════════════════════\n",
      "\n",
      "gel, y Barcelona, etc.\n",
      "Don sieta el rei don dixo\n",
      "\n",
      "════════════════════════════════════════════════════════════ PAGE BREAK ════════════════════════════════════════════════════════════\n",
      "\n",
      "rre a la mucha alma, que encierra, forma\n",
      "ria el debido concepto de su preciobdad.\n",
      "Colas ay, que se celebran por lo a gigan -\n",
      "tado, como el Cololo. y las ay tambien,\n",
      "\n",
      "════════════════════════════════════════════════════════════ PAGE BREAK ════════════════════════════════════════════════════════════\n",
      "\n",
      "Alfonso -\n",
      "tacion, a ser varones perfectos,\n",
      "y con su mados, agradables a\n",
      "muestros ojos, y provechosos a\n",
      "la Republica, que libra casi co\n",
      "\n",
      "════════════════════════════════════════════════════════════ PAGE BREAK ════════════════════════════════════════════════════════════\n",
      "\n",
      "que esto en vuestra infinita sabi-\n",
      "duria fue Soberana dignacion, y\n",
      "en la natural Ignorancia de los\n",
      "Nilios es indispendable recelsi-\n",
      "\n",
      "════════════════════════════════════════════════════════════ PAGE BREAK ════════════════════════════════════════════════════════════\n",
      "\n",
      "A de vocion, y afecto, que desde mis\n",
      "tiernos años professe a la Sagrada\n",
      "\n",
      "════════════════════════════════════════════════════════════ PAGE BREAK ════════════════════════════════════════════════════════════\n",
      "\n",
      "videncia, por medio del Gran Parianca\n",
      "Ignacio, fio al cuydado reloso de su de\n",
      "licada mano . se yo, y lo se muy bien, que\n",
      "le merecera esta Obrica la primera año\n",
      "\n",
      "════════════════════════════════════════════════════════════ PAGE BREAK ════════════════════════════════════════════════════════════\n",
      "\n",
      "\n",
      "\n",
      "════════════════════════════════════════════════════════════ PAGE BREAK ════════════════════════════════════════════════════════════\n",
      "\n",
      "erencion, que por el meriro, que yo no\n",
      "tiengo, recibira con gusto este mi oble.\n",
      "quio, todavia, por dirigirle al culciro\n",
      "de aquellas Plantas, que la Diving Pro-\n",
      "\n",
      "════════════════════════════════════════════════════════════ PAGE BREAK ════════════════════════════════════════════════════════════\n",
      "\n",
      "Vos, Dulcisimo Niño\n",
      "JEsos, que no solo oso\n",
      "dignasteis de llamarōs\n",
      "Doctor de los Niños,\n",
      "\n",
      "════════════════════════════════════════════════════════════ PAGE BREAK ════════════════════════════════════════════════════════════\n",
      "\n",
      "criarra de la Niñor. Assi leal\n",
      "Divinifsimo Niño, por vuestra\n",
      "gracia, assi lea, á vuestra mas\n",
      "y or gloria, Amen,\n",
      "\n",
      "════════════════════════════════════════════════════════════ PAGE BREAK ════════════════════════════════════════════════════════════\n",
      "\n",
      "dio el acumino lo Marcial a sus escritos.\n",
      "Me manus una capit. Y como feria ne\n",
      "cedad, querer eltimar el valor de el dia\n",
      "mente, antes por la grandera, que no\n",
      "\n",
      "════════════════════════════════════════════════════════════ PAGE BREAK ════════════════════════════════════════════════════════════\n",
      "\n",
      "hemos de dar en otro mas severo cribuā\n",
      "nal. Quien a este pequeño volumen mī\n",
      "diere por el cuerpo, no le dara la esima\n",
      "cion, que le merece: pero quien a tendie\n",
      "\n",
      "════════════════════════════════════════════════════════════ PAGE BREAK ════════════════════════════════════════════════════════════\n",
      "\n",
      "Religión de la Compañia de Jesus, y la\n",
      "professare eternamente, como hijo el mas\n",
      "re conocido a tan escogida Madre. e me\n",
      "obligo a el cririr, y dar a la Estampa esta\n",
      "\n",
      "════════════════════════════════════════════════════════════ PAGE BREAK ════════════════════════════════════════════════════════════\n",
      "\n",
      "y de Aquel\n",
      "Alfonso -\n",
      "y pues en la celestial Jerusalem\n",
      "salen no ha mudado de condicion\n",
      "vuestra Beniguidad, proleguid,\n",
      "\n",
      "════════════════════════════════════════════════════════════ PAGE BREAK ════════════════════════════════════════════════════════════\n",
      "\n",
      "mas rendida, & la modestia, y de\n",
      "deo de saber, con los mayores,\n",
      "gustando mas de Or, y pregun.\n",
      "rar, que de de finir, y relolver. Bien\n",
      "\n",
      "════════════════════════════════════════════════════════════ PAGE BREAK ════════════════════════════════════════════════════════════\n",
      "\n",
      "E el Osorio de De Compañia de fizorio, el casa\n",
      "E por ouo fue los Theodos de Coronningados\n",
      "\n",
      "════════════════════════════════════════════════════════════ PAGE BREAK ════════════════════════════════════════════════════════════\n",
      "\n",
      "buenas columbres, sino que muy aceno\n",
      "el Author con entrambas, describe, y en\n",
      "leha tan cuita, y discreteta la Virtud, co -\n",
      "mo lanca la Policia, y Urbandad. Los\n",
      "señoricos, que le criaron con estos do-\n",
      "\n",
      "════════════════════════════════════════════════════════════ PAGE BREAK ════════════════════════════════════════════════════════════\n",
      "\n",
      "responde en rodo con su original. Madrid\n",
      "ña ro, de Agollo de 1740. E\n",
      "\n",
      "════════════════════════════════════════════════════════════ PAGE BREAK ════════════════════════════════════════════════════════════\n",
      "\n",
      "Infinacion para lus señores Colegiales,\n",
      "sin que por esso le niegue a lervir a los de\n",
      "mas señoricos, que no lo fueren. Y aun\n",
      "que la Compañia, mas por su conocida\n",
      "\n",
      "════════════════════════════════════════════════════════════ PAGE BREAK ════════════════════════════════════════════════════════════\n",
      "\n",
      "Dle vs. Fulli,. 148. ¶.\n",
      "Amprimatur\n",
      "De Bostero Vie. Gen. E Offis.\n",
      "\n",
      "════════════════════════════════════════════════════════════ PAGE BREAK ════════════════════════════════════════════════════════════\n",
      "\n",
      "Caballero muy señorio, que codo lo, en el\n",
      "rece el Correlano Zelo del Author muchas\n",
      "gracias de quantos le interellan en tan\n",
      "\n",
      "════════════════════════════════════════════════════════════ PAGE BREAK ════════════════════════════════════════════════════════════\n",
      "\n",
      "cion. Vos, como fingular Maes\n",
      "tro de los Niños, les dais enten-\n",
      "dimiento, y comunicais la sabi-\n",
      "doria Vos les prometeis el Reyno\n",
      "\n",
      "════════════════════════════════════════════════════════════ PAGE BREAK ════════════════════════════════════════════════════════════\n",
      "\n",
      "tos, que no entra vuestra sabi-\n",
      "daria, donde no ay mucha pure.\n",
      "era de conciencia. Ciercan en\n",
      "venestro santo temor, y amor, co-\n",
      "\n",
      "════════════════════════════════════════════════════════════ PAGE BREAK ════════════════════════════════════════════════════════════\n",
      "\n",
      "petiridad Con el suffruccion de Christiania y\n",
      "te concta de su original. Madrid, y Julio\n",
      "ña 8 de r740. e dixo a\n",
      "\n",
      "════════════════════════════════════════════════════════════ PAGE BREAK ════════════════════════════════════════════════════════════\n",
      "\n",
      "penola, que provechola, para guardarō\n",
      "des del mal, e infruirles en el bien, y que\n",
      "por esso les enseñalas buenas letras, para\n",
      "Alfonso -\n",
      "\n",
      "════════════════════════════════════════════════════════════ PAGE BREAK ════════════════════════════════════════════════════════════\n",
      "\n",
      "dad. E el reina rei don siempe\n",
      "eNi tienen solamente en Vos\n",
      "el diseno, la lar, y el exemplo,\n",
      "dino tambien el amor, y protec -\n",
      "\n",
      "════════════════════════════════════════════════════════════ PAGE BREAK ════════════════════════════════════════════════════════════\n",
      "\n",
      "tomarnos diariameme cuenta de todas las\n",
      "partidas del cargo, y del cargo, como la\n",
      "\n",
      "════════════════════════════════════════════════════════════ PAGE BREAK ════════════════════════════════════════════════════════════\n",
      "\n",
      "no pudo explicarle mas tierno, y\n",
      "liberal con los Niños, pues no\n",
      "contenço de echarles vuefras dixo\n",
      "Alfonso -\n",
      "\n",
      "════════════════════════════════════════════════════════════ PAGE BREAK ════════════════════════════════════════════════════════════\n",
      "\n",
      "M. P. S.\n",
      "dE orden de V. A he visto el librio //\n",
      "L que con el titulo de Politics, y Chris.\n",
      "tiana Cortesania, etc. de lea lacar a lue el\n",
      "\n",
      "════════════════════════════════════════════════════════════ PAGE BREAK ════════════════════════════════════════════════════════════\n",
      "\n",
      "pre, de ccc. Barcelona, y Junio 14. de.178\n",
      "l M Mariano Alberich de la\n",
      "232 Compañia de fesus.\n",
      "\n",
      "════════════════════════════════════════════════════════════ PAGE BREAK ════════════════════════════════════════════════════════════\n",
      "\n",
      "flfino tambien de alsid-\n",
      "rir como Nuño entre los Doctors,\n",
      "de consagra humilde esta pequeña\n",
      "Inferuccion de los Nifos. Es assi,\n",
      "\n",
      "════════════════════════════════════════════════════════════ PAGE BREAK ════════════════════════════════════════════════════════════\n",
      "\n",
      "de los Cielos, yos indignais con\n",
      "quien les aparta de Vos, y les\n",
      "proponais por normal del con-\n",
      "dor, ingoencia, y christiana mu\n",
      "\n",
      "════════════════════════════════════════════════════════════ PAGE BREAK ════════════════════════════════════════════════════════════\n",
      "\n",
      "auna del Privilegio.\n",
      "Elfonso dio Aglesia de la Maglesia Don\n",
      "\n",
      "════════════════════════════════════════════════════════════ PAGE BREAK ════════════════════════════════════════════════════════════\n",
      "\n",
      "Censora del R. P. mariano al bra\n",
      "rich de la Compañia de Fesus, Cathedral\n",
      "tico antes de Theologicia en el Colegio de\n",
      "Borcelona, ( oy Prefecto de sus E fu dios\n",
      "\n",
      "════════════════════════════════════════════════════════════ PAGE BREAK ════════════════════════════════════════════════════════════\n",
      "\n",
      "Alfonso alfonso a la tierra\n",
      "Vicaidad En el su sañor de la su dio qe señor\n",
      "D. Balthafar de Baltero y Lledo, Obispo\n",
      "de Gerona, del Consejo de su Magestad, de ca\n",
      "He visto en librio, cuyo circulo es. Ensi\n",
      "\n",
      "════════════════════════════════════════════════════════════ PAGE BREAK ════════════════════════════════════════════════════════════\n",
      "\n",
      "Christiana, y Politics Cortesania, a leis\n",
      "mugaredis de dios llego doño reina de dios\n",
      "d De Pedro Manuel de Contreras.\n",
      "\n",
      "════════════════════════════════════════════════════════════ PAGE BREAK ════════════════════════════════════════════════════════════\n",
      "\n",
      "el rei don sancho e el rei don sancho el rei don grā\n",
      "Pee de Erraras.\n",
      "sse libro, inclado. Instruction de\n",
      "Christiana, y Politics Cortesania, cor-\n",
      "\n",
      "════════════════════════════════════════════════════════════ PAGE BREAK ════════════════════════════════════════════════════════════\n",
      "\n",
      "familiares, que le dexan trarar a todas\n",
      "moras, compañeros imperables de sus\n",
      "dueños, los quales ya en las cubiertas\n",
      "llevan aquella inscription, o el ogio, que\n",
      "\n",
      "════════════════════════════════════════════════════════════ PAGE BREAK ════════════════════════════════════════════════════════════\n",
      "\n",
      "cumenços, mereceran, quando hombres,\n",
      "a ver nacido señores. Porque no solo la\n",
      "bran ser Caballeros, fino tambien á los\n",
      "Alfonso -\n",
      "\n",
      "════════════════════════════════════════════════════════════ PAGE BREAK ════════════════════════════════════════════════════════════\n",
      "\n",
      "lo que de ben estudiar. Por este lo\n",
      "despero Ninos, que con fijas por\n",
      "educacion de vuestra Compañia,\n",
      "\n",
      "════════════════════════════════════════════════════════════ PAGE BREAK ════════════════════════════════════════════════════════════\n",
      "\n",
      "que ella cambien le dirige á la ju\n",
      "vencud, pero a esta, como recuer -\n",
      "do de lo que aprendio, a los Ni-\n",
      "chos, como precila explicacion de\n",
      "\n",
      "════════════════════════════════════════════════════════════ PAGE BREAK ════════════════════════════════════════════════════════════\n",
      "\n",
      "da su feliridad en la acercada\n",
      "63 ¶ 148 ¶\n",
      "\n",
      "════════════════════════════════════════════════════════════ PAGE BREAK ════════════════════════════════════════════════════════════\n",
      "\n",
      "mo rivo del author, e razon\n",
      "73 de la Obra. E el reino\n",
      "\n",
      "════════════════════════════════════════════════════════════ PAGE BREAK ════════════════════════════════════════════════════════════\n",
      "\n",
      "do Niño tierno, y Dios Eterno,\n",
      "proleguid en bendecirles, y favo -\n",
      "recerles. Sean tan fervorio la men\n",
      "te de vocos de vuestra Admirable\n",
      "\n",
      "════════════════════════════════════════════════════════════ PAGE BREAK ════════════════════════════════════════════════════════════\n",
      "\n",
      "lo es mucho mas. En Vos, Dini\n",
      "no Exemplar de todas las virea -\n",
      "des, tienen abreviado el mas le\n",
      "73 ¶ De ouo\n",
      "\n",
      "════════════════════════════════════════════════════════════ PAGE BREAK ════════════════════════════════════════════════════════════\n",
      "\n",
      "Martin de la Compañia de Jesus de Gero -\n",
      "na, a vs. de Julio de 1740.\n",
      "Antonio Godornis, de la\n",
      "232 Compañia de Fesus.\n",
      "\n",
      "════════════════════════════════════════════════════════════ PAGE BREAK ════════════════════════════════════════════════════════════\n",
      "\n",
      "guro disleño de su edad. la Rei\n",
      "gion para con Dios en la de vaca\n",
      "a la Isilecia a los Templos, la piedad\n",
      "con los Padres en la obedientia\n",
      "\n",
      "════════════════════════════════════════════════════════════ PAGE BREAK ════════════════════════════════════════════════════════════\n",
      "\n",
      "d DePro Manuel de Contreras.\n",
      "y el rei don siempre el rei don siempre el rei don siempe\n",
      "63 ¶ T A S A Agora\n",
      "T Alaron los Señores del Consejo este\n",
      "s Libro,inticolado. Inferuccion de\n",
      "\n",
      "════════════════════════════════════════════════════════════ PAGE BREAK ════════════════════════════════════════════════════════════\n",
      "\n",
      "Lis. Du Manuel Licardo de Ribera y\n",
      "Correct. Gen. por su Magestad.\n",
      "50 ¶. Moña\n",
      "\n",
      "════════════════════════════════════════════════════════════ PAGE BREAK ════════════════════════════════════════════════════════════\n",
      "\n",
      "Alfonso\n",
      "primorola, como recellaria educacion\n",
      "de la primera edad de los Nobles; de cuē\n",
      "yo acierto se derivala primera orlidad,\n",
      "y de coro a la Republica. Assi lo fien\n",
      "to, salvo, sec. En este Colegio de San\n",
      "\n",
      "════════════════════════════════════════════════════════════ PAGE BREAK ════════════════════════════════════════════════════════════\n",
      "\n",
      "como en los años, y mucho mas\n",
      "Adelanteñle en la virtud, como\n",
      "en las letras, y mucho mas, haf-\n",
      "tra que lleguen, por vuestra imi-\n",
      "\n",
      "════════════════════════════════════════════════════════════ PAGE BREAK ════════════════════════════════════════════════════════════\n",
      "\n",
      "[OCR ERROR]\n",
      "truccion de Christiana, y Politics Cortesay\n",
      "nia, etc. Su Author D. Eanto Agustin de\n",
      "Buendia, Colegial que fue en el Imperial\n",
      "de Cordellas, sec. Y brevemente digos\n",
      "no solo que nada contiene contra la Fe, Vi\n",
      "\n",
      "════════════════════════════════════════════════════════════ PAGE BREAK ════════════════════════════════════════════════════════════\n",
      "\n",
      "divinas bendiciones, les misleis\n",
      "ña vnestro la grado pecho con lna\n",
      "missimos abraros, Dichola edad, A\n",
      "que es merecio can regalados ca\n",
      "\n",
      "════════════════════════════════════════════════════════════ PAGE BREAK ════════════════════════════════════════════════════════════\n",
      "\n",
      "Alfonso a qe moros e toledo de los de los de\n",
      "señor D. Fanto Agullin de Buendia, pa\n",
      "ra darle a todos con el concierto, que prele\n",
      "cribe para las operaciones, que cada umo\n",
      "de he practicar, desde el officimiento de\n",
      "\n",
      "════════════════════════════════════════════════════════════ PAGE BREAK ════════════════════════════════════════════════════════════\n",
      "\n",
      "y de los Aquel pueblos y los moros\n",
      "chan llenado de libros grandes los estan-\n",
      "res, acredicandole hasta con el oro, que\n",
      "lace en sus cubiertas. otros, con no\n",
      "menor a cierto, han dado a lur libritos mas\n",
      "\n",
      "════════════════════════════════════════════════════════════ PAGE BREAK ════════════════════════════════════════════════════════════\n",
      "\n",
      "\n",
      "\n",
      "════════════════════════════════════════════════════════════ PAGE BREAK ════════════════════════════════════════════════════════════\n",
      "\n",
      "\n",
      " OCR results saved successfully\n"
     ]
    }
   ],
   "source": [
    "import os\n",
    "import re\n",
    "import torch\n",
    "from PIL import Image\n",
    "import matplotlib.pyplot as plt\n",
    "from transformers import AutoModelForSeq2SeqLM, AutoTokenizer, TrOCRProcessor\n",
    "\n",
    "def process_directory(root_dir):\n",
    "    all_text = []\n",
    "    \n",
    "    # Set up figure for image display\n",
    "    plt.ion()\n",
    "    fig = plt.figure(figsize=(12, 6))\n",
    "    \n",
    "    # Get sorted page folders without showing paths\n",
    "    page_folders = sorted(\n",
    "        [f for f in os.listdir(root_dir) if os.path.isdir(os.path.join(root_dir, f))],\n",
    "        key=lambda x: os.path.getmtime(os.path.join(root_dir, x)))\n",
    "    \n",
    "    for page_idx, page_folder in enumerate(page_folders, 1):\n",
    "        folder_path = os.path.join(root_dir, page_folder)\n",
    "        page_text = []\n",
    "        \n",
    "        # Get sorted line images\n",
    "        line_files = sorted(\n",
    "            [f for f in os.listdir(folder_path) if re.match(r'line_\\d+\\.png', f)],\n",
    "            key=lambda x: int(re.search(r'\\d+', x).group()))\n",
    "        \n",
    "        print(f\"\\n📄 Processing page {page_idx} ({len(line_files)} lines)\")\n",
    "        \n",
    "        for line_idx, img_file in enumerate(line_files, 1):\n",
    "            img_path = os.path.join(folder_path, img_file)\n",
    "            \n",
    "            try:\n",
    "                # Display image without path info\n",
    "                img = Image.open(img_path).convert(\"RGB\")\n",
    "                ax1 = fig.add_subplot(1, 2, 1)\n",
    "                ax1.imshow(img)\n",
    "                ax1.set_title(f\"Page {page_idx} - Line {line_idx}\", fontsize=10)\n",
    "                ax1.axis('off')\n",
    "                \n",
    "                # OCR processing\n",
    "                inputs = processor(img, return_tensors=\"pt\")\n",
    "                pixel_values = inputs.pixel_values.to(device)\n",
    "                \n",
    "                generated_ids = model.generate(\n",
    "                    pixel_values, \n",
    "                    max_new_tokens=128,\n",
    "                    num_beams=5,\n",
    "                    early_stopping=True)\n",
    "                \n",
    "                line_text = tokenizer.decode(generated_ids[0], skip_special_tokens=True).strip()\n",
    "                \n",
    "                # Display OCR result\n",
    "                ax2 = fig.add_subplot(1, 2, 2)\n",
    "                ax2.text(0.1, 0.5, line_text, fontsize=12, va='center')\n",
    "                ax2.axis('off')\n",
    "                \n",
    "                plt.suptitle(f\"Processing Page {page_idx} - Line {line_idx}\", fontsize=14)\n",
    "                plt.draw()\n",
    "                plt.pause(0.1)\n",
    "                \n",
    "                page_text.append(line_text)\n",
    "                print(f\"  Line {line_idx}: {line_text}\")\n",
    "                \n",
    "                fig.clf()\n",
    "                \n",
    "            except Exception as e:\n",
    "                print(f\"  Error processing line {line_idx}\")\n",
    "                page_text.append(\"[OCR ERROR]\")\n",
    "                fig.clf()\n",
    "        \n",
    "        all_text.append(\"\\n\".join(page_text))\n",
    "        all_text.append(\"\\n\" + \"═\"*60 + \" PAGE BREAK \" + \"═\"*60 + \"\\n\")\n",
    "    \n",
    "    plt.ioff()\n",
    "    plt.close()\n",
    "    return \"\\n\".join(all_text)\n",
    "\n",
    "# Process all directories\n",
    "final_text = process_directory(\"/kaggle/working/line_output\")\n",
    "\n",
    "# Save and display results\n",
    "print(\"\\n Final OCR Results:\")\n",
    "print(final_text)\n",
    "\n",
    "with open(\"/kaggle/working/final_ocr_output.txt\", \"w\") as f:\n",
    "    f.write(final_text)\n",
    "\n",
    "print(\"\\n OCR results saved successfully\")"
   ]
  },
  {
   "cell_type": "code",
   "execution_count": 40,
   "metadata": {
    "execution": {
     "iopub.execute_input": "2025-04-01T18:55:34.910789Z",
     "iopub.status.busy": "2025-04-01T18:55:34.910432Z",
     "iopub.status.idle": "2025-04-01T18:55:38.543177Z",
     "shell.execute_reply": "2025-04-01T18:55:38.542167Z",
     "shell.execute_reply.started": "2025-04-01T18:55:34.910758Z"
    },
    "trusted": true
   },
   "outputs": [
    {
     "name": "stdout",
     "output_type": "stream",
     "text": [
      "Detected line image files:\n",
      "['line_0.png', 'line_1.png', 'line_2.png', 'line_3.png']\n",
      "\n",
      "Processing line_0.png...\n",
      "Raw OCR: guro disleño de su edad. la Rei\n",
      "Processed: guro disleño de su edad. la Rei\n",
      "\n",
      "Processing line_1.png...\n",
      "Raw OCR: gion para con Dios en la de vaca\n",
      "Processed: gion para con Dios en la de uaca\n",
      "\n",
      "Processing line_2.png...\n",
      "Raw OCR: a la Isilecia a los Templos, la piedad\n",
      "Processed: a la Isilecia a los Templos, la piedad\n",
      "\n",
      "Processing line_3.png...\n",
      "Raw OCR: con los Padres en la obedientia\n",
      "Processed: con los Padres en la obedientia\n",
      "\n",
      "Final Processed Text:\n",
      "guro disleño de su edad. la Rei\n",
      "gion para con Dios en la de uaca\n",
      "a la Isilecia a los Templos, la piedad\n",
      "con los Padres en la obedientia\n",
      "\n",
      "Processing complete!\n"
     ]
    }
   ],
   "source": [
    "## after changing the changes given \n",
    "\n",
    "import os\n",
    "import re\n",
    "import torch\n",
    "import unicodedata\n",
    "from PIL import Image\n",
    "import matplotlib.pyplot as plt\n",
    "from transformers import AutoModelForSeq2SeqLM, AutoTokenizer, TrOCRProcessor\n",
    "\n",
    "def postprocess_ocr_text(text):\n",
    "    # Replace v/u variations\n",
    "    text = text.replace('v', 'u').replace('V', 'U')\n",
    "    \n",
    "    # Handle long s (ſ)\n",
    "    text = text.replace('ſ', 's').replace('ẛ', 'S')\n",
    "    \n",
    "    # Process macrons and special characters\n",
    "    processed = []\n",
    "    i = 0\n",
    "    while i < len(text):\n",
    "        char = text[i]\n",
    "        \n",
    "        # Handle macron characters (unicode normalization)\n",
    "        if unicodedata.combining(char):\n",
    "            i += 1\n",
    "            continue\n",
    "            \n",
    "        decomposed = unicodedata.normalize('NFD', char)\n",
    "        if len(decomposed) > 1 and decomposed[1] == '\\u0304':  # Macron\n",
    "            base_char = decomposed[0]\n",
    "            # Special case for Q macron\n",
    "            if base_char.upper() == 'Q':\n",
    "                processed.append(base_char + 'ue')\n",
    "            else:\n",
    "                processed.append(base_char + 'n')\n",
    "        else:\n",
    "            # Preserve ñ and process other accents\n",
    "            if char == 'ñ':\n",
    "                processed.append(char)\n",
    "            else:\n",
    "                # Remove accents but keep letter\n",
    "                no_accents = ''.join(c for c in unicodedata.normalize('NFD', char)\n",
    "                                    if not unicodedata.combining(c))\n",
    "                processed.append(no_accents)\n",
    "        \n",
    "        # Handle ç replacement\n",
    "        if char in ['ç', 'Ç']:\n",
    "            processed[-1] = processed[-1].replace('ç', 'z').replace('Ç', 'Z')\n",
    "        \n",
    "        i += 1\n",
    "    \n",
    "    return ''.join(processed)\n",
    "\n",
    "# Define the folder where your line images are stored\n",
    "folder_path = \"/kaggle/working/line_output\"\n",
    "\n",
    "# List and sort the image filenames based on the number in \"line_#.png\"\n",
    "image_files = sorted(\n",
    "    [f for f in os.listdir(folder_path) if re.match(r\"line_\\d+\\.png\", f)],\n",
    "    key=lambda x: int(re.search(r\"\\d+\", x).group())\n",
    ")\n",
    "\n",
    "print(\"Detected line image files:\")\n",
    "print(image_files)\n",
    "\n",
    "\n",
    "# OCR each line image and collect the text\n",
    "lines_text = []\n",
    "for img_file in image_files:\n",
    "    img_path = os.path.join(folder_path, img_file)\n",
    "    img = Image.open(img_path).convert(\"RGB\")\n",
    "\n",
    "    # Display processing status\n",
    "    print(f\"\\nProcessing {img_file}...\")\n",
    "    \n",
    "    # Preprocess the image\n",
    "    inputs = processor(img, return_tensors=\"pt\")\n",
    "    pixel_values = inputs.pixel_values.to(device)\n",
    "\n",
    "    # Generate prediction\n",
    "    generated_ids = model.generate(\n",
    "        pixel_values, \n",
    "        max_new_tokens=128,\n",
    "        num_beams=5,\n",
    "        early_stopping=True\n",
    "    )\n",
    "    \n",
    "    # Decode and post-process\n",
    "    raw_text = tokenizer.decode(generated_ids[0], skip_special_tokens=True).strip()\n",
    "    processed_text = postprocess_ocr_text(raw_text)\n",
    "    \n",
    "    print(f\"Raw OCR: {raw_text}\")\n",
    "    print(f\"Processed: {processed_text}\")\n",
    "    lines_text.append(processed_text)\n",
    "\n",
    "# Join all the line texts with proper spacing\n",
    "paragraph = \"\\n\".join(lines_text)\n",
    "\n",
    "print(\"\\nFinal Processed Text:\")\n",
    "print(paragraph)\n",
    "print(\"\\nProcessing complete!\")"
   ]
  },
  {
   "cell_type": "code",
   "execution_count": null,
   "metadata": {
    "execution": {
     "execution_failed": "2025-04-01T12:54:57.371Z"
    },
    "trusted": true
   },
   "outputs": [],
   "source": [
    "import cv2\n",
    "import numpy as np\n",
    "from scipy.ndimage import gaussian_filter1d\n",
    "\n",
    "def process_page(image_path, output_folder):\n",
    "    # Read and preprocess image\n",
    "    img = cv2.imread(image_path)\n",
    "    gray = cv2.cvtColor(img, cv2.COLOR_BGR2GRAY)\n",
    "    thresh = cv2.adaptiveThreshold(gray, 255, \n",
    "        cv2.ADAPTIVE_THRESH_GAUSSIAN_C, \n",
    "        cv2.THRESH_BINARY_INV, 21, 4)\n",
    "\n",
    "    # Find content area (vertical projection)\n",
    "    sum_cols = np.sum(thresh/255, axis=0)\n",
    "    col_thresh = 0.1 * np.max(sum_cols)\n",
    "    left = np.argmax(sum_cols > col_thresh)\n",
    "    right = len(sum_cols) - np.argmax(sum_cols[::-1] > col_thresh) - 1\n",
    "\n",
    "    # Crop to content area\n",
    "    content = thresh[:, left:right+1]\n",
    "    original_content = img[:, left:right+1]\n",
    "\n",
    "    # Find text lines (horizontal projection)\n",
    "    sum_rows = np.sum(content/255, axis=1)\n",
    "    smoothed = gaussian_filter1d(sum_rows, sigma=3)\n",
    "    \n",
    "    # Find line regions\n",
    "    threshold = 0.1 * np.max(smoothed)\n",
    "    in_line = False\n",
    "    lines = []\n",
    "    start = 0\n",
    "    \n",
    "    for i, val in enumerate(smoothed):\n",
    "        if not in_line and val > threshold:\n",
    "            start = i\n",
    "            in_line = True\n",
    "        elif in_line and val < threshold:\n",
    "            end = i\n",
    "            in_line = False\n",
    "            lines.append((start, end))\n",
    "    \n",
    "    # Calculate median line height\n",
    "    heights = [e-s for s,e in lines]\n",
    "    if not heights:\n",
    "        return\n",
    "    median_h = np.median(heights)\n",
    "\n",
    "    # Process and save valid lines\n",
    "    line_num = 0\n",
    "    for idx, (s, e) in enumerate(lines):\n",
    "        h = e - s\n",
    "        padding = int(median_h * 0.2)\n",
    "        y0 = max(0, s - padding)\n",
    "        y1 = min(content.shape[0], e + padding)\n",
    "        \n",
    "        if h > 1.8 * median_h:  # Line with large initial\n",
    "            # Extract potential initial+text region\n",
    "            line_region = original_content[y0:y1, :]\n",
    "            \n",
    "            # Process horizontal projection for this line\n",
    "            gray_line = cv2.cvtColor(line_region, cv2.COLOR_BGR2GRAY)\n",
    "            _, line_thresh = cv2.threshold(gray_line, 0, 255, \n",
    "                cv2.THRESH_BINARY_INV + cv2.THRESH_OTSU)\n",
    "            \n",
    "            # Get horizontal projection\n",
    "            sum_cols_line = np.sum(line_thresh/255, axis=0)\n",
    "            smoothed_cols = gaussian_filter1d(sum_cols_line, sigma=2)\n",
    "            \n",
    "            # Find split point between initial and text\n",
    "            threshold_split = 0.15 * np.max(smoothed_cols)\n",
    "            split_points = np.where(smoothed_cols < threshold_split)[0]\n",
    "            \n",
    "            if len(split_points) > 0:\n",
    "                # Find first significant gap after initial\n",
    "                split_point = split_points[0] + int(median_h * 0.3)\n",
    "            else:\n",
    "                split_point = int(median_h * 1.5)  # Fallback split\n",
    "\n",
    "            # Split and save text portion\n",
    "            text_portion = line_region[:, split_point:]\n",
    "            if text_portion.shape[1] > 20:  # Minimum valid width\n",
    "                cv2.imwrite(f\"{output_folder}/line_{line_num}.png\", text_portion)\n",
    "                line_num += 1\n",
    "        else:\n",
    "            # Normal line processing\n",
    "            line_img = original_content[y0:y1, :]\n",
    "            cv2.imwrite(f\"{output_folder}/line_{line_num}.png\", line_img)\n",
    "            line_num += 1\n",
    "\n",
    "# Usage example\n",
    "process_page(\"/kaggle/input/finaltesting/Screenshot 2025-04-01 at 4.10.23PM.png\", \"/kaggle/working/lines_output2\")"
   ]
  },
  {
   "cell_type": "code",
   "execution_count": null,
   "metadata": {
    "execution": {
     "iopub.execute_input": "2025-04-01T10:03:38.242316Z",
     "iopub.status.busy": "2025-04-01T10:03:38.241985Z",
     "iopub.status.idle": "2025-04-01T10:03:38.328069Z",
     "shell.execute_reply": "2025-04-01T10:03:38.327384Z",
     "shell.execute_reply.started": "2025-04-01T10:03:38.242293Z"
    },
    "trusted": true
   },
   "outputs": [],
   "source": [
    "import cv2\n",
    "import numpy as np\n",
    "from scipy.ndimage import gaussian_filter1d\n",
    "\n",
    "def process_page(image_path, output_folder):\n",
    "    # Read and preprocess image\n",
    "    img = cv2.imread(image_path)\n",
    "    gray = cv2.cvtColor(img, cv2.COLOR_BGR2GRAY)\n",
    "    thresh = cv2.adaptiveThreshold(gray, 255, \n",
    "        cv2.ADAPTIVE_THRESH_GAUSSIAN_C, \n",
    "        cv2.THRESH_BINARY_INV, 21, 4)\n",
    "\n",
    "    # Find content area (vertical projection)\n",
    "    sum_cols = np.sum(thresh/255, axis=0)\n",
    "    col_thresh = 0.1 * np.max(sum_cols)\n",
    "    left = np.argmax(sum_cols > col_thresh)\n",
    "    right = len(sum_cols) - np.argmax(sum_cols[::-1] > col_thresh) - 1\n",
    "\n",
    "    # Crop to content area\n",
    "    content = thresh[:, left:right+1]\n",
    "    original_content = img[:, left:right+1]\n",
    "\n",
    "    # Find text lines (horizontal projection)\n",
    "    sum_rows = np.sum(content/255, axis=1)\n",
    "    smoothed = gaussian_filter1d(sum_rows, sigma=3)\n",
    "    \n",
    "    # Find line regions\n",
    "    threshold = 0.1 * np.max(smoothed)\n",
    "    in_line = False\n",
    "    lines = []\n",
    "    start = 0\n",
    "    \n",
    "    for i, val in enumerate(smoothed):\n",
    "        if not in_line and val > threshold:\n",
    "            start = i\n",
    "            in_line = True\n",
    "        elif in_line and val < threshold:\n",
    "            end = i\n",
    "            in_line = False\n",
    "            lines.append((start, end))\n",
    "    \n",
    "    # Calculate median line height\n",
    "    heights = [e-s for s,e in lines]\n",
    "    if not heights:\n",
    "        return\n",
    "    median_h = np.median(heights)\n",
    "\n",
    "    # Process and save valid lines\n",
    "    line_num = 0\n",
    "    for idx, (s, e) in enumerate(lines):\n",
    "        h = e - s\n",
    "        padding = int(median_h * 0.2)\n",
    "        y0 = max(0, s - padding)\n",
    "        y1 = min(content.shape[0], e + padding)\n",
    "        \n",
    "        if h > 1.8 * median_h:  # Line with large initial\n",
    "            line_region = original_content[y0:y1, :]\n",
    "            \n",
    "            # Process horizontal projection for this line\n",
    "            gray_line = cv2.cvtColor(line_region, cv2.COLOR_BGR2GRAY)\n",
    "            _, line_thresh = cv2.threshold(gray_line, 0, 255, \n",
    "                cv2.THRESH_BINARY_INV + cv2.THRESH_OTSU)\n",
    "            \n",
    "            sum_cols_line = np.sum(line_thresh/255, axis=0)\n",
    "            smoothed_cols = gaussian_filter1d(sum_cols_line, sigma=2)\n",
    "            \n",
    "            # Find split point between initial and text\n",
    "            threshold_split = 0.15 * np.max(smoothed_cols)\n",
    "            split_points = np.where(smoothed_cols < threshold_split)[0]\n",
    "            \n",
    "            if len(split_points) > 0:\n",
    "                split_point = split_points[0] + int(median_h * 0.3)\n",
    "            else:\n",
    "                split_point = int(median_h * 1.5)\n",
    "\n",
    "            # Split into initial and text portions\n",
    "            initial_portion = line_region[:, :split_point]\n",
    "            text_portion = line_region[:, split_point:]\n",
    "\n",
    "            # Save initial portion\n",
    "            cv2.imwrite(f\"{output_folder}/line_{line_num}.png\", initial_portion)\n",
    "            line_num += 1\n",
    "\n",
    "            # Process text portion if valid\n",
    "            if text_portion.shape[1] > 20:\n",
    "                # Find lines in text portion\n",
    "                gray_text = cv2.cvtColor(text_portion, cv2.COLOR_BGR2GRAY)\n",
    "                _, thresh_text = cv2.threshold(gray_text, 0, 255, cv2.THRESH_BINARY_INV + cv2.THRESH_OTSU)\n",
    "                sum_rows_text = np.sum(thresh_text/255, axis=1)\n",
    "                smoothed_text = gaussian_filter1d(sum_rows_text, sigma=3)\n",
    "                \n",
    "                # Detect lines in text portion\n",
    "                threshold_text = 0.1 * np.max(smoothed_text)\n",
    "                in_line_text = False\n",
    "                lines_text = []\n",
    "                start_text = 0\n",
    "                for i, val in enumerate(smoothed_text):\n",
    "                    if not in_line_text and val > threshold_text:\n",
    "                        start_text = i\n",
    "                        in_line_text = True\n",
    "                    elif in_line_text and val < threshold_text:\n",
    "                        end_text = i\n",
    "                        in_line_text = False\n",
    "                        lines_text.append((start_text, end_text))\n",
    "                \n",
    "                # Save each detected line in text portion\n",
    "                for s_text, e_text in lines_text:\n",
    "                    padding_text = int(median_h * 0.2)\n",
    "                    y0_text = max(0, s_text - padding_text)\n",
    "                    y1_text = min(text_portion.shape[0], e_text + padding_text)\n",
    "                    line_img = text_portion[y0_text:y1_text, :]\n",
    "                    cv2.imwrite(f\"{output_folder}/line_{line_num}.png\", line_img)\n",
    "                    line_num += 1\n",
    "        else:\n",
    "            # Normal line processing\n",
    "            line_img = original_content[y0:y1, :]\n",
    "            cv2.imwrite(f\"{output_folder}/line_{line_num}.png\", line_img)\n",
    "            line_num += 1\n",
    "\n",
    "# Usage example\n",
    "process_page(\"/kaggle/input/sample-test/Screenshot 2025-04-01 at 12.24.48PM.png\", \"/kaggle/working/lines_output\")"
   ]
  },
  {
   "cell_type": "markdown",
   "metadata": {},
   "source": [
    "## converting the other pdfs too "
   ]
  },
  {
   "cell_type": "code",
   "execution_count": 68,
   "metadata": {
    "execution": {
     "iopub.execute_input": "2025-04-01T21:17:41.900888Z",
     "iopub.status.busy": "2025-04-01T21:17:41.900476Z",
     "iopub.status.idle": "2025-04-01T21:17:41.906442Z",
     "shell.execute_reply": "2025-04-01T21:17:41.905300Z",
     "shell.execute_reply.started": "2025-04-01T21:17:41.900860Z"
    },
    "trusted": true
   },
   "outputs": [
    {
     "name": "stdout",
     "output_type": "stream",
     "text": [
      "Folder created (or already exists): /kaggle/working/line_output5\n"
     ]
    }
   ],
   "source": [
    "import os\n",
    "\n",
    "folder_path = \"/kaggle/working/line_output5\"\n",
    "os.makedirs(folder_path, exist_ok=True)\n",
    "print(f\"Folder created (or already exists): {folder_path}\")\n"
   ]
  },
  {
   "cell_type": "code",
   "execution_count": 69,
   "metadata": {
    "execution": {
     "iopub.execute_input": "2025-04-01T21:18:21.791803Z",
     "iopub.status.busy": "2025-04-01T21:18:21.791455Z",
     "iopub.status.idle": "2025-04-01T21:18:25.600048Z",
     "shell.execute_reply": "2025-04-01T21:18:25.598918Z",
     "shell.execute_reply.started": "2025-04-01T21:18:21.791773Z"
    },
    "trusted": true
   },
   "outputs": [],
   "source": [
    "import cv2\n",
    "import numpy as np\n",
    "import os\n",
    "from scipy.ndimage import gaussian_filter1d\n",
    "\n",
    "def process_directory(input_dir, output_base_dir):\n",
    "    # Create output directory if it doesn't exist\n",
    "    os.makedirs(output_base_dir, exist_ok=True)\n",
    "    \n",
    "    # Process each image in the input directory\n",
    "    for img_file in os.listdir(input_dir):\n",
    "        img_path = os.path.join(input_dir, img_file)\n",
    "        \n",
    "        # Skip non-image files\n",
    "        if not img_file.lower().endswith(('.png', '.jpg', '.jpeg')):\n",
    "            continue\n",
    "            \n",
    "        # Create per-image output folder\n",
    "        output_folder = os.path.join(output_base_dir, os.path.splitext(img_file)[0])\n",
    "        os.makedirs(output_folder, exist_ok=True)\n",
    "        \n",
    "        # Process individual image\n",
    "        process_image(img_path, output_folder)\n",
    "\n",
    "def process_image(image_path, output_folder):\n",
    "    # Read and preprocess image\n",
    "    img = cv2.imread(image_path)\n",
    "    if img is None:\n",
    "        print(f\"Warning: Could not read image {image_path}\")\n",
    "        return\n",
    "    \n",
    "    # Rest of your original processing code...\n",
    "    gray = cv2.cvtColor(img, cv2.COLOR_BGR2GRAY)\n",
    "    thresh = cv2.adaptiveThreshold(gray, 255, \n",
    "        cv2.ADAPTIVE_THRESH_GAUSSIAN_C, \n",
    "        cv2.THRESH_BINARY_INV, 21, 4)\n",
    "\n",
    "    # Find content area (vertical projection)\n",
    "    sum_cols = np.sum(thresh/255, axis=0)\n",
    "    col_thresh = 0.1 * np.max(sum_cols)\n",
    "    left = np.argmax(sum_cols > col_thresh)\n",
    "    right = len(sum_cols) - np.argmax(sum_cols[::-1] > col_thresh) - 1\n",
    "\n",
    "    # Crop to content area\n",
    "    content = thresh[:, left:right+1]\n",
    "    original_content = img[:, left:right+1]\n",
    "\n",
    "    # Find text lines (horizontal projection)\n",
    "    sum_rows = np.sum(content/255, axis=1)\n",
    "    smoothed = gaussian_filter1d(sum_rows, sigma=2)\n",
    "    \n",
    "    # Adaptive threshold detection\n",
    "    threshold = 0.15 * np.max(smoothed)\n",
    "    lines = []\n",
    "    attempts = 0\n",
    "    max_attempts = 3\n",
    "    \n",
    "    while attempts < max_attempts:\n",
    "        in_line = False\n",
    "        current_lines = []\n",
    "        start = 0\n",
    "        \n",
    "        for i, val in enumerate(smoothed):\n",
    "            if not in_line and val > threshold:\n",
    "                start = i\n",
    "                in_line = True\n",
    "            elif in_line and val < threshold:\n",
    "                end = i\n",
    "                in_line = False\n",
    "                current_lines.append((start, end))\n",
    "        \n",
    "        # Keep the detection with most lines\n",
    "        if len(current_lines) > len(lines):\n",
    "            lines = current_lines\n",
    "        \n",
    "        # Adjust threshold for next attempt\n",
    "        threshold *= 0.9  # Gradually lower threshold\n",
    "        attempts += 1\n",
    "\n",
    "    # Process and save lines\n",
    "    for line_num, (s, e) in enumerate(lines):\n",
    "        h = e - s\n",
    "        padding = int(h * 0.2)\n",
    "        y0 = max(0, s - padding)\n",
    "        y1 = min(content.shape[0], e + padding)\n",
    "        \n",
    "        line_img = original_content[y0:y1, :]\n",
    "        cv2.imwrite(f\"{output_folder}/line_{line_num}.png\", line_img)\n",
    "\n",
    "# Usage - process all images in directory\n",
    "process_directory(\n",
    "    input_dir=\"/kaggle/input/mendo-main/mendo\",\n",
    "    output_base_dir=\"/kaggle/working/line_output5\"\n",
    ")"
   ]
  },
  {
   "cell_type": "code",
   "execution_count": 70,
   "metadata": {
    "execution": {
     "iopub.execute_input": "2025-04-01T21:18:32.567811Z",
     "iopub.status.busy": "2025-04-01T21:18:32.567454Z",
     "iopub.status.idle": "2025-04-01T21:22:29.667655Z",
     "shell.execute_reply": "2025-04-01T21:22:29.666575Z",
     "shell.execute_reply.started": "2025-04-01T21:18:32.567782Z"
    },
    "trusted": true
   },
   "outputs": [
    {
     "name": "stdout",
     "output_type": "stream",
     "text": [
      "\n",
      "📄 Processing page 1\n",
      "\n",
      "📄 Processing page 2\n"
     ]
    },
    {
     "data": {
      "image/png": "[encoded data removed]",
      "text/plain": [
       "<Figure size 1200x600 with 2 Axes>"
      ]
     },
     "metadata": {},
     "output_type": "display_data"
    },
    {
     "name": "stdout",
     "output_type": "stream",
     "text": [
      "  Line 1: y por el rei don sancho e el rei don sancho el rei don sancho\n",
      "\n",
      "📄 Processing page 3\n"
     ]
    },
    {
     "data": {
      "text/plain": [
       "<Figure size 640x480 with 0 Axes>"
      ]
     },
     "metadata": {},
     "output_type": "display_data"
    },
    {
     "name": "stdout",
     "output_type": "stream",
     "text": [
      "  Line 1: De Guzman El BVeno\n",
      "\n",
      "📄 Processing page 4\n"
     ]
    },
    {
     "data": {
      "text/plain": [
       "<Figure size 640x480 with 0 Axes>"
      ]
     },
     "metadata": {},
     "output_type": "display_data"
    },
    {
     "name": "stdout",
     "output_type": "stream",
     "text": [
      "  Line 1: el rei don sancho el rei don sancho e el rei don\n"
     ]
    },
    {
     "data": {
      "text/plain": [
       "<Figure size 640x480 with 0 Axes>"
      ]
     },
     "metadata": {},
     "output_type": "display_data"
    },
    {
     "name": "stdout",
     "output_type": "stream",
     "text": [
      "  Line 2: patriacha De las India,\n",
      "\n",
      "📄 Processing page 5\n"
     ]
    },
    {
     "data": {
      "text/plain": [
       "<Figure size 640x480 with 0 Axes>"
      ]
     },
     "metadata": {},
     "output_type": "display_data"
    },
    {
     "name": "stdout",
     "output_type": "stream",
     "text": [
      "  Line 1: de los caualleros de los caualleros de los caualleros\n",
      "\n",
      "📄 Processing page 6\n"
     ]
    },
    {
     "data": {
      "text/plain": [
       "<Figure size 640x480 with 0 Axes>"
      ]
     },
     "metadata": {},
     "output_type": "display_data"
    },
    {
     "name": "stdout",
     "output_type": "stream",
     "text": [
      "  Line 1: Nuestro Señor Don Felipe TV. el Grande Rey de\n",
      "\n",
      "📄 Processing page 7\n",
      "\n",
      "📄 Processing page 8\n"
     ]
    },
    {
     "data": {
      "text/plain": [
       "<Figure size 640x480 with 0 Axes>"
      ]
     },
     "metadata": {},
     "output_type": "display_data"
    },
    {
     "name": "stdout",
     "output_type": "stream",
     "text": [
      "  Line 1: E el escastico Ordinario de su Real Capilla, Ca sa,\n",
      "\n",
      "📄 Processing page 9\n",
      "\n",
      "📄 Processing page 10\n"
     ]
    },
    {
     "data": {
      "text/plain": [
       "<Figure size 640x480 with 0 Axes>"
      ]
     },
     "metadata": {},
     "output_type": "display_data"
    },
    {
     "name": "stdout",
     "output_type": "stream",
     "text": [
      "  Line 1: la estampa estos Dezcomenientriono señor y solenades\n",
      "\n",
      "📄 Processing page 11\n"
     ]
    },
    {
     "data": {
      "text/plain": [
       "<Figure size 640x480 with 0 Axes>"
      ]
     },
     "metadata": {},
     "output_type": "display_data"
    },
    {
     "name": "stdout",
     "output_type": "stream",
     "text": [
      "  Line 1: tio estampa ojos Tolumenico e ouiedos y de los deos\n",
      "\n",
      "📄 Processing page 12\n",
      "\n",
      "📄 Processing page 13\n"
     ]
    },
    {
     "data": {
      "text/plain": [
       "<Figure size 640x480 with 0 Axes>"
      ]
     },
     "metadata": {},
     "output_type": "display_data"
    },
    {
     "name": "stdout",
     "output_type": "stream",
     "text": [
      "  Line 1: con españal de Emblem Cañir con la la la holgo de los ojos don gafirō\n",
      "\n",
      "📄 Processing page 14\n"
     ]
    },
    {
     "data": {
      "text/plain": [
       "<Figure size 640x480 with 0 Axes>"
      ]
     },
     "metadata": {},
     "output_type": "display_data"
    },
    {
     "name": "stdout",
     "output_type": "stream",
     "text": [
      "  Line 1: Alfonso -\n"
     ]
    },
    {
     "data": {
      "text/plain": [
       "<Figure size 640x480 with 0 Axes>"
      ]
     },
     "metadata": {},
     "output_type": "display_data"
    },
    {
     "name": "stdout",
     "output_type": "stream",
     "text": [
      "  Line 2: Monarca la primera vez este libro, y para que biolua mejorado a sus\n"
     ]
    },
    {
     "data": {
      "text/plain": [
       "<Figure size 640x480 with 0 Axes>"
      ]
     },
     "metadata": {},
     "output_type": "display_data"
    },
    {
     "name": "stdout",
     "output_type": "stream",
     "text": [
      "  Line 3: Reales manos, le pongo en las de V. S. de quien le admitra con los\n",
      "\n",
      "📄 Processing page 15\n"
     ]
    },
    {
     "data": {
      "text/plain": [
       "<Figure size 640x480 with 0 Axes>"
      ]
     },
     "metadata": {},
     "output_type": "display_data"
    },
    {
     "name": "stdout",
     "output_type": "stream",
     "text": [
      "  Line 1: agrados, eruecienço no su Magelad merecidos sus grandes ay el mii\n",
      "\n",
      "📄 Processing page 16\n"
     ]
    },
    {
     "data": {
      "text/plain": [
       "<Figure size 640x480 with 0 Axes>"
      ]
     },
     "metadata": {},
     "output_type": "display_data"
    },
    {
     "name": "stdout",
     "output_type": "stream",
     "text": [
      "  Line 1: Alfonso -\n"
     ]
    },
    {
     "data": {
      "text/plain": [
       "<Figure size 640x480 with 0 Axes>"
      ]
     },
     "metadata": {},
     "output_type": "display_data"
    },
    {
     "name": "stdout",
     "output_type": "stream",
     "text": [
      "  Line 2: Alfonso de Castilla\n"
     ]
    },
    {
     "data": {
      "text/plain": [
       "<Figure size 640x480 with 0 Axes>"
      ]
     },
     "metadata": {},
     "output_type": "display_data"
    },
    {
     "name": "stdout",
     "output_type": "stream",
     "text": [
      "  Line 3: sinos Progenitores ser Guzman el bueno, con sus acciones ha gran\n"
     ]
    },
    {
     "data": {
      "text/plain": [
       "<Figure size 640x480 with 0 Axes>"
      ]
     },
     "metadata": {},
     "output_type": "display_data"
    },
    {
     "name": "stdout",
     "output_type": "stream",
     "text": [
      "  Line 4: E el rei don sancho el rei don sancho el rei don grā\n"
     ]
    },
    {
     "data": {
      "text/plain": [
       "<Figure size 640x480 with 0 Axes>"
      ]
     },
     "metadata": {},
     "output_type": "display_data"
    },
    {
     "name": "stdout",
     "output_type": "stream",
     "text": [
      "  Line 5: Alfonso a caualleron a caua\n"
     ]
    },
    {
     "data": {
      "text/plain": [
       "<Figure size 640x480 with 0 Axes>"
      ]
     },
     "metadata": {},
     "output_type": "display_data"
    },
    {
     "name": "stdout",
     "output_type": "stream",
     "text": [
      "  Line 6: Alfonso a caualleron a caualleria\n"
     ]
    },
    {
     "data": {
      "text/plain": [
       "<Figure size 640x480 with 0 Axes>"
      ]
     },
     "metadata": {},
     "output_type": "display_data"
    },
    {
     "name": "stdout",
     "output_type": "stream",
     "text": [
      "  Line 7: Alfonso -\n",
      "\n",
      "📄 Processing page 17\n",
      "\n",
      "📄 Processing page 18\n",
      "\n",
      "📄 Processing page 19\n",
      "\n",
      "📄 Processing page 20\n",
      "\n",
      "📄 Processing page 21\n",
      "\n",
      "📄 Processing page 22\n",
      "\n",
      "📄 Processing page 23\n",
      "\n",
      "📄 Processing page 24\n",
      "\n",
      "📄 Processing page 25\n",
      "\n",
      "📄 Processing page 26\n",
      "\n",
      "📄 Processing page 27\n",
      "\n",
      "📄 Processing page 28\n",
      "\n",
      "📄 Processing page 29\n",
      "\n",
      "📄 Processing page 30\n",
      "\n",
      "📄 Processing page 31\n",
      "\n",
      "📄 Processing page 32\n",
      "\n",
      "📄 Processing page 33\n",
      "\n",
      "📄 Processing page 34\n",
      "\n",
      "📄 Processing page 35\n",
      "\n",
      "📄 Processing page 36\n",
      "\n",
      "📄 Processing page 37\n"
     ]
    },
    {
     "data": {
      "text/plain": [
       "<Figure size 640x480 with 0 Axes>"
      ]
     },
     "metadata": {},
     "output_type": "display_data"
    },
    {
     "name": "stdout",
     "output_type": "stream",
     "text": [
      "  Line 1: vencion este libro de Docimientos Pelici. E el reino\n",
      "\n",
      "📄 Processing page 38\n",
      "\n",
      "📄 Processing page 39\n"
     ]
    },
    {
     "data": {
      "text/plain": [
       "<Figure size 640x480 with 0 Axes>"
      ]
     },
     "metadata": {},
     "output_type": "display_data"
    },
    {
     "name": "stdout",
     "output_type": "stream",
     "text": [
      "  Line 1: ajustados, que escribio nuestro muy Renerendo Padre\n",
      "\n",
      "📄 Processing page 40\n"
     ]
    },
    {
     "data": {
      "text/plain": [
       "<Figure size 640x480 with 0 Axes>"
      ]
     },
     "metadata": {},
     "output_type": "display_data"
    },
    {
     "name": "stdout",
     "output_type": "stream",
     "text": [
      "  Line 1: y deziramos por el rei don Alfonso en el rei don Alfonso\n"
     ]
    },
    {
     "data": {
      "text/plain": [
       "<Figure size 640x480 with 0 Axes>"
      ]
     },
     "metadata": {},
     "output_type": "display_data"
    },
    {
     "name": "stdout",
     "output_type": "stream",
     "text": [
      "  Line 2: Andres Mendo de la Compañia de I Es vs, Lector que\n",
      "\n",
      "📄 Processing page 41\n"
     ]
    },
    {
     "data": {
      "text/plain": [
       "<Figure size 640x480 with 0 Axes>"
      ]
     },
     "metadata": {},
     "output_type": "display_data"
    },
    {
     "name": "stdout",
     "output_type": "stream",
     "text": [
      "  Line 1: y de los ouo Algunado de la caua quando de luego pueblo qe espa\n"
     ]
    },
    {
     "data": {
      "text/plain": [
       "<Figure size 640x480 with 0 Axes>"
      ]
     },
     "metadata": {},
     "output_type": "display_data"
    },
    {
     "name": "stdout",
     "output_type": "stream",
     "text": [
      "  Line 2: fue aqui de Theologia y Elericura, Rector del Colegio\n",
      "\n",
      "📄 Processing page 42\n"
     ]
    },
    {
     "data": {
      "text/plain": [
       "<Figure size 640x480 with 0 Axes>"
      ]
     },
     "metadata": {},
     "output_type": "display_data"
    },
    {
     "name": "stdout",
     "output_type": "stream",
     "text": [
      "  Line 1: y de Aquel rei de los cauos qe vencian qe el rei de los caualleros\n"
     ]
    },
    {
     "data": {
      "text/plain": [
       "<Figure size 640x480 with 0 Axes>"
      ]
     },
     "metadata": {},
     "output_type": "display_data"
    },
    {
     "name": "stdout",
     "output_type": "stream",
     "text": [
      "  Line 2: de Islanders desta Vniversidad, y Calificador del Con.\n",
      "\n",
      "📄 Processing page 43\n",
      "\n",
      "📄 Processing page 44\n"
     ]
    },
    {
     "data": {
      "text/plain": [
       "<Figure size 640x480 with 0 Axes>"
      ]
     },
     "metadata": {},
     "output_type": "display_data"
    },
    {
     "name": "stdout",
     "output_type": "stream",
     "text": [
      "  Line 1: auerla tenido en principar noricias de tanta erudicion\n",
      "\n",
      "📄 Processing page 45\n"
     ]
    },
    {
     "data": {
      "text/plain": [
       "<Figure size 640x480 with 0 Axes>"
      ]
     },
     "metadata": {},
     "output_type": "display_data"
    },
    {
     "name": "stdout",
     "output_type": "stream",
     "text": [
      "  Line 1: a si Segrada, como Profanzances que la estampa los co-\n",
      "\n",
      "📄 Processing page 46\n"
     ]
    },
    {
     "data": {
      "text/plain": [
       "<Figure size 640x480 with 0 Axes>"
      ]
     },
     "metadata": {},
     "output_type": "display_data"
    },
    {
     "name": "stdout",
     "output_type": "stream",
     "text": [
      "  Line 1: municale a todos, bienque nunca pueden hazerle vil.\n",
      "\n",
      "📄 Processing page 47\n"
     ]
    },
    {
     "data": {
      "text/plain": [
       "<Figure size 640x480 with 0 Axes>"
      ]
     },
     "metadata": {},
     "output_type": "display_data"
    },
    {
     "name": "stdout",
     "output_type": "stream",
     "text": [
      "  Line 1: qe el caualleria para qe luego qe murieron qe el es caualleros qe el pazquez\n",
      "\n",
      "📄 Processing page 48\n",
      "\n",
      "📄 Processing page 49\n"
     ]
    },
    {
     "data": {
      "text/plain": [
       "<Figure size 640x480 with 0 Axes>"
      ]
     },
     "metadata": {},
     "output_type": "display_data"
    },
    {
     "name": "stdout",
     "output_type": "stream",
     "text": [
      "  Line 1: En que este lugar pueda con treñerirle la desatercion\n",
      "\n",
      "📄 Processing page 50\n"
     ]
    },
    {
     "data": {
      "text/plain": [
       "<Figure size 640x480 with 0 Axes>"
      ]
     },
     "metadata": {},
     "output_type": "display_data"
    },
    {
     "name": "stdout",
     "output_type": "stream",
     "text": [
      "  Line 1: de la llego que luego e el rei don siempre el muy grā\n",
      "\n",
      "📄 Processing page 51\n"
     ]
    },
    {
     "data": {
      "text/plain": [
       "<Figure size 640x480 with 0 Axes>"
      ]
     },
     "metadata": {},
     "output_type": "display_data"
    },
    {
     "name": "stdout",
     "output_type": "stream",
     "text": [
      "  Line 1: con su caudal vencriolo lo extraordimario lo raro se lo\n",
      "\n",
      "📄 Processing page 52\n"
     ]
    },
    {
     "data": {
      "text/plain": [
       "<Figure size 640x480 with 0 Axes>"
      ]
     },
     "metadata": {},
     "output_type": "display_data"
    },
    {
     "name": "stdout",
     "output_type": "stream",
     "text": [
      "  Line 1: pus de Auia qe pudieron de Castilla muchos porqe\n"
     ]
    },
    {
     "data": {
      "text/plain": [
       "<Figure size 640x480 with 0 Axes>"
      ]
     },
     "metadata": {},
     "output_type": "display_data"
    },
    {
     "name": "stdout",
     "output_type": "stream",
     "text": [
      "  Line 2: referic la prouidencia con tanto a cierto, que la fenda\n",
      "\n",
      "📄 Processing page 53\n"
     ]
    },
    {
     "data": {
      "text/plain": [
       "<Figure size 640x480 with 0 Axes>"
      ]
     },
     "metadata": {},
     "output_type": "display_data"
    },
    {
     "name": "stdout",
     "output_type": "stream",
     "text": [
      "  Line 1: y el tiempo de Castilla porqe el muy mucho qe el pueblo\n"
     ]
    },
    {
     "data": {
      "text/plain": [
       "<Figure size 640x480 with 0 Axes>"
      ]
     },
     "metadata": {},
     "output_type": "display_data"
    },
    {
     "name": "stdout",
     "output_type": "stream",
     "text": [
      "  Line 2: mas estrecha la haze camino Real a la tarca recesable\n",
      "\n",
      "📄 Processing page 54\n"
     ]
    },
    {
     "data": {
      "text/plain": [
       "<Figure size 640x480 with 0 Axes>"
      ]
     },
     "metadata": {},
     "output_type": "display_data"
    },
    {
     "name": "stdout",
     "output_type": "stream",
     "text": [
      "  Line 1: puesse pazieron mucho ouo muy gran el su muyo pazieron que\n"
     ]
    },
    {
     "data": {
      "text/plain": [
       "<Figure size 640x480 with 0 Axes>"
      ]
     },
     "metadata": {},
     "output_type": "display_data"
    },
    {
     "name": "stdout",
     "output_type": "stream",
     "text": [
      "  Line 2: de su estudiosidad. No ay rumbo por descubriral norte\n",
      "\n",
      "📄 Processing page 55\n"
     ]
    },
    {
     "data": {
      "text/plain": [
       "<Figure size 640x480 with 0 Axes>"
      ]
     },
     "metadata": {},
     "output_type": "display_data"
    },
    {
     "name": "stdout",
     "output_type": "stream",
     "text": [
      "  Line 1: de su ingenio, ni alperera por facilirar a lo buella. Señas\n",
      "\n",
      "📄 Processing page 56\n"
     ]
    },
    {
     "data": {
      "text/plain": [
       "<Figure size 640x480 with 0 Axes>"
      ]
     },
     "metadata": {},
     "output_type": "display_data"
    },
    {
     "name": "stdout",
     "output_type": "stream",
     "text": [
      "  Line 1: de la engaños su que el ouo por merdian a la maguer poder\n",
      "\n",
      "📄 Processing page 57\n",
      "\n",
      "📄 Processing page 58\n"
     ]
    },
    {
     "data": {
      "text/plain": [
       "<Figure size 640x480 with 0 Axes>"
      ]
     },
     "metadata": {},
     "output_type": "display_data"
    },
    {
     "name": "stdout",
     "output_type": "stream",
     "text": [
      "  Line 1: aplando mas encarecido. En esta el mercedo la alegurado\n",
      "\n",
      "📄 Processing page 59\n"
     ]
    },
    {
     "data": {
      "text/plain": [
       "<Figure size 640x480 with 0 Axes>"
      ]
     },
     "metadata": {},
     "output_type": "display_data"
    },
    {
     "name": "stdout",
     "output_type": "stream",
     "text": [
      "  Line 1: a pueblo a las dixeron dellos las cerca de la tierra de\n"
     ]
    },
    {
     "data": {
      "text/plain": [
       "<Figure size 640x480 with 0 Axes>"
      ]
     },
     "metadata": {},
     "output_type": "display_data"
    },
    {
     "name": "stdout",
     "output_type": "stream",
     "text": [
      "  Line 2: Censura, distribayendolas Virrudes morales de vn Prin.\n",
      "\n",
      "📄 Processing page 60\n"
     ]
    },
    {
     "data": {
      "text/plain": [
       "<Figure size 640x480 with 0 Axes>"
      ]
     },
     "metadata": {},
     "output_type": "display_data"
    },
    {
     "name": "stdout",
     "output_type": "stream",
     "text": [
      "  Line 1: y de luejos de la qe luego a qe Roma el matillo de Castilla\n"
     ]
    },
    {
     "data": {
      "text/plain": [
       "<Figure size 640x480 with 0 Axes>"
      ]
     },
     "metadata": {},
     "output_type": "display_data"
    },
    {
     "name": "stdout",
     "output_type": "stream",
     "text": [
      "  Line 2: cipe con llacion que hasta en la variedad fuele echarle\n",
      "\n",
      "📄 Processing page 61\n",
      "\n",
      "📄 Processing page 62\n",
      "\n",
      "📄 Processing page 63\n",
      "\n",
      "📄 Processing page 64\n",
      "\n",
      "📄 Processing page 65\n",
      "\n",
      "📄 Processing page 66\n",
      "\n",
      "📄 Processing page 67\n",
      "\n",
      "📄 Processing page 68\n",
      "\n",
      "📄 Processing page 69\n"
     ]
    },
    {
     "data": {
      "text/plain": [
       "<Figure size 640x480 with 0 Axes>"
      ]
     },
     "metadata": {},
     "output_type": "display_data"
    },
    {
     "name": "stdout",
     "output_type": "stream",
     "text": [
      "  Line 1: cia, nunca inferior a la de Tullio, y Demolhenes la rei\n",
      "\n",
      "📄 Processing page 70\n"
     ]
    },
    {
     "data": {
      "text/plain": [
       "<Figure size 640x480 with 0 Axes>"
      ]
     },
     "metadata": {},
     "output_type": "display_data"
    },
    {
     "name": "stdout",
     "output_type": "stream",
     "text": [
      "  Line 1: pusieron a muerte a la rei don fijo muy dixeron a la\n"
     ]
    },
    {
     "data": {
      "text/plain": [
       "<Figure size 640x480 with 0 Axes>"
      ]
     },
     "metadata": {},
     "output_type": "display_data"
    },
    {
     "name": "stdout",
     "output_type": "stream",
     "text": [
      "  Line 2: lidad del libro se conoce del fin, que por el se pretende\n",
      "\n",
      "📄 Processing page 71\n",
      "\n",
      "📄 Processing page 72\n",
      "\n",
      "📄 Processing page 73\n",
      "\n",
      "📄 Processing page 74\n",
      "\n",
      "📄 Processing page 75\n",
      "\n",
      "📄 Processing page 76\n",
      "\n",
      "📄 Processing page 77\n",
      "\n",
      "📄 Processing page 78\n",
      "\n",
      "📄 Processing page 79\n",
      "\n",
      "📄 Processing page 80\n",
      "\n",
      "📄 Processing page 81\n",
      "\n",
      "📄 Processing page 82\n",
      "\n",
      "📄 Processing page 83\n",
      "\n",
      "📄 Processing page 84\n",
      "\n",
      "📄 Processing page 85\n",
      "\n",
      "📄 Processing page 86\n",
      "\n",
      "📄 Processing page 87\n",
      "\n",
      "📄 Processing page 88\n",
      "\n",
      "📄 Processing page 89\n",
      "\n",
      "📄 Processing page 90\n",
      "\n",
      "📄 Processing page 91\n",
      "\n",
      "📄 Processing page 92\n",
      "\n",
      "📄 Processing page 93\n",
      "\n",
      "📄 Processing page 94\n",
      "\n",
      "📄 Processing page 95\n",
      "\n",
      "📄 Processing page 96\n",
      "\n",
      "📄 Processing page 97\n"
     ]
    },
    {
     "data": {
      "text/plain": [
       "<Figure size 640x480 with 0 Axes>"
      ]
     },
     "metadata": {},
     "output_type": "display_data"
    },
    {
     "name": "stdout",
     "output_type": "stream",
     "text": [
      "  Line 1: y el rei don sancho el rei don sancho el rei don\n",
      "\n",
      "📄 Processing page 98\n",
      "\n",
      "📄 Processing page 99\n",
      "\n",
      "📄 Processing page 100\n",
      "\n",
      "📄 Processing page 101\n",
      "\n",
      "📄 Processing page 102\n",
      "\n",
      "📄 Processing page 103\n",
      "\n",
      "📄 Processing page 104\n",
      "\n",
      "📄 Processing page 105\n",
      "\n",
      "📄 Processing page 106\n",
      "\n",
      "📄 Processing page 107\n",
      "\n",
      "📄 Processing page 108\n",
      "\n",
      "📄 Processing page 109\n",
      "\n",
      "📄 Processing page 110\n",
      "\n",
      "📄 Processing page 111\n",
      "\n",
      "📄 Processing page 112\n"
     ]
    },
    {
     "data": {
      "text/plain": [
       "<Figure size 640x480 with 0 Axes>"
      ]
     },
     "metadata": {},
     "output_type": "display_data"
    },
    {
     "name": "stdout",
     "output_type": "stream",
     "text": [
      "  Line 1: Mendo de la Compañia de le sus, Recior del Collegio\n",
      "\n",
      "📄 Processing page 113\n"
     ]
    },
    {
     "data": {
      "text/plain": [
       "<Figure size 640x480 with 0 Axes>"
      ]
     },
     "metadata": {},
     "output_type": "display_data"
    },
    {
     "name": "stdout",
     "output_type": "stream",
     "text": [
      "  Line 1: de Tradeses de la Vn merdidad desta dicha Ciudadraten.\n",
      "\n",
      "📄 Processing page 114\n"
     ]
    },
    {
     "data": {
      "text/plain": [
       "<Figure size 640x480 with 0 Axes>"
      ]
     },
     "metadata": {},
     "output_type": "display_data"
    },
    {
     "name": "stdout",
     "output_type": "stream",
     "text": [
      "  Line 1: to, de la censura del Doctor Don Francisco de Puga, y\n",
      "\n",
      "📄 Processing page 115\n",
      "\n",
      "📄 Processing page 116\n"
     ]
    },
    {
     "data": {
      "text/plain": [
       "<Figure size 640x480 with 0 Axes>"
      ]
     },
     "metadata": {},
     "output_type": "display_data"
    },
    {
     "name": "stdout",
     "output_type": "stream",
     "text": [
      "  Line 1: ta dicha Vinuchdad, y Cathedralico de Primado Ca\n",
      "\n",
      "📄 Processing page 117\n",
      "\n",
      "📄 Processing page 118\n"
     ]
    },
    {
     "data": {
      "text/plain": [
       "<Figure size 640x480 with 0 Axes>"
      ]
     },
     "metadata": {},
     "output_type": "display_data"
    },
    {
     "name": "stdout",
     "output_type": "stream",
     "text": [
      "  Line 1: fanta E Catholica, y buenas costumbres. Dada en Sala\n",
      "\n",
      "📄 Processing page 119\n"
     ]
    },
    {
     "data": {
      "text/plain": [
       "<Figure size 640x480 with 0 Axes>"
      ]
     },
     "metadata": {},
     "output_type": "display_data"
    },
    {
     "name": "stdout",
     "output_type": "stream",
     "text": [
      "  Line 1: pueblo e dixeron en ellos e nombre e el cauallero de caua el cauella\n",
      "\n",
      "📄 Processing page 120\n",
      "\n",
      "📄 Processing page 121\n",
      "\n",
      "📄 Processing page 122\n",
      "\n",
      "📄 Processing page 123\n",
      "\n",
      "📄 Processing page 124\n",
      "\n",
      "📄 Processing page 125\n",
      "\n",
      "📄 Processing page 126\n",
      "\n",
      "📄 Processing page 127\n",
      "\n",
      "📄 Processing page 128\n",
      "\n",
      "📄 Processing page 129\n",
      "\n",
      "📄 Processing page 130\n",
      "\n",
      "📄 Processing page 131\n",
      "\n",
      "📄 Processing page 132\n",
      "\n",
      "📄 Processing page 133\n",
      "\n",
      "📄 Processing page 134\n",
      "\n",
      "📄 Processing page 135\n",
      "\n",
      "📄 Processing page 136\n",
      "\n",
      "📄 Processing page 137\n",
      "\n",
      "📄 Processing page 138\n",
      "\n",
      "📄 Processing page 139\n",
      "\n",
      "📄 Processing page 140\n",
      "\n",
      "📄 Processing page 141\n",
      "\n",
      "📄 Processing page 142\n",
      "\n",
      "📄 Processing page 143\n",
      "\n",
      "📄 Processing page 144\n",
      "\n",
      "📄 Processing page 145\n",
      "\n",
      "📄 Processing page 146\n",
      "\n",
      "📄 Processing page 147\n"
     ]
    },
    {
     "data": {
      "text/plain": [
       "<Figure size 640x480 with 0 Axes>"
      ]
     },
     "metadata": {},
     "output_type": "display_data"
    },
    {
     "name": "stdout",
     "output_type": "stream",
     "text": [
      "  Line 1: Reina reAndres Mando de la Compañade le sus, Rey\n",
      "\n",
      "📄 Processing page 148\n"
     ]
    },
    {
     "data": {
      "text/plain": [
       "<Figure size 640x480 with 0 Axes>"
      ]
     },
     "metadata": {},
     "output_type": "display_data"
    },
    {
     "name": "stdout",
     "output_type": "stream",
     "text": [
      "  Line 1: el y luego el rei don Alfonso el rei don siempre el rei don\n"
     ]
    },
    {
     "data": {
      "text/plain": [
       "<Figure size 640x480 with 0 Axes>"
      ]
     },
     "metadata": {},
     "output_type": "display_data"
    },
    {
     "name": "stdout",
     "output_type": "stream",
     "text": [
      "  Line 2: ctor del Colegio de Islandses de Salamanca, L estor de\n",
      "\n",
      "📄 Processing page 149\n",
      "\n",
      "📄 Processing page 150\n"
     ]
    },
    {
     "data": {
      "text/plain": [
       "<Figure size 640x480 with 0 Axes>"
      ]
     },
     "metadata": {},
     "output_type": "display_data"
    },
    {
     "name": "stdout",
     "output_type": "stream",
     "text": [
      "  Line 1: Enquisicion su prema. Y despues de no auer en contra -\n",
      "\n",
      "📄 Processing page 151\n",
      "\n",
      "📄 Processing page 152\n",
      "\n",
      "📄 Processing page 153\n",
      "\n",
      "📄 Processing page 154\n"
     ]
    },
    {
     "data": {
      "text/plain": [
       "<Figure size 640x480 with 0 Axes>"
      ]
     },
     "metadata": {},
     "output_type": "display_data"
    },
    {
     "name": "stdout",
     "output_type": "stream",
     "text": [
      "  Line 1: leytables, sino por humanente viles estos Documentos\n",
      "\n",
      "📄 Processing page 155\n",
      "\n",
      "📄 Processing page 156\n"
     ]
    },
    {
     "data": {
      "text/plain": [
       "<Figure size 640x480 with 0 Axes>"
      ]
     },
     "metadata": {},
     "output_type": "display_data"
    },
    {
     "name": "stdout",
     "output_type": "stream",
     "text": [
      "  Line 1: gilar de los Principes, y Monarchas. Alapola election,\n",
      "\n",
      "📄 Processing page 157\n"
     ]
    },
    {
     "data": {
      "text/plain": [
       "<Figure size 640x480 with 0 Axes>"
      ]
     },
     "metadata": {},
     "output_type": "display_data"
    },
    {
     "name": "stdout",
     "output_type": "stream",
     "text": [
      "  Line 1: pues de los qe luego es qe moros caualleros y en el caualle\n"
     ]
    },
    {
     "data": {
      "text/plain": [
       "<Figure size 640x480 with 0 Axes>"
      ]
     },
     "metadata": {},
     "output_type": "display_data"
    },
    {
     "name": "stdout",
     "output_type": "stream",
     "text": [
      "  Line 2: pues como diio Liplio, In moribus, que scientis aliquid\n",
      "\n",
      "📄 Processing page 158\n",
      "\n",
      "📄 Processing page 159\n"
     ]
    },
    {
     "data": {
      "text/plain": [
       "<Figure size 640x480 with 0 Axes>"
      ]
     },
     "metadata": {},
     "output_type": "display_data"
    },
    {
     "name": "stdout",
     "output_type": "stream",
     "text": [
      "  Line 1: es administrations ciuili e Cum illic vnum aliquem ciueno\n",
      "\n",
      "📄 Processing page 160\n"
     ]
    },
    {
     "data": {
      "text/plain": [
       "<Figure size 640x480 with 0 Axes>"
      ]
     },
     "metadata": {},
     "output_type": "display_data"
    },
    {
     "name": "stdout",
     "output_type": "stream",
     "text": [
      "  Line 1: meliorem, doctioremaye facias, hic in vno emnes, El la\n",
      "\n",
      "📄 Processing page 161\n"
     ]
    },
    {
     "data": {
      "text/plain": [
       "<Figure size 640x480 with 0 Axes>"
      ]
     },
     "metadata": {},
     "output_type": "display_data"
    },
    {
     "name": "stdout",
     "output_type": "stream",
     "text": [
      "  Line 1: car a vn Principe con su mado estudiente en el arte\n",
      "\n",
      "📄 Processing page 162\n",
      "\n",
      "📄 Processing page 163\n",
      "\n",
      "📄 Processing page 164\n"
     ]
    },
    {
     "data": {
      "text/plain": [
       "<Figure size 640x480 with 0 Axes>"
      ]
     },
     "metadata": {},
     "output_type": "display_data"
    },
    {
     "name": "stdout",
     "output_type": "stream",
     "text": [
      "  Line 1: den las acciones, y de aquella Cibera las influenencias\n",
      "\n",
      "📄 Processing page 165\n"
     ]
    },
    {
     "data": {
      "text/plain": [
       "<Figure size 640x480 with 0 Axes>"
      ]
     },
     "metadata": {},
     "output_type": "display_data"
    },
    {
     "name": "stdout",
     "output_type": "stream",
     "text": [
      "  Line 1: a todo lo relance del cuerpo. Y en los libros, es fin\n",
      "\n",
      "📄 Processing page 166\n"
     ]
    },
    {
     "data": {
      "text/plain": [
       "<Figure size 640x480 with 0 Axes>"
      ]
     },
     "metadata": {},
     "output_type": "display_data"
    },
    {
     "name": "stdout",
     "output_type": "stream",
     "text": [
      "  Line 1: duda, que beben mas vncera, y pura la enseñanza,\n",
      "\n",
      "📄 Processing page 167\n",
      "\n",
      "📄 Processing page 168\n",
      "\n",
      "📄 Processing page 169\n"
     ]
    },
    {
     "data": {
      "text/plain": [
       "<Figure size 640x480 with 0 Axes>"
      ]
     },
     "metadata": {},
     "output_type": "display_data"
    },
    {
     "name": "stdout",
     "output_type": "stream",
     "text": [
      "  Line 1: fazer, qui consili sus copian a sisidue facient, se diximam con\n",
      "\n",
      "📄 Processing page 170\n",
      "\n",
      "📄 Processing page 171\n",
      "\n",
      "📄 Processing page 172\n",
      "\n",
      "📄 Processing page 173\n",
      "\n",
      "📄 Processing page 174\n",
      "\n",
      "📄 Processing page 175\n",
      "\n",
      "📄 Processing page 176\n",
      "\n",
      "📄 Processing page 177\n",
      "\n",
      "📄 Processing page 178\n",
      "\n",
      "📄 Processing page 179\n"
     ]
    },
    {
     "data": {
      "text/plain": [
       "<Figure size 640x480 with 0 Axes>"
      ]
     },
     "metadata": {},
     "output_type": "display_data"
    },
    {
     "name": "stdout",
     "output_type": "stream",
     "text": [
      "  Line 1: Galino, vna clara fuente, de donde beban enseñanzas, y\n",
      "\n",
      "📄 Processing page 180\n"
     ]
    },
    {
     "data": {
      "text/plain": [
       "<Figure size 640x480 with 0 Axes>"
      ]
     },
     "metadata": {},
     "output_type": "display_data"
    },
    {
     "name": "stdout",
     "output_type": "stream",
     "text": [
      "  Line 1: tiempo e fue muerte dixo qe lo nombre pudar en la tierra qe\n",
      "\n",
      "📄 Processing page 181\n"
     ]
    },
    {
     "data": {
      "text/plain": [
       "<Figure size 640x480 with 0 Axes>"
      ]
     },
     "metadata": {},
     "output_type": "display_data"
    },
    {
     "name": "stdout",
     "output_type": "stream",
     "text": [
      "  Line 1: limpia y a seada, donde en pleios de casto lenguisie se fir\n",
      "\n",
      "📄 Processing page 182\n"
     ]
    },
    {
     "data": {
      "text/plain": [
       "<Figure size 640x480 with 0 Axes>"
      ]
     },
     "metadata": {},
     "output_type": "display_data"
    },
    {
     "name": "stdout",
     "output_type": "stream",
     "text": [
      "  Line 1: tampa qe en entrejo dias en finco de muy vençado toda\n"
     ]
    },
    {
     "data": {
      "text/plain": [
       "<Figure size 640x480 with 0 Axes>"
      ]
     },
     "metadata": {},
     "output_type": "display_data"
    },
    {
     "name": "stdout",
     "output_type": "stream",
     "text": [
      "  Line 2: y el rei don sancho el rei don sancho el rei don\n"
     ]
    },
    {
     "data": {
      "text/plain": [
       "<Figure size 640x480 with 0 Axes>"
      ]
     },
     "metadata": {},
     "output_type": "display_data"
    },
    {
     "name": "stdout",
     "output_type": "stream",
     "text": [
      "  Line 3: nen varios manjares de erudicion, y enseñaras, en La\n",
      "\n",
      "📄 Processing page 183\n",
      "\n",
      "📄 Processing page 184\n",
      "\n",
      "📄 Processing page 185\n"
     ]
    },
    {
     "data": {
      "text/plain": [
       "<Figure size 640x480 with 0 Axes>"
      ]
     },
     "metadata": {},
     "output_type": "display_data"
    },
    {
     "name": "stdout",
     "output_type": "stream",
     "text": [
      "  Line 1: rerdaderamente el lenguaje La conico, de que hablō\n",
      "\n",
      "📄 Processing page 186\n",
      "\n",
      "📄 Processing page 187\n",
      "\n",
      "📄 Processing page 188\n",
      "\n",
      "📄 Processing page 189\n"
     ]
    },
    {
     "data": {
      "text/plain": [
       "<Figure size 640x480 with 0 Axes>"
      ]
     },
     "metadata": {},
     "output_type": "display_data"
    },
    {
     "name": "stdout",
     "output_type": "stream",
     "text": [
      "  Line 1: puede no dezirle nada, o le pueden encerrar de sacier\n",
      "\n",
      "📄 Processing page 190\n"
     ]
    },
    {
     "data": {
      "text/plain": [
       "<Figure size 640x480 with 0 Axes>"
      ]
     },
     "metadata": {},
     "output_type": "display_data"
    },
    {
     "name": "stdout",
     "output_type": "stream",
     "text": [
      "  Line 1: y de los llego de luego qe el Castilla por el rei don siempe\n"
     ]
    },
    {
     "data": {
      "text/plain": [
       "<Figure size 640x480 with 0 Axes>"
      ]
     },
     "metadata": {},
     "output_type": "display_data"
    },
    {
     "name": "stdout",
     "output_type": "stream",
     "text": [
      "  Line 2: tos muchos. Pero nuestro Autor cumple eractamente\n",
      "\n",
      "📄 Processing page 191\n"
     ]
    },
    {
     "data": {
      "text/plain": [
       "<Figure size 640x480 with 0 Axes>"
      ]
     },
     "metadata": {},
     "output_type": "display_data"
    },
    {
     "name": "stdout",
     "output_type": "stream",
     "text": [
      "  Line 1: y el cauallero. E el qe dixoles e el rei don sancho qe\n"
     ]
    },
    {
     "data": {
      "text/plain": [
       "<Figure size 640x480 with 0 Axes>"
      ]
     },
     "metadata": {},
     "output_type": "display_data"
    },
    {
     "name": "stdout",
     "output_type": "stream",
     "text": [
      "  Line 2: con el señir de Narianzeno, pues en su Español La co\n",
      "\n",
      "📄 Processing page 192\n"
     ]
    },
    {
     "data": {
      "text/plain": [
       "<Figure size 640x480 with 0 Axes>"
      ]
     },
     "metadata": {},
     "output_type": "display_data"
    },
    {
     "name": "stdout",
     "output_type": "stream",
     "text": [
      "  Line 1: y de Castilla de Castilla de la qe el rei don Alfonso a\n"
     ]
    },
    {
     "data": {
      "text/plain": [
       "<Figure size 640x480 with 0 Axes>"
      ]
     },
     "metadata": {},
     "output_type": "display_data"
    },
    {
     "name": "stdout",
     "output_type": "stream",
     "text": [
      "  Line 2: nico abrara dilatadismos campos de sentencias con ale\n",
      "\n",
      "📄 Processing page 193\n"
     ]
    },
    {
     "data": {
      "text/plain": [
       "<Figure size 640x480 with 0 Axes>"
      ]
     },
     "metadata": {},
     "output_type": "display_data"
    },
    {
     "name": "stdout",
     "output_type": "stream",
     "text": [
      "  Line 1: adamente dichas, y tan curiolamente adornadas, que es\n",
      "\n",
      "📄 Processing page 194\n"
     ]
    },
    {
     "data": {
      "text/plain": [
       "<Figure size 640x480 with 0 Axes>"
      ]
     },
     "metadata": {},
     "output_type": "display_data"
    },
    {
     "name": "stdout",
     "output_type": "stream",
     "text": [
      "  Line 1: ristola la atanxia, y deleytable la taraçea, con que esta\n",
      "\n",
      "📄 Processing page 195\n"
     ]
    },
    {
     "data": {
      "text/plain": [
       "<Figure size 640x480 with 0 Axes>"
      ]
     },
     "metadata": {},
     "output_type": "display_data"
    },
    {
     "name": "stdout",
     "output_type": "stream",
     "text": [
      "  Line 1: ferbien villa, y a clamada, al Teatro del Oche. Por lo\n",
      "\n",
      "📄 Processing page 196\n",
      "\n",
      "📄 Processing page 197\n"
     ]
    },
    {
     "data": {
      "text/plain": [
       "<Figure size 640x480 with 0 Axes>"
      ]
     },
     "metadata": {},
     "output_type": "display_data"
    },
    {
     "name": "stdout",
     "output_type": "stream",
     "text": [
      "  Line 1: hablada ha de ferbien admirida de todos, siruiendole\n",
      "\n",
      "📄 Processing page 198\n"
     ]
    },
    {
     "data": {
      "text/plain": [
       "<Figure size 640x480 with 0 Axes>"
      ]
     },
     "metadata": {},
     "output_type": "display_data"
    },
    {
     "name": "stdout",
     "output_type": "stream",
     "text": [
      "  Line 1: pues de la vn llego el rei don sancho el rei don Alfonso\n"
     ]
    },
    {
     "data": {
      "text/plain": [
       "<Figure size 640x480 with 0 Axes>"
      ]
     },
     "metadata": {},
     "output_type": "display_data"
    },
    {
     "name": "stdout",
     "output_type": "stream",
     "text": [
      "  Line 2: V A de dar la licencia, que pide el Auer, para que El\n",
      "\n",
      "📄 Processing page 199\n"
     ]
    },
    {
     "data": {
      "text/plain": [
       "<Figure size 640x480 with 0 Axes>"
      ]
     },
     "metadata": {},
     "output_type": "display_data"
    },
    {
     "name": "stdout",
     "output_type": "stream",
     "text": [
      "  Line 1: criro tan ingeniolamente arificiado gore de la comen\n",
      "\n",
      "📄 Processing page 200\n"
     ]
    },
    {
     "data": {
      "text/plain": [
       "<Figure size 640x480 with 0 Axes>"
      ]
     },
     "metadata": {},
     "output_type": "display_data"
    },
    {
     "name": "stdout",
     "output_type": "stream",
     "text": [
      "  Line 1: y sura de la luz, para a huyentar ninichlas de ignorancias,\n",
      "\n",
      "📄 Processing page 201\n"
     ]
    },
    {
     "data": {
      "text/plain": [
       "<Figure size 640x480 with 0 Axes>"
      ]
     },
     "metadata": {},
     "output_type": "display_data"
    },
    {
     "name": "stdout",
     "output_type": "stream",
     "text": [
      "  Line 1: y el rei de la tierqe non luego el rei don siempre el rei don siempe\n"
     ]
    },
    {
     "data": {
      "text/plain": [
       "<Figure size 640x480 with 0 Axes>"
      ]
     },
     "metadata": {},
     "output_type": "display_data"
    },
    {
     "name": "stdout",
     "output_type": "stream",
     "text": [
      "  Line 2: e in roducir resplandores de aduerencias. En el gran\n",
      "\n",
      "📄 Processing page 202\n",
      "\n",
      "📄 Processing page 203\n",
      "\n",
      "📄 Processing page 204\n",
      "\n",
      "📄 Processing page 205\n"
     ]
    },
    {
     "data": {
      "text/plain": [
       "<Figure size 640x480 with 0 Axes>"
      ]
     },
     "metadata": {},
     "output_type": "display_data"
    },
    {
     "name": "stdout",
     "output_type": "stream",
     "text": [
      "  Line 1: garios libros muchos su celos, discurlos, y len\n",
      "\n",
      "📄 Processing page 206\n"
     ]
    },
    {
     "data": {
      "text/plain": [
       "<Figure size 640x480 with 0 Axes>"
      ]
     },
     "metadata": {},
     "output_type": "display_data"
    },
    {
     "name": "stdout",
     "output_type": "stream",
     "text": [
      "  Line 1: tencias, de que formarla Idea de vn Principe\n",
      "\n",
      "📄 Processing page 207\n"
     ]
    },
    {
     "data": {
      "text/plain": [
       "<Figure size 640x480 with 0 Axes>"
      ]
     },
     "metadata": {},
     "output_type": "display_data"
    },
    {
     "name": "stdout",
     "output_type": "stream",
     "text": [
      "  Line 1: Perfecto, y de sus Ministros ajustados, llegue a leer los\n",
      "\n",
      "📄 Processing page 208\n"
     ]
    },
    {
     "data": {
      "text/plain": [
       "<Figure size 640x480 with 0 Axes>"
      ]
     },
     "metadata": {},
     "output_type": "display_data"
    },
    {
     "name": "stdout",
     "output_type": "stream",
     "text": [
      "  Line 1: perde los. e de las mieduras quellados en que a leal des\n"
     ]
    },
    {
     "data": {
      "text/plain": [
       "<Figure size 640x480 with 0 Axes>"
      ]
     },
     "metadata": {},
     "output_type": "display_data"
    },
    {
     "name": "stdout",
     "output_type": "stream",
     "text": [
      "  Line 2: Emblemas Latinos, que el Señor Don Iuan de Solorza\n",
      "\n",
      "📄 Processing page 209\n",
      "\n",
      "📄 Processing page 210\n"
     ]
    },
    {
     "data": {
      "text/plain": [
       "<Figure size 640x480 with 0 Axes>"
      ]
     },
     "metadata": {},
     "output_type": "display_data"
    },
    {
     "name": "stdout",
     "output_type": "stream",
     "text": [
      "  Line 1: mos de Castilla, y Indias, escriuio, entre las demas\n",
      "\n",
      "📄 Processing page 211\n"
     ]
    },
    {
     "data": {
      "text/plain": [
       "<Figure size 640x480 with 0 Axes>"
      ]
     },
     "metadata": {},
     "output_type": "display_data"
    },
    {
     "name": "stdout",
     "output_type": "stream",
     "text": [
      "  Line 1: Obras suyas dignas de eternos bronres. Vilios atenta\n",
      "\n",
      "📄 Processing page 212\n"
     ]
    },
    {
     "data": {
      "text/plain": [
       "<Figure size 640x480 with 0 Axes>"
      ]
     },
     "metadata": {},
     "output_type": "display_data"
    },
    {
     "name": "stdout",
     "output_type": "stream",
     "text": [
      "  Line 1: En la Alfaz de dias de toledad en cerca. e dixo de dios\n"
     ]
    },
    {
     "data": {
      "text/plain": [
       "<Figure size 640x480 with 0 Axes>"
      ]
     },
     "metadata": {},
     "output_type": "display_data"
    },
    {
     "name": "stdout",
     "output_type": "stream",
     "text": [
      "  Line 2: mente, aun antes de darle a la estampa, por querlenes\n",
      "\n",
      "📄 Processing page 213\n"
     ]
    },
    {
     "data": {
      "text/plain": [
       "<Figure size 640x480 with 0 Axes>"
      ]
     },
     "metadata": {},
     "output_type": "display_data"
    },
    {
     "name": "stdout",
     "output_type": "stream",
     "text": [
      "  Line 1: y el rei fue el cauelo el cauelo a la vinuipe por la tierra\n",
      "\n",
      "📄 Processing page 214\n"
     ]
    },
    {
     "data": {
      "text/plain": [
       "<Figure size 640x480 with 0 Axes>"
      ]
     },
     "metadata": {},
     "output_type": "display_data"
    },
    {
     "name": "stdout",
     "output_type": "stream",
     "text": [
      "  Line 1: Adinire las nocicias, cridicion, y copia, pero admir\n",
      "\n",
      "📄 Processing page 215\n"
     ]
    },
    {
     "data": {
      "text/plain": [
       "<Figure size 640x480 with 0 Axes>"
      ]
     },
     "metadata": {},
     "output_type": "display_data"
    },
    {
     "name": "stdout",
     "output_type": "stream",
     "text": [
      "  Line 1: Auilla e las tiemonas por muchoña qe espa y pazco del su\n"
     ]
    },
    {
     "data": {
      "text/plain": [
       "<Figure size 640x480 with 0 Axes>"
      ]
     },
     "metadata": {},
     "output_type": "display_data"
    },
    {
     "name": "stdout",
     "output_type": "stream",
     "text": [
      "  Line 2: tiendo, que a muchos el Latin en semejantes materias\n",
      "\n",
      "📄 Processing page 216\n"
     ]
    },
    {
     "data": {
      "text/plain": [
       "<Figure size 640x480 with 0 Axes>"
      ]
     },
     "metadata": {},
     "output_type": "display_data"
    },
    {
     "name": "stdout",
     "output_type": "stream",
     "text": [
      "  Line 1: peraço qe qe fue a muyuieron el cauallero de tierra pueblo a caualleria\n",
      "\n",
      "📄 Processing page 217\n"
     ]
    },
    {
     "data": {
      "text/plain": [
       "<Figure size 640x480 with 0 Axes>"
      ]
     },
     "metadata": {},
     "output_type": "display_data"
    },
    {
     "name": "stdout",
     "output_type": "stream",
     "text": [
      "  Line 1: parecio buena occasion de hazer vn obstructo en nuestro\n",
      "\n",
      "📄 Processing page 218\n"
     ]
    },
    {
     "data": {
      "text/plain": [
       "<Figure size 640x480 with 0 Axes>"
      ]
     },
     "metadata": {},
     "output_type": "display_data"
    },
    {
     "name": "stdout",
     "output_type": "stream",
     "text": [
      "  Line 1: pueblo e dezia e ouieron el caualleros de tiempo de cauallero\n"
     ]
    },
    {
     "data": {
      "text/plain": [
       "<Figure size 640x480 with 0 Axes>"
      ]
     },
     "metadata": {},
     "output_type": "display_data"
    },
    {
     "name": "stdout",
     "output_type": "stream",
     "text": [
      "  Line 2: E dioña, y entrelaçando los allumpeos mas selechos, y\n",
      "\n",
      "📄 Processing page 219\n"
     ]
    },
    {
     "data": {
      "text/plain": [
       "<Figure size 640x480 with 0 Axes>"
      ]
     },
     "metadata": {},
     "output_type": "display_data"
    },
    {
     "name": "stdout",
     "output_type": "stream",
     "text": [
      "  Line 1: despaña, e Ca el caualleros los alampa es dios seños, qe\n"
     ]
    },
    {
     "data": {
      "text/plain": [
       "<Figure size 640x480 with 0 Axes>"
      ]
     },
     "metadata": {},
     "output_type": "display_data"
    },
    {
     "name": "stdout",
     "output_type": "stream",
     "text": [
      "  Line 2: con otro merodo, disposicion, y estilo, abadiendo mu\n",
      "\n",
      "📄 Processing page 220\n"
     ]
    },
    {
     "data": {
      "text/plain": [
       "<Figure size 640x480 with 0 Axes>"
      ]
     },
     "metadata": {},
     "output_type": "display_data"
    },
    {
     "name": "stdout",
     "output_type": "stream",
     "text": [
      "  Line 1: y de los caualleros que pudieron qe leon pudieron que\n"
     ]
    },
    {
     "data": {
      "text/plain": [
       "<Figure size 640x480 with 0 Axes>"
      ]
     },
     "metadata": {},
     "output_type": "display_data"
    },
    {
     "name": "stdout",
     "output_type": "stream",
     "text": [
      "  Line 2: chas obleruaciones mias, formar vn brene epilogo, que\n",
      "\n",
      "📄 Processing page 221\n"
     ]
    },
    {
     "data": {
      "text/plain": [
       "<Figure size 640x480 with 0 Axes>"
      ]
     },
     "metadata": {},
     "output_type": "display_data"
    },
    {
     "name": "stdout",
     "output_type": "stream",
     "text": [
      "  Line 1: pues de los moros de los moros e de los Arçobis de los cauellos\n"
     ]
    },
    {
     "data": {
      "text/plain": [
       "<Figure size 640x480 with 0 Axes>"
      ]
     },
     "metadata": {},
     "output_type": "display_data"
    },
    {
     "name": "stdout",
     "output_type": "stream",
     "text": [
      "  Line 2: con facilitatedle manejole. No fue corto el despejo, am\n",
      "\n",
      "📄 Processing page 222\n"
     ]
    },
    {
     "data": {
      "text/plain": [
       "<Figure size 640x480 with 0 Axes>"
      ]
     },
     "metadata": {},
     "output_type": "display_data"
    },
    {
     "name": "stdout",
     "output_type": "stream",
     "text": [
      "  Line 1: por la guena lo mucho para toda cauelo el caualleros de la\n"
     ]
    },
    {
     "data": {
      "text/plain": [
       "<Figure size 640x480 with 0 Axes>"
      ]
     },
     "metadata": {},
     "output_type": "display_data"
    },
    {
     "name": "stdout",
     "output_type": "stream",
     "text": [
      "  Line 2: que es pequeño el libro, que la costa de iozenio nunca\n",
      "\n",
      "📄 Processing page 223\n"
     ]
    },
    {
     "data": {
      "text/plain": [
       "<Figure size 640x480 with 0 Axes>"
      ]
     },
     "metadata": {},
     "output_type": "display_data"
    },
    {
     "name": "stdout",
     "output_type": "stream",
     "text": [
      "  Line 1: le ha de tantear por el buito. Enpeñome mas a esta ac\n",
      "\n",
      "📄 Processing page 224\n"
     ]
    },
    {
     "data": {
      "text/plain": [
       "<Figure size 640x480 with 0 Axes>"
      ]
     },
     "metadata": {},
     "output_type": "display_data"
    },
    {
     "name": "stdout",
     "output_type": "stream",
     "text": [
      "  Line 1: el tio las cauieron por la tierra. Emperista della a caua de\n"
     ]
    },
    {
     "data": {
      "text/plain": [
       "<Figure size 640x480 with 0 Axes>"
      ]
     },
     "metadata": {},
     "output_type": "display_data"
    },
    {
     "name": "stdout",
     "output_type": "stream",
     "text": [
      "  Line 2: cion, el jurgarla por colecinio del señor Don Iuan de\n",
      "\n",
      "📄 Processing page 225\n"
     ]
    },
    {
     "data": {
      "text/plain": [
       "<Figure size 640x480 with 0 Axes>"
      ]
     },
     "metadata": {},
     "output_type": "display_data"
    },
    {
     "name": "stdout",
     "output_type": "stream",
     "text": [
      "  Line 1: y los Porqe de los caualleros qe los caualleros qe los caualleros\n"
     ]
    },
    {
     "data": {
      "text/plain": [
       "<Figure size 640x480 with 0 Axes>"
      ]
     },
     "metadata": {},
     "output_type": "display_data"
    },
    {
     "name": "stdout",
     "output_type": "stream",
     "text": [
      "  Line 2: sotorrano E enix desto si glo, por vnico en el aliño de los\n",
      "\n",
      "📄 Processing page 226\n"
     ]
    },
    {
     "data": {
      "text/plain": [
       "<Figure size 640x480 with 0 Axes>"
      ]
     },
     "metadata": {},
     "output_type": "display_data"
    },
    {
     "name": "stdout",
     "output_type": "stream",
     "text": [
      "  Line 1: E el rei don siempe e el rei don siempo e por el rei don\n",
      "\n",
      "📄 Processing page 227\n"
     ]
    },
    {
     "data": {
      "text/plain": [
       "<Figure size 640x480 with 0 Axes>"
      ]
     },
     "metadata": {},
     "output_type": "display_data"
    },
    {
     "name": "stdout",
     "output_type": "stream",
     "text": [
      "  Line 1: familiar començacion, que llamira, e mereçerla e fue\n",
      "\n",
      "📄 Processing page 228\n"
     ]
    },
    {
     "data": {
      "text/plain": [
       "<Figure size 640x480 with 0 Axes>"
      ]
     },
     "metadata": {},
     "output_type": "display_data"
    },
    {
     "name": "stdout",
     "output_type": "stream",
     "text": [
      "  Line 1: reienda e dixeron auerqe por muy grā mucho el cerca\n"
     ]
    },
    {
     "data": {
      "text/plain": [
       "<Figure size 640x480 with 0 Axes>"
      ]
     },
     "metadata": {},
     "output_type": "display_data"
    },
    {
     "name": "stdout",
     "output_type": "stream",
     "text": [
      "  Line 2: cha vnistad. Y aunque no pudo exemplar esta fuera en\n",
      "\n",
      "📄 Processing page 229\n"
     ]
    },
    {
     "data": {
      "text/plain": [
       "<Figure size 640x480 with 0 Axes>"
      ]
     },
     "metadata": {},
     "output_type": "display_data"
    },
    {
     "name": "stdout",
     "output_type": "stream",
     "text": [
      "  Line 1: y el rei de los qe luego que lo pues por el rei don sancho\n"
     ]
    },
    {
     "data": {
      "text/plain": [
       "<Figure size 640x480 with 0 Axes>"
      ]
     },
     "metadata": {},
     "output_type": "display_data"
    },
    {
     "name": "stdout",
     "output_type": "stream",
     "text": [
      "  Line 2: su vida, porque con beneficiento comun de toda la Re\n",
      "\n",
      "📄 Processing page 230\n"
     ]
    },
    {
     "data": {
      "text/plain": [
       "<Figure size 640x480 with 0 Axes>"
      ]
     },
     "metadata": {},
     "output_type": "display_data"
    },
    {
     "name": "stdout",
     "output_type": "stream",
     "text": [
      "  Line 1: la fueragon que con el rei don sancho qe dixo todo el rey\n"
     ]
    },
    {
     "data": {
      "text/plain": [
       "<Figure size 640x480 with 0 Axes>"
      ]
     },
     "metadata": {},
     "output_type": "display_data"
    },
    {
     "name": "stdout",
     "output_type": "stream",
     "text": [
      "  Line 2: publica ligeraria le sobreuino la muerte, que cumplirla\n",
      "\n",
      "📄 Processing page 231\n"
     ]
    },
    {
     "data": {
      "text/plain": [
       "<Figure size 640x480 with 0 Axes>"
      ]
     },
     "metadata": {},
     "output_type": "display_data"
    },
    {
     "name": "stdout",
     "output_type": "stream",
     "text": [
      "  Line 1: E el rei don dixo el rei don sancho la tierra el españa de\n"
     ]
    },
    {
     "data": {
      "text/plain": [
       "<Figure size 640x480 with 0 Axes>"
      ]
     },
     "metadata": {},
     "output_type": "display_data"
    },
    {
     "name": "stdout",
     "output_type": "stream",
     "text": [
      "  Line 2: con sus ceniras, lin detener mi veneracion el puso en\n",
      "\n",
      "📄 Processing page 232\n"
     ]
    },
    {
     "data": {
      "text/plain": [
       "<Figure size 640x480 with 0 Axes>"
      ]
     },
     "metadata": {},
     "output_type": "display_data"
    },
    {
     "name": "stdout",
     "output_type": "stream",
     "text": [
      "  Line 1: ron las cleridas, que en el rei don venciaron el puerçar\n",
      "\n",
      "📄 Processing page 233\n"
     ]
    },
    {
     "data": {
      "text/plain": [
       "<Figure size 640x480 with 0 Axes>"
      ]
     },
     "metadata": {},
     "output_type": "display_data"
    },
    {
     "name": "stdout",
     "output_type": "stream",
     "text": [
      "  Line 1: ja, de comeniencia. De nueme algun tiempo en sacar a\n",
      "\n",
      "📄 Processing page 234\n"
     ]
    },
    {
     "data": {
      "text/plain": [
       "<Figure size 640x480 with 0 Axes>"
      ]
     },
     "metadata": {},
     "output_type": "display_data"
    },
    {
     "name": "stdout",
     "output_type": "stream",
     "text": [
      "  Line 1: luz este trabajo, receloso, de que quien escribe en Ca\n"
     ]
    },
    {
     "data": {
      "text/plain": [
       "<Figure size 640x480 with 0 Axes>"
      ]
     },
     "metadata": {},
     "output_type": "display_data"
    },
    {
     "name": "stdout",
     "output_type": "stream",
     "text": [
      "  Line 2: 232 e los moros\n",
      "\n",
      "📄 Processing page 235\n",
      "\n",
      "📄 Processing page 236\n",
      "\n",
      "📄 Processing page 237\n",
      "\n",
      "📄 Processing page 238\n",
      "\n",
      "📄 Processing page 239\n",
      "\n",
      "📄 Processing page 240\n",
      "\n",
      "📄 Processing page 241\n",
      "\n",
      "📄 Processing page 242\n",
      "\n",
      "📄 Processing page 243\n",
      "\n",
      "📄 Processing page 244\n",
      "\n",
      "📄 Processing page 245\n",
      "\n",
      "📄 Processing page 246\n",
      "\n",
      "📄 Processing page 247\n",
      "\n",
      "📄 Processing page 248\n"
     ]
    },
    {
     "data": {
      "text/plain": [
       "<Figure size 640x480 with 0 Axes>"
      ]
     },
     "metadata": {},
     "output_type": "display_data"
    },
    {
     "name": "stdout",
     "output_type": "stream",
     "text": [
      "  Line 1: cipes Christianos, de Ministros relolos, de sabios tem\n",
      "\n",
      "📄 Processing page 249\n",
      "\n",
      "📄 Processing page 250\n",
      "\n",
      "📄 Processing page 251\n",
      "\n",
      "📄 Processing page 252\n",
      "\n",
      "📄 Processing page 253\n",
      "\n",
      "📄 Processing page 254\n",
      "\n",
      "📄 Processing page 255\n",
      "\n",
      "📄 Processing page 256\n",
      "\n",
      "📄 Processing page 257\n",
      "\n",
      "Final OCR Results:\n",
      "\n",
      "\n",
      "════════════════════════════════════════════════════════════ PAGE BREAK ════════════════════════════════════════════════════════════\n",
      "\n",
      "y por el rei don sancho e el rei don sancho el rei don sancho\n",
      "\n",
      "════════════════════════════════════════════════════════════ PAGE BREAK ════════════════════════════════════════════════════════════\n",
      "\n",
      "De Guzman El BVeno\n",
      "\n",
      "════════════════════════════════════════════════════════════ PAGE BREAK ════════════════════════════════════════════════════════════\n",
      "\n",
      "el rei don sancho el rei don sancho e el rei don\n",
      "patriacha De las India,\n",
      "\n",
      "════════════════════════════════════════════════════════════ PAGE BREAK ════════════════════════════════════════════════════════════\n",
      "\n",
      "de los caualleros de los caualleros de los caualleros\n",
      "\n",
      "════════════════════════════════════════════════════════════ PAGE BREAK ════════════════════════════════════════════════════════════\n",
      "\n",
      "Nuestro Señor Don Felipe TV. el Grande Rey de\n",
      "\n",
      "════════════════════════════════════════════════════════════ PAGE BREAK ════════════════════════════════════════════════════════════\n",
      "\n",
      "\n",
      "\n",
      "════════════════════════════════════════════════════════════ PAGE BREAK ════════════════════════════════════════════════════════════\n",
      "\n",
      "E el escastico Ordinario de su Real Capilla, Ca sa,\n",
      "\n",
      "════════════════════════════════════════════════════════════ PAGE BREAK ════════════════════════════════════════════════════════════\n",
      "\n",
      "\n",
      "\n",
      "════════════════════════════════════════════════════════════ PAGE BREAK ════════════════════════════════════════════════════════════\n",
      "\n",
      "la estampa estos Dezcomenientriono señor y solenades\n",
      "\n",
      "════════════════════════════════════════════════════════════ PAGE BREAK ════════════════════════════════════════════════════════════\n",
      "\n",
      "tio estampa ojos Tolumenico e ouiedos y de los deos\n",
      "\n",
      "════════════════════════════════════════════════════════════ PAGE BREAK ════════════════════════════════════════════════════════════\n",
      "\n",
      "\n",
      "\n",
      "════════════════════════════════════════════════════════════ PAGE BREAK ════════════════════════════════════════════════════════════\n",
      "\n",
      "con españal de Emblem Cañir con la la la holgo de los ojos don gafirō\n",
      "\n",
      "════════════════════════════════════════════════════════════ PAGE BREAK ════════════════════════════════════════════════════════════\n",
      "\n",
      "Alfonso -\n",
      "Monarca la primera vez este libro, y para que biolua mejorado a sus\n",
      "Reales manos, le pongo en las de V. S. de quien le admitra con los\n",
      "\n",
      "════════════════════════════════════════════════════════════ PAGE BREAK ════════════════════════════════════════════════════════════\n",
      "\n",
      "agrados, eruecienço no su Magelad merecidos sus grandes ay el mii\n",
      "\n",
      "════════════════════════════════════════════════════════════ PAGE BREAK ════════════════════════════════════════════════════════════\n",
      "\n",
      "Alfonso -\n",
      "Alfonso de Castilla\n",
      "sinos Progenitores ser Guzman el bueno, con sus acciones ha gran\n",
      "E el rei don sancho el rei don sancho el rei don grā\n",
      "Alfonso a caualleron a caua\n",
      "Alfonso a caualleron a caualleria\n",
      "Alfonso -\n",
      "\n",
      "════════════════════════════════════════════════════════════ PAGE BREAK ════════════════════════════════════════════════════════════\n",
      "\n",
      "\n",
      "\n",
      "════════════════════════════════════════════════════════════ PAGE BREAK ════════════════════════════════════════════════════════════\n",
      "\n",
      "\n",
      "\n",
      "════════════════════════════════════════════════════════════ PAGE BREAK ════════════════════════════════════════════════════════════\n",
      "\n",
      "\n",
      "\n",
      "════════════════════════════════════════════════════════════ PAGE BREAK ════════════════════════════════════════════════════════════\n",
      "\n",
      "\n",
      "\n",
      "════════════════════════════════════════════════════════════ PAGE BREAK ════════════════════════════════════════════════════════════\n",
      "\n",
      "\n",
      "\n",
      "════════════════════════════════════════════════════════════ PAGE BREAK ════════════════════════════════════════════════════════════\n",
      "\n",
      "\n",
      "\n",
      "════════════════════════════════════════════════════════════ PAGE BREAK ════════════════════════════════════════════════════════════\n",
      "\n",
      "\n",
      "\n",
      "════════════════════════════════════════════════════════════ PAGE BREAK ════════════════════════════════════════════════════════════\n",
      "\n",
      "\n",
      "\n",
      "════════════════════════════════════════════════════════════ PAGE BREAK ════════════════════════════════════════════════════════════\n",
      "\n",
      "\n",
      "\n",
      "════════════════════════════════════════════════════════════ PAGE BREAK ════════════════════════════════════════════════════════════\n",
      "\n",
      "\n",
      "\n",
      "════════════════════════════════════════════════════════════ PAGE BREAK ════════════════════════════════════════════════════════════\n",
      "\n",
      "\n",
      "\n",
      "════════════════════════════════════════════════════════════ PAGE BREAK ════════════════════════════════════════════════════════════\n",
      "\n",
      "\n",
      "\n",
      "════════════════════════════════════════════════════════════ PAGE BREAK ════════════════════════════════════════════════════════════\n",
      "\n",
      "\n",
      "\n",
      "════════════════════════════════════════════════════════════ PAGE BREAK ════════════════════════════════════════════════════════════\n",
      "\n",
      "\n",
      "\n",
      "════════════════════════════════════════════════════════════ PAGE BREAK ════════════════════════════════════════════════════════════\n",
      "\n",
      "\n",
      "\n",
      "════════════════════════════════════════════════════════════ PAGE BREAK ════════════════════════════════════════════════════════════\n",
      "\n",
      "\n",
      "\n",
      "════════════════════════════════════════════════════════════ PAGE BREAK ════════════════════════════════════════════════════════════\n",
      "\n",
      "\n",
      "\n",
      "════════════════════════════════════════════════════════════ PAGE BREAK ════════════════════════════════════════════════════════════\n",
      "\n",
      "\n",
      "\n",
      "════════════════════════════════════════════════════════════ PAGE BREAK ════════════════════════════════════════════════════════════\n",
      "\n",
      "\n",
      "\n",
      "════════════════════════════════════════════════════════════ PAGE BREAK ════════════════════════════════════════════════════════════\n",
      "\n",
      "\n",
      "\n",
      "════════════════════════════════════════════════════════════ PAGE BREAK ════════════════════════════════════════════════════════════\n",
      "\n",
      "vencion este libro de Docimientos Pelici. E el reino\n",
      "\n",
      "════════════════════════════════════════════════════════════ PAGE BREAK ════════════════════════════════════════════════════════════\n",
      "\n",
      "\n",
      "\n",
      "════════════════════════════════════════════════════════════ PAGE BREAK ════════════════════════════════════════════════════════════\n",
      "\n",
      "ajustados, que escribio nuestro muy Renerendo Padre\n",
      "\n",
      "════════════════════════════════════════════════════════════ PAGE BREAK ════════════════════════════════════════════════════════════\n",
      "\n",
      "y deziramos por el rei don Alfonso en el rei don Alfonso\n",
      "Andres Mendo de la Compañia de I Es vs, Lector que\n",
      "\n",
      "════════════════════════════════════════════════════════════ PAGE BREAK ════════════════════════════════════════════════════════════\n",
      "\n",
      "y de los ouo Algunado de la caua quando de luego pueblo qe espa\n",
      "fue aqui de Theologia y Elericura, Rector del Colegio\n",
      "\n",
      "════════════════════════════════════════════════════════════ PAGE BREAK ════════════════════════════════════════════════════════════\n",
      "\n",
      "y de Aquel rei de los cauos qe vencian qe el rei de los caualleros\n",
      "de Islanders desta Vniversidad, y Calificador del Con.\n",
      "\n",
      "════════════════════════════════════════════════════════════ PAGE BREAK ════════════════════════════════════════════════════════════\n",
      "\n",
      "\n",
      "\n",
      "════════════════════════════════════════════════════════════ PAGE BREAK ════════════════════════════════════════════════════════════\n",
      "\n",
      "auerla tenido en principar noricias de tanta erudicion\n",
      "\n",
      "════════════════════════════════════════════════════════════ PAGE BREAK ════════════════════════════════════════════════════════════\n",
      "\n",
      "a si Segrada, como Profanzances que la estampa los co-\n",
      "\n",
      "════════════════════════════════════════════════════════════ PAGE BREAK ════════════════════════════════════════════════════════════\n",
      "\n",
      "municale a todos, bienque nunca pueden hazerle vil.\n",
      "\n",
      "════════════════════════════════════════════════════════════ PAGE BREAK ════════════════════════════════════════════════════════════\n",
      "\n",
      "qe el caualleria para qe luego qe murieron qe el es caualleros qe el pazquez\n",
      "\n",
      "════════════════════════════════════════════════════════════ PAGE BREAK ════════════════════════════════════════════════════════════\n",
      "\n",
      "\n",
      "\n",
      "════════════════════════════════════════════════════════════ PAGE BREAK ════════════════════════════════════════════════════════════\n",
      "\n",
      "En que este lugar pueda con treñerirle la desatercion\n",
      "\n",
      "════════════════════════════════════════════════════════════ PAGE BREAK ════════════════════════════════════════════════════════════\n",
      "\n",
      "de la llego que luego e el rei don siempre el muy grā\n",
      "\n",
      "════════════════════════════════════════════════════════════ PAGE BREAK ════════════════════════════════════════════════════════════\n",
      "\n",
      "con su caudal vencriolo lo extraordimario lo raro se lo\n",
      "\n",
      "════════════════════════════════════════════════════════════ PAGE BREAK ════════════════════════════════════════════════════════════\n",
      "\n",
      "pus de Auia qe pudieron de Castilla muchos porqe\n",
      "referic la prouidencia con tanto a cierto, que la fenda\n",
      "\n",
      "════════════════════════════════════════════════════════════ PAGE BREAK ════════════════════════════════════════════════════════════\n",
      "\n",
      "y el tiempo de Castilla porqe el muy mucho qe el pueblo\n",
      "mas estrecha la haze camino Real a la tarca recesable\n",
      "\n",
      "════════════════════════════════════════════════════════════ PAGE BREAK ════════════════════════════════════════════════════════════\n",
      "\n",
      "puesse pazieron mucho ouo muy gran el su muyo pazieron que\n",
      "de su estudiosidad. No ay rumbo por descubriral norte\n",
      "\n",
      "════════════════════════════════════════════════════════════ PAGE BREAK ════════════════════════════════════════════════════════════\n",
      "\n",
      "de su ingenio, ni alperera por facilirar a lo buella. Señas\n",
      "\n",
      "════════════════════════════════════════════════════════════ PAGE BREAK ════════════════════════════════════════════════════════════\n",
      "\n",
      "de la engaños su que el ouo por merdian a la maguer poder\n",
      "\n",
      "════════════════════════════════════════════════════════════ PAGE BREAK ════════════════════════════════════════════════════════════\n",
      "\n",
      "\n",
      "\n",
      "════════════════════════════════════════════════════════════ PAGE BREAK ════════════════════════════════════════════════════════════\n",
      "\n",
      "aplando mas encarecido. En esta el mercedo la alegurado\n",
      "\n",
      "════════════════════════════════════════════════════════════ PAGE BREAK ════════════════════════════════════════════════════════════\n",
      "\n",
      "a pueblo a las dixeron dellos las cerca de la tierra de\n",
      "Censura, distribayendolas Virrudes morales de vn Prin.\n",
      "\n",
      "════════════════════════════════════════════════════════════ PAGE BREAK ════════════════════════════════════════════════════════════\n",
      "\n",
      "y de luejos de la qe luego a qe Roma el matillo de Castilla\n",
      "cipe con llacion que hasta en la variedad fuele echarle\n",
      "\n",
      "════════════════════════════════════════════════════════════ PAGE BREAK ════════════════════════════════════════════════════════════\n",
      "\n",
      "\n",
      "\n",
      "════════════════════════════════════════════════════════════ PAGE BREAK ════════════════════════════════════════════════════════════\n",
      "\n",
      "\n",
      "\n",
      "════════════════════════════════════════════════════════════ PAGE BREAK ════════════════════════════════════════════════════════════\n",
      "\n",
      "\n",
      "\n",
      "════════════════════════════════════════════════════════════ PAGE BREAK ════════════════════════════════════════════════════════════\n",
      "\n",
      "\n",
      "\n",
      "════════════════════════════════════════════════════════════ PAGE BREAK ════════════════════════════════════════════════════════════\n",
      "\n",
      "\n",
      "\n",
      "════════════════════════════════════════════════════════════ PAGE BREAK ════════════════════════════════════════════════════════════\n",
      "\n",
      "\n",
      "\n",
      "════════════════════════════════════════════════════════════ PAGE BREAK ════════════════════════════════════════════════════════════\n",
      "\n",
      "\n",
      "\n",
      "════════════════════════════════════════════════════════════ PAGE BREAK ════════════════════════════════════════════════════════════\n",
      "\n",
      "\n",
      "\n",
      "════════════════════════════════════════════════════════════ PAGE BREAK ════════════════════════════════════════════════════════════\n",
      "\n",
      "cia, nunca inferior a la de Tullio, y Demolhenes la rei\n",
      "\n",
      "════════════════════════════════════════════════════════════ PAGE BREAK ════════════════════════════════════════════════════════════\n",
      "\n",
      "pusieron a muerte a la rei don fijo muy dixeron a la\n",
      "lidad del libro se conoce del fin, que por el se pretende\n",
      "\n",
      "════════════════════════════════════════════════════════════ PAGE BREAK ════════════════════════════════════════════════════════════\n",
      "\n",
      "\n",
      "\n",
      "════════════════════════════════════════════════════════════ PAGE BREAK ════════════════════════════════════════════════════════════\n",
      "\n",
      "\n",
      "\n",
      "════════════════════════════════════════════════════════════ PAGE BREAK ════════════════════════════════════════════════════════════\n",
      "\n",
      "\n",
      "\n",
      "════════════════════════════════════════════════════════════ PAGE BREAK ════════════════════════════════════════════════════════════\n",
      "\n",
      "\n",
      "\n",
      "════════════════════════════════════════════════════════════ PAGE BREAK ════════════════════════════════════════════════════════════\n",
      "\n",
      "\n",
      "\n",
      "════════════════════════════════════════════════════════════ PAGE BREAK ════════════════════════════════════════════════════════════\n",
      "\n",
      "\n",
      "\n",
      "════════════════════════════════════════════════════════════ PAGE BREAK ════════════════════════════════════════════════════════════\n",
      "\n",
      "\n",
      "\n",
      "════════════════════════════════════════════════════════════ PAGE BREAK ════════════════════════════════════════════════════════════\n",
      "\n",
      "\n",
      "\n",
      "════════════════════════════════════════════════════════════ PAGE BREAK ════════════════════════════════════════════════════════════\n",
      "\n",
      "\n",
      "\n",
      "════════════════════════════════════════════════════════════ PAGE BREAK ════════════════════════════════════════════════════════════\n",
      "\n",
      "\n",
      "\n",
      "════════════════════════════════════════════════════════════ PAGE BREAK ════════════════════════════════════════════════════════════\n",
      "\n",
      "\n",
      "\n",
      "════════════════════════════════════════════════════════════ PAGE BREAK ════════════════════════════════════════════════════════════\n",
      "\n",
      "\n",
      "\n",
      "════════════════════════════════════════════════════════════ PAGE BREAK ════════════════════════════════════════════════════════════\n",
      "\n",
      "\n",
      "\n",
      "════════════════════════════════════════════════════════════ PAGE BREAK ════════════════════════════════════════════════════════════\n",
      "\n",
      "\n",
      "\n",
      "════════════════════════════════════════════════════════════ PAGE BREAK ════════════════════════════════════════════════════════════\n",
      "\n",
      "\n",
      "\n",
      "════════════════════════════════════════════════════════════ PAGE BREAK ════════════════════════════════════════════════════════════\n",
      "\n",
      "\n",
      "\n",
      "════════════════════════════════════════════════════════════ PAGE BREAK ════════════════════════════════════════════════════════════\n",
      "\n",
      "\n",
      "\n",
      "════════════════════════════════════════════════════════════ PAGE BREAK ════════════════════════════════════════════════════════════\n",
      "\n",
      "\n",
      "\n",
      "════════════════════════════════════════════════════════════ PAGE BREAK ════════════════════════════════════════════════════════════\n",
      "\n",
      "\n",
      "\n",
      "════════════════════════════════════════════════════════════ PAGE BREAK ════════════════════════════════════════════════════════════\n",
      "\n",
      "\n",
      "\n",
      "════════════════════════════════════════════════════════════ PAGE BREAK ════════════════════════════════════════════════════════════\n",
      "\n",
      "\n",
      "\n",
      "════════════════════════════════════════════════════════════ PAGE BREAK ════════════════════════════════════════════════════════════\n",
      "\n",
      "\n",
      "\n",
      "════════════════════════════════════════════════════════════ PAGE BREAK ════════════════════════════════════════════════════════════\n",
      "\n",
      "\n",
      "\n",
      "════════════════════════════════════════════════════════════ PAGE BREAK ════════════════════════════════════════════════════════════\n",
      "\n",
      "\n",
      "\n",
      "════════════════════════════════════════════════════════════ PAGE BREAK ════════════════════════════════════════════════════════════\n",
      "\n",
      "\n",
      "\n",
      "════════════════════════════════════════════════════════════ PAGE BREAK ════════════════════════════════════════════════════════════\n",
      "\n",
      "\n",
      "\n",
      "════════════════════════════════════════════════════════════ PAGE BREAK ════════════════════════════════════════════════════════════\n",
      "\n",
      "y el rei don sancho el rei don sancho el rei don\n",
      "\n",
      "════════════════════════════════════════════════════════════ PAGE BREAK ════════════════════════════════════════════════════════════\n",
      "\n",
      "\n",
      "\n",
      "════════════════════════════════════════════════════════════ PAGE BREAK ════════════════════════════════════════════════════════════\n",
      "\n",
      "\n",
      "\n",
      "════════════════════════════════════════════════════════════ PAGE BREAK ════════════════════════════════════════════════════════════\n",
      "\n",
      "\n",
      "\n",
      "════════════════════════════════════════════════════════════ PAGE BREAK ════════════════════════════════════════════════════════════\n",
      "\n",
      "\n",
      "\n",
      "════════════════════════════════════════════════════════════ PAGE BREAK ════════════════════════════════════════════════════════════\n",
      "\n",
      "\n",
      "\n",
      "════════════════════════════════════════════════════════════ PAGE BREAK ════════════════════════════════════════════════════════════\n",
      "\n",
      "\n",
      "\n",
      "════════════════════════════════════════════════════════════ PAGE BREAK ════════════════════════════════════════════════════════════\n",
      "\n",
      "\n",
      "\n",
      "════════════════════════════════════════════════════════════ PAGE BREAK ════════════════════════════════════════════════════════════\n",
      "\n",
      "\n",
      "\n",
      "════════════════════════════════════════════════════════════ PAGE BREAK ════════════════════════════════════════════════════════════\n",
      "\n",
      "\n",
      "\n",
      "════════════════════════════════════════════════════════════ PAGE BREAK ════════════════════════════════════════════════════════════\n",
      "\n",
      "\n",
      "\n",
      "════════════════════════════════════════════════════════════ PAGE BREAK ════════════════════════════════════════════════════════════\n",
      "\n",
      "\n",
      "\n",
      "════════════════════════════════════════════════════════════ PAGE BREAK ════════════════════════════════════════════════════════════\n",
      "\n",
      "\n",
      "\n",
      "════════════════════════════════════════════════════════════ PAGE BREAK ════════════════════════════════════════════════════════════\n",
      "\n",
      "\n",
      "\n",
      "════════════════════════════════════════════════════════════ PAGE BREAK ════════════════════════════════════════════════════════════\n",
      "\n",
      "\n",
      "\n",
      "════════════════════════════════════════════════════════════ PAGE BREAK ════════════════════════════════════════════════════════════\n",
      "\n",
      "Mendo de la Compañia de le sus, Recior del Collegio\n",
      "\n",
      "════════════════════════════════════════════════════════════ PAGE BREAK ════════════════════════════════════════════════════════════\n",
      "\n",
      "de Tradeses de la Vn merdidad desta dicha Ciudadraten.\n",
      "\n",
      "════════════════════════════════════════════════════════════ PAGE BREAK ════════════════════════════════════════════════════════════\n",
      "\n",
      "to, de la censura del Doctor Don Francisco de Puga, y\n",
      "\n",
      "════════════════════════════════════════════════════════════ PAGE BREAK ════════════════════════════════════════════════════════════\n",
      "\n",
      "\n",
      "\n",
      "════════════════════════════════════════════════════════════ PAGE BREAK ════════════════════════════════════════════════════════════\n",
      "\n",
      "ta dicha Vinuchdad, y Cathedralico de Primado Ca\n",
      "\n",
      "════════════════════════════════════════════════════════════ PAGE BREAK ════════════════════════════════════════════════════════════\n",
      "\n",
      "\n",
      "\n",
      "════════════════════════════════════════════════════════════ PAGE BREAK ════════════════════════════════════════════════════════════\n",
      "\n",
      "fanta E Catholica, y buenas costumbres. Dada en Sala\n",
      "\n",
      "════════════════════════════════════════════════════════════ PAGE BREAK ════════════════════════════════════════════════════════════\n",
      "\n",
      "pueblo e dixeron en ellos e nombre e el cauallero de caua el cauella\n",
      "\n",
      "════════════════════════════════════════════════════════════ PAGE BREAK ════════════════════════════════════════════════════════════\n",
      "\n",
      "\n",
      "\n",
      "════════════════════════════════════════════════════════════ PAGE BREAK ════════════════════════════════════════════════════════════\n",
      "\n",
      "\n",
      "\n",
      "════════════════════════════════════════════════════════════ PAGE BREAK ════════════════════════════════════════════════════════════\n",
      "\n",
      "\n",
      "\n",
      "════════════════════════════════════════════════════════════ PAGE BREAK ════════════════════════════════════════════════════════════\n",
      "\n",
      "\n",
      "\n",
      "════════════════════════════════════════════════════════════ PAGE BREAK ════════════════════════════════════════════════════════════\n",
      "\n",
      "\n",
      "\n",
      "════════════════════════════════════════════════════════════ PAGE BREAK ════════════════════════════════════════════════════════════\n",
      "\n",
      "\n",
      "\n",
      "════════════════════════════════════════════════════════════ PAGE BREAK ════════════════════════════════════════════════════════════\n",
      "\n",
      "\n",
      "\n",
      "════════════════════════════════════════════════════════════ PAGE BREAK ════════════════════════════════════════════════════════════\n",
      "\n",
      "\n",
      "\n",
      "════════════════════════════════════════════════════════════ PAGE BREAK ════════════════════════════════════════════════════════════\n",
      "\n",
      "\n",
      "\n",
      "════════════════════════════════════════════════════════════ PAGE BREAK ════════════════════════════════════════════════════════════\n",
      "\n",
      "\n",
      "\n",
      "════════════════════════════════════════════════════════════ PAGE BREAK ════════════════════════════════════════════════════════════\n",
      "\n",
      "\n",
      "\n",
      "════════════════════════════════════════════════════════════ PAGE BREAK ════════════════════════════════════════════════════════════\n",
      "\n",
      "\n",
      "\n",
      "════════════════════════════════════════════════════════════ PAGE BREAK ════════════════════════════════════════════════════════════\n",
      "\n",
      "\n",
      "\n",
      "════════════════════════════════════════════════════════════ PAGE BREAK ════════════════════════════════════════════════════════════\n",
      "\n",
      "\n",
      "\n",
      "════════════════════════════════════════════════════════════ PAGE BREAK ════════════════════════════════════════════════════════════\n",
      "\n",
      "\n",
      "\n",
      "════════════════════════════════════════════════════════════ PAGE BREAK ════════════════════════════════════════════════════════════\n",
      "\n",
      "\n",
      "\n",
      "════════════════════════════════════════════════════════════ PAGE BREAK ════════════════════════════════════════════════════════════\n",
      "\n",
      "\n",
      "\n",
      "════════════════════════════════════════════════════════════ PAGE BREAK ════════════════════════════════════════════════════════════\n",
      "\n",
      "\n",
      "\n",
      "════════════════════════════════════════════════════════════ PAGE BREAK ════════════════════════════════════════════════════════════\n",
      "\n",
      "\n",
      "\n",
      "════════════════════════════════════════════════════════════ PAGE BREAK ════════════════════════════════════════════════════════════\n",
      "\n",
      "\n",
      "\n",
      "════════════════════════════════════════════════════════════ PAGE BREAK ════════════════════════════════════════════════════════════\n",
      "\n",
      "\n",
      "\n",
      "════════════════════════════════════════════════════════════ PAGE BREAK ════════════════════════════════════════════════════════════\n",
      "\n",
      "\n",
      "\n",
      "════════════════════════════════════════════════════════════ PAGE BREAK ════════════════════════════════════════════════════════════\n",
      "\n",
      "\n",
      "\n",
      "════════════════════════════════════════════════════════════ PAGE BREAK ════════════════════════════════════════════════════════════\n",
      "\n",
      "\n",
      "\n",
      "════════════════════════════════════════════════════════════ PAGE BREAK ════════════════════════════════════════════════════════════\n",
      "\n",
      "\n",
      "\n",
      "════════════════════════════════════════════════════════════ PAGE BREAK ════════════════════════════════════════════════════════════\n",
      "\n",
      "\n",
      "\n",
      "════════════════════════════════════════════════════════════ PAGE BREAK ════════════════════════════════════════════════════════════\n",
      "\n",
      "\n",
      "\n",
      "════════════════════════════════════════════════════════════ PAGE BREAK ════════════════════════════════════════════════════════════\n",
      "\n",
      "Reina reAndres Mando de la Compañade le sus, Rey\n",
      "\n",
      "════════════════════════════════════════════════════════════ PAGE BREAK ════════════════════════════════════════════════════════════\n",
      "\n",
      "el y luego el rei don Alfonso el rei don siempre el rei don\n",
      "ctor del Colegio de Islandses de Salamanca, L estor de\n",
      "\n",
      "════════════════════════════════════════════════════════════ PAGE BREAK ════════════════════════════════════════════════════════════\n",
      "\n",
      "\n",
      "\n",
      "════════════════════════════════════════════════════════════ PAGE BREAK ════════════════════════════════════════════════════════════\n",
      "\n",
      "Enquisicion su prema. Y despues de no auer en contra -\n",
      "\n",
      "════════════════════════════════════════════════════════════ PAGE BREAK ════════════════════════════════════════════════════════════\n",
      "\n",
      "\n",
      "\n",
      "════════════════════════════════════════════════════════════ PAGE BREAK ════════════════════════════════════════════════════════════\n",
      "\n",
      "\n",
      "\n",
      "════════════════════════════════════════════════════════════ PAGE BREAK ════════════════════════════════════════════════════════════\n",
      "\n",
      "\n",
      "\n",
      "════════════════════════════════════════════════════════════ PAGE BREAK ════════════════════════════════════════════════════════════\n",
      "\n",
      "leytables, sino por humanente viles estos Documentos\n",
      "\n",
      "════════════════════════════════════════════════════════════ PAGE BREAK ════════════════════════════════════════════════════════════\n",
      "\n",
      "\n",
      "\n",
      "════════════════════════════════════════════════════════════ PAGE BREAK ════════════════════════════════════════════════════════════\n",
      "\n",
      "gilar de los Principes, y Monarchas. Alapola election,\n",
      "\n",
      "════════════════════════════════════════════════════════════ PAGE BREAK ════════════════════════════════════════════════════════════\n",
      "\n",
      "pues de los qe luego es qe moros caualleros y en el caualle\n",
      "pues como diio Liplio, In moribus, que scientis aliquid\n",
      "\n",
      "════════════════════════════════════════════════════════════ PAGE BREAK ════════════════════════════════════════════════════════════\n",
      "\n",
      "\n",
      "\n",
      "════════════════════════════════════════════════════════════ PAGE BREAK ════════════════════════════════════════════════════════════\n",
      "\n",
      "es administrations ciuili e Cum illic vnum aliquem ciueno\n",
      "\n",
      "════════════════════════════════════════════════════════════ PAGE BREAK ════════════════════════════════════════════════════════════\n",
      "\n",
      "meliorem, doctioremaye facias, hic in vno emnes, El la\n",
      "\n",
      "════════════════════════════════════════════════════════════ PAGE BREAK ════════════════════════════════════════════════════════════\n",
      "\n",
      "car a vn Principe con su mado estudiente en el arte\n",
      "\n",
      "════════════════════════════════════════════════════════════ PAGE BREAK ════════════════════════════════════════════════════════════\n",
      "\n",
      "\n",
      "\n",
      "════════════════════════════════════════════════════════════ PAGE BREAK ════════════════════════════════════════════════════════════\n",
      "\n",
      "\n",
      "\n",
      "════════════════════════════════════════════════════════════ PAGE BREAK ════════════════════════════════════════════════════════════\n",
      "\n",
      "den las acciones, y de aquella Cibera las influenencias\n",
      "\n",
      "════════════════════════════════════════════════════════════ PAGE BREAK ════════════════════════════════════════════════════════════\n",
      "\n",
      "a todo lo relance del cuerpo. Y en los libros, es fin\n",
      "\n",
      "════════════════════════════════════════════════════════════ PAGE BREAK ════════════════════════════════════════════════════════════\n",
      "\n",
      "duda, que beben mas vncera, y pura la enseñanza,\n",
      "\n",
      "════════════════════════════════════════════════════════════ PAGE BREAK ════════════════════════════════════════════════════════════\n",
      "\n",
      "\n",
      "\n",
      "════════════════════════════════════════════════════════════ PAGE BREAK ════════════════════════════════════════════════════════════\n",
      "\n",
      "\n",
      "\n",
      "════════════════════════════════════════════════════════════ PAGE BREAK ════════════════════════════════════════════════════════════\n",
      "\n",
      "fazer, qui consili sus copian a sisidue facient, se diximam con\n",
      "\n",
      "════════════════════════════════════════════════════════════ PAGE BREAK ════════════════════════════════════════════════════════════\n",
      "\n",
      "\n",
      "\n",
      "════════════════════════════════════════════════════════════ PAGE BREAK ════════════════════════════════════════════════════════════\n",
      "\n",
      "\n",
      "\n",
      "════════════════════════════════════════════════════════════ PAGE BREAK ════════════════════════════════════════════════════════════\n",
      "\n",
      "\n",
      "\n",
      "════════════════════════════════════════════════════════════ PAGE BREAK ════════════════════════════════════════════════════════════\n",
      "\n",
      "\n",
      "\n",
      "════════════════════════════════════════════════════════════ PAGE BREAK ════════════════════════════════════════════════════════════\n",
      "\n",
      "\n",
      "\n",
      "════════════════════════════════════════════════════════════ PAGE BREAK ════════════════════════════════════════════════════════════\n",
      "\n",
      "\n",
      "\n",
      "════════════════════════════════════════════════════════════ PAGE BREAK ════════════════════════════════════════════════════════════\n",
      "\n",
      "\n",
      "\n",
      "════════════════════════════════════════════════════════════ PAGE BREAK ════════════════════════════════════════════════════════════\n",
      "\n",
      "\n",
      "\n",
      "════════════════════════════════════════════════════════════ PAGE BREAK ════════════════════════════════════════════════════════════\n",
      "\n",
      "\n",
      "\n",
      "════════════════════════════════════════════════════════════ PAGE BREAK ════════════════════════════════════════════════════════════\n",
      "\n",
      "Galino, vna clara fuente, de donde beban enseñanzas, y\n",
      "\n",
      "════════════════════════════════════════════════════════════ PAGE BREAK ════════════════════════════════════════════════════════════\n",
      "\n",
      "tiempo e fue muerte dixo qe lo nombre pudar en la tierra qe\n",
      "\n",
      "════════════════════════════════════════════════════════════ PAGE BREAK ════════════════════════════════════════════════════════════\n",
      "\n",
      "limpia y a seada, donde en pleios de casto lenguisie se fir\n",
      "\n",
      "════════════════════════════════════════════════════════════ PAGE BREAK ════════════════════════════════════════════════════════════\n",
      "\n",
      "tampa qe en entrejo dias en finco de muy vençado toda\n",
      "y el rei don sancho el rei don sancho el rei don\n",
      "nen varios manjares de erudicion, y enseñaras, en La\n",
      "\n",
      "════════════════════════════════════════════════════════════ PAGE BREAK ════════════════════════════════════════════════════════════\n",
      "\n",
      "\n",
      "\n",
      "════════════════════════════════════════════════════════════ PAGE BREAK ════════════════════════════════════════════════════════════\n",
      "\n",
      "\n",
      "\n",
      "════════════════════════════════════════════════════════════ PAGE BREAK ════════════════════════════════════════════════════════════\n",
      "\n",
      "rerdaderamente el lenguaje La conico, de que hablō\n",
      "\n",
      "════════════════════════════════════════════════════════════ PAGE BREAK ════════════════════════════════════════════════════════════\n",
      "\n",
      "\n",
      "\n",
      "════════════════════════════════════════════════════════════ PAGE BREAK ════════════════════════════════════════════════════════════\n",
      "\n",
      "\n",
      "\n",
      "════════════════════════════════════════════════════════════ PAGE BREAK ════════════════════════════════════════════════════════════\n",
      "\n",
      "\n",
      "\n",
      "════════════════════════════════════════════════════════════ PAGE BREAK ════════════════════════════════════════════════════════════\n",
      "\n",
      "puede no dezirle nada, o le pueden encerrar de sacier\n",
      "\n",
      "════════════════════════════════════════════════════════════ PAGE BREAK ════════════════════════════════════════════════════════════\n",
      "\n",
      "y de los llego de luego qe el Castilla por el rei don siempe\n",
      "tos muchos. Pero nuestro Autor cumple eractamente\n",
      "\n",
      "════════════════════════════════════════════════════════════ PAGE BREAK ════════════════════════════════════════════════════════════\n",
      "\n",
      "y el cauallero. E el qe dixoles e el rei don sancho qe\n",
      "con el señir de Narianzeno, pues en su Español La co\n",
      "\n",
      "════════════════════════════════════════════════════════════ PAGE BREAK ════════════════════════════════════════════════════════════\n",
      "\n",
      "y de Castilla de Castilla de la qe el rei don Alfonso a\n",
      "nico abrara dilatadismos campos de sentencias con ale\n",
      "\n",
      "════════════════════════════════════════════════════════════ PAGE BREAK ════════════════════════════════════════════════════════════\n",
      "\n",
      "adamente dichas, y tan curiolamente adornadas, que es\n",
      "\n",
      "════════════════════════════════════════════════════════════ PAGE BREAK ════════════════════════════════════════════════════════════\n",
      "\n",
      "ristola la atanxia, y deleytable la taraçea, con que esta\n",
      "\n",
      "════════════════════════════════════════════════════════════ PAGE BREAK ════════════════════════════════════════════════════════════\n",
      "\n",
      "ferbien villa, y a clamada, al Teatro del Oche. Por lo\n",
      "\n",
      "════════════════════════════════════════════════════════════ PAGE BREAK ════════════════════════════════════════════════════════════\n",
      "\n",
      "\n",
      "\n",
      "════════════════════════════════════════════════════════════ PAGE BREAK ════════════════════════════════════════════════════════════\n",
      "\n",
      "hablada ha de ferbien admirida de todos, siruiendole\n",
      "\n",
      "════════════════════════════════════════════════════════════ PAGE BREAK ════════════════════════════════════════════════════════════\n",
      "\n",
      "pues de la vn llego el rei don sancho el rei don Alfonso\n",
      "V A de dar la licencia, que pide el Auer, para que El\n",
      "\n",
      "════════════════════════════════════════════════════════════ PAGE BREAK ════════════════════════════════════════════════════════════\n",
      "\n",
      "criro tan ingeniolamente arificiado gore de la comen\n",
      "\n",
      "════════════════════════════════════════════════════════════ PAGE BREAK ════════════════════════════════════════════════════════════\n",
      "\n",
      "y sura de la luz, para a huyentar ninichlas de ignorancias,\n",
      "\n",
      "════════════════════════════════════════════════════════════ PAGE BREAK ════════════════════════════════════════════════════════════\n",
      "\n",
      "y el rei de la tierqe non luego el rei don siempre el rei don siempe\n",
      "e in roducir resplandores de aduerencias. En el gran\n",
      "\n",
      "════════════════════════════════════════════════════════════ PAGE BREAK ════════════════════════════════════════════════════════════\n",
      "\n",
      "\n",
      "\n",
      "════════════════════════════════════════════════════════════ PAGE BREAK ════════════════════════════════════════════════════════════\n",
      "\n",
      "\n",
      "\n",
      "════════════════════════════════════════════════════════════ PAGE BREAK ════════════════════════════════════════════════════════════\n",
      "\n",
      "\n",
      "\n",
      "════════════════════════════════════════════════════════════ PAGE BREAK ════════════════════════════════════════════════════════════\n",
      "\n",
      "garios libros muchos su celos, discurlos, y len\n",
      "\n",
      "════════════════════════════════════════════════════════════ PAGE BREAK ════════════════════════════════════════════════════════════\n",
      "\n",
      "tencias, de que formarla Idea de vn Principe\n",
      "\n",
      "════════════════════════════════════════════════════════════ PAGE BREAK ════════════════════════════════════════════════════════════\n",
      "\n",
      "Perfecto, y de sus Ministros ajustados, llegue a leer los\n",
      "\n",
      "════════════════════════════════════════════════════════════ PAGE BREAK ════════════════════════════════════════════════════════════\n",
      "\n",
      "perde los. e de las mieduras quellados en que a leal des\n",
      "Emblemas Latinos, que el Señor Don Iuan de Solorza\n",
      "\n",
      "════════════════════════════════════════════════════════════ PAGE BREAK ════════════════════════════════════════════════════════════\n",
      "\n",
      "\n",
      "\n",
      "════════════════════════════════════════════════════════════ PAGE BREAK ════════════════════════════════════════════════════════════\n",
      "\n",
      "mos de Castilla, y Indias, escriuio, entre las demas\n",
      "\n",
      "════════════════════════════════════════════════════════════ PAGE BREAK ════════════════════════════════════════════════════════════\n",
      "\n",
      "Obras suyas dignas de eternos bronres. Vilios atenta\n",
      "\n",
      "════════════════════════════════════════════════════════════ PAGE BREAK ════════════════════════════════════════════════════════════\n",
      "\n",
      "En la Alfaz de dias de toledad en cerca. e dixo de dios\n",
      "mente, aun antes de darle a la estampa, por querlenes\n",
      "\n",
      "════════════════════════════════════════════════════════════ PAGE BREAK ════════════════════════════════════════════════════════════\n",
      "\n",
      "y el rei fue el cauelo el cauelo a la vinuipe por la tierra\n",
      "\n",
      "════════════════════════════════════════════════════════════ PAGE BREAK ════════════════════════════════════════════════════════════\n",
      "\n",
      "Adinire las nocicias, cridicion, y copia, pero admir\n",
      "\n",
      "════════════════════════════════════════════════════════════ PAGE BREAK ════════════════════════════════════════════════════════════\n",
      "\n",
      "Auilla e las tiemonas por muchoña qe espa y pazco del su\n",
      "tiendo, que a muchos el Latin en semejantes materias\n",
      "\n",
      "════════════════════════════════════════════════════════════ PAGE BREAK ════════════════════════════════════════════════════════════\n",
      "\n",
      "peraço qe qe fue a muyuieron el cauallero de tierra pueblo a caualleria\n",
      "\n",
      "════════════════════════════════════════════════════════════ PAGE BREAK ════════════════════════════════════════════════════════════\n",
      "\n",
      "parecio buena occasion de hazer vn obstructo en nuestro\n",
      "\n",
      "════════════════════════════════════════════════════════════ PAGE BREAK ════════════════════════════════════════════════════════════\n",
      "\n",
      "pueblo e dezia e ouieron el caualleros de tiempo de cauallero\n",
      "E dioña, y entrelaçando los allumpeos mas selechos, y\n",
      "\n",
      "════════════════════════════════════════════════════════════ PAGE BREAK ════════════════════════════════════════════════════════════\n",
      "\n",
      "despaña, e Ca el caualleros los alampa es dios seños, qe\n",
      "con otro merodo, disposicion, y estilo, abadiendo mu\n",
      "\n",
      "════════════════════════════════════════════════════════════ PAGE BREAK ════════════════════════════════════════════════════════════\n",
      "\n",
      "y de los caualleros que pudieron qe leon pudieron que\n",
      "chas obleruaciones mias, formar vn brene epilogo, que\n",
      "\n",
      "════════════════════════════════════════════════════════════ PAGE BREAK ════════════════════════════════════════════════════════════\n",
      "\n",
      "pues de los moros de los moros e de los Arçobis de los cauellos\n",
      "con facilitatedle manejole. No fue corto el despejo, am\n",
      "\n",
      "════════════════════════════════════════════════════════════ PAGE BREAK ════════════════════════════════════════════════════════════\n",
      "\n",
      "por la guena lo mucho para toda cauelo el caualleros de la\n",
      "que es pequeño el libro, que la costa de iozenio nunca\n",
      "\n",
      "════════════════════════════════════════════════════════════ PAGE BREAK ════════════════════════════════════════════════════════════\n",
      "\n",
      "le ha de tantear por el buito. Enpeñome mas a esta ac\n",
      "\n",
      "════════════════════════════════════════════════════════════ PAGE BREAK ════════════════════════════════════════════════════════════\n",
      "\n",
      "el tio las cauieron por la tierra. Emperista della a caua de\n",
      "cion, el jurgarla por colecinio del señor Don Iuan de\n",
      "\n",
      "════════════════════════════════════════════════════════════ PAGE BREAK ════════════════════════════════════════════════════════════\n",
      "\n",
      "y los Porqe de los caualleros qe los caualleros qe los caualleros\n",
      "sotorrano E enix desto si glo, por vnico en el aliño de los\n",
      "\n",
      "════════════════════════════════════════════════════════════ PAGE BREAK ════════════════════════════════════════════════════════════\n",
      "\n",
      "E el rei don siempe e el rei don siempo e por el rei don\n",
      "\n",
      "════════════════════════════════════════════════════════════ PAGE BREAK ════════════════════════════════════════════════════════════\n",
      "\n",
      "familiar començacion, que llamira, e mereçerla e fue\n",
      "\n",
      "════════════════════════════════════════════════════════════ PAGE BREAK ════════════════════════════════════════════════════════════\n",
      "\n",
      "reienda e dixeron auerqe por muy grā mucho el cerca\n",
      "cha vnistad. Y aunque no pudo exemplar esta fuera en\n",
      "\n",
      "════════════════════════════════════════════════════════════ PAGE BREAK ════════════════════════════════════════════════════════════\n",
      "\n",
      "y el rei de los qe luego que lo pues por el rei don sancho\n",
      "su vida, porque con beneficiento comun de toda la Re\n",
      "\n",
      "════════════════════════════════════════════════════════════ PAGE BREAK ════════════════════════════════════════════════════════════\n",
      "\n",
      "la fueragon que con el rei don sancho qe dixo todo el rey\n",
      "publica ligeraria le sobreuino la muerte, que cumplirla\n",
      "\n",
      "════════════════════════════════════════════════════════════ PAGE BREAK ════════════════════════════════════════════════════════════\n",
      "\n",
      "E el rei don dixo el rei don sancho la tierra el españa de\n",
      "con sus ceniras, lin detener mi veneracion el puso en\n",
      "\n",
      "════════════════════════════════════════════════════════════ PAGE BREAK ════════════════════════════════════════════════════════════\n",
      "\n",
      "ron las cleridas, que en el rei don venciaron el puerçar\n",
      "\n",
      "════════════════════════════════════════════════════════════ PAGE BREAK ════════════════════════════════════════════════════════════\n",
      "\n",
      "ja, de comeniencia. De nueme algun tiempo en sacar a\n",
      "\n",
      "════════════════════════════════════════════════════════════ PAGE BREAK ════════════════════════════════════════════════════════════\n",
      "\n",
      "luz este trabajo, receloso, de que quien escribe en Ca\n",
      "232 e los moros\n",
      "\n",
      "════════════════════════════════════════════════════════════ PAGE BREAK ════════════════════════════════════════════════════════════\n",
      "\n",
      "\n",
      "\n",
      "════════════════════════════════════════════════════════════ PAGE BREAK ════════════════════════════════════════════════════════════\n",
      "\n",
      "\n",
      "\n",
      "════════════════════════════════════════════════════════════ PAGE BREAK ════════════════════════════════════════════════════════════\n",
      "\n",
      "\n",
      "\n",
      "════════════════════════════════════════════════════════════ PAGE BREAK ════════════════════════════════════════════════════════════\n",
      "\n",
      "\n",
      "\n",
      "════════════════════════════════════════════════════════════ PAGE BREAK ════════════════════════════════════════════════════════════\n",
      "\n",
      "\n",
      "\n",
      "════════════════════════════════════════════════════════════ PAGE BREAK ════════════════════════════════════════════════════════════\n",
      "\n",
      "\n",
      "\n",
      "════════════════════════════════════════════════════════════ PAGE BREAK ════════════════════════════════════════════════════════════\n",
      "\n",
      "\n",
      "\n",
      "════════════════════════════════════════════════════════════ PAGE BREAK ════════════════════════════════════════════════════════════\n",
      "\n",
      "\n",
      "\n",
      "════════════════════════════════════════════════════════════ PAGE BREAK ════════════════════════════════════════════════════════════\n",
      "\n",
      "\n",
      "\n",
      "════════════════════════════════════════════════════════════ PAGE BREAK ════════════════════════════════════════════════════════════\n",
      "\n",
      "\n",
      "\n",
      "════════════════════════════════════════════════════════════ PAGE BREAK ════════════════════════════════════════════════════════════\n",
      "\n",
      "\n",
      "\n",
      "════════════════════════════════════════════════════════════ PAGE BREAK ════════════════════════════════════════════════════════════\n",
      "\n",
      "\n",
      "\n",
      "════════════════════════════════════════════════════════════ PAGE BREAK ════════════════════════════════════════════════════════════\n",
      "\n",
      "\n",
      "\n",
      "════════════════════════════════════════════════════════════ PAGE BREAK ════════════════════════════════════════════════════════════\n",
      "\n",
      "cipes Christianos, de Ministros relolos, de sabios tem\n",
      "\n",
      "════════════════════════════════════════════════════════════ PAGE BREAK ════════════════════════════════════════════════════════════\n",
      "\n",
      "\n",
      "\n",
      "════════════════════════════════════════════════════════════ PAGE BREAK ════════════════════════════════════════════════════════════\n",
      "\n",
      "\n",
      "\n",
      "════════════════════════════════════════════════════════════ PAGE BREAK ════════════════════════════════════════════════════════════\n",
      "\n",
      "\n",
      "\n",
      "════════════════════════════════════════════════════════════ PAGE BREAK ════════════════════════════════════════════════════════════\n",
      "\n",
      "\n",
      "\n",
      "════════════════════════════════════════════════════════════ PAGE BREAK ════════════════════════════════════════════════════════════\n",
      "\n",
      "\n",
      "\n",
      "════════════════════════════════════════════════════════════ PAGE BREAK ════════════════════════════════════════════════════════════\n",
      "\n",
      "\n",
      "\n",
      "════════════════════════════════════════════════════════════ PAGE BREAK ════════════════════════════════════════════════════════════\n",
      "\n",
      "\n",
      "\n",
      "════════════════════════════════════════════════════════════ PAGE BREAK ════════════════════════════════════════════════════════════\n",
      "\n",
      "\n",
      "\n",
      "════════════════════════════════════════════════════════════ PAGE BREAK ════════════════════════════════════════════════════════════\n",
      "\n",
      "\n",
      "\n",
      "════════════════════════════════════════════════════════════ PAGE BREAK ════════════════════════════════════════════════════════════\n",
      "\n",
      "\n",
      "OCR results saved successfully\n"
     ]
    }
   ],
   "source": [
    "from datetime import datetime\n",
    "from PIL import Image\n",
    "import matplotlib.pyplot as plt\n",
    "from transformers import AutoModelForSeq2SeqLM, AutoTokenizer, TrOCRProcessor\n",
    "import os\n",
    "import re\n",
    "import torch\n",
    "\n",
    "def parse_folder_timestamp(folder_name):\n",
    "    \"\"\"Extract datetime from folder name\"\"\"\n",
    "    match = re.match(r'Screenshot (\\d{4}-\\d{2}-\\d{2}) at (\\d{1,2})\\.(\\d{2})\\.(\\d{2}) ([AP]M)', folder_name)\n",
    "    if not match:\n",
    "        return datetime.max\n",
    "    \n",
    "    date_str, hour, minute, second, period = match.groups()\n",
    "    time_str = f\"{hour}:{minute}:{second} {period}\"\n",
    "    \n",
    "    return datetime.strptime(f\"{date_str} {time_str}\", \"%Y-%m-%d %I:%M:%S %p\")\n",
    "\n",
    "def process_directory(root_dir):\n",
    "    all_text = []\n",
    "    \n",
    "    # Sort pages by timestamp\n",
    "    page_folders = sorted(\n",
    "        [f for f in os.listdir(root_dir) if os.path.isdir(os.path.join(root_dir, f))],\n",
    "        key=parse_folder_timestamp)\n",
    "    \n",
    "    # Setup display\n",
    "    plt.ion()\n",
    "    fig = plt.figure(figsize=(12, 6))\n",
    "    \n",
    "    for page_number, _ in enumerate(page_folders, 1):\n",
    "        page_text = []\n",
    "        line_files = sorted(\n",
    "            [f for f in os.listdir(os.path.join(root_dir, page_folders[page_number-1])) \n",
    "             if re.match(r'line_\\d+\\.png', f)],\n",
    "            key=lambda x: int(re.search(r'\\d+', x).group()))\n",
    "        \n",
    "        print(f\"\\n📄 Processing page {page_number}\")\n",
    "        \n",
    "        for line_idx, _ in enumerate(line_files, 1):\n",
    "            try:\n",
    "                # Image display\n",
    "                img_path = os.path.join(root_dir, page_folders[page_number-1], f'line_{line_idx-1}.png')\n",
    "                img = Image.open(img_path).convert(\"RGB\")\n",
    "                ax1 = fig.add_subplot(1, 2, 1)\n",
    "                ax1.imshow(img)\n",
    "                ax1.set_title(f\"Page {page_number} - Line {line_idx}\", fontsize=10)\n",
    "                ax1.axis('off')\n",
    "                \n",
    "                # OCR processing\n",
    "                inputs = processor(img, return_tensors=\"pt\")\n",
    "                pixel_values = inputs.pixel_values.to(device)\n",
    "                \n",
    "                generated_ids = model.generate(\n",
    "                    pixel_values, \n",
    "                    max_new_tokens=128,\n",
    "                    num_beams=5,\n",
    "                    early_stopping=True)\n",
    "                \n",
    "                line_text = tokenizer.decode(generated_ids[0], skip_special_tokens=True).strip()\n",
    "                \n",
    "                # Display result\n",
    "                ax2 = fig.add_subplot(1, 2, 2)\n",
    "                ax2.text(0.1, 0.5, line_text, fontsize=12, va='center')\n",
    "                ax2.axis('off')\n",
    "                \n",
    "                plt.suptitle(f\"Processing Page {page_number} - Line {line_idx}\", fontsize=14)\n",
    "                plt.draw()\n",
    "                plt.pause(0.1)\n",
    "                \n",
    "                page_text.append(line_text)\n",
    "                print(f\"  Line {line_idx}: {line_text}\")\n",
    "                fig.clf()\n",
    "                \n",
    "            except Exception as e:\n",
    "                print(f\"  Error processing line {line_idx}\")\n",
    "                page_text.append(\"[OCR ERROR]\")\n",
    "                fig.clf()\n",
    "        \n",
    "        all_text.append(\"\\n\".join(page_text))\n",
    "        all_text.append(\"\\n\" + \"═\"*60 + \" PAGE BREAK \" + \"═\"*60 + \"\\n\")\n",
    "    \n",
    "    plt.ioff()\n",
    "    plt.close()\n",
    "    return \"\\n\".join(all_text)\n",
    "\n",
    "# Process and save\n",
    "final_text = process_directory(\"/kaggle/working/line_output5\")\n",
    "print(\"\\nFinal OCR Results:\")\n",
    "print(final_text)\n",
    "\n",
    "with open(\"/kaggle/working/final_ocr_output.txt\", \"w\") as f:\n",
    "    f.write(final_text)\n",
    "\n",
    "print(\"\\nOCR results saved successfully\")"
   ]
  },
  {
   "cell_type": "code",
   "execution_count": null,
   "metadata": {
    "trusted": true
   },
   "outputs": [],
   "source": []
  }
 ],
 "metadata": {
  "kaggle": {
   "accelerator": "nvidiaTeslaT4",
   "dataSources": [
    {
     "datasetId": 7016641,
     "sourceId": 11232661,
     "sourceType": "datasetVersion"
    },
    {
     "datasetId": 7016648,
     "sourceId": 11232673,
     "sourceType": "datasetVersion"
    },
    {
     "datasetId": 7019564,
     "sourceId": 11236394,
     "sourceType": "datasetVersion"
    },
    {
     "datasetId": 7019687,
     "sourceId": 11236550,
     "sourceType": "datasetVersion"
    },
    {
     "datasetId": 7019767,
     "sourceId": 11236648,
     "sourceType": "datasetVersion"
    },
    {
     "datasetId": 7021290,
     "sourceId": 11238640,
     "sourceType": "datasetVersion"
    },
    {
     "datasetId": 7021346,
     "sourceId": 11238724,
     "sourceType": "datasetVersion"
    },
    {
     "datasetId": 7021406,
     "sourceId": 11238806,
     "sourceType": "datasetVersion"
    },
    {
     "datasetId": 7021517,
     "sourceId": 11238958,
     "sourceType": "datasetVersion"
    },
    {
     "datasetId": 7021545,
     "sourceId": 11238998,
     "sourceType": "datasetVersion"
    },
    {
     "datasetId": 7024896,
     "sourceId": 11243376,
     "sourceType": "datasetVersion"
    },
    {
     "datasetId": 7024924,
     "sourceId": 11243412,
     "sourceType": "datasetVersion"
    },
    {
     "datasetId": 7025056,
     "sourceId": 11243570,
     "sourceType": "datasetVersion"
    },
    {
     "datasetId": 7025144,
     "sourceId": 11243699,
     "sourceType": "datasetVersion"
    },
    {
     "datasetId": 7025359,
     "sourceId": 11243976,
     "sourceType": "datasetVersion"
    },
    {
     "datasetId": 7025691,
     "sourceId": 11244430,
     "sourceType": "datasetVersion"
    },
    {
     "datasetId": 7025711,
     "sourceId": 11244455,
     "sourceType": "datasetVersion"
    },
    {
     "datasetId": 7025772,
     "sourceId": 11244541,
     "sourceType": "datasetVersion"
    },
    {
     "datasetId": 7025903,
     "sourceId": 11244711,
     "sourceType": "datasetVersion"
    }
   ],
   "dockerImageVersionId": 30919,
   "isGpuEnabled": true,
   "isInternetEnabled": true,
   "language": "python",
   "sourceType": "notebook"
  },
  "kernelspec": {
   "display_name": "Python 3",
   "language": "python",
   "name": "python3"
  },
  "language_info": {
   "codemirror_mode": {
    "name": "ipython",
    "version": 3
   },
   "file_extension": ".py",
   "mimetype": "text/x-python",
   "name": "python",
   "nbconvert_exporter": "python",
   "pygments_lexer": "ipython3",
   "version": "3.10.12"
  }
 },
 "nbformat": 4,
 "nbformat_minor": 4
}
